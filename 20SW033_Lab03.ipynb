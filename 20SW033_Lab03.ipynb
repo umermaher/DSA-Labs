{
  "nbformat": 4,
  "nbformat_minor": 0,
  "metadata": {
    "colab": {
      "provenance": [],
      "authorship_tag": "ABX9TyPlI5WOpalODbVDSJpW/ljU",
      "include_colab_link": true
    },
    "kernelspec": {
      "name": "python3",
      "display_name": "Python 3"
    },
    "language_info": {
      "name": "python"
    }
  },
  "cells": [
    {
      "cell_type": "markdown",
      "metadata": {
        "id": "view-in-github",
        "colab_type": "text"
      },
      "source": [
        "<a href=\"https://colab.research.google.com/github/umermaher/DS-A---Labs/blob/main/20SW033_Lab03.ipynb\" target=\"_parent\"><img src=\"https://colab.research.google.com/assets/colab-badge.svg\" alt=\"Open In Colab\"/></a>"
      ]
    },
    {
      "cell_type": "code",
      "execution_count": 18,
      "metadata": {
        "colab": {
          "base_uri": "https://localhost:8080/"
        },
        "id": "FvSxANWLmLPB",
        "outputId": "69a5c59a-c81c-46e2-dabf-8eb14bac8ef9"
      },
      "outputs": [
        {
          "output_type": "stream",
          "name": "stdout",
          "text": [
            "Enter point: 11\n",
            "Congratulations you won a Wooden Rabit\n"
          ]
        }
      ],
      "source": [
        "points = int(input(\"Enter points: \"))\n",
        "wooden_rabit = \"Wooden Rabit\"\n",
        "wafer_thin_min = \"Wafer-thin mint\"\n",
        "panguin = \"Panguin\"\n",
        "\n",
        "if points > 0 and points <= 50:\n",
        "  print(\"Congratulations you won a {}\".format(wooden_rabit))\n",
        "elif points > 50 and points <= 150:\n",
        "  print(\"You won no prize\")\n",
        "elif points > 150 and points <= 180:\n",
        "  print(\"Congratulations you won a {}\".format(wafer_thin_min))\n",
        "elif points > 180 and points <= 200:\n",
        "  print(\"Congratulations you won a {}\".format(panguin))"
      ]
    },
    {
      "cell_type": "code",
      "source": [
        "number = int(input(\"User 1, Enter a number: \"))\n",
        "guessedNumber = int(input(\"User 2, Guess User 1's number: \"))\n",
        "result = \"\"\n",
        "if guessedNumber > number:\n",
        "  result = \"Oops! Your guess was too high!\"\n",
        "elif guessedNumber < number:\n",
        "  result = \"Oops! Your guess was too low!\"\n",
        "elif guessedNumber == number:\n",
        "  result = \"Nice! You got that number.\"\n",
        "print(result)"
      ],
      "metadata": {
        "colab": {
          "base_uri": "https://localhost:8080/"
        },
        "id": "AuDDp8zFnOnJ",
        "outputId": "e6ba8bbf-d2f9-44a3-99e1-adf05408f877"
      },
      "execution_count": 21,
      "outputs": [
        {
          "output_type": "stream",
          "name": "stdout",
          "text": [
            "User 1, Enter a number: 1\n",
            "User 2, Guess User 1's number: 1\n",
            "Nice! You got that number.\n"
          ]
        }
      ]
    },
    {
      "cell_type": "code",
      "source": [
        "list = [\"the\", \"quick\", \"brown\", \"fox\", \"jumped\", \"over\", \"the\", \"lazy\", \"dog\"]\n",
        "for i in list:\n",
        "  print(i)"
      ],
      "metadata": {
        "colab": {
          "base_uri": "https://localhost:8080/"
        },
        "id": "-oioOgE_13o7",
        "outputId": "fec4b348-dbdc-459d-923c-49e7850e28de"
      },
      "execution_count": 22,
      "outputs": [
        {
          "output_type": "stream",
          "name": "stdout",
          "text": [
            "the\n",
            "quick\n",
            "brown\n",
            "fox\n",
            "jumped\n",
            "over\n",
            "the\n",
            "lazy\n",
            "dog\n"
          ]
        }
      ]
    },
    {
      "cell_type": "code",
      "source": [
        "multipleOf5 = [x for x in range(1,31) if x%5 == 0]\n",
        "for i in multipleOf5 :\n",
        "  print(i)"
      ],
      "metadata": {
        "colab": {
          "base_uri": "https://localhost:8080/"
        },
        "id": "IyRU7BMF2KgB",
        "outputId": "4ad537bb-d8cf-4803-c8c7-be233c9f8338"
      },
      "execution_count": 27,
      "outputs": [
        {
          "output_type": "stream",
          "name": "stdout",
          "text": [
            "5\n",
            "10\n",
            "15\n",
            "20\n",
            "25\n",
            "30\n"
          ]
        }
      ]
    },
    {
      "cell_type": "code",
      "source": [
        "names = [\"Umer Mahar\", \"Niaz Hussain\", \"Awais Chandio\", \"Ahmed Shaikh\", \"Saif Shaikh\"]\n",
        "firstNames = [name.split()[0] for name in names]\n",
        "print(firstNames)"
      ],
      "metadata": {
        "colab": {
          "base_uri": "https://localhost:8080/"
        },
        "id": "x2zaJkGi2k6t",
        "outputId": "3e5c51c4-5f44-4b95-8406-45cf6c29c9f4"
      },
      "execution_count": 29,
      "outputs": [
        {
          "output_type": "stream",
          "name": "stdout",
          "text": [
            "['Umer', 'Niaz', 'Awais', 'Ahmed', 'Saif']\n"
          ]
        }
      ]
    },
    {
      "cell_type": "code",
      "source": [
        "l = [x for x in range(60) if x%3==0]\n",
        "print(l)"
      ],
      "metadata": {
        "colab": {
          "base_uri": "https://localhost:8080/"
        },
        "id": "ccc9HRxO2lWM",
        "outputId": "65f2f860-fe97-4e96-ab59-b6f6166aec02"
      },
      "execution_count": 34,
      "outputs": [
        {
          "output_type": "stream",
          "name": "stdout",
          "text": [
            "[0, 3, 6, 9, 12, 15, 18, 21, 24, 27, 30, 33, 36, 39, 42, 45, 48, 51, 54, 57]\n"
          ]
        }
      ]
    },
    {
      "cell_type": "code",
      "source": [
        "scores = {\n",
        "    \"Rick Sanchez\": 70,\n",
        "    \"Morty Smith\": 35,\n",
        "    \"Summer Smith\": 82,\n",
        "    \"Jerry Smith\": 23,\n",
        "    \"Beth Smith\": 98\n",
        "}\n",
        "passed = [score for score in scores.values() if score >= 65]\n",
        "print(passed)"
      ],
      "metadata": {
        "colab": {
          "base_uri": "https://localhost:8080/"
        },
        "id": "i3HHQGkg4x2k",
        "outputId": "ff6ae847-6ba1-4b1d-c16d-c1f386c1586c"
      },
      "execution_count": 36,
      "outputs": [
        {
          "output_type": "stream",
          "name": "stdout",
          "text": [
            "[70, 82, 98]\n"
          ]
        }
      ]
    },
    {
      "cell_type": "code",
      "source": [
        "cast_names = [\"Barney\", \"Robin\", \"Ted\", \"Lily\", \"Marshall\"]\n",
        "cast_heights = [72, 68, 72, 66, 76]\n",
        "\n",
        "cast = zip(cast_names, cast_heights)\n",
        "for c in cast:\n",
        "  print(c)"
      ],
      "metadata": {
        "colab": {
          "base_uri": "https://localhost:8080/"
        },
        "id": "tQzmSPHl6Bff",
        "outputId": "134410ac-e576-497c-8e13-9d443a932a0f"
      },
      "execution_count": 40,
      "outputs": [
        {
          "output_type": "stream",
          "name": "stdout",
          "text": [
            "('Barney', 72)\n",
            "('Robin', 68)\n",
            "('Ted', 72)\n",
            "('Lily', 66)\n",
            "('Marshall', 76)\n"
          ]
        }
      ]
    },
    {
      "cell_type": "code",
      "source": [
        "casts = [\"Barney Stinson\", \"Robin Scherbatsky\", \"Ted Mosby\", \"Lily Aldrin\", \"Marshall Eriksen\"]\n",
        "heights = [72, 68, 72, 66, 76]\n",
        "\n",
        "for i, cast in enumerate(casts):\n",
        "  h = heights[i]\n",
        "  casts[i] = \"{}: {}\".format(casts[i], h)\n",
        "\n",
        "for cast in casts:\n",
        "  print(cast)\n"
      ],
      "metadata": {
        "colab": {
          "base_uri": "https://localhost:8080/"
        },
        "id": "rmfFrOU-7Jpr",
        "outputId": "e92490d8-509f-4ec9-f7d7-6a1c1ba26397"
      },
      "execution_count": 53,
      "outputs": [
        {
          "output_type": "stream",
          "name": "stdout",
          "text": [
            "Barney Stinson:72\n",
            "Robin Scherbatsky:68\n",
            "Ted Mosby:72\n",
            "Lily Aldrin:66\n",
            "Marshall Eriksen:76\n"
          ]
        }
      ]
    }
  ]
}