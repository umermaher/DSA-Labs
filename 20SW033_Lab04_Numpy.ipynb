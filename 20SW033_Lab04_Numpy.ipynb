{
  "nbformat": 4,
  "nbformat_minor": 0,
  "metadata": {
    "colab": {
      "provenance": [],
      "authorship_tag": "ABX9TyNYim2fpZJlVYO+LqsYMrVz",
      "include_colab_link": true
    },
    "kernelspec": {
      "name": "python3",
      "display_name": "Python 3"
    },
    "language_info": {
      "name": "python"
    }
  },
  "cells": [
    {
      "cell_type": "markdown",
      "metadata": {
        "id": "view-in-github",
        "colab_type": "text"
      },
      "source": [
        "<a href=\"https://colab.research.google.com/github/umermaher/DSA-Labs/blob/main/20SW033_Lab04_Numpy.ipynb\" target=\"_parent\"><img src=\"https://colab.research.google.com/assets/colab-badge.svg\" alt=\"Open In Colab\"/></a>"
      ]
    },
    {
      "cell_type": "code",
      "execution_count": 10,
      "metadata": {
        "colab": {
          "base_uri": "https://localhost:8080/"
        },
        "id": "encS-0-oWmOr",
        "outputId": "87f7005f-ab1d-49b4-8110-ef73becdae56"
      },
      "outputs": [
        {
          "output_type": "execute_result",
          "data": {
            "text/plain": [
              "array([[ 2,  4,  6,  8],\n",
              "       [10, 12, 14, 16],\n",
              "       [18, 20, 22, 24],\n",
              "       [26, 28, 30, 32]])"
            ]
          },
          "metadata": {},
          "execution_count": 10
        }
      ],
      "source": [
        "import numpy as np\n",
        "\n",
        "# Task 1\n",
        "list_array = np.arange(2,33,2)\n",
        "list_array.reshape(4,4)"
      ]
    },
    {
      "cell_type": "code",
      "source": [
        "# Task 2\n",
        "fiveDArray = np.arange(1,26)\n",
        "fiveDArray.reshape(5,5)\n",
        "oddBooleanIndexing = fiveDArray % 2 != 0\n",
        "\n",
        "oddArray = fiveDArray[oddBooleanIndexing]\n",
        "oddArray"
      ],
      "metadata": {
        "colab": {
          "base_uri": "https://localhost:8080/"
        },
        "id": "FHudss6RZ0J1",
        "outputId": "0f6d93b6-a3fb-444a-ac50-4f6e1e469fe9"
      },
      "execution_count": 13,
      "outputs": [
        {
          "output_type": "execute_result",
          "data": {
            "text/plain": [
              "array([ 1,  3,  5,  7,  9, 11, 13, 15, 17, 19, 21, 23, 25])"
            ]
          },
          "metadata": {},
          "execution_count": 13
        }
      ]
    },
    {
      "cell_type": "code",
      "source": [
        "#Task 3\n",
        "broadcastedArray = np.arange(1,5).reshape(1,-1) * np.ones((4,1), dtype = int)\n",
        "broadcastedArray"
      ],
      "metadata": {
        "colab": {
          "base_uri": "https://localhost:8080/"
        },
        "id": "xlADFbdGdGYS",
        "outputId": "7aec643a-c03b-4191-ec6d-f3a5ec24a60d"
      },
      "execution_count": 25,
      "outputs": [
        {
          "output_type": "execute_result",
          "data": {
            "text/plain": [
              "array([[1, 2, 3, 4],\n",
              "       [1, 2, 3, 4],\n",
              "       [1, 2, 3, 4],\n",
              "       [1, 2, 3, 4]])"
            ]
          },
          "metadata": {},
          "execution_count": 25
        }
      ]
    }
  ]
}