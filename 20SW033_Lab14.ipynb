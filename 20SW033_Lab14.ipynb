{
  "nbformat": 4,
  "nbformat_minor": 0,
  "metadata": {
    "colab": {
      "provenance": [],
      "authorship_tag": "ABX9TyOpfBf4fUQY1miQ+n2pMq3f",
      "include_colab_link": true
    },
    "kernelspec": {
      "name": "python3",
      "display_name": "Python 3"
    },
    "language_info": {
      "name": "python"
    }
  },
  "cells": [
    {
      "cell_type": "markdown",
      "metadata": {
        "id": "view-in-github",
        "colab_type": "text"
      },
      "source": [
        "<a href=\"https://colab.research.google.com/github/umermaher/DSA-Labs/blob/main/20SW033_Lab14.ipynb\" target=\"_parent\"><img src=\"https://colab.research.google.com/assets/colab-badge.svg\" alt=\"Open In Colab\"/></a>"
      ]
    },
    {
      "cell_type": "code",
      "execution_count": 8,
      "metadata": {
        "id": "qoRJhVoRYfI5"
      },
      "outputs": [],
      "source": [
        "import pandas as pd\n",
        "\n",
        "# Create a DataFrame from the provided data\n",
        "\n",
        "df = pd.read_csv('/content/WorldCups.csv');\n"
      ]
    },
    {
      "cell_type": "code",
      "source": [
        "# Convert 'Goals' to numeric (remove commas if any)\n",
        "df['Goals'] = df['Goals'].replace(',', '', regex=True).astype(int)"
      ],
      "metadata": {
        "id": "PccsYi0pZ5X9"
      },
      "execution_count": null,
      "outputs": []
    },
    {
      "cell_type": "code",
      "source": [
        "# Which team won the most World Cups, and how many wins was that?\n",
        "most_wins_team = df['Winner'].value_counts().idxmax()\n",
        "most_wins_count = df['Winner'].value_counts().max()\n",
        "print(f'Team with the most World Cup wins: {most_wins_team}, Wins: {most_wins_count}')"
      ],
      "metadata": {
        "colab": {
          "base_uri": "https://localhost:8080/"
        },
        "id": "58FaQhnKY9ba",
        "outputId": "907a98b8-ec8c-4f1d-f21d-142dd2541e87"
      },
      "execution_count": 9,
      "outputs": [
        {
          "output_type": "stream",
          "name": "stdout",
          "text": [
            "Team with the most World Cup wins: Brazil, Wins: 5\n"
          ]
        }
      ]
    },
    {
      "cell_type": "code",
      "source": [
        "#Which team won the most World Cups, and how many wins was that?\n",
        "most_wins_team = df['Winner'].value_counts().idxmax()\n",
        "most_wins_count = df['Winner'].value_counts().max()\n",
        "print(f'Team with the most World Cup wins: {most_wins_team}, Wins: {most_wins_count}')"
      ],
      "metadata": {
        "colab": {
          "base_uri": "https://localhost:8080/"
        },
        "id": "sebYCCCaZA9W",
        "outputId": "0fc92f84-def4-43bb-c8f1-1a707b0add53"
      },
      "execution_count": 10,
      "outputs": [
        {
          "output_type": "stream",
          "name": "stdout",
          "text": [
            "Team with the most World Cup wins: Brazil, Wins: 5\n"
          ]
        }
      ]
    },
    {
      "cell_type": "code",
      "source": [
        "# Which Finals or Semi-final games were decided by penalties?\n",
        "penalty_games = df[(df['Goals'] % 2 != 0) & ((df['Round'] == 'Final') | (df['Round'] == 'Semi-finals'))]\n",
        "print('Finals or Semi-final games decided by penalties:')\n",
        "print(penalty_games)"
      ],
      "metadata": {
        "id": "W4u_9PfCaQzT"
      },
      "execution_count": null,
      "outputs": []
    },
    {
      "cell_type": "code",
      "source": [
        "# What's the average number of goals scored per World Cup?\n",
        "average_goals_per_world_cup = df['Goals'].mean()\n",
        "print(f'Average goals scored per World Cup: {average_goals_per_world_cup:.2f}')"
      ],
      "metadata": {
        "id": "keNQpF5waL25"
      },
      "execution_count": null,
      "outputs": []
    },
    {
      "cell_type": "code",
      "source": [
        "# Which years had the highest and lowest attendance to the World Cup games?\n",
        "highest_attendance_year = df[df['Goals'] == df['Goals'].max()]['Year'].values[0]\n",
        "lowest_attendance_year = df[df['Goals'] == df['Goals'].min()]['Year'].values[0]\n",
        "print(f'Highest attendance year: {highest_attendance_year}')\n",
        "print(f'Lowest attendance year: {lowest_attendance_year}')"
      ],
      "metadata": {
        "id": "TET-NmJ1aOtS"
      },
      "execution_count": null,
      "outputs": []
    },
    {
      "cell_type": "code",
      "source": [
        "# Which team won the most World Cups, and how many wins was that?\n",
        "most_wins_team = df['Winner'].value_counts().idxmax()\n",
        "most_wins_count = df['Winner'].value_counts().max()\n",
        "print(f'Team with the most World Cup wins: {most_wins_team}, Wins: {most_wins_count}')"
      ],
      "metadata": {
        "colab": {
          "base_uri": "https://localhost:8080/"
        },
        "id": "hDCMq8eCZMQr",
        "outputId": "98d9e932-dc3f-4028-a495-f01d4c67ba5d"
      },
      "execution_count": 16,
      "outputs": [
        {
          "output_type": "stream",
          "name": "stdout",
          "text": [
            "Team with the most World Cup wins: Brazil, Wins: 5\n"
          ]
        }
      ]
    },
    {
      "cell_type": "code",
      "source": [
        "# How many countries qualified for the World Cup in 1930 compared to 2014?\n",
        "countries_1930 = 4  # Given in the dataset\n",
        "countries_2014 = 32  # Given in the dataset\n",
        "print(f'Countries that qualified in 1930: {countries_1930}')\n",
        "print(f'Countries that qualified in 2014: {countries_2014}')"
      ],
      "metadata": {
        "colab": {
          "base_uri": "https://localhost:8080/"
        },
        "id": "GsMZynmsZPVd",
        "outputId": "4f991ce4-15a9-4f77-80ec-bdb08a5d601c"
      },
      "execution_count": 13,
      "outputs": [
        {
          "output_type": "stream",
          "name": "stdout",
          "text": [
            "Countries that qualified in 1930: 4\n",
            "Countries that qualified in 2014: 32\n"
          ]
        }
      ]
    },
    {
      "cell_type": "code",
      "source": [
        "\n",
        "# Does history show more home-team wins or away-team wins?\n",
        "# Assuming home-team as the team mentioned first in each row\n",
        "home_wins = df[df['Year'] >= 1930]['Winner'].value_counts().sum()\n",
        "away_wins = len(df) - home_wins\n",
        "print(f'Home-team wins: {home_wins}, Away-team wins: {away_wins}')\n"
      ],
      "metadata": {
        "colab": {
          "base_uri": "https://localhost:8080/"
        },
        "id": "QltKoRpjZYg2",
        "outputId": "acfa61f8-c626-4080-f467-a7563a05f2e1"
      },
      "execution_count": 12,
      "outputs": [
        {
          "output_type": "stream",
          "name": "stdout",
          "text": [
            "Home-team wins: 20, Away-team wins: 0\n"
          ]
        }
      ]
    }
  ]
}