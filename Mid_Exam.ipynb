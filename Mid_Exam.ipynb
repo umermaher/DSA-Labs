{
  "nbformat": 4,
  "nbformat_minor": 0,
  "metadata": {
    "colab": {
      "provenance": [],
      "authorship_tag": "ABX9TyNjcOX+UjUDH/bG816NLhmA",
      "include_colab_link": true
    },
    "kernelspec": {
      "name": "python3",
      "display_name": "Python 3"
    },
    "language_info": {
      "name": "python"
    }
  },
  "cells": [
    {
      "cell_type": "markdown",
      "metadata": {
        "id": "view-in-github",
        "colab_type": "text"
      },
      "source": [
        "<a href=\"https://colab.research.google.com/github/umermaher/DSA-Labs/blob/main/Mid_Exam.ipynb\" target=\"_parent\"><img src=\"https://colab.research.google.com/assets/colab-badge.svg\" alt=\"Open In Colab\"/></a>"
      ]
    },
    {
      "cell_type": "code",
      "execution_count": 10,
      "metadata": {
        "colab": {
          "base_uri": "https://localhost:8080/"
        },
        "id": "7RfbL_RzQPzd",
        "outputId": "56f9accd-4404-4b7f-ca56-1dbe6853390d"
      },
      "outputs": [
        {
          "output_type": "stream",
          "name": "stdout",
          "text": [
            "[1, 3.2, 'a String', False]\n"
          ]
        }
      ],
      "source": [
        "list_of_random_things = [1,3.2,'a String',False]\n",
        "print(list_of_random_things[0:4]) #slicing"
      ]
    },
    {
      "cell_type": "code",
      "source": [
        "#list functions\n",
        "l = [1,3.2,'a String',False]\n",
        "cities = [\"Hyd\",\"Karachi\",\"Mirpur\"]\n",
        "numbers = [2,3.2,1,3]\n",
        "print(len(l))\n",
        "print(max(numbers))\n",
        "print(sorted(numbers))\n",
        "cities.append(\"Islamabad\")\n",
        "print(\" | \".join(cities))"
      ],
      "metadata": {
        "colab": {
          "base_uri": "https://localhost:8080/"
        },
        "id": "HKGxpzycV3uZ",
        "outputId": "5325587e-cb98-47d1-f27c-bb355f24e1df"
      },
      "execution_count": 24,
      "outputs": [
        {
          "output_type": "stream",
          "name": "stdout",
          "text": [
            "4\n",
            "3.2\n",
            "[1, 2, 3, 3.2]\n",
            "Hyd | Karachi | Mirpur | Islamabad\n"
          ]
        }
      ]
    },
    {
      "cell_type": "code",
      "source": [
        "dictionary = {\n",
        "    \"val1\": 1,\n",
        "    \"val2\": \"Helo\"\n",
        "}\n",
        "print(dictionary)"
      ],
      "metadata": {
        "colab": {
          "base_uri": "https://localhost:8080/"
        },
        "id": "fABXlloltmtQ",
        "outputId": "79ed305f-c62f-4fdc-854b-bdc21f6095fb"
      },
      "execution_count": 1,
      "outputs": [
        {
          "output_type": "stream",
          "name": "stdout",
          "text": [
            "{'val1': 1, 'val2': 'Helo'}\n"
          ]
        }
      ]
    },
    {
      "cell_type": "code",
      "source": [
        "num = input(\"Enter a number: \")\n",
        "if int(num) % 2 == 0:\n",
        "  print(\"Even\")\n",
        "else :\n",
        "  print(\"Odd\")"
      ],
      "metadata": {
        "colab": {
          "base_uri": "https://localhost:8080/"
        },
        "id": "akuZt55ot2px",
        "outputId": "10eb21a4-3696-4be6-f131-aa7fb992760d"
      },
      "execution_count": 5,
      "outputs": [
        {
          "output_type": "stream",
          "name": "stdout",
          "text": [
            "Enter a number: 5\n",
            "Odd\n"
          ]
        }
      ]
    },
    {
      "cell_type": "code",
      "source": [
        "cities = [\"Hyd\",\"Karachi\",\"Mirpur\"]\n",
        "for city in cities:\n",
        "  print(city)"
      ],
      "metadata": {
        "colab": {
          "base_uri": "https://localhost:8080/"
        },
        "id": "CuaYsYz6z-aA",
        "outputId": "b0fb5dbf-bc2e-4753-faca-55fe4e6b2dfd"
      },
      "execution_count": 6,
      "outputs": [
        {
          "output_type": "stream",
          "name": "stdout",
          "text": [
            "Hyd\n",
            "Karachi\n",
            "Mirpur\n"
          ]
        }
      ]
    },
    {
      "cell_type": "code",
      "source": [
        "def is_prime(number):\n",
        "  if(number<=1):\n",
        "    return False\n",
        "  for i in range(2, int(number**0.5) + 1):\n",
        "    if(number % i == 0):\n",
        "      return False\n",
        "\n",
        "  return True\n",
        "\n",
        "num = int(input(\"Enter a number: \"))\n",
        "if(is_prime(num)):\n",
        "  print(\"Prime number\")\n",
        "else:\n",
        "  print(\"Not a Prime number\")"
      ],
      "metadata": {
        "colab": {
          "base_uri": "https://localhost:8080/"
        },
        "id": "prTnD6zD0E_D",
        "outputId": "fe1e3038-7a36-48cd-9e5f-bfed50d97550"
      },
      "execution_count": 30,
      "outputs": [
        {
          "output_type": "stream",
          "name": "stdout",
          "text": [
            "Enter a number: 21\n",
            "Not a Prime number\n"
          ]
        }
      ]
    },
    {
      "cell_type": "markdown",
      "source": [
        "# **Numpy**"
      ],
      "metadata": {
        "id": "_BO2mKg-TeSZ"
      }
    },
    {
      "cell_type": "code",
      "source": [
        "import numpy as np\n",
        "\n",
        "my_arr = np.array([2,5,3,9,7])\n",
        "print(my_arr)"
      ],
      "metadata": {
        "colab": {
          "base_uri": "https://localhost:8080/"
        },
        "id": "y0I9MEgZTkoa",
        "outputId": "761b125c-dbd2-426b-a29b-899948ccffc7"
      },
      "execution_count": 3,
      "outputs": [
        {
          "output_type": "stream",
          "name": "stdout",
          "text": [
            "[2 5 3 9 7]\n"
          ]
        }
      ]
    },
    {
      "cell_type": "code",
      "source": [
        "sized_element_array = np.array([2,5,127,9,7], np.int8) #Getting memory managemnt in hands\n",
        "print(sized_element_array)"
      ],
      "metadata": {
        "colab": {
          "base_uri": "https://localhost:8080/"
        },
        "id": "Dc0ZkFuuUCPo",
        "outputId": "70efa88c-da29-417f-b931-27dddc7f53c4"
      },
      "execution_count": 45,
      "outputs": [
        {
          "output_type": "stream",
          "name": "stdout",
          "text": [
            "[  2   5 127   9   7]\n"
          ]
        }
      ]
    },
    {
      "cell_type": "code",
      "source": [
        "my_arr = np.array([[2,5,3,9,7],[2,5,4,3,99]])\n",
        "my_arr.shape"
      ],
      "metadata": {
        "colab": {
          "base_uri": "https://localhost:8080/"
        },
        "id": "xe-oL1v0UgQZ",
        "outputId": "4520002f-25ff-4ff6-b0a6-16d87a346d4c"
      },
      "execution_count": 52,
      "outputs": [
        {
          "output_type": "execute_result",
          "data": {
            "text/plain": [
              "dtype('int64')"
            ]
          },
          "metadata": {},
          "execution_count": 52
        }
      ]
    },
    {
      "cell_type": "code",
      "source": [
        "my_arr.dtype"
      ],
      "metadata": {
        "colab": {
          "base_uri": "https://localhost:8080/"
        },
        "id": "FxsZRHr3dQ4m",
        "outputId": "0c12154d-408b-44cf-b878-b0f6fc413be9"
      },
      "execution_count": 53,
      "outputs": [
        {
          "output_type": "execute_result",
          "data": {
            "text/plain": [
              "dtype('int64')"
            ]
          },
          "metadata": {},
          "execution_count": 53
        }
      ]
    },
    {
      "cell_type": "code",
      "source": [
        "my_arr[0,2]"
      ],
      "metadata": {
        "colab": {
          "base_uri": "https://localhost:8080/"
        },
        "id": "p7_-kPiRd_Eb",
        "outputId": "9516a3cf-45c6-45dd-f9f2-bc07df78983d"
      },
      "execution_count": 54,
      "outputs": [
        {
          "output_type": "execute_result",
          "data": {
            "text/plain": [
              "3"
            ]
          },
          "metadata": {},
          "execution_count": 54
        }
      ]
    },
    {
      "cell_type": "code",
      "source": [
        "my_arr[0,2] = 88\n",
        "print(my_arr)"
      ],
      "metadata": {
        "colab": {
          "base_uri": "https://localhost:8080/"
        },
        "id": "QiuvbmejeEKk",
        "outputId": "a54ea941-7556-4348-9991-86cc715406ae"
      },
      "execution_count": 56,
      "outputs": [
        {
          "output_type": "stream",
          "name": "stdout",
          "text": [
            "[[ 2  5 88  9  7]\n",
            " [ 2  5  4  3 99]]\n"
          ]
        }
      ]
    },
    {
      "cell_type": "markdown",
      "source": [
        "# Array creation from other python structures"
      ],
      "metadata": {
        "id": "Ctdsr4zbgaUQ"
      }
    },
    {
      "cell_type": "code",
      "source": [
        "list_array = np.array([[1,2,3],[3,5,6,],[7,9,10]])\n",
        "list_array"
      ],
      "metadata": {
        "colab": {
          "base_uri": "https://localhost:8080/"
        },
        "id": "HlRW1dQVgmT-",
        "outputId": "5df13d5d-b402-41ef-a6cd-0cf0ae73f3b0"
      },
      "execution_count": 59,
      "outputs": [
        {
          "output_type": "execute_result",
          "data": {
            "text/plain": [
              "array([[ 1,  2,  3],\n",
              "       [ 3,  5,  6],\n",
              "       [ 7,  9, 10]])"
            ]
          },
          "metadata": {},
          "execution_count": 59
        }
      ]
    },
    {
      "cell_type": "code",
      "source": [
        "list_array.dtype"
      ],
      "metadata": {
        "colab": {
          "base_uri": "https://localhost:8080/"
        },
        "id": "7h59AwTwg70P",
        "outputId": "2e9e74c8-7632-4caf-a10f-35757df3c836"
      },
      "execution_count": 60,
      "outputs": [
        {
          "output_type": "execute_result",
          "data": {
            "text/plain": [
              "dtype('int64')"
            ]
          },
          "metadata": {},
          "execution_count": 60
        }
      ]
    },
    {
      "cell_type": "code",
      "source": [
        "list_array.shape"
      ],
      "metadata": {
        "colab": {
          "base_uri": "https://localhost:8080/"
        },
        "id": "WY3U7XT0g8pQ",
        "outputId": "b39cd7c2-ff61-4951-c3ed-2dcd069d2f96"
      },
      "execution_count": 61,
      "outputs": [
        {
          "output_type": "execute_result",
          "data": {
            "text/plain": [
              "(3, 3)"
            ]
          },
          "metadata": {},
          "execution_count": 61
        }
      ]
    },
    {
      "cell_type": "code",
      "source": [
        "list_array.size"
      ],
      "metadata": {
        "colab": {
          "base_uri": "https://localhost:8080/"
        },
        "id": "aNjLdQ8qg94V",
        "outputId": "27b77f0a-0a03-4b44-e7f0-89fbf857e1d7"
      },
      "execution_count": 62,
      "outputs": [
        {
          "output_type": "execute_result",
          "data": {
            "text/plain": [
              "9"
            ]
          },
          "metadata": {},
          "execution_count": 62
        }
      ]
    },
    {
      "cell_type": "code",
      "source": [
        "zeros = np.zeros((2,3))\n",
        "zeros"
      ],
      "metadata": {
        "colab": {
          "base_uri": "https://localhost:8080/"
        },
        "id": "AaMIhSIJhAUS",
        "outputId": "78560677-d20a-4c9e-9a65-0d8a93bf0cf1"
      },
      "execution_count": 63,
      "outputs": [
        {
          "output_type": "execute_result",
          "data": {
            "text/plain": [
              "array([[0., 0., 0.],\n",
              "       [0., 0., 0.]])"
            ]
          },
          "metadata": {},
          "execution_count": 63
        }
      ]
    },
    {
      "cell_type": "code",
      "source": [
        "rng = np.arange(10)\n",
        "rng"
      ],
      "metadata": {
        "colab": {
          "base_uri": "https://localhost:8080/"
        },
        "id": "jAiPrpRgiMCu",
        "outputId": "03baa4f5-f2d4-44f8-9785-c880a5da8bca"
      },
      "execution_count": 65,
      "outputs": [
        {
          "output_type": "execute_result",
          "data": {
            "text/plain": [
              "array([0, 1, 2, 3, 4, 5, 6, 7, 8, 9])"
            ]
          },
          "metadata": {},
          "execution_count": 65
        }
      ]
    },
    {
      "cell_type": "code",
      "source": [
        "lspace = np.linspace(1,30,4)\n",
        "lspace"
      ],
      "metadata": {
        "colab": {
          "base_uri": "https://localhost:8080/"
        },
        "id": "f8866RwKi9AC",
        "outputId": "be33ec6d-4f43-4f66-ee1e-0164ed04734b"
      },
      "execution_count": 67,
      "outputs": [
        {
          "output_type": "execute_result",
          "data": {
            "text/plain": [
              "array([ 1.        , 10.66666667, 20.33333333, 30.        ])"
            ]
          },
          "metadata": {},
          "execution_count": 67
        }
      ]
    },
    {
      "cell_type": "code",
      "source": [
        "emp = np.empty((2,5))\n",
        "emp"
      ],
      "metadata": {
        "colab": {
          "base_uri": "https://localhost:8080/"
        },
        "id": "79LiRtcTj-o6",
        "outputId": "a1382f9d-6a4f-47f8-8db1-f9ab52bfba2d"
      },
      "execution_count": 70,
      "outputs": [
        {
          "output_type": "execute_result",
          "data": {
            "text/plain": [
              "array([[5.02908719e-310, 0.00000000e+000, 0.00000000e+000,\n",
              "        0.00000000e+000, 2.59027810e-144],\n",
              "       [3.73698426e-061, 7.48417000e-067, 6.20393924e-091,\n",
              "        1.24529369e-047, 2.65716873e-312]])"
            ]
          },
          "metadata": {},
          "execution_count": 70
        }
      ]
    },
    {
      "cell_type": "code",
      "source": [
        "emp_like = np.empty_like(lspace)\n",
        "emp_like"
      ],
      "metadata": {
        "colab": {
          "base_uri": "https://localhost:8080/"
        },
        "id": "B7qhanCrkJ88",
        "outputId": "7b0f3668-1407-4b56-ac6f-59d19d9ac0ae"
      },
      "execution_count": 71,
      "outputs": [
        {
          "output_type": "execute_result",
          "data": {
            "text/plain": [
              "array([ 1.        , 10.66666667, 20.33333333, 30.        ])"
            ]
          },
          "metadata": {},
          "execution_count": 71
        }
      ]
    },
    {
      "cell_type": "code",
      "source": [
        "to_reshape = np.arange(99)\n",
        "to_reshape = to_reshape.reshape(3,33)\n",
        "to_reshape"
      ],
      "metadata": {
        "colab": {
          "base_uri": "https://localhost:8080/"
        },
        "id": "MWNp3nmXmOGL",
        "outputId": "a191b736-58f3-497c-d72c-3ad6d64fe816"
      },
      "execution_count": 75,
      "outputs": [
        {
          "output_type": "execute_result",
          "data": {
            "text/plain": [
              "array([[ 0,  1,  2,  3,  4,  5,  6,  7,  8,  9, 10, 11, 12, 13, 14, 15,\n",
              "        16, 17, 18, 19, 20, 21, 22, 23, 24, 25, 26, 27, 28, 29, 30, 31,\n",
              "        32],\n",
              "       [33, 34, 35, 36, 37, 38, 39, 40, 41, 42, 43, 44, 45, 46, 47, 48,\n",
              "        49, 50, 51, 52, 53, 54, 55, 56, 57, 58, 59, 60, 61, 62, 63, 64,\n",
              "        65],\n",
              "       [66, 67, 68, 69, 70, 71, 72, 73, 74, 75, 76, 77, 78, 79, 80, 81,\n",
              "        82, 83, 84, 85, 86, 87, 88, 89, 90, 91, 92, 93, 94, 95, 96, 97,\n",
              "        98]])"
            ]
          },
          "metadata": {},
          "execution_count": 75
        }
      ]
    },
    {
      "cell_type": "code",
      "source": [
        "to_reshape.ravel()"
      ],
      "metadata": {
        "colab": {
          "base_uri": "https://localhost:8080/"
        },
        "id": "hL8rAju6m4hT",
        "outputId": "5d2f6a69-3779-446d-f17d-a376735e0f0f"
      },
      "execution_count": 76,
      "outputs": [
        {
          "output_type": "execute_result",
          "data": {
            "text/plain": [
              "array([ 0,  1,  2,  3,  4,  5,  6,  7,  8,  9, 10, 11, 12, 13, 14, 15, 16,\n",
              "       17, 18, 19, 20, 21, 22, 23, 24, 25, 26, 27, 28, 29, 30, 31, 32, 33,\n",
              "       34, 35, 36, 37, 38, 39, 40, 41, 42, 43, 44, 45, 46, 47, 48, 49, 50,\n",
              "       51, 52, 53, 54, 55, 56, 57, 58, 59, 60, 61, 62, 63, 64, 65, 66, 67,\n",
              "       68, 69, 70, 71, 72, 73, 74, 75, 76, 77, 78, 79, 80, 81, 82, 83, 84,\n",
              "       85, 86, 87, 88, 89, 90, 91, 92, 93, 94, 95, 96, 97, 98])"
            ]
          },
          "metadata": {},
          "execution_count": 76
        }
      ]
    },
    {
      "cell_type": "code",
      "source": [
        "x = [[1,2,3],[4,5,6],[7,1,0]]\n",
        "ar = np.array(x)\n",
        "#ar.sum()\n",
        "ar"
      ],
      "metadata": {
        "colab": {
          "base_uri": "https://localhost:8080/"
        },
        "id": "rt_OOC3rpOx3",
        "outputId": "169013ba-7576-40b1-91a0-cb357c565d75"
      },
      "execution_count": 18,
      "outputs": [
        {
          "output_type": "execute_result",
          "data": {
            "text/plain": [
              "array([[1, 2, 3],\n",
              "       [4, 5, 6],\n",
              "       [7, 1, 0]])"
            ]
          },
          "metadata": {},
          "execution_count": 18
        }
      ]
    },
    {
      "cell_type": "code",
      "source": [
        "ar.sum()"
      ],
      "metadata": {
        "colab": {
          "base_uri": "https://localhost:8080/"
        },
        "id": "tWg6M4vSqFtC",
        "outputId": "1475061f-6e31-4de7-c667-723207536074"
      },
      "execution_count": 94,
      "outputs": [
        {
          "output_type": "execute_result",
          "data": {
            "text/plain": [
              "29"
            ]
          },
          "metadata": {},
          "execution_count": 94
        }
      ]
    },
    {
      "cell_type": "code",
      "source": [
        "ar.sum(axis=1)"
      ],
      "metadata": {
        "colab": {
          "base_uri": "https://localhost:8080/"
        },
        "id": "5ZfvJ_7tqJ34",
        "outputId": "4b729659-cca4-4451-976f-f61e85b40754"
      },
      "execution_count": 81,
      "outputs": [
        {
          "output_type": "execute_result",
          "data": {
            "text/plain": [
              "array([ 6, 15,  8])"
            ]
          },
          "metadata": {},
          "execution_count": 81
        }
      ]
    },
    {
      "cell_type": "code",
      "source": [
        "ar.T"
      ],
      "metadata": {
        "colab": {
          "base_uri": "https://localhost:8080/"
        },
        "id": "jiCjKaCrqqCK",
        "outputId": "7b2e2119-26b0-4a1d-fec9-d661dfbc2b7b"
      },
      "execution_count": 82,
      "outputs": [
        {
          "output_type": "execute_result",
          "data": {
            "text/plain": [
              "array([[1, 4, 7],\n",
              "       [2, 5, 1],\n",
              "       [3, 6, 0]])"
            ]
          },
          "metadata": {},
          "execution_count": 82
        }
      ]
    },
    {
      "cell_type": "code",
      "source": [
        "for i in ar.flat:\n",
        "  print(i)"
      ],
      "metadata": {
        "colab": {
          "base_uri": "https://localhost:8080/"
        },
        "id": "I_j7PBAdqt2F",
        "outputId": "3ecbcd8e-db76-4530-ddd3-779eefdb327f"
      },
      "execution_count": 84,
      "outputs": [
        {
          "output_type": "stream",
          "name": "stdout",
          "text": [
            "1\n",
            "2\n",
            "3\n",
            "4\n",
            "5\n",
            "6\n",
            "7\n",
            "1\n",
            "0\n"
          ]
        }
      ]
    },
    {
      "cell_type": "code",
      "source": [
        "ar.ndim"
      ],
      "metadata": {
        "colab": {
          "base_uri": "https://localhost:8080/"
        },
        "id": "wNZfX7TRq9eh",
        "outputId": "520fe5dc-a325-429c-f73e-98e4b2708139"
      },
      "execution_count": 85,
      "outputs": [
        {
          "output_type": "execute_result",
          "data": {
            "text/plain": [
              "2"
            ]
          },
          "metadata": {},
          "execution_count": 85
        }
      ]
    },
    {
      "cell_type": "code",
      "source": [
        "ar.size"
      ],
      "metadata": {
        "colab": {
          "base_uri": "https://localhost:8080/"
        },
        "id": "DZj4bOZtq_JB",
        "outputId": "1dcc8246-c67a-4ede-ce94-6c9bc654b852"
      },
      "execution_count": 86,
      "outputs": [
        {
          "output_type": "execute_result",
          "data": {
            "text/plain": [
              "9"
            ]
          },
          "metadata": {},
          "execution_count": 86
        }
      ]
    },
    {
      "cell_type": "code",
      "source": [
        "ar.nbytes"
      ],
      "metadata": {
        "colab": {
          "base_uri": "https://localhost:8080/"
        },
        "id": "cc2VUfJArEW3",
        "outputId": "c485960b-5fc6-46e7-c07d-67cc83489a52"
      },
      "execution_count": 87,
      "outputs": [
        {
          "output_type": "execute_result",
          "data": {
            "text/plain": [
              "72"
            ]
          },
          "metadata": {},
          "execution_count": 87
        }
      ]
    },
    {
      "cell_type": "code",
      "source": [
        "ar.argmax()"
      ],
      "metadata": {
        "colab": {
          "base_uri": "https://localhost:8080/"
        },
        "id": "MXbL2cl4rnMv",
        "outputId": "b365f191-bffb-4d4b-ebc5-f53002333405"
      },
      "execution_count": 88,
      "outputs": [
        {
          "output_type": "execute_result",
          "data": {
            "text/plain": [
              "6"
            ]
          },
          "metadata": {},
          "execution_count": 88
        }
      ]
    },
    {
      "cell_type": "code",
      "source": [
        "ar.argmin()"
      ],
      "metadata": {
        "colab": {
          "base_uri": "https://localhost:8080/"
        },
        "id": "4h9ZoIPbrpuG",
        "outputId": "c0001435-d578-4ec6-af74-f5f062250df3"
      },
      "execution_count": 89,
      "outputs": [
        {
          "output_type": "execute_result",
          "data": {
            "text/plain": [
              "8"
            ]
          },
          "metadata": {},
          "execution_count": 89
        }
      ]
    },
    {
      "cell_type": "code",
      "source": [
        "ar.argsort()"
      ],
      "metadata": {
        "colab": {
          "base_uri": "https://localhost:8080/"
        },
        "id": "7RoTAhwqrt0r",
        "outputId": "8c2b4b62-a043-4c66-b6b8-b38334b3b993"
      },
      "execution_count": 90,
      "outputs": [
        {
          "output_type": "execute_result",
          "data": {
            "text/plain": [
              "array([[0, 1, 2],\n",
              "       [0, 1, 2],\n",
              "       [2, 1, 0]])"
            ]
          },
          "metadata": {},
          "execution_count": 90
        }
      ]
    },
    {
      "cell_type": "code",
      "source": [
        "ar.argmax(axis=0)"
      ],
      "metadata": {
        "colab": {
          "base_uri": "https://localhost:8080/"
        },
        "id": "l--j5X_etNLr",
        "outputId": "aa2f7724-fe0a-4e14-b824-903fe0f89443"
      },
      "execution_count": 91,
      "outputs": [
        {
          "output_type": "execute_result",
          "data": {
            "text/plain": [
              "array([2, 1, 1])"
            ]
          },
          "metadata": {},
          "execution_count": 91
        }
      ]
    },
    {
      "cell_type": "code",
      "source": [
        "ar.argmax(axis=1)"
      ],
      "metadata": {
        "colab": {
          "base_uri": "https://localhost:8080/"
        },
        "id": "xLUAViWCtZSX",
        "outputId": "c8c34a06-505c-4f5b-fad4-bf5d77c9b1ca"
      },
      "execution_count": 95,
      "outputs": [
        {
          "output_type": "execute_result",
          "data": {
            "text/plain": [
              "array([2, 2, 0])"
            ]
          },
          "metadata": {},
          "execution_count": 95
        }
      ]
    },
    {
      "cell_type": "code",
      "source": [
        "ar.argsort(axis = 0)"
      ],
      "metadata": {
        "colab": {
          "base_uri": "https://localhost:8080/"
        },
        "id": "H1esML2Yt6t6",
        "outputId": "01fc05f9-658b-4427-d4b9-fc60b1f4ab23"
      },
      "execution_count": 96,
      "outputs": [
        {
          "output_type": "execute_result",
          "data": {
            "text/plain": [
              "array([[0, 2, 2],\n",
              "       [1, 0, 0],\n",
              "       [2, 1, 1]])"
            ]
          },
          "metadata": {},
          "execution_count": 96
        }
      ]
    },
    {
      "cell_type": "code",
      "source": [
        "ar.argsort(axis = 1)"
      ],
      "metadata": {
        "colab": {
          "base_uri": "https://localhost:8080/"
        },
        "id": "4WyQyH6Ju7Kq",
        "outputId": "3d48582f-ca88-49bc-a307-759e4e81f2b9"
      },
      "execution_count": 97,
      "outputs": [
        {
          "output_type": "execute_result",
          "data": {
            "text/plain": [
              "array([[0, 1, 2],\n",
              "       [0, 1, 2],\n",
              "       [2, 1, 0]])"
            ]
          },
          "metadata": {},
          "execution_count": 97
        }
      ]
    },
    {
      "cell_type": "code",
      "source": [
        "np.sqrt(ar)"
      ],
      "metadata": {
        "colab": {
          "base_uri": "https://localhost:8080/"
        },
        "id": "xFW5pVDo5Vlk",
        "outputId": "a6b31800-d5f7-45a8-f37a-a70bc3685008"
      },
      "execution_count": 6,
      "outputs": [
        {
          "output_type": "execute_result",
          "data": {
            "text/plain": [
              "array([[1.        , 1.41421356, 1.73205081],\n",
              "       [2.        , 2.23606798, 2.44948974],\n",
              "       [2.64575131, 1.        , 0.        ]])"
            ]
          },
          "metadata": {},
          "execution_count": 6
        }
      ]
    },
    {
      "cell_type": "code",
      "source": [
        "ar.min()"
      ],
      "metadata": {
        "colab": {
          "base_uri": "https://localhost:8080/"
        },
        "id": "y2ATTaUa5abq",
        "outputId": "6af370d2-a4e7-41b9-8866-3f94ca9e2c01"
      },
      "execution_count": 7,
      "outputs": [
        {
          "output_type": "execute_result",
          "data": {
            "text/plain": [
              "0"
            ]
          },
          "metadata": {},
          "execution_count": 7
        }
      ]
    },
    {
      "cell_type": "code",
      "source": [
        "ar.max()"
      ],
      "metadata": {
        "colab": {
          "base_uri": "https://localhost:8080/"
        },
        "id": "IEio_YKF5zvV",
        "outputId": "9593329c-3d39-49c2-c42b-6c7a617104c7"
      },
      "execution_count": 8,
      "outputs": [
        {
          "output_type": "execute_result",
          "data": {
            "text/plain": [
              "7"
            ]
          },
          "metadata": {},
          "execution_count": 8
        }
      ]
    },
    {
      "cell_type": "code",
      "source": [
        "np.where(ar>5)"
      ],
      "metadata": {
        "colab": {
          "base_uri": "https://localhost:8080/"
        },
        "id": "8YS5z3Sg51N8",
        "outputId": "6a8bed53-e1e9-442b-ca35-6b4303b1083a"
      },
      "execution_count": 9,
      "outputs": [
        {
          "output_type": "execute_result",
          "data": {
            "text/plain": [
              "(array([1, 2]), array([2, 0]))"
            ]
          },
          "metadata": {},
          "execution_count": 9
        }
      ]
    },
    {
      "cell_type": "code",
      "source": [
        "type(np.where(ar>5))"
      ],
      "metadata": {
        "colab": {
          "base_uri": "https://localhost:8080/"
        },
        "id": "FBnJsTLS6HiQ",
        "outputId": "3e6261ee-d5db-4c7b-cf3b-ac2abde27e9c"
      },
      "execution_count": 10,
      "outputs": [
        {
          "output_type": "execute_result",
          "data": {
            "text/plain": [
              "tuple"
            ]
          },
          "metadata": {},
          "execution_count": 10
        }
      ]
    },
    {
      "cell_type": "code",
      "source": [
        "np.count_nonzero(ar)"
      ],
      "metadata": {
        "colab": {
          "base_uri": "https://localhost:8080/"
        },
        "id": "p-JVONxQ6Lyk",
        "outputId": "b8a80591-887c-408a-d58c-288e9a478cd8"
      },
      "execution_count": 11,
      "outputs": [
        {
          "output_type": "execute_result",
          "data": {
            "text/plain": [
              "8"
            ]
          },
          "metadata": {},
          "execution_count": 11
        }
      ]
    },
    {
      "cell_type": "code",
      "source": [
        "#ar = np.delete(ar, [0,0])\n",
        "ar = np.append(ar, 1)\n",
        "ar"
      ],
      "metadata": {
        "colab": {
          "base_uri": "https://localhost:8080/"
        },
        "id": "gIYyLWP67hId",
        "outputId": "26e46120-88d6-4fe6-8040-02faf92e0751"
      },
      "execution_count": 21,
      "outputs": [
        {
          "output_type": "execute_result",
          "data": {
            "text/plain": [
              "array([2, 3, 4, 5, 6, 7, 1, 0, 1])"
            ]
          },
          "metadata": {},
          "execution_count": 21
        }
      ]
    },
    {
      "cell_type": "code",
      "source": [
        "ar = ar.reshape(3,3)\n",
        "ar"
      ],
      "metadata": {
        "colab": {
          "base_uri": "https://localhost:8080/"
        },
        "id": "QHLu4Muc8knp",
        "outputId": "d077def1-84ec-4086-c985-7516eca27b50"
      },
      "execution_count": 22,
      "outputs": [
        {
          "output_type": "execute_result",
          "data": {
            "text/plain": [
              "array([[2, 3, 4],\n",
              "       [5, 6, 7],\n",
              "       [1, 0, 1]])"
            ]
          },
          "metadata": {},
          "execution_count": 22
        }
      ]
    },
    {
      "cell_type": "code",
      "source": [
        "import pandas as pd"
      ],
      "metadata": {
        "id": "-e-BfWCH_M4t"
      },
      "execution_count": 23,
      "outputs": []
    },
    {
      "cell_type": "code",
      "source": [
        "dict1 = {\n",
        "    \"name\":[\"Umer\",\"Thaif\",\"Sarosh\",\"Faiz\"],\n",
        "    \"marks\": [77,88,89,82],\n",
        "    \"city\":[\"karachi\",\"Hyd\",\"Thatta\",\"Tharparker\"]\n",
        "}\n",
        "df = pd.DataFrame(dict1)\n",
        "df"
      ],
      "metadata": {
        "colab": {
          "base_uri": "https://localhost:8080/",
          "height": 175
        },
        "id": "RCqmj_jt_PHb",
        "outputId": "711faf3e-5221-483b-808b-ab6543973d72"
      },
      "execution_count": 28,
      "outputs": [
        {
          "output_type": "execute_result",
          "data": {
            "text/plain": [
              "     name  marks        city\n",
              "0    Umer     77     karachi\n",
              "1   Thaif     88         Hyd\n",
              "2  Sarosh     89      Thatta\n",
              "3    Faiz     82  Tharparker"
            ],
            "text/html": [
              "\n",
              "  <div id=\"df-32d98547-9635-44a9-b902-ebad0dfb73be\" class=\"colab-df-container\">\n",
              "    <div>\n",
              "<style scoped>\n",
              "    .dataframe tbody tr th:only-of-type {\n",
              "        vertical-align: middle;\n",
              "    }\n",
              "\n",
              "    .dataframe tbody tr th {\n",
              "        vertical-align: top;\n",
              "    }\n",
              "\n",
              "    .dataframe thead th {\n",
              "        text-align: right;\n",
              "    }\n",
              "</style>\n",
              "<table border=\"1\" class=\"dataframe\">\n",
              "  <thead>\n",
              "    <tr style=\"text-align: right;\">\n",
              "      <th></th>\n",
              "      <th>name</th>\n",
              "      <th>marks</th>\n",
              "      <th>city</th>\n",
              "    </tr>\n",
              "  </thead>\n",
              "  <tbody>\n",
              "    <tr>\n",
              "      <th>0</th>\n",
              "      <td>Umer</td>\n",
              "      <td>77</td>\n",
              "      <td>karachi</td>\n",
              "    </tr>\n",
              "    <tr>\n",
              "      <th>1</th>\n",
              "      <td>Thaif</td>\n",
              "      <td>88</td>\n",
              "      <td>Hyd</td>\n",
              "    </tr>\n",
              "    <tr>\n",
              "      <th>2</th>\n",
              "      <td>Sarosh</td>\n",
              "      <td>89</td>\n",
              "      <td>Thatta</td>\n",
              "    </tr>\n",
              "    <tr>\n",
              "      <th>3</th>\n",
              "      <td>Faiz</td>\n",
              "      <td>82</td>\n",
              "      <td>Tharparker</td>\n",
              "    </tr>\n",
              "  </tbody>\n",
              "</table>\n",
              "</div>\n",
              "    <div class=\"colab-df-buttons\">\n",
              "\n",
              "  <div class=\"colab-df-container\">\n",
              "    <button class=\"colab-df-convert\" onclick=\"convertToInteractive('df-32d98547-9635-44a9-b902-ebad0dfb73be')\"\n",
              "            title=\"Convert this dataframe to an interactive table.\"\n",
              "            style=\"display:none;\">\n",
              "\n",
              "  <svg xmlns=\"http://www.w3.org/2000/svg\" height=\"24px\" viewBox=\"0 -960 960 960\">\n",
              "    <path d=\"M120-120v-720h720v720H120Zm60-500h600v-160H180v160Zm220 220h160v-160H400v160Zm0 220h160v-160H400v160ZM180-400h160v-160H180v160Zm440 0h160v-160H620v160ZM180-180h160v-160H180v160Zm440 0h160v-160H620v160Z\"/>\n",
              "  </svg>\n",
              "    </button>\n",
              "\n",
              "  <style>\n",
              "    .colab-df-container {\n",
              "      display:flex;\n",
              "      gap: 12px;\n",
              "    }\n",
              "\n",
              "    .colab-df-convert {\n",
              "      background-color: #E8F0FE;\n",
              "      border: none;\n",
              "      border-radius: 50%;\n",
              "      cursor: pointer;\n",
              "      display: none;\n",
              "      fill: #1967D2;\n",
              "      height: 32px;\n",
              "      padding: 0 0 0 0;\n",
              "      width: 32px;\n",
              "    }\n",
              "\n",
              "    .colab-df-convert:hover {\n",
              "      background-color: #E2EBFA;\n",
              "      box-shadow: 0px 1px 2px rgba(60, 64, 67, 0.3), 0px 1px 3px 1px rgba(60, 64, 67, 0.15);\n",
              "      fill: #174EA6;\n",
              "    }\n",
              "\n",
              "    .colab-df-buttons div {\n",
              "      margin-bottom: 4px;\n",
              "    }\n",
              "\n",
              "    [theme=dark] .colab-df-convert {\n",
              "      background-color: #3B4455;\n",
              "      fill: #D2E3FC;\n",
              "    }\n",
              "\n",
              "    [theme=dark] .colab-df-convert:hover {\n",
              "      background-color: #434B5C;\n",
              "      box-shadow: 0px 1px 3px 1px rgba(0, 0, 0, 0.15);\n",
              "      filter: drop-shadow(0px 1px 2px rgba(0, 0, 0, 0.3));\n",
              "      fill: #FFFFFF;\n",
              "    }\n",
              "  </style>\n",
              "\n",
              "    <script>\n",
              "      const buttonEl =\n",
              "        document.querySelector('#df-32d98547-9635-44a9-b902-ebad0dfb73be button.colab-df-convert');\n",
              "      buttonEl.style.display =\n",
              "        google.colab.kernel.accessAllowed ? 'block' : 'none';\n",
              "\n",
              "      async function convertToInteractive(key) {\n",
              "        const element = document.querySelector('#df-32d98547-9635-44a9-b902-ebad0dfb73be');\n",
              "        const dataTable =\n",
              "          await google.colab.kernel.invokeFunction('convertToInteractive',\n",
              "                                                    [key], {});\n",
              "        if (!dataTable) return;\n",
              "\n",
              "        const docLinkHtml = 'Like what you see? Visit the ' +\n",
              "          '<a target=\"_blank\" href=https://colab.research.google.com/notebooks/data_table.ipynb>data table notebook</a>'\n",
              "          + ' to learn more about interactive tables.';\n",
              "        element.innerHTML = '';\n",
              "        dataTable['output_type'] = 'display_data';\n",
              "        await google.colab.output.renderOutput(dataTable, element);\n",
              "        const docLink = document.createElement('div');\n",
              "        docLink.innerHTML = docLinkHtml;\n",
              "        element.appendChild(docLink);\n",
              "      }\n",
              "    </script>\n",
              "  </div>\n",
              "\n",
              "    </div>\n",
              "  </div>\n"
            ]
          },
          "metadata": {},
          "execution_count": 28
        }
      ]
    },
    {
      "cell_type": "code",
      "source": [
        "df.to_csv('friends.csv')"
      ],
      "metadata": {
        "id": "k91Wai6yABrG"
      },
      "execution_count": 26,
      "outputs": []
    },
    {
      "cell_type": "code",
      "source": [
        "df.to_csv('friends_indexFalse.csv',index = False)"
      ],
      "metadata": {
        "id": "XHgR9bc9AKgw"
      },
      "execution_count": 27,
      "outputs": []
    },
    {
      "cell_type": "code",
      "source": [
        "df.head(2)"
      ],
      "metadata": {
        "colab": {
          "base_uri": "https://localhost:8080/",
          "height": 2506
        },
        "id": "cfDgBJo8AvEv",
        "outputId": "5575efc2-15cb-4fed-9da0-1054ab792c46"
      },
      "execution_count": 29,
      "outputs": [
        {
          "output_type": "execute_result",
          "data": {
            "text/plain": [
              "    name  marks     city\n",
              "0   Umer     77  karachi\n",
              "1  Thaif     88      Hyd"
            ],
            "text/html": [
              "\n",
              "  <div id=\"df-57965c0f-4435-4d31-a467-6f40d4369e24\" class=\"colab-df-container\">\n",
              "    <div>\n",
              "<style scoped>\n",
              "    .dataframe tbody tr th:only-of-type {\n",
              "        vertical-align: middle;\n",
              "    }\n",
              "\n",
              "    .dataframe tbody tr th {\n",
              "        vertical-align: top;\n",
              "    }\n",
              "\n",
              "    .dataframe thead th {\n",
              "        text-align: right;\n",
              "    }\n",
              "</style>\n",
              "<table border=\"1\" class=\"dataframe\">\n",
              "  <thead>\n",
              "    <tr style=\"text-align: right;\">\n",
              "      <th></th>\n",
              "      <th>name</th>\n",
              "      <th>marks</th>\n",
              "      <th>city</th>\n",
              "    </tr>\n",
              "  </thead>\n",
              "  <tbody>\n",
              "    <tr>\n",
              "      <th>0</th>\n",
              "      <td>Umer</td>\n",
              "      <td>77</td>\n",
              "      <td>karachi</td>\n",
              "    </tr>\n",
              "    <tr>\n",
              "      <th>1</th>\n",
              "      <td>Thaif</td>\n",
              "      <td>88</td>\n",
              "      <td>Hyd</td>\n",
              "    </tr>\n",
              "  </tbody>\n",
              "</table>\n",
              "</div>\n",
              "    <div class=\"colab-df-buttons\">\n",
              "\n",
              "  <div class=\"colab-df-container\">\n",
              "    <button class=\"colab-df-convert\" onclick=\"convertToInteractive('df-57965c0f-4435-4d31-a467-6f40d4369e24')\"\n",
              "            title=\"Convert this dataframe to an interactive table.\"\n",
              "            style=\"display:none;\">\n",
              "\n",
              "  <svg xmlns=\"http://www.w3.org/2000/svg\" height=\"24px\" viewBox=\"0 -960 960 960\">\n",
              "    <path d=\"M120-120v-720h720v720H120Zm60-500h600v-160H180v160Zm220 220h160v-160H400v160Zm0 220h160v-160H400v160ZM180-400h160v-160H180v160Zm440 0h160v-160H620v160ZM180-180h160v-160H180v160Zm440 0h160v-160H620v160Z\"/>\n",
              "  </svg>\n",
              "    </button>\n",
              "\n",
              "  <style>\n",
              "    .colab-df-container {\n",
              "      display:flex;\n",
              "      gap: 12px;\n",
              "    }\n",
              "\n",
              "    .colab-df-convert {\n",
              "      background-color: #E8F0FE;\n",
              "      border: none;\n",
              "      border-radius: 50%;\n",
              "      cursor: pointer;\n",
              "      display: none;\n",
              "      fill: #1967D2;\n",
              "      height: 32px;\n",
              "      padding: 0 0 0 0;\n",
              "      width: 32px;\n",
              "    }\n",
              "\n",
              "    .colab-df-convert:hover {\n",
              "      background-color: #E2EBFA;\n",
              "      box-shadow: 0px 1px 2px rgba(60, 64, 67, 0.3), 0px 1px 3px 1px rgba(60, 64, 67, 0.15);\n",
              "      fill: #174EA6;\n",
              "    }\n",
              "\n",
              "    .colab-df-buttons div {\n",
              "      margin-bottom: 4px;\n",
              "    }\n",
              "\n",
              "    [theme=dark] .colab-df-convert {\n",
              "      background-color: #3B4455;\n",
              "      fill: #D2E3FC;\n",
              "    }\n",
              "\n",
              "    [theme=dark] .colab-df-convert:hover {\n",
              "      background-color: #434B5C;\n",
              "      box-shadow: 0px 1px 3px 1px rgba(0, 0, 0, 0.15);\n",
              "      filter: drop-shadow(0px 1px 2px rgba(0, 0, 0, 0.3));\n",
              "      fill: #FFFFFF;\n",
              "    }\n",
              "  </style>\n",
              "\n",
              "    <script>\n",
              "      const buttonEl =\n",
              "        document.querySelector('#df-57965c0f-4435-4d31-a467-6f40d4369e24 button.colab-df-convert');\n",
              "      buttonEl.style.display =\n",
              "        google.colab.kernel.accessAllowed ? 'block' : 'none';\n",
              "\n",
              "      async function convertToInteractive(key) {\n",
              "        const element = document.querySelector('#df-57965c0f-4435-4d31-a467-6f40d4369e24');\n",
              "        const dataTable =\n",
              "          await google.colab.kernel.invokeFunction('convertToInteractive',\n",
              "                                                    [key], {});\n",
              "        if (!dataTable) return;\n",
              "\n",
              "        const docLinkHtml = 'Like what you see? Visit the ' +\n",
              "          '<a target=\"_blank\" href=https://colab.research.google.com/notebooks/data_table.ipynb>data table notebook</a>'\n",
              "          + ' to learn more about interactive tables.';\n",
              "        element.innerHTML = '';\n",
              "        dataTable['output_type'] = 'display_data';\n",
              "        await google.colab.output.renderOutput(dataTable, element);\n",
              "        const docLink = document.createElement('div');\n",
              "        docLink.innerHTML = docLinkHtml;\n",
              "        element.appendChild(docLink);\n",
              "      }\n",
              "    </script>\n",
              "  </div>\n",
              "\n",
              "    </div>\n",
              "  </div>\n"
            ]
          },
          "metadata": {},
          "execution_count": 29
        },
        {
          "output_type": "display_data",
          "data": {
            "text/plain": [
              "<google.colab._quickchart_helpers.SectionTitle at 0x7bccef5067d0>"
            ],
            "text/html": [
              "<h4 class=\"colab-quickchart-section-title\">Values</h4>\n",
              "<style>\n",
              "  .colab-quickchart-section-title {\n",
              "      clear: both;\n",
              "  }\n",
              "</style>"
            ]
          },
          "metadata": {}
        },
        {
          "output_type": "display_data",
          "data": {
            "text/plain": [
              "import numpy as np\n",
              "from google.colab import autoviz\n",
              "\n",
              "def value_plot(df, y, figscale=1):\n",
              "  from matplotlib import pyplot as plt\n",
              "  df[y].plot(kind='line', figsize=(8 * figscale, 4 * figscale), title=y)\n",
              "  plt.gca().spines[['top', 'right']].set_visible(False)\n",
              "  plt.tight_layout()\n",
              "  return autoviz.MplChart.from_current_mpl_state()\n",
              "\n",
              "chart = value_plot(_df_0, *['index'], **{})\n",
              "chart"
            ],
            "text/html": [
              "      <div class=\"colab-quickchart-chart-with-code\" id=\"chart-a63eea78-f88b-4409-885a-eb06cb295406\">\n",
              "        <img src=\"data:image/png;base64,iVBORw0KGgoAAAANSUhEUgAAAYwAAADECAYAAACMRRb/AAAAOXRFWHRTb2Z0d2FyZQBNYXRwbG90\n",
              "bGliIHZlcnNpb24zLjcuMSwgaHR0cHM6Ly9tYXRwbG90bGliLm9yZy/bCgiHAAAACXBIWXMAAA9h\n",
              "AAAPYQGoP6dpAAAe+klEQVR4nO3de3CTZd4+8Cs0EBRoQeg5eSiloFChUGjsK7hyUEGh5betYMM6\n",
              "NrMWiiPrznZcVtSOVl1wnZEd1p0di8sUWYYWaFERWH+sogi+QlIOcpK1FcqTnimVllPTJrnfP0oD\n",
              "gbYkkEPTXJ8ZZuiTO+F7A5OrT540l0IIIUBERHQbfXw9ABER+QcGBhEROYWBQURETmFgEBGRUxgY\n",
              "RETkFAYGERE5hYFBREROYWAQEZFTGBhEROQUBgbRNU8++STefvvtO77/1KlT8eabb7pvIKIeRunr\n",
              "AYh6in//+9++HoGoR+MZBhEROYWBQXTNtGnT8PrrrwMAFAoFPvjgA0yZMgUDBw7EuHHjsG/fPvta\n",
              "i8WCZcuWISIiAqGhoVi+fPktj1dVVYWFCxciOjoaYWFh0Ol0OHfuHADgm2++wYABA2A0GgEAQgjM\n",
              "mTMHKSkp4OeBUk/FwCDqwj//+U98/PHHuHDhAmbOnInf/OY39tvee+89bN68Gbt370ZlZSWUSiUO\n",
              "HDhgv91sNmPmzJmIiorCTz/9hNOnT0OpVGLhwoUA2sPpzTffxNNPP43z58/j7bffxqlTp/Cvf/0L\n",
              "CoXC63slcoogIiGEEI8++qh47bXXhBBCABAff/yx/bbjx48LAKK2tlYIIURcXJz429/+Zr/dYrGI\n",
              "0NBQ8cYbbwghhCgpKRFRUVHCZrPZ11RWVgoAwmQy2Y+lp6eLhIQEMWDAAHH48GEP7o7o7vGiN1EX\n",
              "oqKi7L8fMGAAAODixYsIDw9HZWUlRowYYb89KCgIkiTZvy4rK0NdXR2GDBni8JgqlQqyLEOtVgMA\n",
              "cnJyMGXKFOh0OkyYMMGDuyG6ewwMojugVqtRUVFh/9pqtcJkMtm/joiIwPDhw/Hzzz93+RhNTU3I\n",
              "zMzE888/j82bN+Pzzz9HSkqKJ8cmuiu8hkF0BzIzM/H+++/j1KlTMJvNeOutt9DY2Gi/PS0tDW1t\n",
              "bcjNzUVTUxMAoL6+Hps2bQLQfpE7MzMT999/Pz766CPk5+fjueeew+nTp32yHyJnMDCI7sCf/vQn\n",
              "pKWl4dFHH4VarUZrayseeugh++2DBg3C999/D1mWMW7cOAQHB+Phhx/Gt99+CwD4y1/+gqNHj9ov\n",
              "cut0Ojz77LNIT0/H1atXfbUtom4phOB7+IiI6PZ4hkFERE5hYBARkVMYGERE5BQGBhEROYWBQURE\n",
              "TmFgEBGRUxgYRETklB4ZGKtXr/b1CEREdJMeGRhnz5719QhERHSTHhkYRETU87gUGC+99BJiYmKg\n",
              "UChw5MiRLtetXbsWo0aNwsiRI7Fo0SK0tbXd7ZxERORjLgXG008/jX379mH48OFdrjlz5gxyc3Ox\n",
              "d+9elJeXo66uDmvWrLnrQYmIyLdcCoxf/epX9uKXrhQXFyM1NRURERFQKBRYsmQJCgsL72pIIiK6\n",
              "lc0m8F15A976/KRXuuDdXqAky7LDGUhMTAxkWe5yvdlshtlsdjhmtVrdPRYRUa9Rf7EFxQcrUWQw\n",
              "QW68AgB4clwEkmLu8+if6/PGvZUrVyIvL8/hWHJyso+mISLqmaw2gb1l51BokPHVj/Ww2NrPKAap\n",
              "lJg3MQqhA1Uen8HtgSFJkkMtZUVFhUPX8c2WL1+OnJwch2O5ubnuHouIyC/VNF3FZmMlNpeaUHXh\n",
              "erlWojQYOq2EOeMjcW8/73zv7/Y/JT09HVOnTsWbb76J8PBwfPjhh8jIyOhyvUqlgkrlmIxBQUHu\n",
              "HouIyG9YrDZ8/d9zKDLI+Pq/9bh2MoGQe/oiLTEaGUkS7o8Y5PW5XAqM7Oxs7NixA7W1tZg1axYG\n",
              "DRqE8vJyZGVlITU1FampqYiNjUVeXh6mTJkCAJg2bRqys7M9MjwRUW9iaryCzaUmbC41oa75+rXd\n",
              "h0bcB51WwuwHI9C/r+++oe6RFa05OTlYtWqVr8cgIvK4NqsNX56sw0aDjH3lDeh4Rr5vQD88PUmN\n",
              "Z5I0GBk60LdDXuPzi95ERIHoTMNlFBlllBysRMOlVvvxqXHDkKHV4PGx4VApe9bL8wwMIiIvMVus\n",
              "+OJ4LYoMJnx/+rz9eOggFeZfO5sYPnSADyfsHgODiMjDyusvotBgwtZDlfjlSvtHJSkUwLTRocjQ\n",
              "SpjxQBj6BvX8j/ZjYBARecDVVit2HqtBoUFG6dlf7McjQ/pjwWQNFiRpED34Hh9O6DoGBhGRG/1Y\n",
              "04wig4yth6twscUCAAjqo8CMB8Kg02rw6OgwBPVR+HjKO8PAICK6S5fNFmw/Wo2NBhN+MF2wH1cP\n",
              "uQcZSRrMn6xBeHB/3w3oJgwMIqI7dKyyCRsNMrYdqcLl1vbPwFP2UeCJ+HDotBKmjByGPn56NtEZ\n",
              "BgYRkQuaW9rw2ZFqFBlknKhuth8fMWwAMpI0SJ+kxjAvfK6TLzAwiIhuQwiBQ/IFFBlkbD9ag6tt\n",
              "7WcT/YL64MlxEchIkpAcex8Uit5zNtEZBgYRURcuXGnFJ4erUGiQ8VPdJfvxuLCB0GklpE2MxpAB\n",
              "/Xw4oXcxMIiIbiCEgOFMI4qMJuw4VoNWiw0A0L9vH8wZFwWdVoNJw4f0+rOJzjAwiIgAnL9kRsmh\n",
              "ShQZTTh97rL9+JjIYOi0GsybEI2Qe/r6cELfY2AQUcCy2QT+9+fzKDTK2HWiFm3W9k/+u7dfEFIT\n",
              "oqDTShivDgnIs4nOMDCIKODUN7dgy8FKbDJerzgFgPHqEGQkSUidEIWBKj493ox/I0QUEKw2gW/L\n",
              "2kuJvvyxHtYbKk7/38RoZGg1iI8K8fGUPRsDg4h6ta4qTicNH4KMJI1XK079nct/S2VlZcjMzERD\n",
              "QwNCQkKwbt06xMfHO6yx2Wx4+eWX8cUXX0CpVGLo0KH46KOPEBcX57bBiYi60lFxWmiQ8U0nFac6\n",
              "rYTR4d6vOPV3LgdGdnY2Fi9eDL1ej+LiYuj1ehiNRoc127Ztw3fffYcffvgBffv2xTvvvINXX30V\n",
              "mzdvdtvgREQ3MzVewSajCVsO9syKU3/nUmDU19ejtLQUu3btAgCkp6dj6dKlKC8vdzh7UCgUMJvN\n",
              "aGlpgVKpRHNzM9RqtXsnJyIC0Gqx4csf61DoBxWn/s6lwDCZTIiMjIRS2X43hUIBSZIgy7JDYKSk\n",
              "pODrr79GREQEBg0ahOjoaOzZs6fTxzSbzTCbzQ7HrFarq/sgogDTXcWpTivh8bHh6Kfs+aVE/sQj\n",
              "V3pKS0tx/PhxVFVVITg4GK+88gqWLFmCDRs23LJ25cqVyMvLcziWnJzsibGIyM+1tFnx/090XnG6\n",
              "YLIaz0yWIA2914cT9m4uBYZGo0FNTQ0sFguUSiWEEJBlGZIkOaxbv349ZsyYgcGDBwMAMjMz8cQT\n",
              "T3T6mMuXL0dOTo7DsdzcXFfGIqJerqzuWsXp4Upc8OOKU3/nUmCEhYUhMTERGzZsgF6vR0lJCdRq\n",
              "9S3vfoqNjcXOnTvx8ssvo1+/fti+fTsefPDBTh9TpVJBpXL8KOCgIF6UIgp0V1ut2HGsBkW9qOLU\n",
              "37n8klR+fj70ej1WrFiB4OBgFBQUAACysrKQmpqK1NRUvPjii/jxxx+RkJCAvn37IiIiAh9++KHb\n",
              "hyei3udkdTOKjDI+6YUVp/5OIUTHewp6jpycHKxatcrXYxCRl1w2W/D5D9UoNPbuilN/xx9vJCKf\n",
              "EELgWFUTCg0mh4rTvkEKPDE2AhlaTa+rOPV3DAwi8qqOitPCAzJO1gRWxam/Y2AQkcd1VJwWGmTs\n",
              "uLHiVNkHTz4YOBWn/o6BQUQec+FKK7YeqkKR0bHidFTYQGQEYMWpv2NgEJFbCSFw4Ewjigwydh6v\n",
              "vaXidOFDGiRKgVlx6u8YGETkFt1VnC7UapDKilO/x8AgojvWVcXpgH5BSJ0QhYwkVpz2JgwMInJZ\n",
              "VxWnCeoQZGglpCSw4rQ34r8oETnFahP49qf2UqKvTrHiNBAxMIioW9UXrmJzqQmbjSZUN7XYj7Pi\n",
              "NPDwX5mIbmGx2rD7VD2KjKZbKk7TE9XI0GpYcRqAGBhEZNdRcbq51IT6i9eLzZJj2ytOZ8Wz4jSQ\n",
              "MTCIAlxXFadDb6g4jWXFKYGBQRSwTp+7hE1GE4oPVuL85esVp4+MGoaMJFac0q0YGEQBpKPitNAg\n",
              "Y//pRvvxsEEqzGfFKd0GA4MoAHRWcdpHATw6OhS6axWnSlac0m24HBhlZWXIzMxEQ0MDQkJCsG7d\n",
              "OsTHx9+y7tixY/jd736Huro6AMCf//xnpKWl3f3EROSU7ipOn0nSYMFkDaJYcUoucDkwsrOzsXjx\n",
              "Yuj1ehQXF0Ov18NoNDqsuXLlCubNm4f169dj6tSpsFqtaGxs7OIRiciduqs4XaiV8KvRoaw4pTvi\n",
              "UmDU19ejtLQUu3btAgCkp6dj6dKlKC8vR1xcnH3dxo0bkZycjKlTpwIAgoKCEBoa6saxiehGl65V\n",
              "nBYZZPxQ2WQ/rrnvHmQkSXh6kpoVp3TXXAoMk8mEyMhIKJXtd1MoFJAkCbIsOwTGyZMnoVKpMHfu\n",
              "XFRWVmL8+PF4//33Ow0Ns9kMs9nscMxqtd7JXogCyvWKUxnbjlSz4pQ8ziMXvS0WC7788kvs378f\n",
              "UVFRePXVV/HCCy+guLj4lrUrV65EXl6ew7Hk5GRPjEXUKzS3tOGzw1UoNJhYcUpe5VJgaDQa1NTU\n",
              "wGKxQKlUQggBWZYhSZLDOkmSMH36dERHRwMAnn32WcyaNavTx1y+fDlycnIcjuXm5royFlGv115x\n",
              "+gsKDSZsP1qNlrb2UqKOilOdVsJDI1hxSp7lUmCEhYUhMTERGzZsgF6vR0lJCdRqtcPLUQCwYMEC\n",
              "rF27Fs3NzQgODsbOnTuRkJDQ6WOqVCqoVI7fDQUF8aMHiIDuK051Wgm/ZsUpeZHLL0nl5+dDr9dj\n",
              "xYoVCA4ORkFBAQAgKysLqampSE1NhSRJePXVV/Hwww+jT58+iI6Oxpo1a9w+PFFv1FFxWmiQ8e+b\n",
              "Kk7njo+CTsuKU/INhRAdnxzTc+Tk5GDVqlW+HoPIq+wVpwYTTjdcrzgdGxkMHStOqQfgT3oT+ZDN\n",
              "JvDdzw0oMpiw6+StFac6rYRx0aw4pZ6BgUHkAx0Vp0VGGabGq/bjCeoQ6LQS5rLilHog/o8k8hJW\n",
              "nJK/Y2AQeVh3Fac6rYQ54yJxTz++M5B6PgYGkQd0VJwWGmTs+emcveJ08L19kTaRFafknxgYRG5k\n",
              "aryCIqOMLaWVrDilXoeBQXSXWi02/OdkHYqMMvaWNdiPs+KUehsGBtEdYsUpBRoGBpELOipONx6Q\n",
              "ceCMY8XpgskaPJOkgeY+VpxS78TAIHJCVxWn0+4PQ0aShhWnFBAYGERd6Kg4LTTIOHhDxWlUSH8s\n",
              "YMUpBSAGBtFNTlQ3ochgwqdHHCtOZz4QBt1DEn41ihWnFJgYGES4fcXp/ElqhLHilAIcA4MClhAC\n",
              "RyubUGTsvOJUp5Xw8MihrDgluoaBQQGno+J0o8GEH2+oOI0dNgAZWg3SEllxStQZBgYFhI6K040H\n",
              "TNhxzLHi9KkHI5DBilOi23I5MMrKypCZmYmGhgaEhIRg3bp1iI+P73StEAIzZ87EoUOHcOHChbud\n",
              "lchlv1xuxdbDVSgyyCirv15xOjp8IDKSJKQlRmPwvaw4JXKGy4GRnZ2NxYsXQ6/Xo7i4GHq9Hkaj\n",
              "sdO1f/3rXzFy5EgcOnTorgclcpYQAvtPN6LIyIpTIndyKTDq6+tRWlqKXbt2AQDS09OxdOlSlJeX\n",
              "Iy4uzmHtiRMn8Omnn6KgoABbtmxx38REXWi4ZEbJwUpsMnZScfqQhHkTohDcnxWnRHfKpcAwmUyI\n",
              "jIyEUtl+N4VCAUmSIMuyQ2C0tbVh0aJFWLt2LYKCuv9kTrPZDLPZ7HDMarW6MhYFsO4rTqOh02pY\n",
              "cUrkJh656J2Xl4e0tDSMGTMGFRUV3a5duXIl8vLyHI4lJyd7YizqRbqsONUMhi5Jg5SEKAxgxSmR\n",
              "WymEEMLZxfX19YiLi0NjYyOUSiWEEIiMjMS+ffsczjAeeeQRyLIMhUIBi8WC6upqSJIEo9GI0NBQ\n",
              "h8fs7AwjNzcXq1evvsutUW/TUXG60SBj940Vp/2V+PXEaGQkSRgbFezjKYl6L5e+BQsLC0NiYiI2\n",
              "bNgAvV6PkpISqNXqW65f7N271/77iooKTJgwocszDZVKBZXK8T3vt3sZiwJL1YWr2Gw0YUupY8Xp\n",
              "5OFDkMGKUyKvcfmcPT8/H3q9HitWrEBwcDAKCgoAAFlZWUhNTUVqaqrbh6TA03at4rTIIOObn85B\n",
              "3FRxqtNqMIoVp0Re5dJLUt6Sk5ODVatW+XoM8oGOitPNpZU4x4pToh6FVwXJ57qtOJ2sRkaShBHD\n",
              "BvhwQiICGBjkQ6fPXUKR0YSSTipOdVoJj41hxSlRT8LAIK9qabPii+O1KDSw4pTI3zAwyCt+qruI\n",
              "QoOMTw5XseKUyE8xMMhjrrZasf1oNYqMplsqTp9JkjB/spoVp0R+hIFBbmevOD1chYtmVpwS9RYM\n",
              "DHKLjorTQoOMo6w4JeqVGBh0xzoqTgsNMrb9UI0rN1acxkdAl8SKU6LehIFBLmu62obPjlShsIuK\n",
              "0/RENYay4pSo12FgkFOEEDh49hcUGjqvONVpJWhZcUrUqzEwqFvdVZzqtBJ+PZEVp0SBgoFBt7h9\n",
              "xamERGkwzyaIAgwDg+waLplRfK3i9AwrTonoJgyMAGezCewrb0CRUcZ/Ttax4pSIusTACFB1zS3Y\n",
              "UmrCplITK06JyCl8RgggVpvAnp/qUWgwseKUiFzmcmCUlZUhMzMTDQ0NCAkJwbp16xAfH++wZvfu\n",
              "3XjllVdw6dIlKBQKzJkzB++++y769OGHy/lCR8Xp5lITam6qONVpJTzFilMicoLLgZGdnY3FixdD\n",
              "r9ejuLgYer0eRqPRYc2QIUNQVFSE2NhYtLS04LHHHsP69euh1+vdNTfdRkfFaaFBxp6bKk7TE9XI\n",
              "SGLFKRG5xqXAqK+vR2lpKXbt2gUASE9Px9KlS1FeXo64uDj7uokTJ9p/379/f0yYMAEVFRXumZi6\n",
              "JZ9vrzjdctCx4vR/YociQ6thxSkR3TGXAsNkMiEyMhJKZfvdFAoFJEmCLMsOgXGj2tpaFBcXY/v2\n",
              "7Z3ebjabYTabHY5ZrVZXxgp4rRYbdp2sRZHBhH3l1ytOhw3sh/RJrDglIvfw6EXv5uZmpKSkYNmy\n",
              "ZZg8eXKna1auXIm8vDyHY8nJyZ4cq9forOJUoQCmxrHilIjcTyFEx6vbt1dfX4+4uDg0NjZCqVRC\n",
              "CIHIyEjs27fvljOMixcvYtasWXjqqafw+uuvd/mYnZ1h5ObmYvXq1S5uJTCw4pSIfMWlM4ywsDAk\n",
              "JiZiw4YN0Ov1KCkpgVqtviUsLl26hNmzZ2P27NndhgUAqFQqqFSOn2waFMTX2G/WUXG69VAVmq5e\n",
              "rzidfn8YMrQSpt8fyopTIvIol1+Sys/Ph16vx4oVKxAcHIyCggIAQFZWFlJTU5GamorVq1fDYDDg\n",
              "8uXL2Lp1KwBg/vz5eO2119w7fS93pdWC7UdrUGSQcUi+YD8ePfgeLJiswYIkNSJDWHFKRN7h0ktS\n",
              "3pKTk4NVq1b5egyfOVHdXkr02eFqh4rTx8a0n02w4pSIfIE/6d1DXDJbsO1INYqMjhWn0n334pkk\n",
              "DStOicjnGBg+JITAD5VNKGLFKRH5AQaGD3RUnG48IONU7UX78dhhA6DTSkhLjGbFKRH1OAwML+mo\n",
              "ON1okLHzWI1DxemccZHISNKw4pSIejQGhof9crkVJYcqUWQ0ofyGitP7wwchQ6thxSkR+Q0GhgcI\n",
              "IfD96fMoMpjwxfFatFrbzybu6RuEueMjkcGKUyLyQwwMN+qq4jQ+KhgZWlacEpF/Y2DcpRsrTned\n",
              "qIPF5lhxulArYZw6xMdTEhHdPQbGHaprbsFmY3vFaeUv1ytOJ2gGQ6fVYO54VpwSUe/CZzQXdFSc\n",
              "bjxgwtf/daw4TZsYjQythDGRrDglot6JgeGEqgtXsclowpabKk6TYoYgI4kVp0QUGBgYXWiz2vDV\n",
              "j/UoMjpWnA65ty/SWHFKRAGIgXGT7ipOdQ9JmBUfDpWSZxNEFHgYGADMFiv+c7IOhQYZ35Wftx8f\n",
              "NrAfnp7UXkrEilMiCnQBHRg/n7uETUYTig9WovGGitNHRoVCl6TBTFacEhHZBVxgdFScbjTIMNxQ\n",
              "cRoe3F5xumAyK06JiDrjcmCUlZUhMzMTDQ0NCAkJwbp16xAfH3/LurVr1+Ldd9+FzWbDjBkz8I9/\n",
              "/AN9+/rup5z/W9tecfrJYVacEhHdCZcDIzs7G4sXL4Zer0dxcTH0ej2MRqPDmjNnziA3NxeHDh1C\n",
              "eHg45s2bhzVr1uDFF1902+DOYMUpEZH7uBQY9fX1KC0txa5duwAA6enpWLp0KcrLyxEXF2dfV1xc\n",
              "jNTUVERERAAAlixZghUrVngtMI5XNaHI2HnFqU4r4RFWnBIRucylwDCZTIiMjIRS2X43hUIBSZIg\n",
              "y7JDYMiyjOHDh9u/jomJgSzLnT6m2WyG2Wx2OGa1Wl0Zy04IgYw1+3HghmsTrDglInIPn1/0Xrly\n",
              "JfLy8hyOJScn39FjKRQKDB96Lw7Jv2BWfAR0Wgn/E8uKUyIid3DpKq9Go0FNTQ0slvaXeYQQkGUZ\n",
              "kiQ5rJMkCWfPnrV/XVFRccuaDsuXL0dTU5PDL61W6+o+7P7w+GjsXz4Tf1+YiClxwxgWRERu4lJg\n",
              "hIWFITExERs2bAAAlJSUQK1WO7wcBbRf29i2bRtqa2shhMCHH36IjIyMTh9TpVIhODjY4VdQ0J3/\n",
              "JHVkyD3swyYi8gCX30ean5+P/Px8jB49Gu+++y4KCgoAAFlZWdi2bRsAIDY2Fnl5eZgyZQri4uIQ\n",
              "GhqK7Oxs905ORERepRCi42P1eo6cnBysWrXK12MQEdEN+JNqRETklB55hpGWloaYmJg7uq/VaoXB\n",
              "YIBWq72rayH+KpD3z70H5t6BwN6/O/Y+fPhw/P73v7/tuh4ZGHejubkZISEhaGpqQnBw4LXfBfL+\n",
              "uffA3DsQ2Pv35t75khQRETmFgUFERE5hYBARkVN6XWCoVCq88cYbUKkC84f3Ann/3Htg7h0I7P17\n",
              "c++97qI3ERF5Rq87wyAiIs9gYBARkVMYGERE5BS/DYyysjI8/PDDGD16NJKSknDixIlO161duxaj\n",
              "Ro3CyJEjsWjRIrS1tXl5Us9wZv+7d++GVqvF2LFjER8fj2XLlsFms/lgWvdy9t8eaP8I/hkzZmDw\n",
              "4MHeG9CDnN37sWPHMG3aNIwZMwZjxozB1q1bvTypZzizf5vNhpycHIwdOxbjx4/H9OnTUV5e7oNp\n",
              "3eull15CTEwMFAoFjhw50uU6jz7nCT81ffp0UVBQIIQQYsuWLWLy5Mm3rDl9+rSIjIwUNTU1wmaz\n",
              "iZSUFPH3v//dy5N6hjP7P3TokPj555+FEEJcvXpVTJkyxX4ff+bM3ju8//77IisrS4SEhHhnOA9z\n",
              "Zu+XL18WI0aMEHv37hVCCGGxWER9fb03x/QYZ/b/ySefCK1WK1pbW4UQQrz99tti/vz53hzTI/bs\n",
              "2SNMJpMYPny4OHz4cKdrPP2c55eBUVdXJwYNGiTa2tqEEELYbDYRHh4uysrKHNa99957Ijs72/71\n",
              "jh07xJQpU7w6qyc4u/+bvfjii+KNN97wwoSe48rejx8/Lh555BFRXl7eKwLD2b1/9NFHQqfT+WJE\n",
              "j3J2/59++qlISEgQzc3NwmaziT/+8Y/iD3/4gy9G9ojuAsPTz3l++ZJUd93iN3KlW9yfOLv/G9XW\n",
              "1qK4uBhz58711pge4eze29rasGjRIuTn5/eaD6Nzdu8nT56ESqXC3LlzMWHCBDz33HM4d+6cL0Z2\n",
              "K2f3n5KSgmnTpiEiIgKRkZH46quv8NZbb/liZK/z9HOeXwYGuaa5uRkpKSlYtmwZJk+e7OtxvCIv\n",
              "Lw9paWkYM2aMr0fxOovFgi+//BL5+fk4fPgwoqOj8cILL/h6LK8pLS3F8ePHUVVVherqasycORNL\n",
              "lizx9Vi9gl8Ghie6xf2Js/sHgIsXL2L27NmYN28ecnJyvD2q2zm79z179uCDDz5ATEwMpk6diubm\n",
              "ZsTExPj1d9qu/L+fPn06oqOjoVAo8Oyzz2L//v2+GNmtnN3/+vXr7W906NOnDzIzM/H111/7YmSv\n",
              "8/Rznl8Ghie6xf2Js/u/dOkSZs+ejdmzZ+P111/3xahu5+ze9+7di7Nnz6KiogL79u1DcHAwKioq\n",
              "EBoa6oux3cLZvS9YsABGoxHNzc0AgJ07dyIhIcHr87qbs/uPjY3F7t270draCgDYvn07HnzwQa/P\n",
              "6wsef85z29UQLzt16pRITk4Wo0aNEpMmTRJHjx4VQgjx/PPPi88++8y+bs2aNSI2NlbExsaK3/72\n",
              "t/Z3Tvg7Z/b/zjvvCKVSKRISEuy/3nnnHV+O7RbO/tt3OHPmTK+46C2E83tfv369iI+PF+PGjROz\n",
              "Z88Wsiz7amS3cmb/LS0tIisrSzzwwANi3Lhx4vHHH7e/W9CfLV68WERHR4ugoCARFhYmRo4cKYTw\n",
              "7nMeP0uKiIic4pcvSRERkfcxMIiIyCkMDCIicgoDg4iInMLAICIipzAwiIjIKQwMIiJyCgODiIic\n",
              "wsAgIiKnMDCIiMgpDAwiInLK/wFAZOQdxJL4yQAAAABJRU5ErkJggg==\n",
              "\">\n",
              "        \n",
              "      </div>\n",
              "      <script></script>\n",
              "      <script type=\"text/javascript\">\n",
              "        (() => {\n",
              "          const chartElement = document.getElementById(\"chart-a63eea78-f88b-4409-885a-eb06cb295406\");\n",
              "          async function getCodeForChartHandler(event) {\n",
              "            const chartCodeResponse =  await google.colab.kernel.invokeFunction(\n",
              "                'getCodeForChart', [\"chart-a63eea78-f88b-4409-885a-eb06cb295406\"], {});\n",
              "            const responseJson = chartCodeResponse.data['application/json'];\n",
              "            await google.colab.notebook.addCell(responseJson.code, 'code');\n",
              "          }\n",
              "          chartElement.onclick = getCodeForChartHandler;\n",
              "        })();\n",
              "      </script>\n",
              "      <style>\n",
              "        .colab-quickchart-chart-with-code  {\n",
              "            display: block;\n",
              "            float: left;\n",
              "            border: 1px solid transparent;\n",
              "        }\n",
              "\n",
              "        .colab-quickchart-chart-with-code:hover {\n",
              "            cursor: pointer;\n",
              "            border: 1px solid #aaa;\n",
              "        }\n",
              "      </style>"
            ]
          },
          "metadata": {}
        },
        {
          "output_type": "display_data",
          "data": {
            "text/plain": [
              "import numpy as np\n",
              "from google.colab import autoviz\n",
              "\n",
              "def value_plot(df, y, figscale=1):\n",
              "  from matplotlib import pyplot as plt\n",
              "  df[y].plot(kind='line', figsize=(8 * figscale, 4 * figscale), title=y)\n",
              "  plt.gca().spines[['top', 'right']].set_visible(False)\n",
              "  plt.tight_layout()\n",
              "  return autoviz.MplChart.from_current_mpl_state()\n",
              "\n",
              "chart = value_plot(_df_1, *['marks'], **{})\n",
              "chart"
            ],
            "text/html": [
              "      <div class=\"colab-quickchart-chart-with-code\" id=\"chart-37fe07eb-5939-4ec3-ad88-6d8cbd42852d\">\n",
              "        <img src=\"data:image/png;base64,iVBORw0KGgoAAAANSUhEUgAAAYwAAADECAYAAACMRRb/AAAAOXRFWHRTb2Z0d2FyZQBNYXRwbG90\n",
              "bGliIHZlcnNpb24zLjcuMSwgaHR0cHM6Ly9tYXRwbG90bGliLm9yZy/bCgiHAAAACXBIWXMAAA9h\n",
              "AAAPYQGoP6dpAAAmSElEQVR4nO3de1SU950/8PcMyHAHHe4wD0SigiIqCkMuopZoSIuXYL0N2bip\n",
              "TeI22XbLKfk1ezRZL1u77a7bnFhjbezaJqBEQy41pm3USGyjA0ZRvBAFZR7uIHK/DDwzz+8PdCgV\n",
              "zYwCw8D7dY7nZL4888znG2XefGae4aOQZVkGERHRN1DauwAiInIMDAwiIrIKA4OIiKzCwCAiIqsw\n",
              "MIiIyCoMDCIisgoDg4iIrMLAICIiqzAwiIjIKgwMIjuYP38+NmzYYO8yiGzCwCAiIqswMIiGUXd3\n",
              "t71LILpvDAyivzN//nz867/+K1atWgVvb2+EhYVh//79KCoqwiOPPAIvLy8kJCTg66+/BgAcOHAA\n",
              "s2fPxvjx4+Hn54clS5bg+vXrlvPt3bsXYWFh+PWvf42IiAio1eoBH3fLli2YOHEiLly4AFmW8dpr\n",
              "ryEsLAxeXl4ICwvDv//7vw/L/onuhYFB9A/eeecdvPTSS2hqakJmZibWrVuHn/70p9i3bx8aGhqg\n",
              "0Wjwwx/+EADg5eWF3/3ud7hx4waKi4shyzJ0Ol2/89XU1ODcuXO4cOECamtr+32tq6sL6enpOHz4\n",
              "ME6dOoWYmBgcOXIEv/vd7/Dll1+itbUV58+fx+LFi4dt/0R3w8Ag+gfLly9HUlISlEol/vmf/xkd\n",
              "HR145plnEBERARcXF+h0OuTn5wMAUlJSMGPGDDg5OcHPzw+bN2/GqVOn0Nra2u+cv/rVr+Dp6Ql3\n",
              "d3fLWm1tLRYsWACTyYTPP/8cAQEBAAAXFxd0dXXh4sWL6OzsxIQJE/DII48M3/8AortgYBD9g+Dg\n",
              "YMt/e3h4DLh2OxDy8vKQnJyM4OBgeHt7Y968eQCAuro6y/EBAQH9guK2Q4cO4cKFC/jP//xPuLq6\n",
              "WtbnzZuHX/ziF/j5z3+OwMBAJCUl4bPPPhvcTRLdBwYG0X3q7u5GamoqUlJScOXKFbS0tCAvLw8A\n",
              "8PdzyZTKgb/N1q1bh1deeQVz585FUVFRv69973vfQ15eHurr67Fs2TIsXrz4jq6FaLg527sAIkfV\n",
              "3d2Nzs5OjB8/Hl5eXqiqqrL5sxUbN26Ev78/FixYgI8++giPPfYY8vPz0dXVhfj4eLi6usLLywsK\n",
              "hQJOTk5DtBMi67DDILpPnp6eePvtt7F161Z4enriqaeewooVK2w+z/r16/HWW28hNTUVhw8fRltb\n",
              "GzIyMhAQEABfX1/s3r0bH3zwwYAvaxENJwVnehMRkTXYYRARkVUYGEREZBUGBhERWYWBQUREVmFg\n",
              "EBGRVRgYRERkFQYGERFZxSED44033rB3CUREY45DBobBYLB3CUREY45DBgYREQ0/BgYREVmFgUFE\n",
              "RFZhYBAROTCxoQM//7QYJXVDPy+F8zCIiBxMj8mMo5drkaUXceLqDQCAUTLh9cXThvRxGRhERA6i\n",
              "sqkT+/NF5BSUo67VCABQKIC5k/yRNNl/yB/f5sA4fPgwNmzYALPZDEmSkJmZibVr10Kr1cJo7N2A\n",
              "JEm4ePEizp07h9jY2DvOoVAoEBMTY5kg9uabb2Lu3LkPuBUiotHHZJbxeXEdsvNFHP+6DuZbE4z8\n",
              "PF2wYo4Ga+IFCOrhGa5lU2DIsoxnnnkGx48fR2xsLMrKyhAVFYW0tDTo9XrLcQcPHsSmTZsGDIvb\n",
              "Tpw4AV9f3/sunIhoNKtp7kJOQTlyCkRUNXdZ1h+NVCNdG46FUwPh4jy8b0Pb3GEoFAo0NTUBAFpa\n",
              "WqBWq6FSqfods2fPHqxbt25QCiQiGivMZhknSm4g65QBR4vrYLrVTox3H4fvzg7DmgQBE/097Vaf\n",
              "TYGhUCiQk5ODtLQ0eHh4oLGxEbm5uXBxcbEcU15ejry8PLzzzjv3PFdycjIkSUJycjK2bNkCDw+P\n",
              "AY8zGo2Wl7puM5lMtpRNRDSi1bca8d7pcuwvEFF+s9OynhAxATqtgJSYILiOc7Jjhb1sCgxJkrB1\n",
              "61bk5uYiKSkJBQUFWLJkCYqKiuDn5wcA2Lt3L1JTUy23B2IwGCAIAtrb27F+/XpkZmZi586dAx67\n",
              "bds2bNq0qd9aYmKiLWUTEY04sizjZGkDsvQi/nyxBtKtbsLb1RlpcWFI1wqYFOhl5yr7U8iyLFt7\n",
              "8OnTp6HT6XDlyhXLWnx8PH72s59h4cKFkGUZkZGReOutt/Dkk09adc6TJ0/ihRdeQFFR0YBfH6jD\n",
              "2LhxI38BIRE5pJvt3Xj/qwpk54u4fqPdsj5L8IUuQUBqbAjcXOzfTQzEpg5Do9Gguroaly9fRnR0\n",
              "NEpKSlBaWoopU6YAAI4dOwZJkrBw4cK7nqOxsREqlQru7u4wm83IycnBrFmz7nq8SqW64z2S21dX\n",
              "ERE5AlmWUVDWiCy9AZ8W1aDbZAYAeKqcsWxWCHQJ4Zga4m3nKr+ZTYERGBiI3bt3Y+XKlVAqlTCb\n",
              "zdixYwcEQQDQ+2b3c889B6Wy/zv3u3btQlVVFTZv3ozi4mK8+OKLUCgUkCQJcXFx7BaIaFRq7uhB\n",
              "7tkKZOtFXK1rs6zHhHojXRuOJTNC4KFynI/D2fSS1EiRkZGB7du327sMIqI7yLKMs+VNyNaL+OO5\n",
              "Khil3m7CbZwTls4MgU4rIDbM175F3ifHiTYiohGstasHHxZWIVsv4nJ1i2U9KsgL6VoBS2eFwtt1\n",
              "nB0rfHAMDCKiB1BU0YzsfAM+KqxCR3fvJf8qZyW+ExuMdG044gRfKBQKO1c5OBgYREQ26uiW8HFh\n",
              "FbLzRZyvaLasR/p7IF0bjrS4UPi6u9zjDI6JgUFEZKXL1S3I1ov48GwlWo0SAMDFSYmUmCCkawUk\n",
              "PDRh1HQTA2FgEBHdQ1ePCYfOVyNbb8AZscmyHqF2x5oEAd+dHQa1p+ruJxhFGBhERAMoqWtFll5E\n",
              "7plKNHf2AACclQosmhYIXUI4Ho1UQ6kcvd3EQBgYRES3GCUT/nShBll6EfnXb1rWw8a7YU2CgBVz\n",
              "whDg5WrHCu2LgUFEY971G+3Yly/i4FcVuNneDQBQKoDk6EDotAKSJvnDaYx1EwNhYBDRmNRjMuOz\n",
              "S7XI0hvwt5IGy3qwjytWxWuwKl6DYB83O1Y48jAwiGhMKb/Zgf0FInIKKnCjrW/M6fzJ/tBpw7Fg\n",
              "ij+cnYZ3MJGjYGAQ0agnmcw4VlyHLL2IL67W4/YvRPL3UmHVnN5uQjNheMacOjIGBhGNWtXNndif\n",
              "X46cgnLUtPSNOZ07yQ+6BAFPTA3EOHYTVmNgENGoYjLL+OJKPbL0Io4V1+LWXCJM8HDBijlhWBMv\n",
              "IMJv4AmfdG8MDCIaFepauvDe6XLsyy9HZVPfmFPtQxOQnhiOJ6cFQuXMWToPgoFBRA7LbJbxt9Ib\n",
              "yNaL+OxSrWXMqY/bOHx3dhjWJAh4OMDTzlWOHgwMInI4DW1GHPiqAvvyRRgaOizrs8PHI10r4NvT\n",
              "g+E6jt3EYGNgEJFDkGUZ+us3kaUX8acL1egx9XYTXipnPB0XCp1WQFTQyB9z6sgYGEQ0ojV1dOPg\n",
              "rW6itL7dsj4jzAc6rYDFM0Lg7sKnsuHA/8tENOLIsowzYiOyTok4VFSN7ltjTt1dnLB0ZijStQJi\n",
              "Qn3sXOXYw8AgohGjpasHH56tRNYpEV/XtlrWo4O9e8eczgyBl4OPOXVkNgfG4cOHsWHDBpjNZkiS\n",
              "hMzMTKxduxbz58+HwWCAj09v6q9duxY//vGPBzzHoUOH8JOf/AQmkwnTp0/H3r174e3N1x6JxiJZ\n",
              "lnG+ohnZehEfn6tCZ0/vmFPXcUosjg2BTitgpmb0jDl1ZApZvv0h+W8myzLUajWOHz+O2NhYlJWV\n",
              "ISoqCvX19Vi8eDH+7d/+DcuWLbvnOdra2hAZGYm8vDxERUXh5ZdfhpubG375y19aXXRGRga2b99u\n",
              "9fFENPK0GXvHnGbpDbhY1WJZnxzoCV2CgKfjwuDjxm5iJLG5w1AoFGhqagIAtLS0QK1WQ6WyftrU\n",
              "p59+ilmzZiEqKgoA8IMf/ACLFi2yKTCIyHFdrGq2jDlt7+7tJlyclfjO9GDotALmhI9nNzFC2RQY\n",
              "CoUCOTk5SEtLg4eHBxobG5GbmwsXl95h5z/96U+xceNGTJ06Fdu2bcPEiRPvOIcoiggPD7fcjoiI\n",
              "QHV1NSRJgrPzneUYjUYYjcZ+ayaTyZayicjOOrtN+OP5KmTpRZwrb7KsT/TzgE4rYHlcGMZ7uNiv\n",
              "QLKKTYEhSRK2bt2K3NxcJCUloaCgAEuWLEFRURHeeecdaDQayLKMX//610hNTcWlS5ceuMBt27Zh\n",
              "06ZN/dYSExMf+LxENPSu1LYiWy/i/TMVaO2SAADjnBR4cloQdFoBj0xUs5twIDb9msbCwkJUVVUh\n",
              "KSkJABAfH4+wsDCcPXsWGo0GQG8X8vLLL+PatWtoaGi44xyCIMBgMFhul5WVITg4eMDuAgBeffVV\n",
              "NDc39/uTkJBgS9lENIy6ekz44GwFVuz6Eov+9wvs/bIMrV0SNBPc8P9SonDy1WTs0MXh0Ug/hoWD\n",
              "sanD0Gg0qK6uxuXLlxEdHY2SkhKUlpZiypQpqK2tRWBgIADg/fffR2BgINRq9R3nSElJwUsvvYTi\n",
              "4mJERUVh586dWL169V0fU6VS3fEeiZMTP/JPNNKU1rdhn17EwTMVaOroAQA4KRV4IjoA6dpwPP6w\n",
              "H5Qcc+rQbAqMwMBA7N69GytXroRSqYTZbMaOHTugVqsxb948GI1GKJVK+Pn54eOPP7bc77XXXkNI\n",
              "SAjWr18PLy8vvP3221i2bBkkSUJMTAx+//vfD/rGiGjodUtm/PliDbL1Ik5e63tFIcTHFasTBKyK\n",
              "1yDQ29WOFdJgsumy2pGCl9US2ZfY0IHsfBEHvyrHjbZuAIBSASyYEoD0RAHzJgfAid3EqMNPehOR\n",
              "VXpMZhy9XIssvYgTV29Y1gO8VFgdr8GqBAGhvm52rJCGGgODiO6psqkT+/NF5BSUo6619xJ3hQKY\n",
              "O8kfugQBydEBHHM6RjAwiOgOJrOM41/XIUsv4vjXdZYxp36eLlgxR4M18QIEtbt9i6Rhx8AgIova\n",
              "li7kFJRjf76IquYuy/qjkWrotAIWTQ2CizO7ibGKgUE0xpnNMk6U3EC23oAjl+tgutVO+LqPw4pb\n",
              "Y04n+nPMKTEwiMas+lYjDnxVjn35IspvdlrWEyImQKcVkBITxDGn1A8Dg2gMkWUZJ0sbkJUv4i8X\n",
              "a/rGnLo6Y3lcGHRaAZMDvexcJY1UDAyiMeBmezfevzXm9NqNvjGnMzW+SNcKSI0NgZsLuwm6NwYG\n",
              "0SglyzIKyhqRrTfgcFENuk29Y049Vc5YNisEuoRwTA3h4DKyHgODaJRp7uhB7tkKZOtFXK1rs6zH\n",
              "hHojXRuOJTNC4KHitz7Zjv9qiEYBWZZRWN6ELL2IQ+er0NXT2024jXPCkhkhSE8UEBvma98iyeEx\n",
              "MIgcWGtXDz4srEK2XsTl6r4xp1FBXtBpBSybFQpvV445pcHBwCByQEUVzcjON+Cjwip03BpzqnJW\n",
              "4juxwUjXCogTOOaUBh8Dg8hBdHRL+OO53jGn5yuaLeuR/h7QacOxPC4Uvu4cc0pDh4FBNMJdrm5B\n",
              "tl7Eh2cr0WrsHXPq4qRESkwQ0rUCEh6awG6ChgUDg2gE6uox4ZPz1cjSG3BGbLKsR6jdsSZBwHdn\n",
              "h0Htqbr7CYiGAAODaAQpqWtDtl7E+2cq0NzZO+bUWanAommB0CWE49FINceckt0wMIjszCiZ8KcL\n",
              "vWNO9ddvWtZDfd2g0wpYMScMAV4cc0r2x8AgspOyG+3Yly/iwFcVuNneN+Y0OToQOq2ApEn+HHNK\n",
              "I4rNgXH48GFs2LABZrMZkiQhMzMTa9euxXPPPYe//e1vcHNzg6enJ371q18hPj5+wHMoFArExMTA\n",
              "yan3d9e8+eabmDt37oPthMgB9JjM+OxSLbL1Iv5a0jfmNMjbFasTNFgVr0GwD8ec0shkU2DIsoxn\n",
              "nnkGx48fR2xsLMrKyhAVFYW0tDQ8/fTT+O1vfwtnZ2ccOnQIK1asQFlZ2V3PdeLECfj6+j5g+USO\n",
              "ofxmB/YXiMgpqMCNtr4xp/Mm+yNdG44FU/zhzDGnNMLZ3GEoFAo0NTUBAFpaWqBWq6FSqbBkyRLL\n",
              "MYmJiaisrIQkSXB25qteNDZJJjOOFdchO19E3pV6yJYxpyqsju/tJjQTOOaUHIdNz+YKhQI5OTlI\n",
              "S0uDh4cHGhsbkZubCxeX/h8WeuONN/Dtb3/7nmGRnJwMSZKQnJyMLVu2wMPDY8DjjEYjjEZjvzWT\n",
              "yWRL2UTDqrq5E/vzy5FTUI6alr4xp48/7Id0rYAnpgZiHLsJckA2BYYkSdi6dStyc3ORlJSEgoIC\n",
              "LFmyBEVFRfDz8wMAvPvuu3jvvffwxRdf3PU8BoMBgiCgvb0d69evR2ZmJnbu3Dngsdu2bcOmTZv6\n",
              "rSUmJtpSNtGQM5llfHG1HlmnRBwrrsWtKaeY4OFiGXMa4TfwD0VEjkIhy7cb5W92+vRp6HQ6XLly\n",
              "xbIWHx+Pn/3sZ1i4cCFycnKwYcMGHD16FIIgWHXOkydP4oUXXkBRUdGAXx+ow9i4cSPeeOMNa8sm\n",
              "GjJ1rV04cLr3V4lXNvWNOdU+1DfmVOXMwUQ0OtjUYWg0GlRXV+Py5cuIjo5GSUkJSktLMWXKFLz3\n",
              "3nvYsGEDjhw5cs+waGxshEqlgru7O8xmM3JycjBr1qy7Hq9SqaBS9f9E6+2rq4jswWyW8WVpA7L0\n",
              "Bnx2qRbSrXbCx23crTGnGjwcwDGnNPrYFBiBgYHYvXs3Vq5cCaVSCbPZjB07dkAQBERGRiIoKAhL\n",
              "ly61HH/06FGo1Wrs2rULVVVV2Lx5M4qLi/Hiiy9CoVBAkiTExcWxWyCH0NBmxIFbY04NDR2W9dnh\n",
              "46FLEPCd2GC4juMPMzR62fSS1EiRkZGB7du327sMGgNkWYb++k1k6UX8+ULfmFMvlTOejguFTisg\n",
              "KohjTmls4DWvRANo6ujG+2cqka03oLS+3bI+I8wHOq2AxTNC4O7Cbx8aW/gvnugWWZZxRmxEll7E\n",
              "J+erYZR6uwl3FycsnRmKdK2AmFAfO1dJZD8MDBrzWrp68OHZSmTrRRTXtFrWo4O9ka4VsHRmCLw4\n",
              "5pSIgUFj1/mKJmSdEvHxuSp09vR+GNR1nBKLY0Og0wqYqfHlYCKiv8PAoDGl3Sjho8IqZOcbcKGy\n",
              "xbI+KcAT6VoBT8eFwceN3QTRQBgYNCZcrGpGtl7ER4VVaLs95tRZiW/HBCE9MRxzwsezmyD6BgwM\n",
              "GrU6u0344/kqZOtFFJY3WdYn+nlApxWwPC4M4z1c7n4CIuqHgUGjzpXaVsuY09au3m5inJMCi6YF\n",
              "IV0r4JGJanYTRPeBgUGjQldP75jTLL0BBWWNlnXNBDfoEsKxYk4Y/DxV9zgDEX0TBgY5tGv1bZZu\n",
              "orGjBwDgpFTgiegApGvD8fjDflByzCnRoGBgkMPplsz4y6UaZJ0ScfJag2U9xMcVqxMErIrXINDb\n",
              "1Y4VEo1ODAxyGGJDB/YViDhwuhw32roBAEoFsGBKAHRaAfOnBMCJ3QTRkGFg0IjWYzLj6OU6ZOkN\n",
              "OHH1hmU9wOvWmNMEAaG+bnaskGjsYGDQiFTZ1ImcfBH7C8pR19o3QCtpsj90CQKSowM45pRomDEw\n",
              "aMQwmWUc/7oO2XoRn39dZxlz6ufpghVzNFgTL0BQu9u3SKIxjIFBdlfb0oWcgnLszxdR1dxlWX80\n",
              "Ug2dVsCiqUFwcWY3QWRvDAyyC7NZxomSG8jWG3Dkch1Mt9oJX/dxWDE7DGsSBEz097RzlUT09xgY\n",
              "NKzqW4048FU59ueXQ7zZN+Y0PmI80rXhSIkJ4phTohGKgUFDTpZlnLzWgCy9iL9crEGPqbeb8HJ1\n",
              "xvK4MOi0AiYHetm5SiL6JgwMGjKN7d04+FUF9uWLuHajb8zpTI0v0rUCUmND4ObCboLIUdgcGIcP\n",
              "H8aGDRtgNpshSRIyMzOxdu1a1NXV4dlnn0VpaSlUKhV27tyJpKSkAc9x6NAh/OQnP4HJZML06dOx\n",
              "d+9eeHt7P/BmyP5kWcZpQyOyThlw+EINum+NOfVwccKyWaHQaQVMC+GYUyJHpJBlWbb2YFmWoVar\n",
              "cfz4ccTGxqKsrAxRUVGor6/Hj370IwiCgP/4j/9AQUEBnn76aVy/fh3jxvUfRtPW1obIyEjk5eUh\n",
              "KioKL7/8Mtzc3PDLX/7S6qIzMjKwfft263dJQ665swcfnKlAll7E1bo2y3pMqDd0CeFYMjMEnio2\n",
              "tESOzObvYIVCgaamJgBAS0sL1Go1VCoV3nvvPZSUlAAA4uPjERISgry8PDzxxBP97v/pp59i1qxZ\n",
              "iIqKAgD84Ac/wKJFi2wKDBoZZFlGYXkTsvUi/ni+Cl09vd2E2zgnLJkRgvREAbFhvvYtkogGjU2B\n",
              "oVAokJOTg7S0NHh4eKCxsRG5ublobW1FT08PgoKCLMdGRERAFMU7ziGKIsLDw/sdV11dDUmS4Ox8\n",
              "ZzlGoxFGo7HfmslksqVsGmRtRgkfnq1Ell7E5eq+MadRQV7QaQUsmxUKb1eOOSUabWwKDEmSsHXr\n",
              "VuTm5iIpKQkFBQVYsmQJCgsLh6g8YNu2bdi0aVO/tcTExCF7PLq7C5XNyNKL+KiwEh3dvaHt4qxE\n",
              "amww0rUC4gSOOSUazWwKjMLCQlRVVVnezI6Pj0dYWBjOnz8PZ2dn1NTUWLqMsrIyCIJwxzkEQcBn\n",
              "n31muV1WVobg4OABuwsAePXVV5GRkdFvbePGjbaUTQ+go1vCH8/1jjk9V9FsWY/094BOG47lcaHw\n",
              "deeYU6KxwKbA0Gg0qK6uxuXLlxEdHY2SkhKUlpZiypQpWLFiBXbt2mV507uyshLz5s274xwpKSl4\n",
              "6aWXUFxcjKioKOzcuROrV6++62OqVCqoVP0npTk58VLMoVZc04JsvYgPzlSi1dg35vSpmGDotAK0\n",
              "D01gN0E0xtgUGIGBgdi9ezdWrlwJpVIJs9mMHTt2QBAE/Nd//Rf+6Z/+CZMmTYKLiwveffddyxVS\n",
              "r732GkJCQrB+/Xp4eXnh7bffxrJlyyBJEmJiYvD73/9+SDZHtunqMeGT89XIzhfxlaFvzGm42h26\n",
              "BAHfnR0GNcecEo1ZNl1WO1LwstrBVVLXN+a0ubN3zKmzUoFF0wKhSwjHo5FqjjklIn7Se6wySib8\n",
              "+WItsk4ZoL9+07Ie6usGnVbAijlhCPDimFMi6sPAGGPKbrRjX76IA19V4GZ735jTb0UFIj1RQNIk\n",
              "f445JaIBMTDGgB6TGUcu1SJLL+KvJX1jToO8XbE6QYNV8RoE+3DMKRHdGwNjFKto7MD+/HLknC5H\n",
              "/a0xpwoFMG+yP9K14VgwxR/OHHNKRFZiYIwyksmMz7+uR5begLwr9ZAtY05VWBUfhtXxAjQTOOaU\n",
              "iGzHwBglqps7b405LUdNS9+Y08cf9kO6VsATUwMxjt0EET0ABoYDM5llfHG1Htl6EUcv1+LWlFNM\n",
              "8HCxjDmN8POwb5FENGowMBxQXWsXDpyuQLZeRGVTp2Vd+9AE6LQCUmKCoHLmp+GJaHAxMByE2Szj\n",
              "y9IGZOcb8JeLtZButRPers747mwNdFoNHg7gmFMiGjoMjBGuoc1oGXNa1tBhWZ8dPh66BAHfiQ2G\n",
              "6zh2E0Q09BgYI5Asy9Bfv4lsvYg/XahBt6l3MJGXyhlPx/WOOY0K4khbIhpeDIwRpKmjG++fqUS2\n",
              "3oDS+nbLemyYD9K1AhbPCIG7C//KiMg++OxjZ7Is44zYhCy9AZ+cr4ZR6u0m3F2csHRmKNK1AmJC\n",
              "fexcJRERA8NuWrp68OHZSmTrRRTXtFrWo4O9ka4VsHRmCLw45pSIRhAGxjA7X9GErFMiPj5Xhc6e\n",
              "3jGnruOUSI0NQbpWwEyNLwcTEdGIxMAYBu1GCR+fq0KW3oALlS2W9UkBnkjXCng6Lgw+buwmiGhk\n",
              "Y2AMoUtVLcjON+DDs1VouzXm1MVZiW/HBCE9MRxzwsezmyAih8HAGGSd3SYcOl+F7HwRZ8Umy/pD\n",
              "fh7QJQhYPjsMEzxc7FcgEdF9YmAMkqu1rcjSi8g9U4GWrt5uYpyTAoumBSE9QcAjkWp2E0Tk0GwK\n",
              "jIaGBiQnJ1tud3R04Nq1a6irq8NTTz0Fo7F35oIkSbh48SLOnTuH2NjYO86jUCgQExMDJ6feTyi/\n",
              "+eabmDt37oPswy66ekz404UaZOtF5Jf1jTnVTHDDmgQBK2Zr4O+lsmOFRESDx6bAUKvVKCwstNz+\n",
              "7//+b+Tl5WHChAnQ6/WW9YMHD2LTpk0DhsVtJ06cgK+vr80FjwTX6tuwL1/Ewa8q0NjRAwBwUirw\n",
              "RHQAdNpwzH3YD0qOOSWiUeaBXpLas2cPtm3bNuD6unXrHuTUI063ZMZfLvV2E1+WNljWQ3xcsTpB\n",
              "wKp4DQK9Xe1YIRHR0LrvwPjyyy/R2NiI1NTUfuvl5eXIy8vDO++8c8/7JycnQ5IkJCcnY8uWLfDw\n",
              "GHhug9FotLzUdZvJZLrfsm0mNnRgX4GIA6fLcaOtG0DvmNNvTQmATitg/pQAOLGbIKIx4L4DY8+e\n",
              "PXj22Wfh7Nz/FHv37kVqair8/Pzuel+DwQBBENDe3o7169cjMzMTO3fuHPDYbdu2YdOmTf3WEhMT\n",
              "77dsq0gmM44W1yFLL+LE1b4xpwFeKqyO12BVgoBQX7chrYGIaKRRyPLtp0PrtbW1ITg4GAUFBYiK\n",
              "irKsy7KMyMhIvPXWW3jyySetOtfJkyfxwgsvoKioaMCvD9RhbNy4EW+88YatZX+jyqZO5OSLyDld\n",
              "jtqWvsecO8kP6dpwJEcHcMwpEY1Z99Vh5OTkYMaMGf3CAgCOHTsGSZKwcOHCu963sbERKpUK7u7u\n",
              "MJvNyMnJwaxZs+56vEqlgkrV/0qj21dXDQaTWcbxr+uQrRfx+dd1ljGnag8XrIzXYE28AEHtPmiP\n",
              "R0TkqO4rMPbs2YPnn39+wPXnnnsOSmX/n8J37dqFqqoqbN68GcXFxXjxxRehUCggSRLi4uKGpFv4\n",
              "JrUtXXivoBz7C8r7jTl9ZKIa6YkCFk0Ngoszuwkiotvu6yUpe8vIyMD27dttvp/ZLOOvJTeQpTfg\n",
              "yOU6mG61E77u47BidhjWJAiY6O852OUSEY0KY+aT3jfajEjb+SXEm31jTuMjxiNdG46UmCCOOSUi\n",
              "+gZjJjDUHi7wUDnDy9UZy+PCoNMKmBzoZe+yiIgcxpgJDIVCgR26WQjxcYObC7sJIiJbjZnAAIBI\n",
              "vj9BRHTfeBkQERFZhYFBRERWYWAQEZFVHPJzGGlpaYiIiLD5fiaTCfn5+UhISBjUT4uPdNw39z0W\n",
              "cN/3v+/w8HD86Ec/+sbjHDIw7ldLSwt8fHzQ3NwMb29ve5czbLhv7nss4L6Hft98SYqIiKzCwCAi\n",
              "IqswMIiIyCpjKjBUKhVef/31O35d+mjHfXPfYwH3PfT7HlNvehMR0f0bUx0GERHdPwYGERFZhYFB\n",
              "RERWGZWBcfXqVTz66KOYPHky4uPjcfHixQGP27NnDyZNmoTIyEg8//zz6OnpGeZKB5c1+z527BgS\n",
              "EhIwdepUTJs2Da+88grMZrMdqh081v59A4Asy/jWt74FX1/f4StwiFi776KiIsyfPx/R0dGIjo5G\n",
              "bm7uMFc6uKzZt9lsRkZGBqZOnYrY2FgsWLAAJSUldqh28Pzwhz9EREQEFAoFCgsL73rckD6vyaPQ\n",
              "ggUL5P/7v/+TZVmWDxw4IM+ZM+eOY65duyYHBwfL1dXVstlslhcvXizv2LFjmCsdXNbs+8yZM3Jp\n",
              "aaksy7Lc2dkpP/bYY5b7OCpr9n3b//zP/8jf//73ZR8fn+EpbghZs+/29nb5oYcekk+cOCHLsixL\n",
              "kiTX1dUNZ5mDzpp9f/DBB3JCQoLc3d0ty7Isb9myRV6xYsVwljno8vLy5PLycjk8PFw+e/bsgMcM\n",
              "9fPaqAuM2tpa2cvLS+7p6ZFlWZbNZrMcGBgoX716td9xv/jFL+QXX3zRcvuTTz6RH3vssWGtdTBZ\n",
              "u+9/9NJLL8mvv/76MFQ4NGzZ94ULF+S5c+fKJSUlDh8Y1u77t7/9rbxmzRp7lDgkrN33hx9+KM+Y\n",
              "MUNuaWmRzWaznJmZKf/4xz+2R8mD7l6BMdTPa6PuJany8nIEBwfD2bl3NpRCoYAgCBBFsd9xoigi\n",
              "PDzccjsiIuKOYxyJtfv+ezU1NTh48CBSU1OHq8xBZ+2+e3p68Pzzz+M3v/nNqPjFdNbu+9KlS1Cp\n",
              "VEhNTcXMmTPx7LPPor6+3h4lDwpr97148WLMnz8fQUFBCA4OxtGjR7F582Z7lDyshvp5bdQFBlmn\n",
              "paUFixcvxiuvvII5c+bYu5wht2nTJqSlpSE6OtrepQwrSZJw5MgR/OY3v8HZs2cRGhqKf/mXf7F3\n",
              "WUPu9OnTuHDhAiorK1FVVYXk5GSsX7/e3mU5vFEXGBqNBtXV1ZAkCUDvm5yiKEIQhH7HCYIAg8Fg\n",
              "uV1WVnbHMY7E2n0DQGtrK1JSUrB06VJkZGQMd6mDytp95+Xl4c0330RERAQef/xxtLS0ICIiwmF/\n",
              "2rbl3/mCBQsQGhoKhUKBZ555BqdOnbJHyYPC2n3/4Q9/sFzcoFQqsXbtWnz++ef2KHlYDfXz2qgL\n",
              "jICAAMTFxeHdd98FALz//vsICwvDww8/3O+45cuX4+OPP0ZNTQ1kWcauXbuwevVqe5Q8KKzdd1tb\n",
              "G1JSUpCSkoINGzbYo9RBZe2+T5w4AYPBgLKyMvz1r3+Ft7c3ysrK4O/vb4+yH5i1+165ciUKCgrQ\n",
              "0tICADh8+DBmzJgx7PUOFmv3PXHiRBw7dgzd3d0AgEOHDiEmJmbY6x1uQ/68NmjvhowgxcXFcmJi\n",
              "ojxp0iR59uzZ8vnz52VZluV169bJH330keW43bt3yxMnTpQnTpwof+9737NcUeGorNn31q1bZWdn\n",
              "Z3nGjBmWP1u3brVn2Q/M2r/v265fv+7wb3rLsvX7/sMf/iBPmzZNnj59upySkiKLomivkgeFNfvu\n",
              "6uqSv//978tRUVHy9OnT5YULF1quDnRUL7zwghwaGio7OTnJAQEBcmRkpCzLw/u8xt8lRUREVhl1\n",
              "L0kREdHQYGAQEZFVGBhERGQVBgYREVmFgUFERFZhYBARkVUYGEREZBUGBhERWYWBQUREVmFgEBGR\n",
              "VRgYRERklf8PU8esOrpEhW0AAAAASUVORK5CYII=\n",
              "\">\n",
              "        \n",
              "      </div>\n",
              "      <script></script>\n",
              "      <script type=\"text/javascript\">\n",
              "        (() => {\n",
              "          const chartElement = document.getElementById(\"chart-37fe07eb-5939-4ec3-ad88-6d8cbd42852d\");\n",
              "          async function getCodeForChartHandler(event) {\n",
              "            const chartCodeResponse =  await google.colab.kernel.invokeFunction(\n",
              "                'getCodeForChart', [\"chart-37fe07eb-5939-4ec3-ad88-6d8cbd42852d\"], {});\n",
              "            const responseJson = chartCodeResponse.data['application/json'];\n",
              "            await google.colab.notebook.addCell(responseJson.code, 'code');\n",
              "          }\n",
              "          chartElement.onclick = getCodeForChartHandler;\n",
              "        })();\n",
              "      </script>\n",
              "      <style>\n",
              "        .colab-quickchart-chart-with-code  {\n",
              "            display: block;\n",
              "            float: left;\n",
              "            border: 1px solid transparent;\n",
              "        }\n",
              "\n",
              "        .colab-quickchart-chart-with-code:hover {\n",
              "            cursor: pointer;\n",
              "            border: 1px solid #aaa;\n",
              "        }\n",
              "      </style>"
            ]
          },
          "metadata": {}
        },
        {
          "output_type": "display_data",
          "data": {
            "text/plain": [
              "<google.colab._quickchart_helpers.SectionTitle at 0x7bccef788250>"
            ],
            "text/html": [
              "<h4 class=\"colab-quickchart-section-title\">Distributions</h4>\n",
              "<style>\n",
              "  .colab-quickchart-section-title {\n",
              "      clear: both;\n",
              "  }\n",
              "</style>"
            ]
          },
          "metadata": {}
        },
        {
          "output_type": "display_data",
          "data": {
            "text/plain": [
              "import numpy as np\n",
              "from google.colab import autoviz\n",
              "\n",
              "def histogram(df, colname, num_bins=20, figscale=1):\n",
              "  from matplotlib import pyplot as plt\n",
              "  df[colname].plot(kind='hist', bins=num_bins, title=colname, figsize=(8*figscale, 4*figscale))\n",
              "  plt.gca().spines[['top', 'right',]].set_visible(False)\n",
              "  plt.tight_layout()\n",
              "  return autoviz.MplChart.from_current_mpl_state()\n",
              "\n",
              "chart = histogram(_df_2, *['index'], **{})\n",
              "chart"
            ],
            "text/html": [
              "      <div class=\"colab-quickchart-chart-with-code\" id=\"chart-0306b5a4-98c4-4f8f-b5e8-658b7584a978\">\n",
              "        <img src=\"data:image/png;base64,iVBORw0KGgoAAAANSUhEUgAAAYwAAADECAYAAACMRRb/AAAAOXRFWHRTb2Z0d2FyZQBNYXRwbG90\n",
              "bGliIHZlcnNpb24zLjcuMSwgaHR0cHM6Ly9tYXRwbG90bGliLm9yZy/bCgiHAAAACXBIWXMAAA9h\n",
              "AAAPYQGoP6dpAAAYnElEQVR4nO3df1DT9/0H8GeALeusAWuhRCBSDCBaBEGZA7b643rDq0AHrlcd\n",
              "Flb5YefNbeyKo+op6qTtzlutu55BPFbHra0D2zJr98PqHLQqotYfMAeomGjBePUkdsVIwvv7B2u+\n",
              "jYD9fGI+JMDzcfe5I5+888nrdfby7CfvT94flRBCgIiI6Gv4eLoAIiIaGRgYREQkCQODiIgkYWAQ\n",
              "EZEkDAwiIpKEgUFERJIwMIiISBIGBhERScLAICIiSRgYRPewcOFCbNq0yeXXp6amYsOGDe4riMiD\n",
              "/DxdAJE3++CDDzxdApHX4BkGERFJwsAguoe5c+di7dq1AACVSoXt27cjJSUFDz74IGJjY9HQ0OAY\n",
              "a7PZUFJSguDgYAQGBqK0tHTA8a5evYqlS5ciJCQEQUFBWLJkCa5fvw4A+Oc//4lx48bh+PHjAAAh\n",
              "BJ588kmkp6eDa4SSN2BgEMlQWVmJN954Azdv3sSCBQvw4x//2PHcK6+8gj179uDgwYO4cuUK/Pz8\n",
              "cOzYMcfzVqsVCxYswKRJk9Da2oqLFy/Cz88PS5cuBdAfThs2bMDixYvx2WefYdOmTTh//jz++Mc/\n",
              "QqVSDXuvRAMIIhrS448/LtasWSOEEAKAeOONNxzPnTt3TgAQXV1dQggh9Hq9eO211xzP22w2ERgY\n",
              "KNavXy+EEKK2tlZMmjRJ9PX1OcZcuXJFABAmk8mxLzs7W8TFxYlx48aJU6dOKdgdkTyc9CaSYdKk\n",
              "SY6/x40bBwC4desWHnnkEVy5cgWPPvqo43lfX1/odDrH47a2Nly7dg0TJkxwOqZarYbRaERoaCgA\n",
              "oLi4GCkpKViyZAni4+MV7IZIHgYGkZuEhoaio6PD8dhut8NkMjkeBwcHY/Lkybhw4cKQx+ju7kZu\n",
              "bi6WL1+OPXv24C9/+QvS09OVLJtIMs5hELlJbm4utm7divPnz8NqtWLjxo24ceOG4/msrCz09vZi\n",
              "3bp16O7uBgCYzWa8/fbbAPonuXNzcxEdHY2dO3fCYDDg2WefxcWLFz3SD9HdGBhEbrJ69WpkZWXh\n",
              "8ccfR2hoKO7cuYPvfOc7jufHjx+PI0eOwGg0IjY2FhqNBsnJyfjXv/4FAHj55Zdx5swZxyT3kiVL\n",
              "kJOTg+zsbPT09HiqLSIHlRC8Xo+IiL4ezzCIiEgSBgYREUnCwCAiIkkYGEREJAkDg4iIJGFgEBGR\n",
              "JAwMIiKSZFQExrZt2zxdAhHRqDcqAuPy5cueLoGIaNQbFYFBRETKUzQwVq1ahfDwcKhUKnzyySdD\n",
              "jtu1axciIyMxZcoUFBQUoLe3V8myiIjIBYoGxuLFi9HQ0IDJkycPOebSpUtYt24d6uvr0d7ejmvX\n",
              "rqGiokLJsoiIyAWKBsb3v/99x01hhlJTU4OMjAwEBwdDpVJhxYoVePPNN5Usi4iIXODxGygZjUan\n",
              "M5Dw8HAYjcYhx1utVlitVqd9drtdsfqIiKifxwNDrvLycpSVlTntmzNnjsvHC//1+/dVT8dLT97X\n",
              "64mIgJHxWeTxq6R0Op3TZbEdHR1O90G+W2lpKbq7u522pKSk4SiViGhM83hgZGdno66uDl1dXRBC\n",
              "YMeOHXjmmWeGHK9Wq6HRaJw2X1/fYayYiGhsUjQwioqKEBoaiitXruAHP/gB9Ho9ACA/Px91dXUA\n",
              "gIiICJSVlSElJQV6vR6BgYEoKipSsiwiInKBonMYBoNh0P2VlZVOjwsKClBQUKBkKUREdJ88/pUU\n",
              "ERGNDAwMIiKShIFBRESSMDCIiEgSBgYREUnCwCAiIkkYGEREJAkDg4iIJGFgEBGRJAwMIiKShIFB\n",
              "RESSMDCIiEgSBgYREUnCwCAiIkkYGEREJAkDg4iIJGFgEBGRJIoGRltbG5KTkxEVFYXZs2ejubl5\n",
              "wJi+vj4UFxdj2rRpmDFjBubNm4f29nYlyyIiIhcofk/vwsJCtLa2YvXq1cjLyxswpq6uDh999BFO\n",
              "nz6NM2fOYMGCBXjxxReVLIuIiFygWGCYzWY0NTUhJycHAJCdnQ2TyTTg7EGlUsFqteL27dsQQsBi\n",
              "sSA0NFSpsoiIyEV+Sh3YZDJBq9XCz6//LVQqFXQ6HYxGI/R6vWNceno6Dh06hODgYIwfPx4hISE4\n",
              "fPjwkMe1Wq2wWq1O++x2uzJNEBGRg8cnvZuamnDu3DlcvXoVn376KRYsWIAVK1YMOb68vBz+/v5O\n",
              "W2Nj4zBWTEQ0NikWGGFhYejs7ITNZgMACCFgNBqh0+mcxu3evRvz589HQEAAfHx8kJubi0OHDg15\n",
              "3NLSUnR3dzttSUlJSrVBRET/o1hgBAUFISEhAdXV1QCA2tpahIaGOn0dBQARERE4ePAg7ty5AwDY\n",
              "t28fHnvssSGPq1arodFonDZfX1+l2iAiov9RbA4DAAwGA/Ly8rBlyxZoNBpUVVUBAPLz85GRkYGM\n",
              "jAysXLkS//73vxEXF4dvfOMbCA4Oxo4dO5Qsi4iIXKBoYERHR+PIkSMD9ldWVjr+VqvV2Llzp5Jl\n",
              "EBGRG3h80puIiEYGBgYREUnCwCAiIkkYGEREJAkDg4iIJJEdGH/729+UqIOIiLyc7MDYuHEjoqOj\n",
              "sW3bNlgsFiVqIiIiLyQ7MD766CO89dZbOHfuHKKiovDTn/4ULS0tStRGRERexKU5jJkzZ2Lnzp34\n",
              "61//in379mHGjBl44okncPbsWXfXR0REXsKlwDhw4AAyMzORlZWFlStXoqurC0VFRfjhD3/o7vqI\n",
              "iMhLyF4aJCYmBg8//DBWrVqFrKwsx8J/ixcvxq5du9xeIBEReQfZgVFdXY3ExMRBn/vggw/uuyAi\n",
              "IvJOsr+SOnHiBG7cuOF4/Nlnn3HxQCKiMUB2YLz++ut46KGHHI8nTpyI119/3a1FERGR95EdGEKI\n",
              "Aft4T20iotFPdmBotVrs2bPH8fjtt9+GVqt1a1FEROR9ZE96v/rqq8jMzERJSQkA4Nvf/jbee+89\n",
              "txdGRETeRfYZxtSpU9HS0oL9+/dj//79OHv2LCIjIwcd29bWhuTkZERFRWH27Nlobm4edNzZs2cx\n",
              "d+5cxMTEICYmBnv37pVbFhERKcylW7SqVCoEBATAZrPh6tWrAACdTjdgXFFREQoLC5GXl4eamhrk\n",
              "5eXh+PHjTmO++OILZGZmYvfu3UhNTYXdbne6CouIiLyD7DOMP/zhDwgICEBsbCwSExORmJiIWbNm\n",
              "DRhnNpvR1NSEnJwcAEB2djZMJhPa29udxv3pT3/CnDlzkJqaCgDw9fVFYGCgK70QEZGCZJ9hbNq0\n",
              "CcePH0d0dPQ9x5lMJmi1Wvj59b+FSqWCTqeD0WiEXq93jGtpaYFarcaiRYtw5coVzJgxA1u3bh0y\n",
              "NKxWK6xWq9M+XqVFRKQ82WcYDz/88NeGhRw2mw0HDhyAwWDAqVOnEBISgueff37I8eXl5fD393fa\n",
              "Ghsb3VYPERENTnZgPPXUU3j11VdhNpthsVgc293CwsLQ2dkJm80GoP/3G0ajccBch06nw7x58xAS\n",
              "EgKVSoWcnBwcPXp0yPcvLS1Fd3e305aUlCS3DSIikkl2YKxZswbFxcUIDg7GhAkTEBAQgAkTJgwY\n",
              "FxQUhISEBFRXVwMAamtrERoa6vR1FAA8/fTTOH78uCN09u/fj7i4uCHfX61WQ6PROG1fLoBIRETK\n",
              "kT2H0dfXJ3mswWBAXl4etmzZAo1Gg6qqKgBAfn4+MjIykJGRAZ1OhxdffBHJycnw8fFBSEgIKioq\n",
              "5JZFREQKc+my2hMnTqClpQXLli3DzZs30dPTM+ivvaOjo3HkyJEB+ysrK50eL1u2DMuWLXOlFCIi\n",
              "GiYuLT743HPPYcOGDQD6V6tdunSpu+siIiIvIzswKioqcPToUWg0GgDAlClTcP36dbcXRkRE3kV2\n",
              "YKjVajzwwANO+778rQUREY1esgMjMDAQra2tUKlUAPp/+T3YsiBERDS6uLRa7ZIlS3D+/HmEhYVB\n",
              "o9Fg3759StRGREReRHZg6PV6HDt2DP/5z38ghEB0dDR/B0FENAbIDgyj0QgAGDduHADcc7VaIiIa\n",
              "PWQHRmJiIlQqFYQQuH37Nr744gtMnDgRZrNZifqIiMhLyA6Muy+h3bt3L06fPu22goiIyDvJvkrq\n",
              "bllZWXj//ffdUQsREXkx2WcYX12Z1m6349ixY4OuVktERKOL7MAICAhwzGH4+voiMjISr732mhK1\n",
              "ERGRF1F0tVoiIho97nsOg4iIxgbZZxg+Pj6OZUG+SggBlUrF+2sTEY1SsgNj48aN6Onpcdx3e8eO\n",
              "HXjggQfwi1/8wt21ERGRF5EdGO+88w5OnDjheLx582YkJiZizZo1bi2MiIi8i+w5jFu3bjn9qtts\n",
              "NuPWrVtuLYqIiLyP7MD41a9+hbi4OCxfvhzLly/HzJkz8cILLww6tq2tDcnJyYiKisLs2bPR3Nw8\n",
              "5HGFEJg/fz4CAgLklkRERMNAdmAUFRXhH//4B+Lj4xEfH4+///3vKCgoGHJsYWEhWltbsXr1auTl\n",
              "5Q153N/97neYMmWK3HKIiGiYuHRZ7cSJExEbG4uf/exniI6Oxp07dwaMMZvNaGpqQk5ODgAgOzsb\n",
              "JpMJ7e3tA8Y2Nzfj3Xffxa9//WtXyiEiomEgOzBqamowZ84c/OQnPwHQ/2H/1FNPDRhnMpmg1Wod\n",
              "t29VqVTQ6XSO5dG/1Nvbi4KCAhgMBkn31bBarbBYLE4bL+UlIlKe7MAoLy/HyZMnHXMNcXFxuHz5\n",
              "sssFlJWVISsrCzExMZLf39/f32lrbGx0+f2JiEga2YHh6+uLiRMnOu375je/OWBcWFgYOjs7YbPZ\n",
              "APRPahuNxgE3Wjp8+DC2b9+O8PBwpKamwmKxIDw8fMAy6l8qLS1Fd3e305aUlCS3DSIikkn27zDG\n",
              "jx+Pa9euOX7t/eGHH+Khhx4aMC4oKAgJCQmorq5GXl4eamtrERoaCr1e7zSuvr7e8XdHRwfi4+PR\n",
              "0dEx5Pur1Wqo1WqnfbxFLBGR8mQHxssvv4yFCxfi4sWLSE1NxaVLl4a8H4bBYEBeXh62bNkCjUaD\n",
              "qqoqAEB+fj4yMjKQkZFxf9UTEdGwkRUYfX19sNvtOHToED7++GMIIZCcnDzkbyeio6Nx5MiRAfsr\n",
              "KysHHR8eHo6bN2/KKYmIiIaJrMDw8fFBYWEhTp8+jYULFypVExEReSHZk96RkZGD/paCiIhGN9lz\n",
              "GDdu3EB8fDySk5Px4IMPOvbv3bvXrYUREZF3kRwYhYWFqKioQG5uLjIyMjBhwgQl6yIiIi8jOTCa\n",
              "mpoAALm5uUhISMDJkycVK4qIiLyPS2tJCSHcXQcREXk5yWcYPT09OHv2LIQQuH37tuPvL82YMUOR\n",
              "AomIyDvICoyv/tDuq3+rVCpcvHjRvZUREZFXkRwY91qug4iIRj+X5jCIiGjsYWAQEZEkDAwiIpKE\n",
              "gUFERJIwMIiISBIGBhERScLAICIiSRgYREQkiaKB0dbWhuTkZERFRWH27Nlobm4eMObgwYNISkrC\n",
              "tGnTMH36dJSUlKCvr0/JsoiIyAWKBkZRUREKCwvR2tqK1atXIy8vb8CYCRMm4K233kJLSwtOnDiB\n",
              "jz/+GLt371ayLCIicoFigWE2m9HU1IScnBwAQHZ2Nkwm04C79c2cORMREREAgG9961uIj4/nMiRE\n",
              "RF5I9h33pDKZTNBqtfDz638LlUoFnU4Ho9EIvV4/6Gu6urpQU1ODffv2DXlcq9UKq9XqtM9ut7uv\n",
              "cCIiGpTXTHpbLBakp6ejpKQEs2bNGnJceXk5/P39nbbGxsZhrJSIaGxSLDDCwsLQ2dkJm80GoP+m\n",
              "S0ajETqdbsDYW7duIS0tDZmZmSguLr7ncUtLS9Hd3e20JSUlKdIDERH9P8UCIygoCAkJCaiurgYA\n",
              "1NbWIjQ0dMDXUZ9//jnS0tKQlpaGtWvXfu1x1Wo1NBqN0+br66tID0RE9P8U/UrKYDDAYDAgKioK\n",
              "L730EqqqqgAA+fn5qKurAwBs27YNjY2N2Lt3L+Lj4xEfH4/f/OY3SpZFREQuUGzSGwCio6Nx5MiR\n",
              "AfsrKysdf69ZswZr1qxRsgwiInIDr5n0JiIi78bAICIiSRgYREQkCQODiIgkYWAQEZEkDAwiIpKE\n",
              "gUFERJIwMIiISBIGBhERScLAICIiSRgYREQkCQODiIgkYWAQEZEkDAwiIpKEgUFERJIwMIiISBIG\n",
              "BhERSaJoYLS1tSE5ORlRUVGYPXs2mpubBx23a9cuREZGYsqUKSgoKEBvb6+SZRERkQsUDYyioiIU\n",
              "FhaitbUVq1evRl5e3oAxly5dwrp161BfX4/29nZcu3YNFRUVSpZFREQuUCwwzGYzmpqakJOTAwDI\n",
              "zs6GyWRCe3u707iamhpkZGQgODgYKpUKK1aswJtvvqlUWURE5CI/pQ5sMpmg1Wrh59f/FiqVCjqd\n",
              "DkajEXq93jHOaDRi8uTJjsfh4eEwGo1DHtdqtcJqtTrts9vtbq6eiIjuplhgKKW8vBxlZWVO+6ZO\n",
              "nYri4mLZx7Lb7dA2NiIpKQm+vr4u1VNc/KFLr/MUu92OxvvseSQai32z55HVc9Z9vNZut+O7393s\n",
              "ct+TJ0/Gz3/+868dpxJCCFcK/Dpmsxl6vR43btyAn58fhBDQarVoaGhwOsP47W9/iwsXLmDHjh0A\n",
              "gP3792PLli1oaGgY9LiDnWGo1Wqo1WrZNVosFvj7+6O7uxsajUb260eisdgzMDb7Zs9jo2dg+PpW\n",
              "bA4jKCgICQkJqK6uBgDU1tYiNDTUKSyA/rmNuro6dHV1QQiBHTt24JlnnhnyuGq1GhqNxmlzJSyI\n",
              "iEgeRa+SMhgMMBgMiIqKwksvvYSqqioAQH5+Purq6gAAERERKCsrQ0pKCvR6PQIDA1FUVKRkWURE\n",
              "5ALFvpIaCcbi6etY7BkYm32z57HRMzAKvpIaCdRqNdavXz+mvtIaiz0DY7Nv9jx2DFffY/oMg4iI\n",
              "pBvTZxhERCQdA4OIiCRhYBARkSRjIjDG4qq5Uno+ePAgkpKSMG3aNEyfPh0lJSXo6+vzQLXuI/Xf\n",
              "GgCEEJg/fz4CAgKGr0AFSO357NmzmDt3LmJiYhATE4O9e/cOc6XuI6Xnvr4+FBcXY9q0aZgxYwbm\n",
              "zZs3YC27kWTVqlUIDw+HSqXCJ598MuQ4RT/HxBgwb948UVVVJYQQ4s9//rOYNWvWgDEXL14UWq1W\n",
              "dHZ2ir6+PpGeni5+//vfD3Ol7iOl55MnT4oLFy4IIYTo6ekRKSkpjteMVFL6/tLWrVtFfn6+8Pf3\n",
              "H57iFCKl5//+97/i0UcfFfX19UIIIWw2mzCbzcNZpltJ6fmdd94RSUlJ4s6dO0IIITZt2iR+9KMf\n",
              "DWeZbnX48GFhMpnE5MmTxalTpwYdo/Tn2KgPjGvXronx48eL3t5eIYQQfX194pFHHhFtbW1O4155\n",
              "5RVRVFTkePz++++LlJSUYa3VXaT2fLeVK1eK9evXD0OFypDT97lz58T3vvc90d7ePqIDQ2rPO3fu\n",
              "FEuWLPFEiW4nted3331XxMXFCYvFIvr6+sQLL7wgfvnLX3qiZLe6V2Ao/Tk26r+SutequV8ld9Vc\n",
              "bya156/q6upCTU0NFi1aNFxlup3Uvnt7e1FQUACDwTDiFqi7m9SeW1paoFarsWjRIsTHx+PZZ5/F\n",
              "9evXPVHyfZPac3p6OubOnYvg4GBotVp8+OGH2LhxoydKHjZKf46N+sCgr2exWJCeno6SkhLMmjXL\n",
              "0+UorqysDFlZWYiJifF0KcPGZrPhwIEDMBgMOHXqFEJCQvD88897uixFNTU14dy5c7h69So+/fRT\n",
              "LFiwACtWrPB0WSPaqA+MsLAwdHZ2wmazAeif6DQajdDpdE7jdDodLl++7Hjc0dExYMxIIbVnALh1\n",
              "6xbS0tKQmZnp0hLx3kRq34cPH8b27dsRHh6O1NRUWCwWhIeHj8j/45bz3/e8efMQEhIClUqFnJwc\n",
              "HD161BMl3zepPe/evdtxUYOPjw9yc3Nx6NAhT5Q8bJT+HBv1gaHUqrneTGrPn3/+OdLS0pCWloa1\n",
              "a9d6olS3ktp3fX09Ll++jI6ODjQ0NECj0aCjowOBgYGeKPu+SO356aefxvHjx2GxWAD030YgLi5u\n",
              "2Ot1B6k9R0RE4ODBg7hz5w4AYN++fXjssceGvd7hpPjnmNtmQ7zY+fPnxZw5c0RkZKRITEwUZ86c\n",
              "EUIIsXz5cvHee+85xlVUVIiIiAgREREhnnvuOcfVFSORlJ43b94s/Pz8RFxcnGPbvHmzJ8u+b1L/\n",
              "rb906dKlET3pLYT0nnfv3i2mT58uYmNjRVpamjAajZ4q+b5J6fn27dsiPz9fTJ06VcTGxoonnnjC\n",
              "cVXgSFRYWChCQkKEr6+vCAoKElOmTBFCDO/nGNeSIiIiSUb9V1JEROQeDAwiIpKEgUFERJIwMIiI\n",
              "SBIGBhERScLAICIiSRgYREQkCQODiIgkYWAQEZEkDAwiIpKEgUFERJL8HypvJiGgYysrAAAAAElF\n",
              "TkSuQmCC\n",
              "\">\n",
              "        \n",
              "      </div>\n",
              "      <script></script>\n",
              "      <script type=\"text/javascript\">\n",
              "        (() => {\n",
              "          const chartElement = document.getElementById(\"chart-0306b5a4-98c4-4f8f-b5e8-658b7584a978\");\n",
              "          async function getCodeForChartHandler(event) {\n",
              "            const chartCodeResponse =  await google.colab.kernel.invokeFunction(\n",
              "                'getCodeForChart', [\"chart-0306b5a4-98c4-4f8f-b5e8-658b7584a978\"], {});\n",
              "            const responseJson = chartCodeResponse.data['application/json'];\n",
              "            await google.colab.notebook.addCell(responseJson.code, 'code');\n",
              "          }\n",
              "          chartElement.onclick = getCodeForChartHandler;\n",
              "        })();\n",
              "      </script>\n",
              "      <style>\n",
              "        .colab-quickchart-chart-with-code  {\n",
              "            display: block;\n",
              "            float: left;\n",
              "            border: 1px solid transparent;\n",
              "        }\n",
              "\n",
              "        .colab-quickchart-chart-with-code:hover {\n",
              "            cursor: pointer;\n",
              "            border: 1px solid #aaa;\n",
              "        }\n",
              "      </style>"
            ]
          },
          "metadata": {}
        },
        {
          "output_type": "display_data",
          "data": {
            "text/plain": [
              "import numpy as np\n",
              "from google.colab import autoviz\n",
              "\n",
              "def histogram(df, colname, num_bins=20, figscale=1):\n",
              "  from matplotlib import pyplot as plt\n",
              "  df[colname].plot(kind='hist', bins=num_bins, title=colname, figsize=(8*figscale, 4*figscale))\n",
              "  plt.gca().spines[['top', 'right',]].set_visible(False)\n",
              "  plt.tight_layout()\n",
              "  return autoviz.MplChart.from_current_mpl_state()\n",
              "\n",
              "chart = histogram(_df_3, *['marks'], **{})\n",
              "chart"
            ],
            "text/html": [
              "      <div class=\"colab-quickchart-chart-with-code\" id=\"chart-387ffc80-fc4e-4362-b4cd-cad55ad35584\">\n",
              "        <img src=\"data:image/png;base64,iVBORw0KGgoAAAANSUhEUgAAAYwAAADECAYAAACMRRb/AAAAOXRFWHRTb2Z0d2FyZQBNYXRwbG90\n",
              "bGliIHZlcnNpb24zLjcuMSwgaHR0cHM6Ly9tYXRwbG90bGliLm9yZy/bCgiHAAAACXBIWXMAAA9h\n",
              "AAAPYQGoP6dpAAAZWklEQVR4nO3dfVAU9/0H8PcB5YzCCSIE4nEwehxBERCEUbQ+xMkU56enEdOk\n",
              "FuupPNja2A4dNT41wSRidTLRdpIKoiaGRmPURGppG40O9RkxiUFIAhj1LkbAhwqkyiH4/f1BvXqB\n",
              "M7snyx3k/ZrZmbvl697n48O+3f3e7qqEEAJERETfw8PVBRARUc/AwCAiIkkYGEREJAkDg4iIJGFg\n",
              "EBGRJAwMIiKShIFBRESSMDCIiEgSBgYREUnCwCByoQkTJmDlypWuLoNIEgYGERFJwsAgcoGWlhZX\n",
              "l0AkGwODqBMTJkzAc889h2eeeQYajQZarRY7d+5EeXk5Ro8eDV9fXyQlJeHLL78EALz33ntISEiA\n",
              "v78/Bg4cCKPRiAsXLti29+abb0Kr1eL1119HeHg4AgICOv3cl156CYMHD8a5c+cghMDvf/97aLVa\n",
              "+Pr6QqvVYvny5d3SP1FnGBhEDrz99ttYuHAhbt68icWLF2P+/Pl4/vnnsWPHDly/fh2hoaFYtGgR\n",
              "AMDX1xdbt27FtWvX8MUXX0AIgVmzZtltr7a2FmfPnsW5c+dQV1dn97Pm5mb8/Oc/R3FxMU6ePIno\n",
              "6GgcPHgQW7duxfHjx9HU1ITPPvsMU6dO7bb+ib6LgUHkQGpqKsaNGwcPDw+YTCbcunULaWlpCA8P\n",
              "h7e3N2bNmoXS0lIAQEpKCmJjY+Hp6YmBAwdi9erVOHnyJJqamuy2uWHDBvj4+KBv3762dXV1dZg4\n",
              "cSLa2tpw+PBhBAUFAQC8vb3R3NyMiooK3L59GwMGDMDo0aO77zeA6DsYGEQOhISE2F7369ev03X3\n",
              "AqGkpASTJk1CSEgINBoNxo8fDwCor6+3jQ8KCrILinv279+Pc+fO4ZVXXkGfPn1s68ePH49169Zh\n",
              "7dq1ePTRRzFu3DgcOHCga5skkoGBQfSQWlpaMGXKFKSkpKCqqgqNjY0oKSkBANz/fDIPj87/uc2f\n",
              "Px9LlizBj3/8Y5SXl9v9bN68eSgpKcHVq1cxffp0TJ06tcNRC1F38XJ1AUQ9XUtLC27fvg1/f3/4\n",
              "+vrim2++kX1txapVqxAYGIiJEydi3759GDNmDEpLS9Hc3IzExET06dMHvr6+UKlU8PT0VKgTogfj\n",
              "EQbRQ/Lx8UFBQQFefvll+Pj4YPLkyXj66adlb2fBggX485//jClTpqC4uBjffvstsrOzERQUBD8/\n",
              "P+Tn5+P999/v9LQWUXdQ8ZneREQkBY8wiIhIEgYGERFJwsAgIiJJGBhERCQJA4OIiCRhYBARkSQM\n",
              "DCIikqRXBMbGjRtdXQIRUa/XKwLj0qVLri6BiKjX6xWBQUREylM0MBYtWoTw8HCoVCp8+umnDsdt\n",
              "2bIFERERGDJkCDIyMnDnzh0lyyIiIicoGhgzZ87E0aNHERYW5nDMhQsXsGrVKhw5cgQ1NTWoq6tD\n",
              "fn6+kmUREZETFA2McePGQavVPnDM7t27YTQaERwcDJVKhQULFmDHjh1KlkVERE5w+fMwzGaz3RFI\n",
              "eHg4zGazw/FWqxVWq9VuXVtbm2L1ERFRO5cHhly5ubnIycmxWzdq1Cintxf+/N8eqp6La//voX49\n",
              "ERHQM/ZFLv+WlE6ns/ta7MWLF6HT6RyOX7ZsGRoaGuyWpKSk7iiViOgHzeWBkZqaiqKiItTW1kII\n",
              "gU2bNuHZZ591OF6tVkOj0dgtfGQlEZHyFA2MrKwsaLVafP311/jJT34CvV4PAEhPT0dRUREAYPDg\n",
              "wcjJycGYMWOg1+sRGBiIrKwsJcsiIiInKDqHkZeX1+n6goICu/cZGRnIyMhQshQiInpILj8lRURE\n",
              "PQMDg4iIJGFgEBGRJAwMIiKShIFBRESSMDCIiEgSBgYREUnCwCAiIkkYGEREJAkDg4iIJGFgEBGR\n",
              "JAwMIiKShIFBRESSMDCIiEgSBgYREUnCwCAiIkkYGEREJImigVFdXY3k5GQYDAYkJiaioqKiw5i7\n",
              "d+8iOzsbQ4cORUxMDCZOnIiamholyyIiIico/kzvzMxMVFVVYenSpTCZTB3GFBUV4dixYzh79iw+\n",
              "++wzTJo0CcuXL1eyLCIicoJigVFfX4+ysjKkpaUBAFJTU2GxWDocPahUKlitVjQ3N0MIgcbGRmi1\n",
              "WqXKIiIiJ3kptWGLxYKQkBB4ebV/hEqlgk6ng9lshl6vt42bOnUqDh8+jODgYPj6+mLQoEEoKSlx\n",
              "uF2r1Qqr1Wq3rq2tTZkmiIjIxuWT3mVlZTh37hwuX76Mb775BpMmTcKCBQscjs/NzUX//v3tltLS\n",
              "0m6smIjoh0mxwAgNDcWVK1fQ2toKABBCwGw2Q6fT2Y3bvn07nnjiCfj5+cHDwwNz5szB4cOHHW53\n",
              "2bJlaGhosFuSkpKUaoOIiP5LscAICgpCfHw8CgsLAQB79uyBVqu1Ox0FAIMHD8ahQ4fQ0tICANi/\n",
              "fz+io6MdbletVkOj0dgtnp6eSrVBRET/pdgcBgDk5eXBZDJhzZo10Gg02LZtGwAgPT0dRqMRRqMR\n",
              "CxcuxOeff47Y2Fj86Ec/QnBwMDZt2qRkWURE5ARFAyMyMhInTpzosL6goMD2Wq1WY/PmzUqWQURE\n",
              "XcDlk95ERNQzMDCIiEgSBgYREUnCwCAiIkkYGEREJInswPjnP/+pRB1EROTmZAfG6tWrERkZiY0b\n",
              "N6KxsVGJmoiIyA3JDoxjx45h586dOHfuHAwGA371q1+hsrJSidqIiMiNODWHMWLECGzevBn/+Mc/\n",
              "sH//fsTExODJJ59EeXl5V9dHRERuwqnAOHjwIKZNm4YZM2Zg4cKFqK2tRVZWFp566qmuro+IiNyE\n",
              "7FuDREVFYeDAgVi0aBFmzJhhu/HfzJkzsWXLli4vkIiI3IPswCgsLERCQkKnP/v73//+0AUREZF7\n",
              "kn1K6syZM7hx44bt/fXr13nzQCKiHwDZgfHGG29gwIABtvcBAQF44403urQoIiJyP7IDQwjRYR2f\n",
              "qU1E1PvJDoyQkBDs2rXL9v7dd99FSEhIlxZFRETuR/ak94YNGzBt2jQsWbIEANC3b1/s27evywsj\n",
              "IiL3IvsI4/HHH0dlZSWKi4tRXFyM8vJyREREdDq2uroaycnJMBgMSExMREVFRafjysvLMWHCBERF\n",
              "RSEqKgp79+6VWxYRESnMqUe0qlQq+Pn5obW1FZcvXwYA6HS6DuOysrKQmZkJk8mE3bt3w2Qy4fTp\n",
              "03Zjbt26hWnTpmH79u0YO3Ys2tra7L6FRURE7kH2Ecabb74JPz8/DB8+HAkJCUhISMDIkSM7jKuv\n",
              "r0dZWRnS0tIAAKmpqbBYLKipqbEb984772DUqFEYO3YsAMDT0xOBgYHO9EJERAqSfYTx0ksv4fTp\n",
              "04iMjHzgOIvFgpCQEHh5tX+ESqWCTqeD2WyGXq+3jausrIRarcaUKVPw9ddfIyYmBq+++qrD0LBa\n",
              "rbBarXbr+C0tIiLlyT7CGDhw4PeGhRytra04ePAg8vLy8Mknn2DQoEH45S9/6XB8bm4u+vfvb7eU\n",
              "lpZ2WT1ERNQ52YExffp0bNiwAfX19WhsbLQt3xUaGoorV66gtbUVQPv1G2azucNch06nw8SJEzFo\n",
              "0CCoVCqkpaXh5MmTDj9/2bJlaGhosFuSkpLktkFERDLJDowVK1YgOzsbwcHB8Pf3h5+fH/z9/TuM\n",
              "CwoKQnx8PAoLCwEAe/bsgVartTsdBQA//elPcfr0aVvoFBcXIzY21uHnq9VqaDQau+XeDRCJiEg5\n",
              "sucw7t69K3lsXl4eTCYT1qxZA41Gg23btgEA0tPTYTQaYTQaodPpsHz5ciQnJ8PDwwODBg1Cfn6+\n",
              "3LKIiEhhTn2t9syZM6isrMTs2bNx8+ZN3L59u9OrvSMjI3HixIkO6wsKCuzez549G7Nnz3amFCIi\n",
              "6iZO3Xxw3rx5ePHFFwG036121qxZXV0XERG5GdmBkZ+fj5MnT0Kj0QAAhgwZgqtXr3Z5YURE5F5k\n",
              "B4ZarcYjjzxit+7etRZERNR7yQ6MwMBAVFVVQaVSAWi/8ruz24IQEVHv4tTdan/2s5/hiy++QGho\n",
              "KDQaDfbv369EbURE5EZkB4Zer8epU6fw5ZdfQgiByMhIXgdBRPQDIDswzGYzAKBfv34A8MC71RIR\n",
              "Ue8hOzASEhKgUqkghEBzczNu3bqFgIAA1NfXK1EfERG5CdmB8d2v0O7duxdnz57tsoKIiMg9yf6W\n",
              "1HfNmDEDf/vb37qiFiIicmOyjzDuvzNtW1sbTp061endaomIqHeRHRh+fn62OQxPT09ERETgj3/8\n",
              "oxK1ERGRG1H0brVERNR7PPQcBhER/TDIPsLw8PCw3RbkfkIIqFQqPl+biKiXkh0Yq1evxu3bt23P\n",
              "3d60aRMeeeQR/Pa3v+3q2oiIyI3IDoz3338fZ86csb1/+eWXkZCQgBUrVnRpYURE5F5kz2E0NTXZ\n",
              "XdVdX1+PpqamLi2KiIjcj+zA+N3vfofY2FjMnz8f8+fPx4gRI7B48eJOx1ZXVyM5ORkGgwGJiYmo\n",
              "qKhwuF0hBJ544gn4+fnJLYmIiLqB7MDIysrCgQMHEBcXh7i4OHz44YfIyMhwODYzMxNVVVVYunQp\n",
              "TCaTw+2+9tprGDJkiNxyiIiomzj1tdqAgAAMHz4czz33HCIjI9HS0tJhTH19PcrKypCWlgYASE1N\n",
              "hcViQU1NTYexFRUV+OCDD/D88887Uw4REXUD2YGxe/dujBo1CnPnzgXQvrOfPn16h3EWiwUhISG2\n",
              "x7eqVCrodDrb7dHvuXPnDjIyMpCXlyfpuRpWqxWNjY12C7/KS0SkPNmBkZubi48//tg21xAbG4tL\n",
              "ly45XUBOTg5mzJiBqKgoyZ/fv39/u6W0tNTpzyciImlkB4anpycCAgLs1nl7e3cYFxoaiitXrqC1\n",
              "tRVA+6S22Wzu8KClkpIS/OlPf0J4eDjGjh2LxsZGhIeHd7iN+j3Lli1DQ0OD3ZKUlCS3DSIikkn2\n",
              "dRi+vr6oq6uzXe390UcfYcCAAR3GBQUFIT4+HoWFhTCZTNizZw+0Wi30er3duCNHjtheX7x4EXFx\n",
              "cbh48aLDz1er1VCr1Xbr+IhYIiLlyQ6MP/zhD5g8eTK++uorjB07FhcuXHD4PIy8vDyYTCasWbMG\n",
              "Go0G27ZtAwCkp6fDaDTCaDQ+XPVERNRtZAXG3bt30dbWhsOHD+P48eMQQiA5OdnhtRORkZE4ceJE\n",
              "h/UFBQWdjg8PD8fNmzfllERERN1EVmB4eHggMzMTZ8+exeTJk5WqiYiI3JDsSe+IiIhOr6UgIqLe\n",
              "TfYcxo0bNxAXF4fk5GT4+PjY1u/du7dLCyMiIvciOTAyMzORn5+POXPmwGg0wt/fX8m6iIjIzUgO\n",
              "jLKyMgDAnDlzEB8fj48//lixooiIyP04dS8pIURX10FERG5O8hHG7du3UV5eDiEEmpubba/viYmJ\n",
              "UaRAIiJyD7IC4/4L7e5/rVKp8NVXX3VtZURE5FYkB8aDbtdBRES9n1NzGERE9MPDwCAiIkkYGERE\n",
              "JAkDg4iIJGFgEBGRJAwMIiKShIFBRESSMDCIiEgSRQOjuroaycnJMBgMSExMREVFRYcxhw4dQlJS\n",
              "EoYOHYphw4ZhyZIluHv3rpJlERGRExQNjKysLGRmZqKqqgpLly6FyWTqMMbf3x87d+5EZWUlzpw5\n",
              "g+PHj2P79u1KlkVERE5QLDDq6+tRVlaGtLQ0AEBqaiosFkuHp/WNGDECgwcPBgD06dMHcXFxvA0J\n",
              "EZEbkv3EPaksFgtCQkLg5dX+ESqVCjqdDmazGXq9vtNfU1tbi927d2P//v0Ot2u1WmG1Wu3WtbW1\n",
              "dV3hRETUKbeZ9G5sbMTUqVOxZMkSjBw50uG43Nxc9O/f324pLS3txkqJiH6YFAuM0NBQXLlyBa2t\n",
              "rQDaH7pkNpuh0+k6jG1qakJKSgqmTZuG7OzsB2532bJlaGhosFuSkpIU6YGIiP5HscAICgpCfHw8\n",
              "CgsLAQB79uyBVqvtcDrq22+/RUpKClJSUrBy5crv3a5arYZGo7FbPD09FemBiIj+R9FTUnl5ecjL\n",
              "y4PBYMDatWuxbds2AEB6ejqKiooAABs3bkRpaSn27t2LuLg4xMXF4ZVXXlGyLCIicoJik94AEBkZ\n",
              "iRMnTnRYX1BQYHu9YsUKrFixQskyiIioC7jNpDcREbk3BgYREUnCwCAiIkkYGEREJAkDg4iIJGFg\n",
              "EBGRJAwMIiKShIFBRESSMDCIiEgSBgYREUnCwCAiIkkYGEREJAkDg4iIJGFgEBGRJAwMIiKShIFB\n",
              "RESSMDCIiEgSRQOjuroaycnJMBgMSExMREVFRafjtmzZgoiICAwZMgQZGRm4c+eOkmUREZETFA2M\n",
              "rKwsZGZmoqqqCkuXLoXJZOow5sKFC1i1ahWOHDmCmpoa1NXVIT8/X8myiIjICYoFRn19PcrKypCW\n",
              "lgYASE1NhcViQU1Njd243bt3w2g0Ijg4GCqVCgsWLMCOHTuUKouIiJzkpdSGLRYLQkJC4OXV/hEq\n",
              "lQo6nQ5msxl6vd42zmw2IywszPY+PDwcZrPZ4XatViusVqvdura2ti6unoiIvkuxwFBKbm4ucnJy\n",
              "7NY9/vjjyM7Odmp7Mx6ynuzsjySPbWtrQ2lpKZKSkuDp6fmQn+x+enN/vbk3gP25g4fZF7W1tWH0\n",
              "6Jed7i8sLAy/+c1vvnecSgghnCnw+9TX10Ov1+PGjRvw8vKCEAIhISE4evSo3RHG+vXrcf78eWza\n",
              "tAkAUFxcjDVr1uDo0aOdbrezIwy1Wg21Wq1EG12qsbER/fv3R0NDAzQajavL6XK9ub/e3BvA/nq6\n",
              "7upPsTmMoKAgxMfHo7CwEACwZ88eaLVau7AA2uc2ioqKUFtbCyEENm3ahGeffdbhdtVqNTQajd3S\n",
              "E8KCiKinU/RbUnl5ecjLy4PBYMDatWuxbds2AEB6ejqKiooAAIMHD0ZOTg7GjBkDvV6PwMBAZGVl\n",
              "KVkWERE5QbFTUtQRD4t7rt7cG8D+eroef0qKOlKr1XjhhRd67Sm03txfb+4NYH89XXf1xyMMIiKS\n",
              "hEcYREQkCQODiIgkYWAQEZEkDAyFXL9+HXFxcbbFYDDAy8sLN27cQGlpKUaNGoURI0YgKioK69at\n",
              "c3W5shUXFyM+Ph5xcXGIjo7GW2+9BaD9gs2UlBREREQgOjoa//rXv1xcqXMc9Td37lwYDAbExsZi\n",
              "zJgxOH36tIsrdY6j/u45dOgQPD09sWHDBtcU+JAc9SeEwIsvvgiDwYDhw4dj4sSJLq5UPke9dct+\n",
              "RVC3WL9+vZgyZYoQQojY2Fixb98+IYQQ169fF4GBgaKiosKV5cly9+5d4e/vL86ePSuEEOLChQtC\n",
              "rVaLxsZGMXfuXPHCCy8IIYQoLS0VgwYNEi0tLS6sVr4H9bdv3z5x584dIYQQf/3rX0VYWJgLK3XO\n",
              "g/oTQoibN2+KxMREMWXKFPHaa6+5sFLnPKi/DRs2iKeeekpYrVYhhBBXrlxxZamyPai37tiv8Aij\n",
              "m2zZsgXz588H0H4jxps3bwIA/vOf/8Db2xsDBgxwYXXy3d9DY2MjAgICoFarsWvXLixYsAAAkJiY\n",
              "iMceewwlJSUurNQ5jvozGo22G2qOGjUKly9fRmtrqwsrdY6j/gDg17/+NVauXImAgAAXVvhwHPW3\n",
              "fv16rF27Ft7e3gCA4OBgF1bpHEe9dct+pUvjhzp17Ngx8eijj9r+Z/rJJ58InU4nQkNDRZ8+fcRb\n",
              "b73l4grlO3DggAgICBA6nU74+vqKAwcOiGvXrglvb2+7cU8//bTYsmWLi6p0Xmf9fdfKlSuF0Wh0\n",
              "QXUPz1F/7733nvjFL34hhBBizpw5PfIIQ4jO+2toaBBeXl5i3bp1IikpSSQlJYmdO3e6ulTZHP3Z\n",
              "dcd+hYHRDebNmycWL15se//MM8+Iv/zlL0IIIc6fPy+0Wm2POiV1584dMX78eFFSUiKEaD/1FBwc\n",
              "LGpra3tFYDjq7+rVq7Yxb7/9tjAYDKK2ttZVZTrNUX8Wi0XExsaKf//730KInhsYjvqrq6sTAERO\n",
              "To4Qov10TkhIiPj0009dWa4sD/q72R37FQaGwpqamoSPj4/4/PPPhRBCXL16tcNOdebMmSI/P98V\n",
              "5Tnl9OnTIiIiwm7dyJEjxYcffij69u1rd144MTGx0/+du7MH9SeEEDt37hR6vV5cunTJFeU9NEf9\n",
              "ffDBByIoKEiEhYWJsLAw0a9fP+Hv7y+WL1/uokqd86A/Px8fH3H+/Hnb+pkzZ4rNmzd3d4lOc9Tb\n",
              "rl27umW/wsBQWEFBgRgzZoztfWtrq/D39xcfffSREKI9QEJDQ8Xx48ddVaJstbW1wsfHR1RWVgoh\n",
              "hKiurhb+/v7i0qVLYs6cOXaT3o899liPm/R+UH/vvvuu0Ov14uLFiy6u0nkP6u9+PfUI40H9ZWRk\n",
              "iNdff10I0T4xrNPpxKlTp1xZriyOert48WK37FcYGAobPXq02Lp1q926AwcOiPj4eBETEyOioqLE\n",
              "q6++6qLqnPfOO++I6OhoERMTI6Kjo22HwrW1teLJJ58Uer1eDB06VBw6dMjFlTrHUX9eXl5Cq9WK\n",
              "2NhY23Lt2jUXVyufo/7u11MDQwjH/V27dk1MnTpVDBs2TAwbNswWHj2Jo966Y7/Ce0kREZEk/Fot\n",
              "ERFJwsAgIiJJGBhERCQJA4OIiCRhYBARkSQMDCIikoSBQUREkjAwiIhIEgYGERFJwsAgIiJJGBhE\n",
              "RCTJ/wO/VPa3g1/IyAAAAABJRU5ErkJggg==\n",
              "\">\n",
              "        \n",
              "      </div>\n",
              "      <script></script>\n",
              "      <script type=\"text/javascript\">\n",
              "        (() => {\n",
              "          const chartElement = document.getElementById(\"chart-387ffc80-fc4e-4362-b4cd-cad55ad35584\");\n",
              "          async function getCodeForChartHandler(event) {\n",
              "            const chartCodeResponse =  await google.colab.kernel.invokeFunction(\n",
              "                'getCodeForChart', [\"chart-387ffc80-fc4e-4362-b4cd-cad55ad35584\"], {});\n",
              "            const responseJson = chartCodeResponse.data['application/json'];\n",
              "            await google.colab.notebook.addCell(responseJson.code, 'code');\n",
              "          }\n",
              "          chartElement.onclick = getCodeForChartHandler;\n",
              "        })();\n",
              "      </script>\n",
              "      <style>\n",
              "        .colab-quickchart-chart-with-code  {\n",
              "            display: block;\n",
              "            float: left;\n",
              "            border: 1px solid transparent;\n",
              "        }\n",
              "\n",
              "        .colab-quickchart-chart-with-code:hover {\n",
              "            cursor: pointer;\n",
              "            border: 1px solid #aaa;\n",
              "        }\n",
              "      </style>"
            ]
          },
          "metadata": {}
        },
        {
          "output_type": "display_data",
          "data": {
            "text/plain": [
              "<google.colab._quickchart_helpers.SectionTitle at 0x7bccefbf3b80>"
            ],
            "text/html": [
              "<h4 class=\"colab-quickchart-section-title\">Categorical distributions</h4>\n",
              "<style>\n",
              "  .colab-quickchart-section-title {\n",
              "      clear: both;\n",
              "  }\n",
              "</style>"
            ]
          },
          "metadata": {}
        },
        {
          "output_type": "display_data",
          "data": {
            "text/plain": [
              "import numpy as np\n",
              "from google.colab import autoviz\n",
              "\n",
              "def categorical_histogram(df, colname, figscale=1, mpl_palette_name='Dark2'):\n",
              "  from matplotlib import pyplot as plt\n",
              "  import seaborn as sns\n",
              "  df.groupby(colname).size().plot(kind='barh', color=sns.palettes.mpl_palette(mpl_palette_name), figsize=(8*figscale, 4.8*figscale))\n",
              "  plt.gca().spines[['top', 'right',]].set_visible(False)\n",
              "  return autoviz.MplChart.from_current_mpl_state()\n",
              "\n",
              "chart = categorical_histogram(_df_4, *['name'], **{})\n",
              "chart"
            ],
            "text/html": [
              "      <div class=\"colab-quickchart-chart-with-code\" id=\"chart-151b57c1-4ed4-4a62-ae13-028331462e77\">\n",
              "        <img src=\"data:image/png;base64,iVBORw0KGgoAAAANSUhEUgAAAX0AAADgCAYAAADv9rZ4AAAAOXRFWHRTb2Z0d2FyZQBNYXRwbG90\n",
              "bGliIHZlcnNpb24zLjcuMSwgaHR0cHM6Ly9tYXRwbG90bGliLm9yZy/bCgiHAAAACXBIWXMAAA9h\n",
              "AAAPYQGoP6dpAAAPW0lEQVR4nO3dbWxUZf6H8e90gBazTAGhUpC2lMdSSguUKkUMxQjFgBqpFk0D\n",
              "qBQFFaUiSsAQBMOuiYjCC6oxEDREAioYQV9gpWLQ2EaqoMFAoZTlQQSlA6h9vPfFZue//aPuTDtn\n",
              "Ttv7+iSTMJPDzO8XzMXhzDj1GGOMAABWiHJ7AABA5BB9ALAI0QcAixB9ALAI0QcAixB9ALAI0QcA\n",
              "ixB9ALCItdF/9dVX3R4BACLO2uifPHnS7REAIOKsjT4A2IjoA4BFiD4AWIToA4BFiD4AWIToA4BF\n",
              "iD4AWIToA4BFiD4AWIToA4BFiD4AWIToA4BFiD4AWIToA4BFiD4AWIToA4BFiD4AWIToA4BFiD4A\n",
              "WIToA4BFiD4AWIToA4BFPMYY4/YQbngw1aOlY/k7D0DbMmRzo6PPT/UAwCJEHwAsQvQBwCJEHwAs\n",
              "QvQBwCJEHwAsQvQBwCJEHwAsQvQBwCJEHwAsQvQBwCJEHwAsQvQBwCJEHwAsQvQBwCJEHwAsQvQB\n",
              "wCJEHwAs4lj0PR6PLl261OyxpKQkVVRUOPWSAID/oUOd6Tc0NLg9AgC0aa5FPykpScuXL1d2drb6\n",
              "9++vjRs3atOmTRo3bpySkpL0zjvvBI4tKyvTpEmTlJmZqVGjRmn79u2SpKqqKnXv3l3PPvusRo8e\n",
              "rQ0bNri1DgC0C53cfPGrV6/qwIEDOnbsmNLS0rRs2TJ98cUXKisr0x133KGZM2fq0qVLmjdvnvbs\n",
              "2aP4+HhduHBBo0ePVnZ2tiSppqZGqamp+sc//vGnr1NbW6va2tpmjzU2OboaALRJEY++x+MJ/Do/\n",
              "P1+SNGjQIMXExCgvL0+SlJmZqZ9//lmXLl3SgQMHdPz4cU2dOrXZ8/zwww9KTk5W586dVVBQ8Jev\n",
              "uWbNGq1cubLZY+m9wrENALQvjkW/d+/eunjxorp37x547MKFC4qLiwvcj4mJCfza6/UG7ns8Hnk8\n",
              "HjU0NMgYo9TUVB04cOCa16iqqtJ1112nqKi/vkq1dOlSFRUVNXvs8ZtiW7IWALRrjl3TnzJlioqL\n",
              "iwP3t2zZouTkZMXHx4f0PNnZ2Tpx4oT27t0beKyiokJ1dXVBP0d0dLR8Pl+zm7dDvYUNAMFx7Ex/\n",
              "3bp1euqppzRy5EhFRUWpT58+gTdgQ9GjRw/t3r1bixcv1tNPP636+nolJCRo586d4R8aADo4jzHG\n",
              "uD2EGx5M9WjpWE73AbQtQzY3Ovr8VA8ALEL0AcAiRB8ALEL0AcAiRB8ALEL0AcAiRB8ALEL0AcAi\n",
              "RB8ALEL0AcAiRB8ALEL0AcAiRB8ALEL0AcAiRB8ALEL0AcAiRB8ALEL0AcAijv2M3Laux5RFGrJ2\n",
              "rdtjAEBEcaYPABYh+gBgEaIPABYh+gBgEaIPABYh+gBgEaIPABYh+gBgkRZFv76+XpWVleGeBQDg\n",
              "sJCjv2/fPiUmJionJ0eSVFZWpoKCgrAPBgAIv5Cj/9xzz2n//v26/vrrJUljx47VwYMHwz4YACD8\n",
              "Qo5+Y2OjBg4c2OyxLl26hG0gAIBzQo5+TEyMrly5Io/HI0k6dOiQunbtGvbBAADhF/K3bD7//POa\n",
              "PHmyTp8+rYKCAu3du1dbt251YjYAQJiFHP3Jkydr8ODB+vjjj2WM0cqVK6+53AMAaJta9H36AwYM\n",
              "0Pz588M9CwDAYSFf0//ss8+UlZWlnj17yufzqVu3bvL5fE7MBgAIs5DP9AsLC/Xiiy8qKytLXq/X\n",
              "iZkAAA4JOfo+n095eXlOzAIAcFjIl3dmzJiht956S3V1dU7MAwBwUMjRT0lJ0YIFC9S1a1d5vV5F\n",
              "RUVxmQcA2omQL+8sWrRIu3btUmZmJrEHgHYm5OjHxcVp0qRJTswCAHBYyJd37rzzTm3YsEHnz5+X\n",
              "3+8P3AAAbZ/HGGNC+Q1RUf/394TH45ExRh6PR42NjWEfzklFRUVau3at22MAQESFfHmnqanJiTkA\n",
              "ABHAj0sEAIuEHP2jR49q6tSp6tu3r3r27Bm4AQDavpCjX1hYqDlz5qhHjx4qLS1VXl6eFi9e7MRs\n",
              "AIAwCzn6fr9f+fn5ioqKUlpamoqLi7Vz504HRgMAhFvI0e/cubMkqVu3bqqqqlJtba0uXLgQ9sEA\n",
              "AOEX8qd3br31Vl28eFGPP/64xowZoy5dumjmzJlOzAYACLOQP6f/306dOqWamhqNGDEinDNFBJ/T\n",
              "B2CjFn1ks6mpSWfOnJExRj6fT9XV1eGeCwDggJAv72zevFkLFy5U586dA/93rsfj0fnz58M+HAAg\n",
              "vEKO/qpVq1RWVqahQ4c6MQ8AwEEhX97p1asXwQeAdirk6N99991at24d37IJAO0Q37IJABbhWzYB\n",
              "wCJ8yyYAWIToA4BFiD4AWIToA4BFiD4AWKRVX7jWnv1tylh1n3mb22MAQDP/fPDvjj4/Z/oAYBGi\n",
              "DwAWIfoAYBGiDwAWIfoAYBGiDwAWIfoAYBGiDwAWIfoAYBGiDwAWIfoAYBGiDwAWIfoAYBGiDwAW\n",
              "IfoAYBGiDwAWIfoAYBGiDwAWIfoAYBHHo5+RkaGMjAwNHz5cXq83cD8/P1/79u1TRkZGyM9ZXl6u\n",
              "/Pz8wP3i4mINGzZMGRkZunjxYhinB4COpZPTL1BRUSFJqqqqUkZGRuC+JO3bt69Fz5mZmalt27YF\n",
              "7q9bt06bNm3SuHHjWjEpAHR8rl/eaWho0IIFC5Senq7U1FSVl5cHHp8yZYoyMzOVmpqqBx54QFev\n",
              "XpWkZv9CyMvLU2VlpebMmaO8vLw/fI3a2lr5/f5mNzWaiOwHAG2J69E/cuSIZs+erW+++UZPPPGE\n",
              "li1bJknyer3aunWrysvLdfjwYcXGxmr9+vXX/P4dO3aob9++2rZtm3bs2PGHr7FmzRrFxsY2u9Wd\n",
              "OOvoXgDQFrke/UGDBummm26SJI0bN06VlZWSJGOMXnnlFY0aNUojR47U7t27m10aCsXSpUtVU1PT\n",
              "7NZlQHy4VgCAdsPxa/r/S0xMTODXXq9XDQ0NkqStW7eqpKREpaWl8vl8eu2111RSUtKi14iOjlZ0\n",
              "dHTzB72eFs8MAO2V62f6f+aXX35Rr1695PP5dPnyZW3evNntkQCg3Wuz0Z81a5Z+/fVXDR06VFOn\n",
              "TtWECRPcHgkA2j2PMcbKj7H8bcpYdZ95m9tjAEAz/3zw744+f5s90wcAhB/RBwCLEH0AsAjRBwCL\n",
              "EH0AsAjRBwCLEH0AsAjRBwCLEH0AsAjRBwCLEH0AsAjRBwCLEH0AsAjRBwCLEH0AsAjRBwCLEH0A\n",
              "sIjrPxjdLfNSJ2itwz+hBgDaGs70AcAiRB8ALEL0AcAiRB8ALEL0AcAiRB8ALEL0AcAiRB8ALEL0\n",
              "AcAiRB8ALEL0AcAiRB8ALEL0AcAiRB8ALEL0AcAiRB8ALEL0AcAiRB8ALEL0AcAiRB8ALEL0AcAi\n",
              "RB8ALNLJ7QHcUFtbq48++kiNjY3yer1uj+OoxsZGffXVV8rKymLXDoRdO6bW7pqYmKgnn3zyL4/x\n",
              "GGNMSwdsr/x+v2JjY1VTUyOfz+f2OI5i146JXTumSOzK5R0AsAjRBwCLEH0AsIiV0Y+OjtaKFSsU\n",
              "HR3t9iiOY9eOiV07pkjsauUbuQBgKyvP9AHAVkQfACxC9AHAIkQfACzSoaN/9OhRZWdna8iQIRo7\n",
              "dqy+++67PzzuzTff1ODBgzVw4EAVFhaqvr4+wpO2XjC7lpSUKCsrS8OHD1dqaqqWLFmipqYmF6Zt\n",
              "nWD/XCXJGKNJkyape/fukRswjILd9dChQ5o4caJSUlKUkpKi9957L8KTtl4wuzY1NamoqEjDhw/X\n",
              "yJEjlZOTo2PHjrkwbcstXLhQSUlJ8ng8qqio+NPjHOuS6cBycnLMpk2bjDHGbN++3WRmZl5zzPHj\n",
              "x018fLw5e/asaWpqMtOnTzcbNmyI8KStF8yuX3/9tamsrDTGGPPbb7+Z8ePHB35PexLMrv/x8ssv\n",
              "m7lz55rY2NjIDBdmwex69epVM2DAALN//35jjDENDQ3m/PnzkRwzLILZ9f333zdZWVmmrq7OGGPM\n",
              "qlWrzL333hvJMVuttLTUnDp1yiQmJpqDBw/+4TFOdqnDRv/HH3803bp1M/X19cYYY5qamswNN9xg\n",
              "jh492uy4l156yTzyyCOB+7t37zbjx4+P6KytFeyu/99jjz1mVqxYEYEJwyeUXQ8fPmwmTJhgjh07\n",
              "1i6jH+yub7zxhrn//vvdGDFsgt11586dJj093fj9ftPU1GSeeeYZs2jRIjdGbrW/ir6TXeqwl3dO\n",
              "nTql+Ph4der07y8S9Xg8SkhIUHV1dbPjqqurlZiYGLiflJR0zTFtXbC7/rdz585px44dmjZtWqTG\n",
              "DItgd62vr1dhYaGKi4vb7TczBrvr999/r+joaE2bNk0ZGRmaNWuWfvrpJzdGbrFgd50+fbomTpyo\n",
              "Pn36KD4+Xp988oleeOEFN0Z2lJNd6rDRx5/z+/2aPn26lixZoszMTLfHccTKlSt1zz33KCUlxe1R\n",
              "HNfQ0KC9e/equLhYBw8eVL9+/TR//ny3x3JEeXm5Dh8+rNOnT+vMmTO67bbb9Oijj7o9VrvSYaPf\n",
              "v39/nT17Vg0NDZL+/YZedXW1EhISmh2XkJCgkydPBu5XVVVdc0xbF+yuknT58mXl5ubqrrvuUlFR\n",
              "UaRHbbVgdy0tLdX69euVlJSkW265RX6/X0lJSe3qDDiU/4ZzcnLUr18/eTweFRQU6Msvv3Rj5BYL\n",
              "dtctW7YE3piPiorS7Nmz9emnn7oxsqOc7FKHjX5cXJxGjx6tt99+W5L07rvv6sYbb9SgQYOaHTdj\n",
              "xgx98MEHOnfunIwx2rhxo2bOnOnGyC0W7K5XrlxRbm6ucnNztXz5cjdGbbVgd92/f79Onjypqqoq\n",
              "ff755/L5fKqqqlLv3r3dGLtFgt31vvvuU1lZmfx+vyRpz549Sk9Pj/i8rRHsrsnJySopKVFdXZ0k\n",
              "6cMPP9SIESMiPq/THO1SWN4ZaKOOHDlibr75ZjN48GAzZswY8+233xpjjHn44YfNrl27Ase9/vrr\n",
              "Jjk52SQnJ5uHHnoo8MmA9iSYXVevXm06depk0tPTA7fVq1e7OXaLBPvn+h8nTpxol2/kGhP8rlu2\n",
              "bDGpqakmLS3N5ObmmurqardGbrFgdv3999/N3LlzzbBhw0xaWpq5/fbbA59Iay/mzZtn+vXrZ7xe\n",
              "r4mLizMDBw40xkSuS3zhGgBYpMNe3gEAXIvoA4BFiD4AWIToA4BFiD4AWIToA4BFiD4AWIToA4BF\n",
              "iD4AWIToA4BF/gXEFbkCAlplfAAAAABJRU5ErkJggg==\n",
              "\">\n",
              "        \n",
              "      </div>\n",
              "      <script></script>\n",
              "      <script type=\"text/javascript\">\n",
              "        (() => {\n",
              "          const chartElement = document.getElementById(\"chart-151b57c1-4ed4-4a62-ae13-028331462e77\");\n",
              "          async function getCodeForChartHandler(event) {\n",
              "            const chartCodeResponse =  await google.colab.kernel.invokeFunction(\n",
              "                'getCodeForChart', [\"chart-151b57c1-4ed4-4a62-ae13-028331462e77\"], {});\n",
              "            const responseJson = chartCodeResponse.data['application/json'];\n",
              "            await google.colab.notebook.addCell(responseJson.code, 'code');\n",
              "          }\n",
              "          chartElement.onclick = getCodeForChartHandler;\n",
              "        })();\n",
              "      </script>\n",
              "      <style>\n",
              "        .colab-quickchart-chart-with-code  {\n",
              "            display: block;\n",
              "            float: left;\n",
              "            border: 1px solid transparent;\n",
              "        }\n",
              "\n",
              "        .colab-quickchart-chart-with-code:hover {\n",
              "            cursor: pointer;\n",
              "            border: 1px solid #aaa;\n",
              "        }\n",
              "      </style>"
            ]
          },
          "metadata": {}
        },
        {
          "output_type": "display_data",
          "data": {
            "text/plain": [
              "import numpy as np\n",
              "from google.colab import autoviz\n",
              "\n",
              "def categorical_histogram(df, colname, figscale=1, mpl_palette_name='Dark2'):\n",
              "  from matplotlib import pyplot as plt\n",
              "  import seaborn as sns\n",
              "  df.groupby(colname).size().plot(kind='barh', color=sns.palettes.mpl_palette(mpl_palette_name), figsize=(8*figscale, 4.8*figscale))\n",
              "  plt.gca().spines[['top', 'right',]].set_visible(False)\n",
              "  return autoviz.MplChart.from_current_mpl_state()\n",
              "\n",
              "chart = categorical_histogram(_df_5, *['city'], **{})\n",
              "chart"
            ],
            "text/html": [
              "      <div class=\"colab-quickchart-chart-with-code\" id=\"chart-7901b14f-0982-46e7-a39c-8e12915eb38b\">\n",
              "        <img src=\"data:image/png;base64,iVBORw0KGgoAAAANSUhEUgAAAYgAAADgCAYAAAAZk/GlAAAAOXRFWHRTb2Z0d2FyZQBNYXRwbG90\n",
              "bGliIHZlcnNpb24zLjcuMSwgaHR0cHM6Ly9tYXRwbG90bGliLm9yZy/bCgiHAAAACXBIWXMAAA9h\n",
              "AAAPYQGoP6dpAAAPy0lEQVR4nO3dfUyV9f/H8dcRFs4bwHmvhXibiAKpkLdLzBYrb6ZZqaVoeJe5\n",
              "SLdwatNVbn51aTOzvMPK+U+ZaUQ3FmqmJhZLRlYUaoDfFOnnFDIEBD6/P9r37Mu3T3qQc7g4+Hxs\n",
              "Z4NzrnPO+yPuenKd64zjMsYYAQDwP5o5PQAAoHEiEAAAKwIBALAiEAAAKwIBALAiEAAAKwIBALAi\n",
              "EAAAKwJxExs2bHB6BABwBIG4iYKCAqdHAABHEAgAgBWBAABYEQgAgBWBAABYEQgAgBWBAABYEQgA\n",
              "gBWBAABYEQgAgBWBAABYEQgAgBWBAABYEQgAgBWBAABYEQgAgBWBAABYEQgAgBWBAABYEQgAgBWB\n",
              "AABYEQgAgBWBAABYuYwxxukhGrNZkS4tjaWjABqXPm9X+/w52PMBAKwIBADAikAAAKwIBADAikAA\n",
              "AKwIBADAikAAAKwIBADAikAAAKwIBADAikAAAKwIBADAikAAAKwIBADAikAAAKwIBADAikAAAKwI\n",
              "BADAymeBcLlcunLliq8e/h99+eWXiomJsd52/vx5jRw5smEHAgA/1WiPIKqqqrz+mF26dNGRI0e8\n",
              "/rgA0BT5PBDGGC1ZskTjx49XWVmZ1q9fr9jYWMXExCg2NlbHjx93bxseHq4lS5YoLi5OiYmJKioq\n",
              "Unx8vAYNGqTIyEgtXLhQNTU17u3XrFmjAQMGKDo6WkOGDFFZWZmkv+KyYMECRUdHKzIyUllZWZKk\n",
              "/Px8hYaG+nrJANAkBPrywSsqKjR16lS1bdtWe/fuVUBAgKZPn67FixdLkjIzMzVz5kzl5ua673Pp\n",
              "0iWdOHFCLpdL5eXl+uijj9SqVStVV1drwoQJeu+99zRlyhS988472rNnj44ePaqQkBBdvnxZQUFB\n",
              "kqTc3FylpqbqjTfe0ObNm7V8+XLt37/fo3krKipqXVdd8w8bA0AT59MjiIcffliRkZHatGmTAgIC\n",
              "JEknT57Ufffdp/79+2v+/Pn6+eefde3aNfd9Zs6cKZfLJUmqqanRkiVLFB0drXvuuUdZWVnKzs6W\n",
              "JKWnp2v+/PkKCQmRJLVp08b9HL169dK9994rSRo6dKjOnDnj0byrV69WSEhIrUvO/3nlnwIA/I5P\n",
              "AzF69Gh98cUXKi0tlSRVVlZq0qRJeuWVV3Tq1Cl99dVXklTrt/ZWrVq5v16/fr2Ki4t14sQJ5eTk\n",
              "aNq0aSovL7/p8zZv3tz9dUBAgMfnM5YuXaqSkpJal6h2Ht0VAJocnwZi2bJlmjRpksaMGaNLly6p\n",
              "vLxclZWVCgsLkyRt3Ljxhve/fPmyOnXqpObNm6uoqEi7d+923zZ+/Hht3rxZJSUlkqQrV66ourq6\n",
              "XvMGBQUpODi41iWg0Z7GBwDf8uk5CEl67rnn1LJlS40ePVr79+/XqlWrFBcXp3bt2mnKlCk3vG9y\n",
              "crImT56syMhIdenSRWPGjHHfNn36dJ0/f17Dhg1TYGCgWrZsqYyMDF8vBwBuGy5jjHF6iMZsVqRL\n",
              "S2M5jADQuPR5u36vmHiCPR8AwIpAAACsCAQAwIpAAACsCAQAwIpAAACsCAQAwIpAAACsCAQAwIpA\n",
              "AACsCAQAwIpAAACsCAQAwIpAAACsCAQAwIpAAACsCAQAwIpAAACsfP6Z1P6uzYOL1Gf9eqfHAIAG\n",
              "xxEEAMCKQAAArAgEAMCKQAAArAgEAMCKQAAArAgEAMCKQAAArAgEAMCKQAAArAgEAMCKQAAArAgE\n",
              "AMCKQAAArAgEAMCqzoGYOnWqvv76a1/MAgBoROociPj4eC1YsEADBw5UamqqysvLfTEXAMBhdQ7E\n",
              "3LlzlZ2drddee00HDhxQ9+7dlZKSooKCAl/MBwBwyC2fg7j77rsVERGhwMBA5ebmasSIEVqzZo03\n",
              "ZwMAOKjOgcjMzNQTTzyhmJgYlZeXKzMzU2lpacrNzdWmTZt8MSMAwAGBdb3D3LlzlZycrNTUVDVv\n",
              "3tx9fcuWLbV8+XKvDgcAcE6djyDWrFmjpKSkWnH47LPPJEnz5s3z3mQAAEfVORC2o4Rly5Z5ZRgA\n",
              "QOPh8UtMv/zyi3Jzc1VSUqK0tDT39SUlJSorK/PJcAAA53gciOPHj+vtt99WcXGxXn31Vff1wcHB\n",
              "WrdunU+GAwA4x+NAJCYmKjExUampqUpKSvLlTACARsDjQOTl5al3796KjY1VTk7O326Piory6mAA\n",
              "AGd5HIhFixYpPT1dEyZMkMvlkjHGfZvL5dLZs2d9MiAAwBkeByI9PV2StGHDBo0cOVJt2rSRJF2+\n",
              "fFnHjh3zzXQAAMfU+W2uK1ascMdBkkJDQ7VixQqvDgUAcF69Pw/C5XKpurraG7MAABqROgeidevW\n",
              "tT4P4tixY2rdurVXhwIAOK/Of4tp7dq1mjhxovr27Svpr3c37d271+uDAQCcVedADB06VD/99JOO\n",
              "Hz8uSRo2bJhCQ0O9PRcAwGF1DoQktWnTRg899JC3ZwEANCL1PkkNAGiaCAQAwIpAAACsCAQAwIpA\n",
              "AACsCAQAwIpAAACsCAQAwIpAAACsCAQAwMpl/vuj4fA3rR6MVeiU+50eAwBq+fesf/n8OTiCAABY\n",
              "EQgAgBWBAABYEQgAgBWBAABYEQgAgBWBAABYEQgAgBWBAABYEQgAgBWBAABYEQgAgBWBAABYEQgA\n",
              "gBWBAABYEQgAgBWBAABYEQgAgBWBAABY+UUgwsPDlZ2dXeu6UaNGad++fXV6nHbt2ik/P99rcwFA\n",
              "U+YXgQAANDy/DkRZWZk6duyosrIy93XTpk3Tm2++KUlKS0tTRESEoqKilJKSctPHq6ioUGlpaa2L\n",
              "qo3P5geAxsxvAvH4448rJibGfcnKylKLFi00ZswY7dq1S5J08eJFZWRkaPr06SouLtasWbO0Z88e\n",
              "5eTkqFevXrp06dINn2P16tUKCQmpdan89UJDLA8AGh2/CcS7776r7Oxs92Xw4MGSpOTkZG3atEmS\n",
              "tG3bNk2dOlWtWrVSZmamoqKi1K9fP0lSUlKS7rjjjhs+x9KlS1VSUlLrckf3zr5dGAA0UoFOD1Bf\n",
              "cXFxatGihQ4dOqStW7cqIyPDup3L5brpYwUFBSkoKKj2lQE3vx8ANEV+cwRxI8nJyZoxY4YiIiLU\n",
              "p08fSdLQoUOVk5Oj3NxcSdKOHTtUWVnp5JgA4FeaRCAmT56sq1evauHChe7r2rdvrx07dmjixImK\n",
              "jo5WXl6e2rZt6+CUAOBfXMYYv3+bTlZWlqZNm6bc3Fw1a+bd5rV6MFahU+736mMCQH39e9a/fP4c\n",
              "fn8OYvbs2fr888+1fft2r8cBAG5nfh+I7du3Oz0CADRJ/MoNALAiEAAAKwIBALAiEAAAKwIBALAi\n",
              "EAAAKwIBALAiEAAAKwIBALAiEAAAKwIBALAiEAAAKwIBALAiEAAAKwIBALDy+8+D8LW5kSO1vgE+\n",
              "uQkAGhuOIAAAVgQCAGBFIAAAVgQCAGBFIAAAVgQCAGBFIAAAVgQCAGBFIAAAVgQCAGBFIAAAVgQC\n",
              "AGBFIAAAVgQCAGBFIAAAVgQCAGBFIAAAVgQCAGBFIAAAVgQCAGBFIAAAVgQCAGAV6PQAjVlFRYU+\n",
              "/fRTVVdXKyAgwOlxfKq6ulrffPON4uLiWGsTwlqbpvqutVu3bkpOTr7pdi5jjLmVAW8HpaWlCgkJ\n",
              "UUlJiYKDg50ex6dYa9PEWpumhlorLzEBAKwIBADAikAAAKwIxA0EBQVp5cqVCgoKcnoUn2OtTRNr\n",
              "bZoaaq2cpAYAWHEEAQCwIhAAACsCAQCwIhAAACsCISkvL0/Dhg1Tnz59FBsbqx9++MG6XWpqqnr3\n",
              "7q2ePXtqzpw5un79egNPWn+erPXgwYOKi4tTv379FBkZqZSUFNXU1Dgwbf14+nOVJGOMRo8erdDQ\n",
              "0IYb0Is8Xev333+vUaNGKSIiQhEREfrggw8aeNL682StNTU1Wrx4sfr166eoqCjFx8fr9OnTDkxb\n",
              "P88++6zCw8PlcrmUnZ39j9v5bN9kYOLj481bb71ljDFm9+7dZvDgwX/b5uzZs6Zz587mwoULpqam\n",
              "xowbN868/vrrDTxp/Xmy1u+++86cOXPGGGPMtWvXzPDhw9338SeerPU/1q1bZ2bPnm1CQkIaZjgv\n",
              "82Stf/75p+nevbs5cuSIMcaYqqoqU1xc3JBjeoUna927d6+Ji4szlZWVxhhjXn75ZfPoo4825Jhe\n",
              "cfjwYXPu3DnTrVs3c/LkSes2vtw33faBuHjxomndurW5fv26McaYmpoa07FjR5OXl1dru7Vr15p5\n",
              "8+a5v//444/N8OHDG3TW+vJ0rf/rmWeeMStXrmyACb2nLms9deqUGTlypDl9+rRfBsLTtW7bts1M\n",
              "nTrViRG9xtO17tu3z0RHR5vS0lJTU1Njnn/+ebNo0SInRvaKGwXCl/um2/4lpnPnzqlz584KDPzr\n",
              "D9u6XC6FhYWpsLCw1naFhYXq1q2b+/vw8PC/bdPYebrW/1ZUVKT3339fY8eObagxvcLTtV6/fl1z\n",
              "5szRli1b/PYvgHq61h9//FFBQUEaO3asYmJiNGPGDP3+++9OjHzLPF3ruHHjNGrUKHXq1EmdO3fW\n",
              "gQMH9NJLLzkxss/5ct902wcC/6y0tFTjxo1TSkqKBg8e7PQ4PvHiiy9q0qRJioiIcHoUn6uqqlJG\n",
              "Roa2bNmikydPqmvXrnr66aedHssnsrKydOrUKf322286f/687r//fs2fP9/psfzObR+Iu+66Sxcu\n",
              "XFBVVZWkv05WFhYWKiwsrNZ2YWFhKigocH+fn5//t20aO0/XKkl//PGHEhISNGHCBC1evLihR603\n",
              "T9d6+PBhbdy4UeHh4RoxYoRKS0sVHh7uV79Z1+X/cHx8vLp27SqXy6Unn3xSmZmZTox8yzxd686d\n",
              "O91vOmjWrJkSExN16NAhJ0b2OV/um277QHTo0EEDBw7Url27JEl79uzRnXfeqV69etXa7pFHHlFa\n",
              "WpqKiopkjNHmzZs1ZcoUJ0a+ZZ6u9erVq0pISFBCQoJeeOEFJ0atN0/XeuTIERUUFCg/P19Hjx5V\n",
              "cHCw8vPz1b59eyfGviWervWxxx7Tt99+q9LSUknSJ598oujo6Aaftz48XWuPHj108OBBVVZWSpLS\n",
              "09PVv3//Bp+3Ifh03+SVMxl+Ljc31wwZMsT07t3bDBo0yOTk5BhjjElKSjIffvihe7utW7eaHj16\n",
              "mB49epinnnrK/Q4Jf+LJWletWmUCAwNNdHS0+7Jq1Sonx74lnv5c/+PXX3/1y5PUxni+1p07d5rI\n",
              "yEgzYMAAk5CQYAoLC50a+ZZ5stby8nIze/Zs07dvXzNgwADzwAMPuN+Z50/mzp1runbtagICAkyH\n",
              "Dh1Mz549jTENt2/ij/UBAKxu+5eYAAB2BAIAYEUgAABWBAIAYEUgAABWBAIAYEUgAABWBAIAYEUg\n",
              "AABWBAIAYPX/4H1m2KYEHkUAAAAASUVORK5CYII=\n",
              "\">\n",
              "        \n",
              "      </div>\n",
              "      <script></script>\n",
              "      <script type=\"text/javascript\">\n",
              "        (() => {\n",
              "          const chartElement = document.getElementById(\"chart-7901b14f-0982-46e7-a39c-8e12915eb38b\");\n",
              "          async function getCodeForChartHandler(event) {\n",
              "            const chartCodeResponse =  await google.colab.kernel.invokeFunction(\n",
              "                'getCodeForChart', [\"chart-7901b14f-0982-46e7-a39c-8e12915eb38b\"], {});\n",
              "            const responseJson = chartCodeResponse.data['application/json'];\n",
              "            await google.colab.notebook.addCell(responseJson.code, 'code');\n",
              "          }\n",
              "          chartElement.onclick = getCodeForChartHandler;\n",
              "        })();\n",
              "      </script>\n",
              "      <style>\n",
              "        .colab-quickchart-chart-with-code  {\n",
              "            display: block;\n",
              "            float: left;\n",
              "            border: 1px solid transparent;\n",
              "        }\n",
              "\n",
              "        .colab-quickchart-chart-with-code:hover {\n",
              "            cursor: pointer;\n",
              "            border: 1px solid #aaa;\n",
              "        }\n",
              "      </style>"
            ]
          },
          "metadata": {}
        },
        {
          "output_type": "display_data",
          "data": {
            "text/plain": [
              "<google.colab._quickchart_helpers.SectionTitle at 0x7bccef506f20>"
            ],
            "text/html": [
              "<h4 class=\"colab-quickchart-section-title\">2-d distributions</h4>\n",
              "<style>\n",
              "  .colab-quickchart-section-title {\n",
              "      clear: both;\n",
              "  }\n",
              "</style>"
            ]
          },
          "metadata": {}
        },
        {
          "output_type": "display_data",
          "data": {
            "text/plain": [
              "import numpy as np\n",
              "from google.colab import autoviz\n",
              "\n",
              "def scatter_plots(df, colname_pairs, figscale=1, alpha=.8):\n",
              "  from matplotlib import pyplot as plt\n",
              "  plt.figure(figsize=(len(colname_pairs) * 6 * figscale, 6 * figscale))\n",
              "  for plot_i, (x_colname, y_colname) in enumerate(colname_pairs, start=1):\n",
              "    ax = plt.subplot(1, len(colname_pairs), plot_i)\n",
              "    df.plot(kind='scatter', x=x_colname, y=y_colname, s=(32 * figscale), alpha=alpha, ax=ax)\n",
              "    ax.spines[['top', 'right',]].set_visible(False)\n",
              "  plt.tight_layout()\n",
              "  return autoviz.MplChart.from_current_mpl_state()\n",
              "\n",
              "chart = scatter_plots(_df_6, *[[['index', 'marks']]], **{})\n",
              "chart"
            ],
            "text/html": [
              "      <div class=\"colab-quickchart-chart-with-code\" id=\"chart-84d39328-e351-4cdc-9f2f-f807d77d3ef9\">\n",
              "        <img src=\"data:image/png;base64,iVBORw0KGgoAAAANSUhEUgAAASgAAAEoCAYAAADrB2wZAAAAOXRFWHRTb2Z0d2FyZQBNYXRwbG90\n",
              "bGliIHZlcnNpb24zLjcuMSwgaHR0cHM6Ly9tYXRwbG90bGliLm9yZy/bCgiHAAAACXBIWXMAAA9h\n",
              "AAAPYQGoP6dpAAAZzElEQVR4nO3df1RT9+H/8dclSGzRYMUKTgiIiqD8iFQRtWqtXcvx4I/FyWYH\n",
              "nc7i2rPWKac6nWxujh2s69ic1KOszqJ2p6hNdbMc3Smo1bkCs6L1R3cKAqkIChWIvwiEvD9/8G2+\n",
              "S8WWrNzkHXw9zsk5JV6uL3fG89wkEBQhhAARkYR8PD2AiOh+GCgikhYDRUTSYqCISFoMFBFJi4Ei\n",
              "ImkxUEQkLQaKiKTFQBGRtLwyUJs3b/b0BCJyA68MVG1tracnEJEbeGWgiOjBwEARkbQYKCKSFgNF\n",
              "RNJioIhIWqoGqqioCAkJCTAYDIiJiUFBQQEAoKysDElJSRg/fjyio6OxadMmNWcQkZfyVevEQgik\n",
              "paXh2LFjiIuLQ01NDaKiomA0GrFs2TJs2LABc+fOxY0bNxAVFYWUlBSMHTtWrTlEpJJTlU3YU2pG\n",
              "ddMtjBgyAGmT9JgyakivnFu1QAGAoihoaWkBAFgsFgQGBkKr1Trdf/v2bfj5+WHw4MFqTiEiFZyq\n",
              "bMIa08e4025D/34alFV/jvN1rdhojO2VSKkWKEVRUFhYCKPRCH9/fzQ3N8NkMsHPzw87d+7EvHnz\n",
              "kJWVhcbGRmzfvh3BwcHdnsdqtcJqtTrd19nZqdZsInLBnlIz7rTbEKzrD0VRIIRAg6UNb5WaeyVQ\n",
              "qj0HZbPZkJ2dDZPJhNraWhQXFyM9PR1NTU3YuHEjcnJyYDabceHCBaxbtw4XL17s9jw5OTkICAhw\n",
              "upWVlak1m4hcUN10C/37aaAoCoCuC5P+/TS43HSrV86vWqAqKipw9epVTJ8+HQAwceJEhISE4OjR\n",
              "o3j33Xfx7LPPAgAiIiKQlJSEf/7zn92eZ+3atWhtbXW6JSYmqjWbiFwwYsgAtHV04otfDiWEQFtH\n",
              "JyIeHdAr51ctUKGhoaivr8elS5cAAJWVlaiqqkJiYiL8/f1RUlICAGhqakJpaSliYmK6PY9Wq4VO\n",
              "p3O6aTQatWYTkQvSJunxsJ8vGixtaL7TjgZLGx7288UPJul75fyqPQcVFBSE/Px8pKamwsfHB3a7\n",
              "HXl5eQgLC8PevXuxatUq2Gw2dHR0YMWKFZg8ebJaU4hIJVNGDcFGYyzeKjXjctMtxIcMwg+S9Jgy\n",
              "sndexVO88Rd3ZmZmIjc319MziEhl/E5yIpIWA0VE0mKgiEhaDBQRSYuBIiJpMVBEJC0GioikxUAR\n",
              "kbQYKCKSFgNFRNJioIhIWgwUEUmLgSIiaTFQRCQtBoqIpMVAEZG0GCgikhYDRUTSYqCISFoMFBFJ\n",
              "i4EiImkxUEQkLQaKiKTFQBGRtBgoIpIWA0VE0mKgiEhaDBQRSYuBIiJpMVBEJC0GioikxUARkbRU\n",
              "DVRRURESEhJgMBgQExODgoICAIAQAr/61a8QGRmJ2NhYzJw5U80ZROSlfNU6sRACaWlpOHbsGOLi\n",
              "4lBTU4OoqCgYjUb85S9/wblz53D+/Hn4+fmhoaFBrRlE5MVUCxQAKIqClpYWAIDFYkFgYCC0Wi1+\n",
              "97vfoaSkBH5+fgCA4OBgNWcQkZdSLVCKoqCwsBBGoxH+/v5obm6GyWRCW1sbrl27hoMHD2L//v0A\n",
              "gMzMTHzve9/r9jxWqxVWq9Xpvs7OTrVmE5FEVHsOymazITs7GyaTCbW1tSguLkZ6ejra2tpgs9lw\n",
              "9+5dlJaWorCwECtXrsTZs2e7PU9OTg4CAgKcbmVlZWrNJiKJqBaoiooKXL16FdOnTwcATJw4ESEh\n",
              "ITh79iwGDBiAtLQ0AEB4eDimTp2K8vLybs+zdu1atLa2Ot0SExPVmk1EElEtUKGhoaivr8elS5cA\n",
              "AJWVlaiqqsKYMWOwaNEiHD58GABw48YNlJWVIS4urtvzaLVa6HQ6p5tGo1FrNhFJRLXnoIKCgpCf\n",
              "n4/U1FT4+PjAbrcjLy8Per0eOTk5WLJkCbZu3QoA+NnPfsarIiK6hyKEEJ4e4arMzEzk5uZ6egYR\n",
              "qYzfSU5E0mKgiEhaDBQRSYuBIiJpMVBEJC0GioikxUARkbQYKCKSFgNFRNJioIhIWgwUEUmLgSIi\n",
              "aTFQRCQtBoqIpMVAEZG0GCgikhYDRUTSYqCISFoMFBFJi4EiImkxUEQkLQaKiKTFQBGRtBgoIpIW\n",
              "A0VE0mKgiEhaDBQRSYuBIiJpMVBEJC0GioikxUARkbRUDVRRURESEhJgMBgQExODgoICpz8vKSmB\n",
              "RqPBH//4RzVnEJGX8lXrxEIIpKWl4dixY4iLi0NNTQ2ioqJgNBoxcOBAtLa2Ys2aNZg9e7ZaE4jI\n",
              "y6l6BaUoClpaWgAAFosFgYGB0Gq1AICXXnoJWVlZCAwMVHMCEXkx1a6gFEVBYWEhjEYj/P390dzc\n",
              "DJPJBD8/P+zfvx8+Pj6YO3cuTCbTV57HarXCarU63dfZ2anWbCKSiGpXUDabDdnZ2TCZTKitrUVx\n",
              "cTHS09Nx5coVZGdnY/PmzT06T05ODgICApxuZWVlas0mIomoFqiKigpcvXoV06dPBwBMnDgRISEh\n",
              "OH36NOrr62EwGBAeHo79+/djw4YNWLduXbfnWbt2LVpbW51uiYmJas0mIomo9hAvNDQU9fX1uHTp\n",
              "EqKjo1FZWYmqqiqMHz8e165dcxy3ePFiGAwGrFixotvzaLVax/NWX9BoNGrNJiKJqBaooKAg5Ofn\n",
              "IzU1FT4+PrDb7cjLy4Ner1frrySiPkYRQghPj3BVZmYmcnNzPT2DiFTG7yQnImkxUEQkLQaKiKTF\n",
              "QBGRtBgoIpIWA0VE0mKgiEhaDBQRSYuBIiJpMVBEJK1vFCghBG7evNlbW4iInLgcqKVLl6KlpQXt\n",
              "7e0wGAwICgrC1q1b1dhGRA84lwN1+vRpDBo0CIcPH8b48ePR0NCAbdu2qbGNiB5wLgfqizc/OHHi\n",
              "BFJSUqDT6fj+TESkCpcDFRwcjBdffBH79u3DU089hY6ODr5HOBGpwuVAvfXWWxgzZgzefvttDBo0\n",
              "CHV1dcjMzFRjGxE94Fx+R02z2ez09rzh4eEICAjozU1ERAD+hyuo9PR0mM1mx8dHjhzBz3/+814d\n",
              "RUQE/A+B2rZtG+bPnw+LxYITJ07gpZdewnvvvafGNiJ6wLn8EG/atGlYs2YNnn76ady4cQOHDh1C\n",
              "RESEGtuI6AHX40D96U9/cvrYZrNh2rRpOHLkCI4cOYLly5f3+jgierD1OFBnzpxx+jg2NhZ2ux1n\n",
              "zpyBoii9PoyIqMeB2rlzJzo7O3HgwAEsWLBAzU1ERABcfJJco9Hgt7/9rVpbiIicuPwqXkJCAk6e\n",
              "PKnGFiIiJy6/ivfhhx/izTffREREBAYMGOC4/6OPPurVYURELgfq9ddfV2MHEdE9XA7UjBkz1NhB\n",
              "RHQPlwN19+5dbNmyBRUVFWhra3PcbzKZenUYEZHLT5JnZGSgpqYGp06dwsyZM1FbW4uwsDA1thHR\n",
              "A87lQJ09exZbt26FTqfDyy+/jGPHjuH06dNqbCOiB5zLgXrooYcAAL6+vrh9+zYGDhyIxsbGXh9G\n",
              "RORyoAYPHozm5mbMnj0bzzzzDObPn4+QkJBujy0qKkJCQgIMBgNiYmJQUFAAAFiyZAkiIyMRHx+P\n",
              "qVOnory8/Jv9K4iobxIustlsQggh7Ha72L17t9iyZYtobW295zi73S4eeeQRcfbsWSGEENXV1UKr\n",
              "1QqLxSIOHjwoOjo6hBBC/P3vfxdhYWEubVi5cqWrs4nIC7n8Kt4XvyBBURSkpaV95bGKoqClpQUA\n",
              "YLFYEBgYCK1Wi7lz5zqOSUpKQl1dHWw2G3x9XZ5DRH2Yy0X44IMP8Morr6CyshI2m81xv8VicTpO\n",
              "URQUFhbCaDTC398fzc3NMJlM8PPzczpu8+bNmD179n3jZLVaYbVane7jL2kgekC4eskVGRkp9u3b\n",
              "J2pra8WVK1ccty/r6OgQM2bMEMePHxdCCFFWViaCg4NFY2Oj45jdu3eLyMhI0dDQcN+/b/369QKA\n",
              "0y0pKcnV2UTkhVwO1IQJE3p0XHl5uRg9evQ9n/uPf/xDCCHE22+/LUaNGiVqa2u/8jxtbW2itbXV\n",
              "6bZ8+XJXZxORF3L5VbwFCxZg9+7daG9v/8rjQkNDUV9fj0uXLgEAKisrUVVVhTFjxmDv3r3IysrC\n",
              "+++/D71e/5Xn0Wq10Ol0Tjf+olCiB4PLz0FFR0cjLS0NixcvBtD1m4YVRbnneaGgoCDk5+cjNTUV\n",
              "Pj4+sNvtyMvLg16vx8iRIxEcHIx58+Y5ji8uLkZgYOA3+9cQUZ+iCPH/fpd5D0VEROCNN97AhAkT\n",
              "nK5k/P39e33c/WRmZiI3N9dtfx8ReYbLV1BDhw7Fk08+qcYWIiInLj8HNXfuXOTl5eH69euwWCyO\n",
              "GxFRb3P5IZ6Pz/9vmqIo930OSk18iEf0YHD5IZ7dbldjBxHRPVx+iEdE5C4MFBFJi4EiImkxUEQk\n",
              "LQaKiKTFQBGRtBgoIpIWA0VE0mKgiEhaDBQRSYuBIiJpMVBEJC0GioikxUARkbQYKCKSFgNFRNJi\n",
              "oIhIWgwUEUmLgSIiaTFQRCQtBoqIpMVAEZG0GCgikhYDRUTSYqCISFoMFBFJi4EiImmpGqiioiIk\n",
              "JCTAYDAgJiYGBQUFAIDr168jOTkZo0ePRkxMDD744AM1ZxCRl/JV68RCCKSlpeHYsWOIi4tDTU0N\n",
              "oqKiYDQasWbNGiQlJeHw4cMoLy/Hd77zHVRXV6Nfv35qzSEiL6TqFZSiKGhpaQEAWCwWBAYGQqvV\n",
              "Yu/evXjhhRcAABMnTsS3vvUtHD9+XM0pROSFVLuCUhQFhYWFMBqN8Pf3R3NzM0wmE27evImOjg4E\n",
              "Bwc7jg0PD4fZbO72PFarFVar1em+zs5OtWYTkURUu4Ky2WzIzs6GyWRCbW0tiouLkZ6eDpvN5tJ5\n",
              "cnJyEBAQ4HQrKytTaTURyUS1QFVUVODq1auYPn06gK6HciEhITh37hx8fX3R0NDgOLampgZ6vb7b\n",
              "86xduxatra1Ot8TERLVmE5FEVAtUaGgo6uvrcenSJQBAZWUlqqqqMGbMGCxcuBDbtm0DAJSXl6Ou\n",
              "rg4zZszo9jxarRY6nc7pptFo1JpNRBJR7TmooKAg5OfnIzU1FT4+PrDb7cjLy4Ner8err76K9PR0\n",
              "jB49Gn5+ftizZw9fwSOieyhCCOHpEa7KzMxEbm6up2cQkcr4neREJC0GioikxUARkbQYKCKSFgNF\n",
              "RNJioIhIWgwUEUmLgSIiaTFQRCQtBoqIpMVAEZG0GCgikhYDRUTSYqCISFoMFBFJi4EiImkxUEQk\n",
              "LQaKiKTFQBGRtBgoIpIWA0VE0mKgiEhaDBQRSYuBIiJpMVBEJC0GioikxUARkbQYKCKSFgNFRNJi\n",
              "oIhIWgwUEUmLgSIiafmqdeLPP/8cs2bNcnx8584dXL58GdevX0dlZSWWL18Oq9WKtrY2LFmyBKtX\n",
              "r1ZrChF5KdUCFRgYiIqKCsfHr732Go4fP47Bgwdj2bJl2LBhA+bOnYsbN24gKioKKSkpGDt2rFpz\n",
              "iMgLue0h3o4dO7B06VIAgKIoaGlpAQDcvn0bfn5+GDx4sLumEJGXUO0K6r+dOnUKzc3NSElJAQDs\n",
              "3LkT8+bNQ1ZWFhobG7F9+3YEBwd3+7lWqxVWq9Xpvs7OTtU3E5HnueUKaseOHXjuuefg69vVw40b\n",
              "NyInJwdmsxkXLlzAunXrcPHixW4/NycnBwEBAU63srIyd8wmIg9ThBBCzb/g1q1bGDZsGMrLyxEV\n",
              "FYWmpiYMHz7c6apo4cKFePrpp5GRkXHP53d3BfWLX/wCmzdvVnM2EUlA9SuowsJCxMfHIyoqCgDw\n",
              "yCOPwN/fHyUlJQCApqYmlJaWIiYmptvP12q10Ol0TjeNRqP2bCKSgOrPQe3YscPpykij0WDv3r1Y\n",
              "tWoVbDYbOjo6sGLFCkyePFntKUTkZVQP1KlTp+6576mnnsLp06fV/quJyMvxO8mJSFoMFBFJi4Ei\n",
              "ImkxUEQkLQaKiKTFQBGRtBgoIpIWA0VE0mKgiEhaDBQRSYuBIiJpMVBEJC23vKOmJ5yqbMKeUjOq\n",
              "m25hxJABSJukx5RRQzw9i4hc0CcDdaqyCWtMH+NOuw39+2lQVv05zte1YqMxlpEi8iJ98iHenlIz\n",
              "7rTbEKzrj0ce9kOwrj/utNvwVqnZ09OIyAV9MlDVTbfQv58GiqIA6PotMv37aXC56ZaHlxGRK/pk\n",
              "oEYMGYC2jk588XbrQgi0dXQi4tEBHl5GRK7ok4FKm6THw36+aLC0oflOOxosbXjYzxc/mKT39DQi\n",
              "ckGfDNSUUUOw0RiLSSMCMbC/LyaNCMTGBbGYMpJPkBN5kz75Kh7QFSm+Ykfk3frkFRQR9Q0MFBFJ\n",
              "i4EiImkxUEQkLQaKiKTFQBGRtBTxxbdbexGj0Yjw8PCvPa6zsxNlZWVITEyERqNRf9g3xL3q8qa9\n",
              "3rQVcH1vWFgYfvrTn37tcV4ZqJ6yWCwICAhAa2srdDqdp+d8Le5Vlzft9aatgHp7+RCPiKTFQBGR\n",
              "tBgoIpJWnw6UVqvF+vXrodVqPT2lR7hXXd6015u2Aurt7dNPkhORd+vTV1BE5N0YKCKSFgNFRNLq\n",
              "E4H69NNPMWXKFERGRmLixIm4cOFCt8ft2LEDo0ePxsiRI5GRkYGOjg43L+3Sk70lJSVITEzE2LFj\n",
              "MW7cOKxevRp2u90Da3v+vy/Q9f7vTz75JAYNGuS+gf+lp1s//vhjPPHEE4iOjkZ0dDRMJpObl3bp\n",
              "yV673Y7MzEyMHTsWcXFxmDlzJiorK92+dfny5QgPD4eiKKioqLjvcb36dSb6gJkzZ4qdO3cKIYTY\n",
              "t2+fmDBhwj3HXL58WQwbNkzU19cLu90u5syZI/Ly8ty8tEtP9n700UeiqqpKCCHE3bt3xdSpUx2f\n",
              "42492fuF3//+9+L5558XAQEB7hn3JT3Zevv2bTFixAhx4sQJIYQQNptNXL9+3Z0zHXqy99133xWJ\n",
              "iYmivb1dCCHEb37zG7Fw4UJ3zhRCCHH8+HHx2WefibCwMHHmzJluj+ntrzOvD9S1a9fEwIEDRUdH\n",
              "hxBCCLvdLoKCgsSnn37qdNymTZvEj3/8Y8fH7733npg6dapbtwrR871f9pOf/ESsX7/eDQudubL3\n",
              "/PnzYtq0aaKystIjgerp1j//+c9i0aJFbt/3ZT3de+DAAREfHy8sFouw2+1i1apVYuXKlZ6YLIQQ\n",
              "Xxmo3v468/qHeJ999hmGDRsGX9+ut1dXFAV6vR5ms/Mv6TSbzQgLC3N8HB4efs8x7tDTvf+toaEB\n",
              "+/fvR0pKirtmOvR0b0dHBzIyMrB9+3aP/XBrT7devHgRWq0WKSkpMBgMeO6559DY2Cjt3jlz5uCJ\n",
              "J55AcHAwhg0bhuLiYmzYsMHte3uit7/OvD5QfZ3FYsGcOXOwevVqTJgwwdNz7uvXv/41jEYjoqOj\n",
              "PT3la9lsNrz//vvYvn07zpw5g+HDh+PFF1/09Kz7+ve//43z58+jrq4OV69exaxZs/DCCy94epZb\n",
              "eH2gQkNDUV9fD5vNBqDrSVqz2Qy93vl34On1etTW1jo+rqmpuecYd+jpXgC4efMmkpOTMW/ePGRm\n",
              "Zrp7KoCe7z1+/Di2bNmC8PBwPP7447BYLAgPD3frlYkr/1+YOXMmhg8fDkVRkJaWhg8//NBtO13d\n",
              "u2vXLscLDz4+PvjhD3+Io0ePun1vT/T215nXB2ro0KFISEjAnj17AADvvPMOQkJCMGrUKKfjFixY\n",
              "gL/97W9oaGiAEALbtm3D97//fWn33rp1C8nJyUhOTkZWVpbbd36hp3tPnDiB2tpa1NTU4OTJk9Dp\n",
              "dKipqcGjjz4q3dbU1FSUl5fDYrEAAIqKihAfH++2na7ujYiIQElJCdrb2wEAhw4dQkxMjNv39kSv\n",
              "f539z89eSeSTTz4RSUlJYvTo0eKxxx4T586dE0IIsXTpUnHw4EHHcfn5+SIiIkJERESIH/3oR45X\n",
              "RWTcm52dLXx9fUV8fLzjlp2dLe3e/1ZdXe2xV/F6unXXrl1i3LhxIjY2ViQnJwuz2Szt3ra2NvH8\n",
              "88+LqKgoERsbK7797W87XuF1p2XLlonhw4cLjUYjhg4dKkaOHHnPViF69+uMP4tHRNLy+od4RNR3\n",
              "MVBEJC0GilRjMBhw8+ZNlz/vu9/9Lt58883eH0Rex9fTA6jv+qqf1yLqCV5BkWoURUFLSwuAru8o\n",
              "/uUvf4nJkydjxIgRyM7Odhz3ySefYMqUKRg3bhzmz5/vePkf6PpesIyMDCQmJiIuLg7Lli1De3s7\n",
              "/vOf/yAkJASXL18GALz22mtITk722A9Uk0q+4SuPRPcFQDQ3Nwshun5+6+WXXxZCCNHY2Ch0Op24\n",
              "cuWKEEKICRMmiDfeeEMIIcS5c+eEn5+f4wdoMzIyREFBgRCi62fVli5dKjZt2iSEEOKvf/2reOyx\n",
              "x8TRo0dFeHi4x37gl9TDh3jkNs8++ywAYMiQIYiIiEB1dTUGDhyIiooKLF68GAAQGxuLxx9/3PE5\n",
              "Bw4cwL/+9S/k5uYCAO7evev4Wb9Fixbh6NGjeOaZZ1BcXOzWbwol92CgyG369+/v+G+NRuP4EY8v\n",
              "UxTF8d9CCLzzzjuIjIy85zibzYbz589j8ODBqKur6/3B5HF8Doo8SqfTYfz48di1axcA4MKFCzh5\n",
              "8qTjz+fPn49XX33VEbPm5mbHm7WtWbMGY8aMwYkTJ/DKK6945E3cSF0MFHncrl27kJ+fj5iYGGRl\n",
              "ZWH69OmOP/vDH/6Ahx56CAaDAXFxcZg1axZqampw6NAhHD58GK+//jpGjRqF3NxcpKamoq2tzYP/\n",
              "Eupt/FEXIpIWr6CISFoMFBFJi4EiImkxUEQkLQaKiKTFQBGRtBgoIpIWA0VE0mKgiEhaDBQRSYuB\n",
              "IiJp/R98QTJCIH5NmwAAAABJRU5ErkJggg==\n",
              "\">\n",
              "        \n",
              "      </div>\n",
              "      <script></script>\n",
              "      <script type=\"text/javascript\">\n",
              "        (() => {\n",
              "          const chartElement = document.getElementById(\"chart-84d39328-e351-4cdc-9f2f-f807d77d3ef9\");\n",
              "          async function getCodeForChartHandler(event) {\n",
              "            const chartCodeResponse =  await google.colab.kernel.invokeFunction(\n",
              "                'getCodeForChart', [\"chart-84d39328-e351-4cdc-9f2f-f807d77d3ef9\"], {});\n",
              "            const responseJson = chartCodeResponse.data['application/json'];\n",
              "            await google.colab.notebook.addCell(responseJson.code, 'code');\n",
              "          }\n",
              "          chartElement.onclick = getCodeForChartHandler;\n",
              "        })();\n",
              "      </script>\n",
              "      <style>\n",
              "        .colab-quickchart-chart-with-code  {\n",
              "            display: block;\n",
              "            float: left;\n",
              "            border: 1px solid transparent;\n",
              "        }\n",
              "\n",
              "        .colab-quickchart-chart-with-code:hover {\n",
              "            cursor: pointer;\n",
              "            border: 1px solid #aaa;\n",
              "        }\n",
              "      </style>"
            ]
          },
          "metadata": {}
        },
        {
          "output_type": "display_data",
          "data": {
            "text/plain": [
              "<google.colab._quickchart_helpers.SectionTitle at 0x7bcce5779480>"
            ],
            "text/html": [
              "<h4 class=\"colab-quickchart-section-title\">2-d categorical distributions</h4>\n",
              "<style>\n",
              "  .colab-quickchart-section-title {\n",
              "      clear: both;\n",
              "  }\n",
              "</style>"
            ]
          },
          "metadata": {}
        },
        {
          "output_type": "display_data",
          "data": {
            "text/plain": [
              "import numpy as np\n",
              "from google.colab import autoviz\n",
              "\n",
              "def heatmap(df, x_colname, y_colname, figscale=1, mpl_palette_name='viridis'):\n",
              "  from matplotlib import pyplot as plt\n",
              "  import seaborn as sns\n",
              "  import pandas as pd\n",
              "  plt.subplots(figsize=(8 * figscale, 8 * figscale))\n",
              "  df_2dhist = pd.DataFrame({\n",
              "      x_label: grp[y_colname].value_counts()\n",
              "      for x_label, grp in df.groupby(x_colname)\n",
              "  })\n",
              "  sns.heatmap(df_2dhist, cmap=mpl_palette_name)\n",
              "  plt.xlabel(x_colname)\n",
              "  plt.ylabel(y_colname)\n",
              "  return autoviz.MplChart.from_current_mpl_state()\n",
              "\n",
              "chart = heatmap(_df_7, *['name', 'city'], **{})\n",
              "chart"
            ],
            "text/html": [
              "      <div class=\"colab-quickchart-chart-with-code\" id=\"chart-d49c9e5c-0fbb-450b-b183-d15864f72bcc\">\n",
              "        <img src=\"data:image/png;base64,iVBORw0KGgoAAAANSUhEUgAAAXMAAAFrCAYAAAAjP2lkAAAAOXRFWHRTb2Z0d2FyZQBNYXRwbG90\n",
              "bGliIHZlcnNpb24zLjcuMSwgaHR0cHM6Ly9tYXRwbG90bGliLm9yZy/bCgiHAAAACXBIWXMAAA9h\n",
              "AAAPYQGoP6dpAAAptklEQVR4nO3df3RU9Z3/8edNwIlSEkDJJm4IMSSYAkISiFZQoIAGuhKt0EMs\n",
              "tEYTCGU9YDkIjfgDaiXQFgW37QKagoXlV4HaHGp1RdGGpqxiCHooCAkJAwoEJE0QzJBk7vePWebb\n",
              "2YjMTHIDd/J6nPM5zdxfn09CffHmcz/3xjBN00RERGwt7GoPQEREWk9hLiISAhTmIiIhQGEuIhIC\n",
              "FOYiIiFAYS4iEgIU5iIiIUBhLiISAhTmIiIhQGEuIuKHmTNnkpCQgGEYlJeXf+Ux1dXVjBw5kqio\n",
              "KFJTU1vsLyoqIjk5mT59+jB16lQaGxv92ucPhbmIiB8mTpzIrl276N2792WPiYyM5Gc/+xnr169v\n",
              "sa+qqoqnn36akpISKioqOHXqFKtWrbriPn8pzEVE/DB8+HDi4uK+9pgePXpw11130aVLlxb7tmzZ\n",
              "QlZWFjExMRiGwfTp09mwYcMV9/mrU0BHi4iEEJfLhcvl8tnmcDhwOBxt3pfT6fSp6hMSEnA6nVfc\n",
              "5y9bhHni8heu9hCkHR2ZNftqD0FsxH2yb9DnFq74PgsXLvTZ9uyzz7JgwYJWjqr92SLMRUQux407\n",
              "6HMLCgqYPdu3eLCiKgeIj4+nsrLS+7m6upr4+Pgr7vOX5sxFxNaaTXfQzeFwEBkZ6dOsCvMJEyZQ\n",
              "XFzMyZMnMU2TFStWkJ2dfcV9/lKYi4ituTGDboHIz88nLi6O48ePk5mZSVJSEgB5eXkUFxcDcOHC\n",
              "BeLi4vje977H3//+d+Li4igoKAAgMTGRhQsXMmzYMJKSkujZsyf5+flX3Ocvww6/aUhz5h2L5swl\n",
              "EF+euCXoc6+PrWrDkVxdmjMXEVtrzZx5KFGYi4itNV/7kwvtQmEuIrYW6Nx3qFKYi4itNSvMAa1m\n",
              "EREJCarMRcTWNM3ioTAXEVvTDVAPhbmI2JoWJnoozEXE1nQD1ENhLiK21qwsB7SaRUQkJKgyFxFb\n",
              "05y5h8JcRGytGeNqD+GaoDAXEVtza84cUJiLiM2pMvdQmIuIrSnMPbSaRUQkBKgyFxFbc5uqzEFh\n",
              "LiI2p2kWD4W5iNhas2aLAYW5iNicplk8FOYiYmuaZvHQv09EREKAKnMRsbVmUzUpKMxFxObcmmAA\n",
              "FOYiYnOaM/dQmIuIrWmaxUNhLiK25lZlDmg1i4hISFBlLiK2pidAPfRTEBFbazbDgm6BmDlzJgkJ\n",
              "CRiGQXl5+WWPKyoqIjk5mT59+jB16lQaGxsBWL16Nampqd5200038eCDDwJQXV1NeHi4z/7KysqA\n",
              "xqcwFxFbcxMWdAvExIkT2bVrF717977sMVVVVTz99NOUlJRQUVHBqVOnWLVqFQCPPPII5eXl3hYT\n",
              "E8PkyZO953bt2tVnf58+fQIan8JcRGyt2TSCbi6Xi/r6ep/mcrm+sp/hw4cTFxf3tWPZsmULWVlZ\n",
              "xMTEYBgG06dPZ8OGDS2O+5//+R9qamrIyspqk58BKMxFxOaaCQu6FRYWEhUV5dMKCwuDHovT6fSp\n",
              "3BMSEnA6nS2OKyoq4gc/+AGdO3f2bjt//jwZGRmkp6fz05/+lObm5oD61g1QEemwCgoKmD17ts82\n",
              "h8NhaZ/nz59n48aN7N6927stNjaWTz/9lOjoaM6ePcukSZNYunQpc+fO9fu6qsxFxNbcZljQzeFw\n",
              "EBkZ6dNaE+bx8fEcPXrU+7m6upr4+HifY37/+9/Tv39/+vXr593mcDiIjo4GoEePHjz66KOUlJQE\n",
              "1LfCXERsrTXTLG1twoQJFBcXc/LkSUzTZMWKFWRnZ/scU1RURG5urs+2mpoa76oXl8vFtm3bSEtL\n",
              "C6hvhbmI2FprboAGIj8/n7i4OI4fP05mZiZJSUkA5OXlUVxcDEBiYiILFy5k2LBhJCUl0bNnT/Lz\n",
              "873X+OSTTygvL2fSpEk+1961axdpaWkMGjSI9PR0YmJimD9/fkDjM0zTNAM64ypIXP7C1R6CtKMj\n",
              "s2Zf+SCR//Xq4aFBn/twcmkbjuTq0g1QEbE1vWjLQz8FEZEQoMpcRGxNb030UJiLiK1pmsVDYS4i\n",
              "tqa3JnoozEXE1twBLjEMVQpzEbE1VeYe+imIiIQAVeYiYmtu3QAFFOYiYnPNWpoIKMxFxOZUmXso\n",
              "zEXE1lSZeyjMRcTWVJl76KcgIhICVJmLiK3pcX4PhbmI2JpetOWhMBcRW1Nl7qEwFxFb07tZPBTm\n",
              "ImJrejeLh34KIiIhQJW5iNiaplk8FOYiYmtuTTAACnMRsblmVeaAwlxEbE7TLB4KcxGxNb2bxcOy\n",
              "MHc6nV+7Pz4+3qquRUQ6HMvCfPDgwRiG558/n3/+OZ07dwagsbGRG2+8kZqaGqu6FpEORK/A9bAs\n",
              "zE+fPg3AvHnzSEpKIjc3F4Df/va3VFZWWtWtiHQwmjP3sHyy6c0332Tq1KmEhYURFhZGXl4eb7zx\n",
              "htXdikgH4TbDgm6hxPLv5uLFi3zyySfez4cOHcLlclndrYh0EG6MoFsgZs6cSUJCAoZhUF5eftnj\n",
              "ioqKSE5Opk+fPkydOpXGxkYA3n33Xa6//npSU1O97csvv7zief6yPMwXL17MsGHDGD16NKNHj2bY\n",
              "sGEsWbLE6m5FpINoNo2gWyAmTpzIrl276N2792WPqaqq4umnn6akpISKigpOnTrFqlWrvPtvvfVW\n",
              "ysvLve3666/36zx/WB7mWVlZHDhwgMcff5zHH3+cAwcOMH78eKu7FRFpU8OHDycuLu5rj9myZQtZ\n",
              "WVnExMRgGAbTp09nw4YNV7x2sOf9M8vXma9cuZIf/vCHfge4y+VqMQ1jNjVhdNKSeBFpqTVz31+V\n",
              "Nw6HA4fDEdT1nE6nT+WekJDgs0y7srKS9PR0wsPDeeSRR5gxY4Zf5/nD8sr8L3/5C7fccgs//vGP\n",
              "qaiouOLxhYWFREVF+bR/vPW21cMUEZtym0bQ7avyprCw0JJxpqenc/z4ccrKyvjDH/7AihUr2Lx5\n",
              "c5td3/Iw/6//+i/27dvHjTfeyOjRoxk3bhyvv/76ZY8vKCigrq7Op3W7Z7TVwxQRm2rNDdCvypuC\n",
              "goKgxxIfH8/Ro0e9n6urq70PSEZGRhIVFQVAXFwcDz30ECUlJVc8z1/tsjbnX/7lX3jqqad49dVX\n",
              "2b9/P1OmTCElJYW3325ZcTscDiIjI32aplhE5HJaU5l/Vd4EO8UCMGHCBIqLizl58iSmabJixQqy\n",
              "s7MBOHHiBG63G4Bz586xfft20tLSrnievywP84aGBl5++WVSU1OZP38+v/jFLzh9+jTr1q3zPkgk\n",
              "IhKs9lpnnp+fT1xcHMePHyczM5OkpCQA8vLyKC4uBiAxMZGFCxcybNgwkpKS6NmzJ/n5+QBs3bqV\n",
              "2267jUGDBvGtb32Le+65h0ceeeSK5/nLME3TDOiMAMXExHDPPfcwc+ZMMjIyfPZNnTqVl19++YrX\n",
              "SFz+glXDk2vQkVmzr/YQxEYm/W160OduunNFG47k6rJs/uLS31QvvvgiXbp04cSJE95t4Fmy6E+Q\n",
              "i4h8HT3O72FZmL/44overz/88EMGDx7s/WwYBllZWVZ1LSIdSKBPcoYqy8J8586d3q/T0tJ8PouI\n",
              "tBVV5h7tskzk0qtwRUTamsLcI7ReGyYi0kFZVpl/9NFH3q+//PJLPv74Y/554czAgQOt6lpEOhBV\n",
              "5h6Whfn999/v8/mfb3gahsGRI0es6lpEOhCFuYdlYV5VVWXVpUVEvLSaxUPPyYuIraky91CYi4it\n",
              "Kcw9tJpFRCQEqDIXEVtTZe6hMBcRW1OYeyjMRcTWTIU5oDAXEZvT0kQPhbmI2JqmWTy0mkVEJASo\n",
              "MhcRW9OcuYfCXERsTdMsHgpzEbE1VeYeCnMRsTVV5h4KcxGxtX/6NQkdmlaziIiEAFXmImJremjI\n",
              "Q2EuIramG6AeCnMRsTXdAPVQmIuIrekGqIfCXERsTdMsHlrNIiISAlSZi4itqTL3UGUuIrbmNo2g\n",
              "WyBmzpxJQkIChmFQXl5+2eOKiopITk6mT58+TJ06lcbGRgDeeecdbr/9dvr160f//v2ZO3cubrcb\n",
              "gOrqasLDw0lNTfW2ysrKgManMBcRWzPN4FsgJk6cyK5du+jdu/dlj6mqquLpp5+mpKSEiooKTp06\n",
              "xapVqwDo3r07Gzdu5O9//zsffvghpaWl/O53v/Oe27VrV8rLy72tT58+AY1PYS4itmaaRtDN5XJR\n",
              "X1/v01wu11f2M3z4cOLi4r52LFu2bCErK4uYmBgMw2D69Ols2LABgLS0NBITEwGIiIggNTWV6urq\n",
              "Nvs5KMxFxNZaE+aFhYVERUX5tMLCwqDH4nQ6fSr3hIQEnE5ni+NOnjzJli1buO+++7zbzp8/T0ZG\n",
              "Bunp6fz0pz+lubk5oL4V5iLSYRUUFFBXV+fTCgoKLO2zvr6e8ePHM3fuXIYMGQJAbGwsn376KR98\n",
              "8AE7duygpKSEpUuXBnRdhbmI2JrZiuZwOIiMjPRpDocj6LHEx8dz9OhR7+fq6mri4+O9n8+dO8fY\n",
              "sWO5//77mT17tne7w+EgOjoagB49evDoo49SUlISUN8KcxGxtdZMs7S1CRMmUFxczMmTJzFNkxUr\n",
              "VpCdnQ3AF198wdixYxk7dixPPfWUz3k1NTXeVS8ul4tt27aRlpYWUN8KcxGxt9aU5gHIz88nLi6O\n",
              "48ePk5mZSVJSEgB5eXkUFxcDkJiYyMKFCxk2bBhJSUn07NmT/Px8AJYvX87777/Ptm3bvMsPn3/+\n",
              "eQB27dpFWloagwYNIj09nZiYGObPnx/Q+AzTvPbfbJC4/IWrPQRpR0dmzb7yQSL/K/n3Pwv63MPf\n",
              "e+rKB9mEngAVEVu79svR9qFpFhGREKDKXERsTe9m8VCYi4i9KcwBhbmI2JzmzD0U5iJibwpzQGEu\n",
              "IjanOXMPrWYREQkBqsxFxN40zQIozEXE5jTN4qEwFxF7U2UOKMxFxPZUmYPCXETsTpU5oNUsIiIh\n",
              "QZW5iNibKnNAYS4idqfVLIDCXERsTu9m8VCYi4i9KcwBhbmI2J2mWQCtZhERCQmqzEXE1gxNswAK\n",
              "cxGxO4U5oDAXEbvTnDmgMBcRu1NlDijMRcTuFOZAEKtZHnroIUpLS60Yi4iIBCngMP/2t7/NjBkz\n",
              "SE9Pp6ioiIaGBivGJSLiH7MVLYQEHObTpk2jvLycl156ibfffptbbrmFuXPncvToUSvGJyLy9Uwj\n",
              "+BZCgn5o6NZbb+Wb3/wmnTp14uDBg9x1110sWbKkLccmInJFhhl8CyUBh/nu3buZPHkyqampNDQ0\n",
              "sHv3boqLizl48CC//vWvrRijiMjltdM0y8yZM0lISMAwDMrLyy97XFFREcnJyfTp04epU6fS2NjY\n",
              "6n3+CGqaZdSoUVRWVvL888/zr//6rwB06dKF+fPnB3o5ERFbmDhxIrt27aJ3796XPaaqqoqnn36a\n",
              "kpISKioqOHXqFKtWrWrVPn8FHOZLliwhNzeXiIgI77Y33ngDgPz8/EAvJyJiC8OHDycuLu5rj9my\n",
              "ZQtZWVnExMRgGAbTp09nw4YNrdrnr4DD/Kuq7yeffDLQy4iItInWzJm7XC7q6+t9msvlCnosTqfT\n",
              "p3JPSEjA6XS2ap+//H5o6NChQxw8eJC6ujqKi4u92+vq6rhw4UJAnQbqyKzZll5fri2Jy1+42kOQ\n",
              "dtTq/75bsSqlsLCQhQsX+mx79tlnWbBgQevGdBX4HeZ/+9vfWLNmDTU1Nbz44ove7ZGRkSxdutSS\n",
              "wYmIXFErVqUUFBQwe7bvXyYOhyPo68XHx1NZWen9XF1dTXx8fKv2+cvvaZaHH36YnTt3smzZMnbu\n",
              "3Oltf/zjH/m3f/u3gDoVEWkzrVjN4nA4iIyM9GmtCfMJEyZQXFzMyZMnMU2TFStWkJ2d3ap9/vI7\n",
              "zA8fPgxARkYGH330UYsmInI1tNc68/z8fOLi4jh+/DiZmZkkJSUBkJeX5516TkxMZOHChQwbNoyk\n",
              "pCR69uzpXRgS7D7/fw6mf78O9b777mP79u3ccsstGIbBP59mGAZHjhwJqGORy9GcecfS2jnzPi8E\n",
              "//+Xytmhcz/O7znz7du3A7B8+XLuvvtuunfvDkBtbS1//etfrRmdiMiVhNiTnMEKeGniM8884w1y\n",
              "gG7duvHMM8+06aBERPymF20BbfA+c8MwaG5ubouxiIgELNTesRKsgCvzrl27+rzP/K9//Stdu3Zt\n",
              "00GJiPhNb00EgqjMf/7zn/Pd736XlJQUwLPK5Q9/+EObD0xERPwXcJjfeeedHDhwgL/97W8ADB06\n",
              "lG7durX1uERE/KNpFiDIOfPu3bvzne98p63HIiISMM2Ze+gXOouIvSnMAYW5iNicKnMPhbmI2JvC\n",
              "HGjF7wAVEZFrhypzEbE3VeaAwlxEbE5z5h6aZhERCQGqzEXE3lSZAwpzEbE5TbN4aJpFRCQEqDIX\n",
              "EXtTZQ4ozEXE7hTmgMJcRGxOc+YeCnMRsTeFOaAwFxGbU2XuodUsIiIhQJW5iNibKnNAYS4idqcw\n",
              "BxTmImJzmjP3UJiLiL0pzAGFuYjYncIc0GoWEZGQoMpcRGxNc+YeqsxFxN7MVrQAHD58mKFDh9K3\n",
              "b18yMjLYv39/i2Pcbjdz5sxhwIABpKSkkJuby8WLFwF48803SU1N9babb76Z9PR077mGYXDbbbd5\n",
              "95eUlAQ0PoW5iNiaYQbfApGfn8+0adM4dOgQ8+bNIycnp8UxRUVFlJWVUVZWxoEDBwgLC2P58uUA\n",
              "ZGZmUl5e7m3p6elMnjzZ5/ySkhLv/rvvvjug8SnMRcTeWlGZu1wu6uvrfZrL5WrRRU1NDXv27GHK\n",
              "lCkATJgwgWPHjlFRUeFz3L59+xgzZgzXXXcdhmEwbtw41q5d2+J6n332GW+//TY/+MEP2uqnoDAX\n",
              "EZtrRZgXFhYSFRXl0woLC1t0cezYMWJjY+nUyXOb0TAM4uPjcTqdPscNHjyY4uJi6uvraWxsZPPm\n",
              "zVRXV7e43po1a/jOd75DdHS0z/bRo0czaNAgZs+ezfnz5wP6MSjMRaTDKigooK6uzqcVFBQEfb2c\n",
              "nBzGjh3LiBEjGDFiBH379vX+BXCJaZr89re/JTc312f70aNH+fDDDyktLeX06dM88cQTAfWtMBcR\n",
              "WzNa0RwOB5GRkT7N4XC06KNXr16cOHGCpqYmwBPITqeT+Ph437EYBgsWLGDv3r2UlpbSr18/+vfv\n",
              "73PMe++9R0NDA5mZmT7bL12rS5cuzJgxQzdARaSDaYfVLNHR0aSnp7Nu3ToAtm7dSlxcHElJST7H\n",
              "NTQ0UFtbC8CZM2dYvHgxc+fO9TmmqKiInJwcwsPDvdtqa2u5cOEC4FkRs2nTJtLS0vwfIFpnLiI2\n",
              "117rzFeuXElOTg6LFi0iMjKS1atXA5CXl0dWVhZZWVnU1dUxcuRIwsLCcLvdzJo1i/Hjx3uvUVdX\n",
              "x7Zt2/j44499rn3w4EHy8/MxDIOmpibS09O9q2D8ZZimqSX3ck1JXP7C1R6CtKMjs2a36vxBs14M\n",
              "+tx9y3/cqr6vJarMRcTeVI4CmjMXEQkJqsxFxNb0bhYPhbmI2JvCHFCYi4jNqTL3UJiLiL0pzAGF\n",
              "uYjYnCpzD61mEREJAarMRcTeVJkDCnMRsTuFOaAwFxGb05y5h8JcROxNYQ4ozEXE5gy9KxDQahYR\n",
              "kZCgylxE7E2FOaAwFxGb0w1QD0vCfMSIEbz33nt0794dwzC8203TxDAMzp49a0W3ItIRKcwBi8J8\n",
              "48aNAJSXl1txeRERL1XmHpaEeWxsLAC9e/e24vIiIv+fwhyweM68rKyMJ598kiNHjtDU1OTdfuTI\n",
              "ESu7FRHpcCwN84cffpjHHnuMO++8k/DwcCu7EpEOStMsHpaGeXh4OPn5+VZ2ISIdncIcsPihoWHD\n",
              "hrFnzx4ruxCRDs4wg2+hxJLKPC0tDcMwaGxs5OWXXyYpKYmIiAjv/rKyMiu6FZGOSI/zAxaF+bJl\n",
              "y6y4rIhIC6FWYQfLsoeGABoaGnA4HN4Hh9xuNxcvXrSiSxGRDs3SOfNRo0ZRX1/v/Xzu3DnGjBlj\n",
              "ZZci0tGYrWghxNLVLBcuXCAqKsr7OSoqii+++MLKLkWkgzHcV3sE1wZLK3O32+0T3vX19T4PD4mI\n",
              "tJoqc8DiMJ88eTJjxoxhzZo1rFmzhnvvvZeHH37Yyi5FpINpr6WJhw8fZujQofTt25eMjAz279/f\n",
              "4hi3282cOXMYMGAAKSkp5Obmeu8TVldXEx4eTmpqqrdVVlZ6z92+fTspKSkkJyfz4IMP+kxR+8PS\n",
              "MJ83bx4/+tGPeP3113n99dd57LHHeOKJJ6zsUkQ6GtMMvgUgPz+fadOmcejQIebNm0dOTk6LY4qK\n",
              "iigrK6OsrIwDBw4QFhbG8uXLvfu7du1KeXm5t/Xp0weAL774gtzcXF577TUOHz7MzTffzHPPPRfQ\n",
              "+Cz/TUMPP/wwmzdvZvPmzUyZMsXq7kRE2lxNTQ179uzxZtiECRM4duwYFRUVPsft27ePMWPGcN11\n",
              "12EYBuPGjWPt2rVXvP6f//xn0tLSSElJAWDGjBls2LAhoDFa/sspNm/eTHl5OQ0NDd5tL7zwwmWP\n",
              "d7lcuFwun20OhwOHw2HZGEXEvlqzztzfvDl27BixsbF06uSJTMMwiI+Px+l0kpSU5D1u8ODBrFy5\n",
              "kscee4zrr7+ezZs3U11d7d1//vx5MjIyaG5u5oEHHmD+/PmEh4fjdDp93jKbkJDAiRMnaGpq8vZ5\n",
              "JZZW5jNnzmTt2rWsWbMGwzDYsmULdXV1X3tOYWEhUVFRPq2wsNDKYYqInbXiBmhb501OTg5jx45l\n",
              "xIgRjBgxgr59+3rDODY2lk8//ZQPPviAHTt2UFJSwtKlS4P/vv8PS8N8586d/PGPf6Rnz54sXbqU\n",
              "999/n+PHj3/tOQUFBdTV1fm0goICK4cpIjbWmhug/uZNr169vJUyeH5rmtPpJD4+3ncshsGCBQvY\n",
              "u3cvpaWl9OvXj/79+wOeij86OhqAHj168Oijj1JSUgJAfHw8R48e9V6nurra518C/rA0zCMiIggL\n",
              "C/O+pyUmJobPPvvsa89xOBxERkb6NE2xiMhlteIGqL95Ex0dTXp6OuvWrQNg69atxMXF+UyxgOep\n",
              "99raWgDOnDnD4sWLmTt3LuCZd29sbAQ80zvbtm0jLS0NgLFjx1JWVsbBgwcB+M1vfkN2dnZAPwZL\n",
              "58y7du3KhQsXuOuuu5gyZQoxMTHccMMNVnYpIh1Me72bZeXKleTk5LBo0SIiIyNZvXo1AHl5eWRl\n",
              "ZZGVlUVdXR0jR44kLCwMt9vNrFmzGD9+PAC7du3imWeeITw8nKamJkaNGsX8+fMBT1a+8sorPPDA\n",
              "AzQ1NTFgwABeffXVgMZnmKZ1rxw7deoU3bt3p7m5mRdeeIHa2lpmzZpFr169rOpSQkDi8svfIJfQ\n",
              "c2TW7FadP/z+XwR97l/+GDpLpS2rzJubm5kzZ453Wc6lv4FERNpUiD3JGSzLwjw8PJxDhw5ZdXkR\n",
              "EUCvwL3E0jnzb3/720ybNo2cnBy+8Y1veLcPHDjQym5FpCNxK83B4jDftGkTAG+99ZZ3m2EYHDly\n",
              "xMpuRaQjUZYDFod5VVWVlZcXEZH/Zfnj/NDykdnIyMj26FZEOgDNmXtY+tDQ7t27+eY3v8kNN9xA\n",
              "9+7dvU1EpM2001sTr3WWVuazZs1izZo1TJ8+nb/85S+89NJLREREWNmliHQwqsw9LK3MGxsbueOO\n",
              "O2hqaqJr167Mnz+fjRs3WtmliHQ0+k1DgMWVeefOnQG48cYbKSsro1evXpw+fdrKLkWkgzFCbLok\n",
              "WJaGeXZ2Np9//jlPPvkkI0aMoLGxkZ/97GdWdiki0iFZGuY/+tGPiIiI4N577+Xs2bM0NDTw5Zdf\n",
              "WtmliHQ07qs9gGuDpXPm2dnZXHqPV+fOnWlqaiIzM9PKLkWkgzFMM+gWSiwN81tvvZWZM2cCcO7c\n",
              "OcaNG8e///u/W9mliHQ0ugEKWBzmS5Ys4cyZMzz//POMHz+ehx56iLy8PCu7FJGORuvMAYvmzOvr\n",
              "671fL1++nPvuu49Ro0bxyCOPUF9frydARaTNaJ25hyVh3q1bNwzDwDRN7//u2bOHn//85xiGQXNz\n",
              "sxXdioh0WJaEudut28si0k5CbLokWO3yoi0REasYqh0BhbmI2J0qc0BhLiJ2pywHFOYiYnOh9vBP\n",
              "sCxdZy4iIu1DlbmI2Jsqc0BhLiJ2p9UsgMJcRGxOc+YeCnMRsTeFOaAwFxG7U5gDWs0iIhISVJmL\n",
              "iL3pBiigylxEbK69ftPQ4cOHGTp0KH379iUjI4P9+/e3OMbtdjNnzhwGDBhASkoKubm5XLx4EYCP\n",
              "P/6Y4cOHk5KSwoABA3j00Ud9fo2mYRjcdtttpKamkpqaSklJSUDjU5iLiL210y+nyM/PZ9q0aRw6\n",
              "dIh58+aRk5PT4piioiLKysooKyvjwIEDhIWFsXz5cgAiIiL41a9+xcGDB9m3bx/nz59nyZIlPueX\n",
              "lJRQXl5OeXk5d999d0DjU5iLiL21IsxdLhf19fU+zeVyteiipqaGPXv2MGXKFAAmTJjAsWPHqKio\n",
              "8Dlu3759jBkzhuuuuw7DMBg3bhxr164FIDk5mYEDBwIQHh5ORkYG1dXVbfZjUJiLiL21IswLCwuJ\n",
              "ioryaYWFhS26OHbsGLGxsXTq5LnNaBgG8fHxOJ1On+MGDx5McXEx9fX1NDY2snnz5q8M7PPnz/PK\n",
              "K69w//33+2wfPXo0gwYNYvbs2Zw/fz6gH4PCXEQ6rIKCAurq6nxaQUFB0NfLyclh7NixjBgxghEj\n",
              "RtC3b1/vXwCXXLx4kUmTJnHvvffy3e9+17v96NGjfPjhh5SWlnL69GmeeOKJgPpWmIuIvbmDbw6H\n",
              "g8jISJ/mcDhadNGrVy9OnDhBU1MTAKZp4nQ6iY+P9znOMAwWLFjA3r17KS0tpV+/fvTv39+7v7Gx\n",
              "kUmTJhEbG+udS7/k0rW6dOnCjBkzdANURDqW9ljNEh0dTXp6OuvWrQNg69atxMXFkZSU5HNcQ0MD\n",
              "tbW1AJw5c4bFixczd+5cAJqamsjOzqZHjx6sWrUKwzC859XW1nLhwgXAsyJm06ZNpKWlBfRz0Dpz\n",
              "EbG3dnoCdOXKleTk5LBo0SIiIyNZvXo1AHl5eWRlZZGVlUVdXR0jR44kLCwMt9vNrFmzGD9+PACb\n",
              "Nm1i27ZtDBw40BvUw4YN49e//jUHDx4kPz8fwzBoamoiPT29ReV+JYZp6llYubYkLn/hag9B2tGR\n",
              "WbNbdf64W38S9Ll//mRxq/q+lqgyFxF7Uz0KaM5cRCQkqDIXEXtTZQ4ozEXE7hTmgMJcROzOrTAH\n",
              "hbmI2J2pd+CCwlxE7E7TLIBWs4iIhARV5iJib5ozBxTmImJ3mmYBFOYiYncKc0BhLiJ2pzAHFOYi\n",
              "YnduLU0ErWYREQkJqsxFxN40zQIozEXE7hTmgMJcROxO68wBhbmI2Jypd7MACnMRsTtV5oBWs4iI\n",
              "hARV5iJib7oBCijMRcTu9NAQoDAXEbtTZQ4ozEXE5kxV5oDCXETsTpU5oNUsIiIhQZW5iNib1pkD\n",
              "CnMRsTs9AQoozEXE5kxV5oDmzEXE7kx38C0Ahw8fZujQofTt25eMjAz279/f4hi3282cOXMYMGAA\n",
              "KSkp5ObmcvHiRe/+7du3k5KSQnJyMg8++CD19fV+7fOHwlxEbM10m0G3QOTn5zNt2jQOHTrEvHnz\n",
              "yMnJaXFMUVERZWVllJWVceDAAcLCwli+fDkAX3zxBbm5ubz22mscPnyYm2++meeee+6K+/ylMBcR\n",
              "uYKamhr27NnDlClTAJgwYQLHjh2joqLC57h9+/YxZswYrrvuOgzDYNy4caxduxaAP//5z6SlpZGS\n",
              "kgLAjBkz2LBhwxX3+UthLiL21oppFpfLRX19vU9zuVwtujh27BixsbF06uS5zWgYBvHx8TidTp/j\n",
              "Bg8eTHFxMfX19TQ2NrJ582aqq6sBcDqd9O7d23tsQkICJ06coKmp6Wv3+Us3QK9RLpeLwsJCCgoK\n",
              "cDgcV3s47erIrNlXewjtriP/ebfWW+7fB33uggULWLhwoc+2Z599lgULFgR1vZycHI4ePcqIESO4\n",
              "/vrrGTNmDP/93/8d9PgCocr8GuVyuVi4cOFXVgkSevTnfXUUFBRQV1fn0woKCloc16tXL59K2TRN\n",
              "nE4n8fHxPscZhsGCBQvYu3cvpaWl9OvXj/79+wMQHx/P0aNHvcdWV1d7q/2v2+cvhbmIdFgOh4PI\n",
              "yEif9lX/MoqOjiY9PZ1169YBsHXrVuLi4khKSvI5rqGhgdraWgDOnDnD4sWLmTt3LgBjx46lrKyM\n",
              "gwcPAvCb3/yG7OzsK+7zl6ZZRET8sHLlSnJycli0aBGRkZGsXr0agLy8PLKyssjKyqKuro6RI0cS\n",
              "FhaG2+1m1qxZjB8/HoCuXbvyyiuv8MADD9DU1MSAAQN49dVXr7jPX4Zp6i0116L6+nqioqKoq6sj\n",
              "MjLyag9HLKY/b2ktTbNcoxwOB88++6xuhnUQ+vOW1lJlLiISAlSZi4iEAIW5iEgIUJiLiIQAhXk7\n",
              "SE1NJTU1lX79+hEeHu79PGnSJN59911SU1MDvuaePXuYNGmS9/PKlStJSUkhNTWVzz//vA1HL4Ey\n",
              "DIN//OMfPtsSEhIoLy+/KuORjkHrzNvBpf+Iq6urSU1N9fmP+t133w3qmkOGDGHTpk3ez8uWLWP1\n",
              "6tXceeedrRip2FVTU1NATwtK6FFlfg1oampixowZDBo0iP79+7Nnzx7v9szMTIYMGUL//v35/ve/\n",
              "z/nz5wF8KvqJEydSWVlJTk4OEydOvFrfhvgpISGBp556iqFDh9KrVy9WrFjh/Ys4ISGBjRs3eo/9\n",
              "4IMPGDVqFEOGDCEtLY3f/97zHpLq6mq6devGvHnzSE9P51e/+tXV+nbkWmFKu6mqqjKjoqJ8tu3c\n",
              "udMMDw83d+/ebZqmaf7nf/6nee+995qmaZput9s8c+aM9+vp06ebhYWF3vMGDRrkvU7v3r3NvXv3\n",
              "Wv49yJUBZm1trc+2f/7z6d27t/n444+bpmmahw8fNiMiIsznnnvONE3TfP/9982bbrrJNE3TrK2t\n",
              "NVNTU83PPvvMNE3TPH36tNmrVy/z+PHjZlVVlQmYr776avt8U3LN07/LrgFJSUnccccdANx55538\n",
              "8pe/BDwv83nxxRf505/+RFNTE3V1dQwdOvRqDlVawTAM79eX7nckJSURERHh/RfVkCFDOHv2LP/4\n",
              "xz8oLS3lyJEjjBs3zuc6n3zyCYmJiXTu3Nn7fm0Rhfk1ICIiwvt1eHi4981s69ev55133uG9994j\n",
              "MjKSl156iXfeeedqDVP81LNnTz7//HO6devm3XbmzBmio6O9n//vn/mlz4ZhYBgGTU1NmKZJ//79\n",
              "KS0tbdFHdXU1N9xwA2FhmikVD/0/4RpWW1vLTTfdRGRkJOfOnWPNmjVXe0jih8zMTFauXOn9/Lvf\n",
              "/Y7ExERiY2MDus7QoUOpqqpix44d3m3l5eU+v1NS5BKF+TXshz/8IRcuXODWW29l3Lhx3H333Vd7\n",
              "SOKHZcuWceLECQYOHEhqairr16/33rgMRPfu3fnTn/7EokWLGDRoEP369eMnP/kJbndgv4hYOga9\n",
              "m0VEJASoMhcRCQEKcxGREKAwFxEJAQpzEZEQoDAXSxiGwaJFi7j99tu55ZZbvL8vEWDOnDlkZGSQ\n",
              "mprK8OHD+eSTT3zOe/7557njjjtISEjgtddeo7CwkCFDhpCcnOzzLps333yTu+66i8GDB3P77bez\n",
              "c+fO9vwWRa4tV/cBVAlVgPnLX/7SNE3TPHDggPmNb3zDbGxsNE3TNGtqarzHbdiwwczMzPQ5b9my\n",
              "ZaZpmuaOHTvMLl26mKtXrzZN0zQ3b95sDhkyxDRN06ysrDS/9a1vmXV1daZpeh6Lj4mJMRsaGiz/\n",
              "3kSuRXoCVCwzefJkAFJSUujUqRMnT54kLi6Ot956i//4j//g3LlzuN1uzp4963PepUfdhwwZwvnz\n",
              "58nOzgbg9ttv5/DhwwC88cYbVFRUMHz4cO95YWFhOJ1OkpOT2+PbE7mmKMzFMl/1mgKn08ljjz3G\n",
              "Bx98QJ8+ffjoo498AvmfzwsPD2/x+dKrDkzT5J577mH9+vXt8a2IXPM0Zy7tqq6ujs6dOxMbG4tp\n",
              "mkG/ujUzM5MdO3bw0Ucfebe9//77bTVMEdtRZS7t6rbbbiM7O5v+/ftz44038sADDwR1naSkJNav\n",
              "X09+fj4XLlzg4sWLpKWlqVKXDkuP84uIhABNs4iIhACFuYhICFCYi4iEAIW5iEgIUJiLiIQAhbmI\n",
              "SAhQmIuIhACFuYhICFCYi4iEAIW5iEgIUJiLiISA/wdW3hm2Wb722AAAAABJRU5ErkJggg==\n",
              "\">\n",
              "        \n",
              "      </div>\n",
              "      <script></script>\n",
              "      <script type=\"text/javascript\">\n",
              "        (() => {\n",
              "          const chartElement = document.getElementById(\"chart-d49c9e5c-0fbb-450b-b183-d15864f72bcc\");\n",
              "          async function getCodeForChartHandler(event) {\n",
              "            const chartCodeResponse =  await google.colab.kernel.invokeFunction(\n",
              "                'getCodeForChart', [\"chart-d49c9e5c-0fbb-450b-b183-d15864f72bcc\"], {});\n",
              "            const responseJson = chartCodeResponse.data['application/json'];\n",
              "            await google.colab.notebook.addCell(responseJson.code, 'code');\n",
              "          }\n",
              "          chartElement.onclick = getCodeForChartHandler;\n",
              "        })();\n",
              "      </script>\n",
              "      <style>\n",
              "        .colab-quickchart-chart-with-code  {\n",
              "            display: block;\n",
              "            float: left;\n",
              "            border: 1px solid transparent;\n",
              "        }\n",
              "\n",
              "        .colab-quickchart-chart-with-code:hover {\n",
              "            cursor: pointer;\n",
              "            border: 1px solid #aaa;\n",
              "        }\n",
              "      </style>"
            ]
          },
          "metadata": {}
        },
        {
          "output_type": "display_data",
          "data": {
            "text/plain": [
              "<google.colab._quickchart_helpers.SectionTitle at 0x7bcce5726290>"
            ],
            "text/html": [
              "<h4 class=\"colab-quickchart-section-title\">Faceted distributions</h4>\n",
              "<style>\n",
              "  .colab-quickchart-section-title {\n",
              "      clear: both;\n",
              "  }\n",
              "</style>"
            ]
          },
          "metadata": {}
        },
        {
          "output_type": "display_data",
          "data": {
            "text/plain": [
              "import numpy as np\n",
              "from google.colab import autoviz\n",
              "\n",
              "def violin_plot(df, value_colname, facet_colname, figscale=1, mpl_palette_name='Dark2', **kwargs):\n",
              "  from matplotlib import pyplot as plt\n",
              "  import seaborn as sns\n",
              "  figsize = (12 * figscale, 1.2 * figscale * len(df[facet_colname].unique()))\n",
              "  plt.figure(figsize=figsize)\n",
              "  sns.violinplot(df, x=value_colname, y=facet_colname, palette=mpl_palette_name, **kwargs)\n",
              "  sns.despine(top=True, right=True, bottom=True, left=True)\n",
              "  return autoviz.MplChart.from_current_mpl_state()\n",
              "\n",
              "chart = violin_plot(_df_8, *['index', 'name'], **{'inner': 'stick'})\n",
              "chart"
            ],
            "text/html": [
              "      <div class=\"colab-quickchart-chart-with-code\" id=\"chart-8d978fcb-f778-4f53-b49b-9aae401eafc5\">\n",
              "        <img src=\"data:image/png;base64,iVBORw0KGgoAAAANSUhEUgAAAhgAAACPCAYAAAC4eKLCAAAAOXRFWHRTb2Z0d2FyZQBNYXRwbG90\n",
              "bGliIHZlcnNpb24zLjcuMSwgaHR0cHM6Ly9tYXRwbG90bGliLm9yZy/bCgiHAAAACXBIWXMAAA9h\n",
              "AAAPYQGoP6dpAAAQSUlEQVR4nO3de2yT5f/G8asrsE2zDhAmAx1jDBDGtoJjygDjQGUYiUQnpyAS\n",
              "YSioRCeeIh5BCaKAoonzEMgwRAIqGiH8ATs4AsYtMgUMBAZjBA8IMga4I7t/fxj6c6LY8r27Z53v\n",
              "V9KkLU/bq58gvXyOLmOMEQAAgEVhTgcAAADtDwUDAABYR8EAAADWUTAAAIB1FAwAAGAdBQMAAFhH\n",
              "wQAAANZRMAAAgHUUDAAAYB0FAwAAWEfBAAAA1nVwOkB7YIxRXV2dJCkiIkIul8vhRAAAOIs1GBbU\n",
              "1dUpMzNTmZmZvqIBAMB/GQUDAABYR8EAAADWUTAAAIB1FAwAAGAdBQMAAFhHwQAAANZRMAAAgHUU\n",
              "DAAAYB0FAwAAWEfBAAAA1lEwAACAdRQMAABgHQUDAABYR8EAAADWUTAAAIB1QSsYLpdL1dXVLZ6L\n",
              "j49XeXl5sD4SAAC0Ee1qDUZTU5PTEQAAgBwsGPHx8VqwYIEyMjJ07bXX6t1339WqVas0fPhwxcfH\n",
              "6+OPP/YtW1paqtGjRystLU1DhgzR+vXrJUmVlZXq3LmznnrqKQ0dOlRvv/22U18HAAD8SQcnP/zc\n",
              "uXPasWOHDh48qOTkZD377LPauXOnSktLdfvtt2vy5Mmqrq7W7NmztXnzZsXGxurEiRMaOnSoMjIy\n",
              "JEmnT59WUlKSlixZ8o+fU19fr/r6+hbPhYeHKzw8PKjfDwCA/6pWX4Phcrl89ydNmiRJSkxMVERE\n",
              "hLKzsyVJaWlp+u2331RdXa0dO3bo0KFDGjdunLxer2655RZJ0v79+yVJHTt21LRp0y75mYsXL1Z0\n",
              "dHSL2+LFi4Px9QAAgIK4BqN79+46efKkOnfu7HvuxIkTiomJ8T2OiIjw3Xe73b7HLpdLLpdLTU1N\n",
              "MsYoKSlJO3bsuOgzKisrdcUVVygs7NI96ZlnnlFubm6L51h7AQBA8ARtDcbYsWOVl5fne5yfn6+E\n",
              "hATFxsYG9D4ZGRk6fPiwtm7d6nuuvLxcDQ0Nfr9HeHi4PB5PixsFAwCA4AnaGowVK1bo0UcfVUpK\n",
              "isLCwtSjRw/fzpmB6NKlizZt2qT58+fr8ccfV2Njo+Li4rRx40b7oQEAgBUuY4xxOkSoq62tVWZm\n",
              "piSpsLBQkZGRDicCAMBZ7eo8GAAAoG2gYAAAAOsoGAAAwDoKBgAAsO6yCkZjY6MqKipsZwEAAO1E\n",
              "wAWjqKhIvXv39h01UVpa+q9n0gQAAP8tAReMp59+WiUlJbrqqqskScOGDdOuXbusBwMAAKEr4IJx\n",
              "/vx59e3bt8VznTp1shYIAACEvoALRkREhM6ePeu7aNnu3bs5sRQAAGgh4FOFP/fcc7rtttt07Ngx\n",
              "TZs2TVu3btXatWuDkQ0AAISogAvGbbfdpn79+mnLli0yxuill166aJMJAAD4b7usi5316dNHc+bM\n",
              "sZ0FAAC0EwHvg/HVV18pPT1dXbt2lcfjUVRUlDweTzCyAQCAEBXwGoycnBy98sorSk9Pl9vtDkYm\n",
              "AAAQ4gK+XPuwYcNUWloarDwhyRijuro6SX8cZXPhCBsAAP6rAt5Ecvfdd2vNmjVqaGgIRp6Q5HK5\n",
              "FBkZqcjISMoFAAC6jIIxcOBAzZ07V5GRkXK73QoLC2NTCQAAaCHgTSQJCQn64IMPlJaW1qJYXHnl\n",
              "ldbDAQCA0BTwTp4xMTEaPXp0MLIAAIB2IuA1GK+++qo8Ho8mTpyoiIgI3/McqgoAAC4IuGCEhf3/\n",
              "bhsul0vGGLlcLp0/f956OAAAELi2cHRjwJtImpubg5EDAABYUldXp8zMTElSYWGhIxclDfgoEgAA\n",
              "gH8TcME4cOCAxo0bp549e6pr166+GwAAwAUBF4ycnBzNmDFDXbp0UXFxsbKzszV//vxgZAMAACEq\n",
              "4IJRU1OjSZMmKSwsTMnJycrLy9PGjRuDEA0AAISqgAtGx44dJUlRUVGqrKxUfX29Tpw4YT0YAAAI\n",
              "XQEfRXLTTTfp5MmTevjhh3X99derU6dOmjx5cjCyAQCAEBXweTD+7OjRozp9+rQGDx5sMxMAAPgf\n",
              "1NbWhuZhqs3Nzfrxxx9ljJHH41FVVZXtXAAAIIQFvIlk9erVmjdvnjp27Og7q6fL5dLx48ethwMA\n",
              "AKEp4IKxcOFClZaWasCAAcHIAwAA2oGAN5F069aNcgEAAC4p4IIxYcIErVixQsePH1dNTY3vBgAA\n",
              "cAFXUwUAoJ1pC0eRcDVVAABgHVdTBQAA1gW9YHi9Xnm9Xg0aNEhut9v3eNKkSSoqKpLX6w34PcvK\n",
              "yjRp0iTf47y8PF133XXyer06efKkxfQAAOByBLyJJFDl5eWSpMrKSnm9Xt9jSSoqKrqs90xLS9O6\n",
              "det8j1esWKFVq1Zp+PDh/0NSAABgi+ObSJqamjR37lylpqYqKSlJZWVlvufHjh2rtLQ0JSUlaerU\n",
              "qTp37pwktVjzkZ2drYqKCs2YMUPZ2dlOfQ0AAPAnjheMffv26b777tN3332nRx55RM8++6wkye12\n",
              "a+3atSorK9OePXsUHR2tlStXXvT6DRs2qGfPnlq3bp02bNjwt59RX1/f4pDampoa1dfXB/V7AQDw\n",
              "X+Z4wUhMTNQNN9wgSRo+fLgqKiokScYYLV++XEOGDFFKSoo2bdrUYvNKIBYvXqzo6OgWt8WLF9v6\n",
              "CgAA4C+Cvg/Gv4mIiPDdd7vdampqkiStXbtWBQUFKi4ulsfj0VtvvaWCgoLL+oxnnnlGubm5LZ4L\n",
              "Dw+//NAAAOCSHC8Y/+TUqVPq1q2bPB6Pzpw5o9WrVysuLu6y3is8PJxCAQBAK3J8E8k/mT59un7/\n",
              "/XcNGDBA48aN06hRo5yOBAAA/BTwqcIBAEDb1hZOFd5m12AAAIDQRcEAAADWUTAAAIB1FAwAAGAd\n",
              "BQMAAFhHwQAAANZRMAAAgHUUDAAAYB0FAwAAWEfBAAAA1lEwAACAdRQMAABgHQUDAABYR8EAAADW\n",
              "cbl2AADaGWOM6urqJEkRERFyuVytnoGCAQAArGMTCQAAsI6CAQAArKNgWFJfX68XX3xR9fX1Tkdp\n",
              "F5infczULuZpHzO1y+l5sg+GJTU1NYqOjtbp06fl8XicjhPymKd9zNQu5mkfM7XL6XmyBgMAAFhH\n",
              "wQAAANZRMAAAgHUUDEvCw8P1wgsvKDw83Oko7QLztI+Z2sU87WOmdjk9T3byBAAA1rEGAwAAWEfB\n",
              "AAAA1lEwAACAdRSMAB04cEAZGRnq37+/hg0bpr179/7tch9++KH69eunvn37KicnR42Nja2cNDT4\n",
              "M8+CggKlp6dr0KBBSkpK0pNPPqnm5mYH0oYGf/+OSn9ccXH06NHq3Llz6wUMMf7Oc/fu3br55ps1\n",
              "cOBADRw4UJ9++mkrJw0d/sy0ublZubm5GjRokFJSUpSZmamDBw86kLbtmzdvnuLj4+VyuVReXv6P\n",
              "y7X675JBQDIzM82qVauMMcasX7/epKWlXbTMoUOHTGxsrPnpp59Mc3OzGT9+vHn77bdbOWlo8Gee\n",
              "3377ramoqDDGGFNbW2tGjBjhew0u5s9ML3jjjTfMrFmzTHR0dOuEC0H+zPPcuXOmT58+pqSkxBhj\n",
              "TFNTkzl+/Hhrxgwp/sz0s88+M+np6aahocEYY8zChQvNPffc05oxQ0ZxcbE5evSo6d27t9m1a9ff\n",
              "LuPE7xIFIwC//PKLiYqKMo2NjcYYY5qbm83VV19tDhw40GK51157zTzwwAO+x5s2bTIjRoxo1ayh\n",
              "wN95/tVDDz1kXnjhhVZIGHoCmemePXvMqFGjzMGDBykY/8Dfeb7//vtmypQpTkQMOf7OdOPGjSY1\n",
              "NdXU1NSY5uZm88QTT5jHHnvMicgh41IFw4nfJTaRBODo0aOKjY1Vhw4dJEkul0txcXGqqqpqsVxV\n",
              "VZV69+7texwfH3/RMvB/nn/2888/a8OGDbrjjjtaK2ZI8XemjY2NysnJUV5entxutxNRQ4K/8/zh\n",
              "hx8UHh6uO+64Q16vV9OnT9evv/7qROQ2z9+Zjh8/XjfffLN69Oih2NhYbdu2TS+//LITkdsFJ36X\n",
              "KBgIGTU1NRo/fryefPJJpaWlOR0npL300ku66667NHDgQKejtAtNTU3aunWr8vLytGvXLvXq1Utz\n",
              "5sxxOlZIKysr0549e3Ts2DH9+OOPGjNmjB588EGnYyEAFIwAXHvttfrpp5/U1NQk6Y8d5KqqqhQX\n",
              "F9diubi4OB05csT3uLKy8qJl4P88JenMmTPKysrSnXfeqdzc3NaOGjL8nWlxcbFWrlyp+Ph4jRw5\n",
              "UjU1NYqPj+f/uv8ikP/mMzMz1atXL7lcLk2bNk1ff/21E5HbPH9nmp+f79sBOSwsTPfdd58KCwud\n",
              "iNwuOPG7RMEIQExMjIYOHaqPPvpIkvTJJ5/ommuuUWJiYovl7r77bn3xxRf6+eefZYzRu+++q8mT\n",
              "JzsRuU3zd55nz55VVlaWsrKytGDBAieihgx/Z1pSUqIjR46osrJS27dvl8fjUWVlpbp37+5E7DbL\n",
              "33lOnDhRpaWlqqmpkSRt3rxZqamprZ43FPg704SEBBUUFKihoUGS9OWXX2rw4MGtnre9cOR3Kah7\n",
              "eLRD+/btMzfeeKPp16+fuf766833339vjDFm5syZ5vPPP/ct995775mEhASTkJBg7r//ft+e0GjJ\n",
              "n3kuWrTIdOjQwaSmpvpuixYtcjJ2m+bv39ELDh8+zE6el+DvPPPz801SUpJJTk42WVlZpqqqyqnI\n",
              "bZ4/M62rqzOzZs0y1113nUlOTja33nqr72gytDR79mzTq1cv43a7TUxMjOnbt68xxvnfJa5FAgAA\n",
              "rGMTCQAAsI6CAQAArKNgAAAA6ygYAILG6/XqzJkzAb8uOztbq1evth8IQKvp4HQAAO3XpS68BKB9\n",
              "Yw0GgKBxuVyqrq6W9MepiZ9//nkNHz5cffr00aJFi3zL7du3TxkZGUpKStKECRN855OQ/jjJWk5O\n",
              "jtLT05WSkqLZs2eroaFB+/fv1zXXXKNDhw5Jkl5//XVlZWVxpV2gjaBgAGg11dXV2rlzp0pLS7V0\n",
              "6VIdO3ZMknTvvfdq5syZ2rt3rxYuXKji4mLfax5//HGNGjVK33zzjb777js1NzfrzTff1IABA7R0\n",
              "6VJNnDhRRUVFeuedd7RmzRqFhfHPGtAWsIkEQKuZOnWqJKlbt25KSEjQ4cOHFRUVpfLycs2YMUOS\n",
              "lJycrJEjR/pes3HjRu3cuVPLli2TJNXW1vou0DZlyhQVFhZq7Nix2rZtG2ciBdoQCgaAVhMREeG7\n",
              "73a7fdej+CuXy+W7b4zRJ598ov79+1+0XFNTk/bs2aOuXbv61oYAaBtYlwjAUR6PR0OGDFF+fr4k\n",
              "ae/evdq+fbvvzydMmKAlS5b4ysipU6d08OBBSdLTTz+tAQMGqKSkRPPnz/c9D8B5FAwAjsvPz9d7\n",
              "772nwYMHa8GCBbrpppt8f7Z8+XJFRkbK6/UqJSVFY8aMUWVlpb788ktt2bJF77zzjhITE7Vs2TJN\n",
              "nDhRdXV1Dn4TABdwLRIAAGAdazAAAIB1FAwAAGAdBQMAAFhHwQAAANZRMAAAgHUUDAAAYB0FAwAA\n",
              "WEfBAAAA1lEwAACAdRQMAABg3f8B8y/GLxUHlrcAAAAASUVORK5CYII=\n",
              "\">\n",
              "        \n",
              "      </div>\n",
              "      <script></script>\n",
              "      <script type=\"text/javascript\">\n",
              "        (() => {\n",
              "          const chartElement = document.getElementById(\"chart-8d978fcb-f778-4f53-b49b-9aae401eafc5\");\n",
              "          async function getCodeForChartHandler(event) {\n",
              "            const chartCodeResponse =  await google.colab.kernel.invokeFunction(\n",
              "                'getCodeForChart', [\"chart-8d978fcb-f778-4f53-b49b-9aae401eafc5\"], {});\n",
              "            const responseJson = chartCodeResponse.data['application/json'];\n",
              "            await google.colab.notebook.addCell(responseJson.code, 'code');\n",
              "          }\n",
              "          chartElement.onclick = getCodeForChartHandler;\n",
              "        })();\n",
              "      </script>\n",
              "      <style>\n",
              "        .colab-quickchart-chart-with-code  {\n",
              "            display: block;\n",
              "            float: left;\n",
              "            border: 1px solid transparent;\n",
              "        }\n",
              "\n",
              "        .colab-quickchart-chart-with-code:hover {\n",
              "            cursor: pointer;\n",
              "            border: 1px solid #aaa;\n",
              "        }\n",
              "      </style>"
            ]
          },
          "metadata": {}
        },
        {
          "output_type": "display_data",
          "data": {
            "text/plain": [
              "import numpy as np\n",
              "from google.colab import autoviz\n",
              "\n",
              "def violin_plot(df, value_colname, facet_colname, figscale=1, mpl_palette_name='Dark2', **kwargs):\n",
              "  from matplotlib import pyplot as plt\n",
              "  import seaborn as sns\n",
              "  figsize = (12 * figscale, 1.2 * figscale * len(df[facet_colname].unique()))\n",
              "  plt.figure(figsize=figsize)\n",
              "  sns.violinplot(df, x=value_colname, y=facet_colname, palette=mpl_palette_name, **kwargs)\n",
              "  sns.despine(top=True, right=True, bottom=True, left=True)\n",
              "  return autoviz.MplChart.from_current_mpl_state()\n",
              "\n",
              "chart = violin_plot(_df_9, *['index', 'city'], **{'inner': 'stick'})\n",
              "chart"
            ],
            "text/html": [
              "      <div class=\"colab-quickchart-chart-with-code\" id=\"chart-550535c5-6d9d-4263-9802-fd2ce82188ce\">\n",
              "        <img src=\"data:image/png;base64,iVBORw0KGgoAAAANSUhEUgAAAiMAAACPCAYAAAAoa9sNAAAAOXRFWHRTb2Z0d2FyZQBNYXRwbG90\n",
              "bGliIHZlcnNpb24zLjcuMSwgaHR0cHM6Ly9tYXRwbG90bGliLm9yZy/bCgiHAAAACXBIWXMAAA9h\n",
              "AAAPYQGoP6dpAAAQyElEQVR4nO3de1BUdR/H8c8RJtAUNC9lliHhBVEgL5SmPa7aRBevmYlFWnjL\n",
              "migq7TZ2kRlGTR0zSk2tzH/KTDMqKw0dNLSYJNPCUEOazGwckQoWRH7PH0478eRjS+3uj4X3a2Zn\n",
              "4OzvLJ/9jrofzx72OMYYIwAAAEua2Q4AAACaNsoIAACwijICAACsoowAAACrKCMAAMAqyggAALCK\n",
              "MgIAAKyijAAAAKsoIwAAwCrKCAAAsIoyAgAArAq1HaApMcbI7XZLksLDw+U4juVEAADYx5GRAHK7\n",
              "3XK5XHK5XJ5SAgBAU0cZAQAAVlFGAACAVZQRAABgFWUEAABYRRkBAABWUUYAAIBVlBEAAGAVZQQA\n",
              "AFhFGQEAAFZRRgAAgFWUEQAAYBVlBAAAWEUZAQAAVlFGAACAVZQRAABgld/KiOM4Kisr89fD/1/b\n",
              "tm1TYmLiOe87evSoBg8eHNhAAADgvBrskZGamhqfP+all16qvLw8nz8uAAD45/xeRowxmj17tkaO\n",
              "HKmKigotWrRI/fv3V2Jiovr376/8/HzP2qioKM2ePVtJSUmaNGmSjh07JpfLpb59+youLk7333+/\n",
              "amtrPevnzZun3r17KyEhQddcc40qKioknS0yM2fOVEJCguLi4lRQUCBJKikpUevWrf39lAEAQD2E\n",
              "+vPBq6qqlJKSorZt22rDhg0KCQlRamqqMjIyJEm7du3S5MmTVVRU5NnnxIkT2r17txzHkdvt1nvv\n",
              "vaeWLVvqzJkzGjVqlN566y1NmDBBr7/+utavX68dO3YoMjJSJ0+eVFhYmCSpqKhIq1at0ksvvaRl\n",
              "y5bpySef1EcffeRV3qqqqjrbwsLCPI8LAAB8z69HRm6++WbFxcUpOztbISEhkqQ9e/boP//5j3r1\n",
              "6qUZM2bowIEDqqys9OwzefJkOY4jSaqtrdXs2bOVkJCgq666SgUFBSosLJQk5eTkaMaMGYqMjJQk\n",
              "tWnTxvMzYmJidPXVV0uSBgwYoEOHDnmVNysrS5GRkXVuWVlZPpkFAAA4N78eGRk6dKg++eQTpaen\n",
              "KyIiQtXV1Ro7dqxyc3PVv39/lZeXKzIyUlVVVWrevLkkqWXLlp79Fy1apOPHj2v37t0KDw9XRkaG\n",
              "3G733/7c8PBwz9chISFen3/y+OOPe47a/IGjIgAA+Jdfj4w88cQTGjt2rIYPH64TJ07I7Xarurpa\n",
              "nTt3liQtXbr0vPufPHlSl1xyicLDw3Xs2DGtW7fOc9/IkSO1bNkynTp1SpJUVlamM2fO/Ku8YWFh\n",
              "ioiIqHOjjAAA4F9+PTIiSQ8++KAuvPBCDR06VB999JEyMzOVlJSkdu3aacKECefdNz09XePGjVNc\n",
              "XJwuvfRSDR8+3HNfamqqjh49qoEDByo0NFQXXnihtmzZ4u+nAwAAfMwxxhjbIZqKyspKuVwuSVJu\n",
              "bq7nrSkAAJqyBvs5IwAAoGmgjAAAAKsoIwAAwCrKCAAAsIoyAgAArKKMAAAAqygjAADAKsoIAACw\n",
              "ijICAACsoowAAACr6l1GUlJS9Nlnn/kjCwAAaILqXUZcLpdmzpypPn36aNWqVXK73f7IBQAAmoh6\n",
              "l5Fp06apsLBQL7zwgrZu3aouXbpo1qxZOnLkiD/yAQCARu4fnzPSvXt3xcbGKjQ0VEVFRRo0aJDm\n",
              "zZvny2wAAKAJcIwxpj477Nq1S0uXLtW2bds0efJkzZw5U506ddLvv/+u2NhYlZaW+itr0DPGeN7W\n",
              "Cg8Pl+M4lhMBAGBfvctIfHy80tPTdccddyg8PLzOfcuXL9f06dN9GhAAADRu9S4jH374oW688cY6\n",
              "2zZv3qzk5GSfBgMAAE1DvctInz599OWXX/7tNgAAAG+Eervwu+++U1FRkU6dOqVNmzZ5tp86dUoV\n",
              "FRV+CQcAABo/r8tIfn6+XnvtNR0/flyLFy/2bI+IiNDChQv9Eg4AADR+9X6bZtWqVUpLS/NXHgAA\n",
              "EEAN4Tc9vS4jxcXF6tq1q/bu3XvO++Pj430aDAAA+F9lZaVcLpckKTc3V82bNw94Bq/fpnnooYeU\n",
              "k5OjUaNGyXEc/bnDOI6jw4cP+yUgAABo3LwuIzk5OZKkJUuWaPDgwWrTpo0k6eTJk9q5c6d/0gEA\n",
              "gEav3h8HP2fOHE8RkaTWrVtrzpw5Pg0FAACajn98bZo/OI6jM2fO+CILAABogupdRlq1aqXPPvvM\n",
              "8/3OnTvVqlUrn4YCAABNh9fnjPxh/vz5GjNmjHr06CHp7G/ZbNiwwefBAABA01DvMjJgwAB9++23\n",
              "ys/PlyQNHDhQrVu39nUuAADQRNS7jEhSmzZtdNNNN/k6CwAAaIL+9QmsAAAA/wZlBAAAWEUZAQAA\n",
              "VlFGAACAVZQRAABgFWUEAABYRRkBAABWBUUZiYqKUmFhYZ1tQ4YM0caNG+v1OO3atVNJSYnPcgEA\n",
              "gH8vKMoIAABovIK6jFRUVOjiiy9WRUWFZ9vEiRP18ssvS5I2bdqk2NhYxcfHa9asWbZiAgCA8wia\n",
              "MnL77bcrMTHRcysoKFCLFi00fPhwrV27VpL0888/a8uWLUpNTdXx48d19913a/369dq7d69iYmJ0\n",
              "4sSJ8/6MqqoqlZeX17lVVVUF4ukBANBkBU0ZefPNN1VYWOi59evXT5KUnp6u7OxsSdIrr7yilJQU\n",
              "tWzZUrt27VJ8fLx69uwpSUpLS9MFF1xw3p+RlZWlyMjIOresrCz/PjEAAJq4f3ShvIYkKSlJLVq0\n",
              "UG5urlasWKEtW7acc53jOH/7WI8//rgyMjLqbAsLC/NJTgAAcG5Bc2TkfNLT03XXXXcpNjZW3bp1\n",
              "kyQNGDBAe/fuVVFRkSRp9erVqq6uPu/jhIWFKSIios6NMgIAgH81ijIybtw4/fbbb7r//vs929q3\n",
              "b6/Vq1drzJgxSkhIUHFxsdq2bWsxJQAAOBfHGGNsh/i3CgoKNHHiRBUVFalZs0bRrwAACIjKykq5\n",
              "XC5JUm5urpo3bx7wDEF/zsiUKVP08ccfa+XKlRQRAACCUNCXkZUrV9qOAAAA/gUOJQAAAKsoIwAA\n",
              "wCrKCAAAsIoyAgAArKKMAAAAqygjAADAKsoIAACwijICAACsoowAAACrKCMAAMAqyggAALCKMgIA\n",
              "AKxyjDHGdggAAGCHMUZut1uSFB4eLsdxAp6BMgIAAKzibRoAAGAVZQQAAFhFGQmwqqoqPfPMM6qq\n",
              "qrIdpdFgpr7FPH2PmfoW8/Q92zPlnJEAKy8vV2RkpE6dOqWIiAjbcRoFZupbzNP3mKlvMU/fsz1T\n",
              "jowAAACrKCMAAMAqyggAALCKMhJgYWFhevrppxUWFmY7SqPBTH2LefoeM/Ut5ul7tmfKCawAAMAq\n",
              "jowAAACrKCMAAMAqyggAALCKMuInxcXFGjhwoLp166b+/ftr//7951y3atUqde3aVVdeeaWmTp2q\n",
              "06dPBzhp8PBmpp9++qmSkpLUs2dPxcXFadasWaqtrbWQtuHz9s+odPaqnkOHDlXr1q0DFzAIeTvT\n",
              "r7/+WkOGDFFsbKxiY2P1zjvvBDhpcPBmnrW1tcrIyFDPnj0VHx8vl8ulgwcPWkjb8D3wwAOKioqS\n",
              "4zgqLCz8v+usvC4Z+IXL5TKvvvqqMcaYdevWmX79+v1lzeHDh03Hjh3NTz/9ZGpra82IESPMiy++\n",
              "GOCkwcObmX755Zfm0KFDxhhjKisrzbXXXuvZB3V5M88/LFy40EyZMsVERkYGJlyQ8mamv//+u+nS\n",
              "pYvJy8szxhhTU1Njjh8/HsiYQcObeW7YsMEkJSWZ6upqY4wxc+fONbfddlsgYwaN7du3mx9++MFc\n",
              "ccUVZs+ePedcY+t1iTLiBz///LNp1aqVOX36tDHGmNraWnPxxReb4uLiOuvmz59vpk+f7vn+/fff\n",
              "N9dee21AswYLb2f6v+677z7z9NNPByBhcKnPPPft22cGDx5sDh48SBk5D29n+sorr5iUlBQbEYOK\n",
              "t/PcuHGjSUhIMOXl5aa2ttY8+uij5qGHHrIROWicr4zYel3ibRo/+OGHH9SxY0eFhoZKkhzHUefO\n",
              "nVVaWlpnXWlpqa644grP91FRUX9Zg7O8nemfHTt2TG+//bZuueWWQMUMGt7O8/Tp05o6daqWL1+u\n",
              "kJAQG1GDhrcz/eabbxQWFqZbbrlFiYmJuuuuu/TLL7/YiNygeTvPESNGaMiQIbrkkkvUsWNHbd26\n",
              "Vc8995yNyI2CrdclyggapfLyco0YMUKzZs1Sv379bMcJWs8++6zGjh2r2NhY21EajZqaGm3ZskXL\n",
              "ly/Xnj171KlTJ9177722YwWtgoIC7du3Tz/++KOOHj2qYcOGacaMGbZjoZ4oI35w+eWX66efflJN\n",
              "TY2ksyf/lZaWqnPnznXWde7cWUeOHPF8X1JS8pc1OMvbmUrSr7/+quTkZI0aNUoZGRmBjhoUvJ3n\n",
              "9u3btXTpUkVFRWnQoEEqLy9XVFQU/5M/h/r8vXe5XOrUqZMcx9Gdd96pXbt22YjcoHk7zzVr1nhO\n",
              "rm7WrJkmTZqk3NxcG5EbBVuvS5QRP+jQoYP69OmjtWvXSpLWr1+vyy67TDExMXXW3Xrrrdq0aZOO\n",
              "HTsmY4yWLVumCRMm2Ijc4Hk7099++03JyclKTk7WU089ZSNqUPB2nnl5eTpy5IhKSkq0Y8cORURE\n",
              "qKSkRO3bt7cRu0Hzdqbjx4/XF198ofLycknSBx98oISEhIDnbei8nWd0dLQ+/fRTVVdXS5JycnLU\n",
              "q1evgOdtLKy9Lvn9rJQmqqioyFxzzTWma9eupm/fvmbv3r3GGGPS0tLMu+++61m3YsUKEx0dbaKj\n",
              "o80999zjOSMcf+XNTDMzM01oaKhJSEjw3DIzM23GbrC8/TP6h++//54TWP+GtzNds2aNiYuLM717\n",
              "9zbJycmmtLTUVuQGzZt5ut1uM2XKFNOjRw/Tu3dvc/3113t+ow51TZs2zXTq1MmEhISYDh06mCuv\n",
              "vNIY0zBel7g2DQAAsIq3aQAAgFWUEQAAYBVlBAAAWEUZAWBdYmKifv3113rvN27cOL322mu+DwQg\n",
              "oEJtBwCA8120C0Djx5ERANY5jqOysjJJZz9+es6cORowYIC6dOmizMxMz7qioiINHDhQcXFxGj16\n",
              "tOezOqSzH3Y3depUJSUlKT4+XtOmTVN1dbUOHDigyy67TIcPH5YkPf/880pOTuZqzkADQhkB0OCU\n",
              "lZUpPz9fX3zxhRYsWKAff/xRkpSamqq0tDTt379fc+fO1fbt2z37PPzwwxo8eLA+//xzffXVV6qt\n",
              "rdWSJUvUvXt3LViwQOPHj9e2bduUnZ2tN954Q82a8c8f0FDwNg2ABmfixImSpHbt2ik6Olrff/+9\n",
              "WrVqpcLCQk2ePFmS1Lt3bw0aNMizz8aNG5Wfn69FixZJkiorKz0X90tJSVFubq5uuOEGbd26lU+Q\n",
              "BRoYygiABic8PNzzdUhIiOf6JP/LcRzP18YYrV+/Xt26dfvLupqaGu3bt08XXXSR5ygLgIaD45QA\n",
              "gkJERISuuuoqrVmzRpK0f/9+7dixw3P/6NGjNW/ePE9xOXnypA4ePChJeuyxx9S9e3fl5eXpkUce\n",
              "8WwH0DBQRgAEjTVr1mjFihXq1auXnnrqKV133XWe+xYvXqzmzZsrMTFR8fHxGjZsmEpKSpSTk6PN\n",
              "mzcrOztbMTExWrRokcaPHy+3223xmQD4M65NAwAArOLICAAAsIoyAgAArKKMAAAAqygjAADAKsoI\n",
              "AACwijICAACsoowAAACrKCMAAMAqyggAALCKMgIAAKz6L0jkd4xDkE7dAAAAAElFTkSuQmCC\n",
              "\">\n",
              "        \n",
              "      </div>\n",
              "      <script></script>\n",
              "      <script type=\"text/javascript\">\n",
              "        (() => {\n",
              "          const chartElement = document.getElementById(\"chart-550535c5-6d9d-4263-9802-fd2ce82188ce\");\n",
              "          async function getCodeForChartHandler(event) {\n",
              "            const chartCodeResponse =  await google.colab.kernel.invokeFunction(\n",
              "                'getCodeForChart', [\"chart-550535c5-6d9d-4263-9802-fd2ce82188ce\"], {});\n",
              "            const responseJson = chartCodeResponse.data['application/json'];\n",
              "            await google.colab.notebook.addCell(responseJson.code, 'code');\n",
              "          }\n",
              "          chartElement.onclick = getCodeForChartHandler;\n",
              "        })();\n",
              "      </script>\n",
              "      <style>\n",
              "        .colab-quickchart-chart-with-code  {\n",
              "            display: block;\n",
              "            float: left;\n",
              "            border: 1px solid transparent;\n",
              "        }\n",
              "\n",
              "        .colab-quickchart-chart-with-code:hover {\n",
              "            cursor: pointer;\n",
              "            border: 1px solid #aaa;\n",
              "        }\n",
              "      </style>"
            ]
          },
          "metadata": {}
        },
        {
          "output_type": "display_data",
          "data": {
            "text/plain": [
              "import numpy as np\n",
              "from google.colab import autoviz\n",
              "\n",
              "def violin_plot(df, value_colname, facet_colname, figscale=1, mpl_palette_name='Dark2', **kwargs):\n",
              "  from matplotlib import pyplot as plt\n",
              "  import seaborn as sns\n",
              "  figsize = (12 * figscale, 1.2 * figscale * len(df[facet_colname].unique()))\n",
              "  plt.figure(figsize=figsize)\n",
              "  sns.violinplot(df, x=value_colname, y=facet_colname, palette=mpl_palette_name, **kwargs)\n",
              "  sns.despine(top=True, right=True, bottom=True, left=True)\n",
              "  return autoviz.MplChart.from_current_mpl_state()\n",
              "\n",
              "chart = violin_plot(_df_10, *['marks', 'name'], **{'inner': 'stick'})\n",
              "chart"
            ],
            "text/html": [
              "      <div class=\"colab-quickchart-chart-with-code\" id=\"chart-8ac985b8-a143-44be-b538-05e78ee9b59a\">\n",
              "        <img src=\"data:image/png;base64,iVBORw0KGgoAAAANSUhEUgAAAhgAAACPCAYAAAC4eKLCAAAAOXRFWHRTb2Z0d2FyZQBNYXRwbG90\n",
              "bGliIHZlcnNpb24zLjcuMSwgaHR0cHM6Ly9tYXRwbG90bGliLm9yZy/bCgiHAAAACXBIWXMAAA9h\n",
              "AAAPYQGoP6dpAAAQz0lEQVR4nO3dfUyV9f/H8dfhKOeoeBDvtQRTAQ2Fox1QbOpwzbu5bhaKNfN2\n",
              "tnLaWunMtNQ1JXV9ZelaVi5NY2qudM5WaQi1bAqbmDYrJTFn3oECRoKgn98fzvOTDPwev9fxOuDz\n",
              "sZ2N6xpc1/t6Dy9ffD7XjcMYYwQAAGChMLsLAAAATQ8BAwAAWI6AAQAALEfAAAAAliNgAAAAyxEw\n",
              "AACA5QgYAADAcgQMAABgOQIGAACwHAEDAABYjoABAAAs18zuApoCY4yqqqokSW63Ww6Hw+aKAACw\n",
              "FyMYFqiqqlJaWprS0tL8QQMAgPsZAQMAAFiOgAEAACxHwAAAAJYjYAAAAMsRMAAAgOUIGAAAwHIE\n",
              "DAAAYDkCBgAAsBwBAwAAWI6AAQAALEfAAAAAliNgAAAAyxEwAACA5QgYAADAcgQMAABguaAFDIfD\n",
              "obKysjrrunfvrsLCwmDtEgAAhIgmNYJRW1trdwkAAEA2Bozu3btr4cKFGjx4sLp166b3339fH3/8\n",
              "sVJTU9W9e3dt3rzZ/735+fkaPny4fD6f+vfvr88++0ySVFxcrDZt2mjevHkaMGCA1qxZY9fhAACA\n",
              "WzSzc+eVlZXat2+fjh8/rn79+mnBggX68ccflZ+frzFjxmjChAkqKyvT888/ry+//FJdunRRSUmJ\n",
              "BgwYoMGDB0uSysvLlZCQoOXLl9e7n+rqalVXV9dZ53K55HK5gnp8AADcr+75CIbD4fB/nZGRIUnq\n",
              "1auX3G630tPTJUk+n08XL15UWVmZ9u3bp99//12jR4+W1+vVY489Jkn69ddfJUnNmzfXxIkTG9xn\n",
              "ZmamIiMj63wyMzODcXgAAEBBHMHo0KGDSktL1aZNG/+6kpISdezY0b/sdrv9XzudTv+yw+GQw+FQ\n",
              "bW2tjDFKSEjQvn37bttHcXGxWrZsqbCwhnPS/Pnz9corr9RZx+gFAADBE7QRjJEjR2rt2rX+5U8+\n",
              "+UQ9evRQly5dAtrO4MGDdeLECe3Zs8e/rrCwUFevXv2vt+FyueTxeOp8CBgAAARP0EYwsrKy9PLL\n",
              "LysxMVFhYWHq3Lmz/+LMQERFRWnXrl2aM2eOXn31VdXU1Cg6Olrbt2+3vmgAAGAJhzHG2F1EY3fl\n",
              "yhWlpaVJkvbu3asWLVrYXBEAAPZqUs/BAAAAoYGAAQAALEfAAAAAliNgAAAAy91VwKipqVFRUZHV\n",
              "tQAAgCYi4ICRm5urmJgY/10T+fn5d3ySJgAAuL8EHDBee+01ff/992rXrp0kKTk5WQcPHrS8MAAA\n",
              "0HgFHDCuXbumnj171lkXHh5uWUEAAKDxCzhguN1u/fXXX/6Xlh0+fJgHSwEAgDoCflT4G2+8oREj\n",
              "Ruj06dOaOHGi9uzZo+zs7GDUBgAAGqmAA8aIESMUGxurr776SsYYLVmy5LYpEwAAcH+7q5edPfTQ\n",
              "Q3rxxRetrgUAADQRAV+D8d133yklJUVt27aVx+NR69at5fF4glEbAABopAIewZgxY4aWLl2qlJQU\n",
              "OZ3OYNQEAAAauYBf156cnKz8/Pxg1dMoGWNUVVUl6cZdNjfvsAEA4H4V8BTJ008/rY0bN+rq1avB\n",
              "qKdRcjgcatGihVq0aEG4AABAdxEw+vTpo5kzZ6pFixZyOp0KCwtjqgQAANQR8BRJjx499NFHH8nn\n",
              "89UJFq1atbK8OAAA0DgFfJFnx44dNXz48GDUAgAAmoiARzCWLVsmj8ej8ePHy+12+9dzqyoAALgp\n",
              "4IARFvb/l204HA4ZY+RwOHTt2jXLiwMAAIELhbsbA54iuX79ejDqAAAAFqmqqlJaWpokae/evba8\n",
              "lDTgu0gAAADuJOCAcezYMY0ePVpdu3ZV27Zt/R8AAICbAg4YM2bM0JQpUxQVFaW8vDylp6drzpw5\n",
              "wagNAAA0UgEHjIqKCmVkZCgsLEz9+vXT2rVrtX379iCUBgAAGquAA0bz5s0lSa1bt1ZxcbGqq6tV\n",
              "UlJieWEAAKDxCvgukqFDh6q0tFSzZs3SI488ovDwcE2YMCEYtQEAgEYq4Odg3OrUqVMqLy9X3759\n",
              "rawJAAD8D65cudI4b1O9fv26/vzzTxlj5PF49Mcff1hdFwAAaMQCniJZv369XnrpJTVv3tz/VE+H\n",
              "w6Hz589bXhwAAGicAg4Yb731lvLz8xUfHx+MegAAQBMQ8BRJ+/btCRcAAKBBAQeMJ598UllZWTp/\n",
              "/rwqKir8HwAAgJt4myoAAE1MKNxFwttUAQCA5XibKgAAsFzQA4bX65XX69XDDz8sp9PpX87IyFBu\n",
              "bq68Xm/A2ywoKFBGRoZ/ee3aterdu7e8Xq9KS0strB4AANyNgKdIAlVYWChJKi4ultfr9S9LUm5u\n",
              "7l1t0+fzacuWLf7lrKwsffzxx0pNTf0fKgUAAFaxfYqktrZWM2fOVFJSkhISElRQUOBfP3LkSPl8\n",
              "PiUkJOjZZ59VZWWlJNUZ+UhPT1dRUZGmTJmi9PR0uw4DAADcwvaA8csvv2jy5Mk6dOiQZs+erQUL\n",
              "FkiSnE6nsrOzVVBQoCNHjigyMlKrV6++7ee3bdumrl27asuWLdq2bdu/7qO6urrOLbUVFRWqrq4O\n",
              "6nEBAHA/sz1g9OrVSwMHDpQkpaamqqioSJJkjNGqVavUv39/JSYmateuXXWmVwKRmZmpyMjIOp/M\n",
              "zEyrDgEAAPxD0K/BuBO32+3/2ul0qra2VpKUnZ2tnJwc5eXlyePx6N1331VOTs5d7WP+/Pl65ZVX\n",
              "6qxzuVx3XzQAAGiQ7QGjPpcuXVL79u3l8Xh0+fJlrV+/XtHR0Xe1LZfLRaAAAOAesn2KpD6TJk3S\n",
              "33//rfj4eI0ePVpDhgyxuyQAAPBfCvhR4QAAILSFwqPCQ3YEAwAANF4EDAAAYDkCBgAAsBwBAwAA\n",
              "WI6AAQAALEfAAAAAliNgAAAAyxEwAACA5QgYAADAcgQMAABgOQIGAACwHAEDAABYjoABAAAsR8AA\n",
              "AACW43XtAAA0McYYVVVVSZLcbrccDsc9r4GAAQAALMcUCQAAsBwBAwAAWI6A0cRVV1dr8eLFqq6u\n",
              "truURoOeBY6eBY6eBY6eBcbufnENRhNXUVGhyMhIlZeXy+Px2F1Oo0DPAkfPAkfPAkfPAmN3vxjB\n",
              "AAAAliNgAAAAyxEwAACA5QgYTZzL5dKiRYvkcrnsLqXRoGeBo2eBo2eBo2eBsbtfXOQJAAAsxwgG\n",
              "AACwHAEDAABYjoABAAAsR8BoQkpLS+X1ev2fuLg4NWvWTBcvXtSBAwc0aNAg9e/fX3369NGKFSvs\n",
              "LjdkfPnllxowYIC8Xq/69u2rDRs2SJLOnz+vUaNGKTY2Vn379tV3331nc6Who76eTZ06VXFxcUpK\n",
              "StKjjz6q/Px8mysNDfX166acnBw5nU5lZWXZU2AIqq9nxhgtXrxYcXFx6tevn9LS0myuNHTU1zPb\n",
              "zv8GTdbKlSvN2LFjjTHGJCUlmR07dhhjjCktLTUdOnQwP//8s53lhYTr16+bqKgoc+jQIWOMMSdO\n",
              "nDAul8tUVFSYqVOnmkWLFhljjDlw4IB54IEHzNWrV22sNjQ01LMdO3aYmpoaY4wxO3fuNDExMTZW\n",
              "Ghoa6pcxxpSVlZnk5GQzduxYs2rVKhsrDR0N9SwrK8s89dRTprq62hhjzJkzZ+wsNWQ01DO7zv+M\n",
              "YDRh69at0/Tp0yVJDodDZWVlkqTKykqFh4erbdu2NlYXOm7tTUVFhdq1ayeXy6WtW7fqhRdekCQl\n",
              "Jyera9euysvLs7HS0FFfzx5//HE1a9ZMkjRo0CCdPn1atbW1NlYaGurrlyTNmjVLCxcuVLt27Wys\n",
              "MPTU17OVK1fq7bffVnh4uCSpc+fONlYZWurrmW3n/6BHGNjihx9+MJ06dfL/NXnw4EETHR1tunXr\n",
              "Ztxut9mwYYPNFYaO3bt3m3bt2pno6GjTunVrs3v3blNSUmLCw8PrfN+4cePMunXrbKoytPxbz/5p\n",
              "4cKF5vHHH7ehutBTX78+++wzM2nSJGOMMZMnT2YE4xb/1rPy8nLTrFkzs2LFCpOSkmJSUlLM5s2b\n",
              "7S41ZNT3e2bX+Z+A0URNmzbNzJ0717+ckZFhPv30U2OMMUVFRebBBx9kisQYU1NTY4YNG2by8vKM\n",
              "MTemQjp37mzOnj1LwKhHfT27cOGC/3s2btxo4uLizNmzZ+0qM2TU169Tp06ZpKQkc+nSJWMMAeNW\n",
              "9fXs3LlzRpJZsmSJMebGNECXLl1MYWGhneWGhIb+Xdp1/idgNEGXL182ERER5ujRo8YYYy5cuHDb\n",
              "f5bp6enmgw8+sKO8kJKfn29iY2PrrPP5fOabb74xLVu2rDO/m5yc/K9/qd9vGuqZMcZs3rzZ9OrV\n",
              "y5w8edKO8kJOff3avn276dixo4mJiTExMTGmVatWJioqyrz++us2VRo6Gvodi4iIMEVFRf716enp\n",
              "5sMPP7zXJYac+nq2detW287/XIPRBG3ZskVJSUnq3bu3JCkqKkqtWrVSTk6OJKmkpET79+9X3759\n",
              "7SwzJHTr1k1nzpzR0aNHJUnHjx9XUVGR4uPjNW7cOL3//vuSpPz8fJ0+fVrDhg2zs9yQ0FDPtm7d\n",
              "qoULF2rPnj2Kjo62udLQUF+/+vfvr3Pnzqm4uFjFxcVKT0/Xm2++qaVLl9pcsf0a+h175pln9NVX\n",
              "X0mS/w65xMREO8sNCfX1LCUlxbbzf7Og7wH33Lp16zRjxgz/stPp1NatWzV37lzV1taqpqZGL7/8\n",
              "slJTU22sMjR06tRJH3zwgcaPH6+wsDBdv35da9asUXR0tJYvX67nnntOsbGxCg8P16ZNm9S8eXO7\n",
              "S7ZdQz3r2bOnOnfurCeeeML//d9+++19fQFjQ/3Cv2uoZ5mZmZo6daree+89SdK8efOUkpJic8X2\n",
              "q69nMTExtp3/eRcJAACwHFMkAADAcgQMAABgOQIGAACwHAEDQKMxZcoU3tcBNBIEDACNAo8cBxoX\n",
              "AgYAyzkcDi1dulQDBw5U9+7dtX37dmVmZsrn8yk2Nla5ubmSboSGkSNHyufzKSEhQc8++6wqKysl\n",
              "Sbm5uUpISND06dPl9Xr1xRdf1NnH999/r4cfflgFBQW6cOGCRowYoX79+ikxMVFTp06914cM4B8I\n",
              "GACCIiIiQvv379e6des0ceJEdenSRQUFBVq2bJnmzp0r6cYzWrKzs1VQUKAjR44oMjJSq1ev9m/j\n",
              "6NGjmjRpkgoLCzVu3Dj/+i1btmj27NnatWuXfD6fNm3apIceekiHDx/WTz/9pHfeeeeeHy+AunjQ\n",
              "FoCgyMjIkCT5fD5VVlZqwoQJkqSUlBQdO3ZMkmSM0apVq7Rr1y7V1taqvLxcgwcP9m+jR48etz09\n",
              "dePGjXI6ndq7d6+ioqIk3Xhz66pVq/Tqq69q6NChGjVq1L04RAANYAQDQFC43W5JN0Yp/rl883qK\n",
              "7Oxs5eTkKC8vT4cPH9acOXNUVVXl30ZERMRt201MTNTFixd1+PBh/7rU1FQVFhZq4MCB+vzzz5Wc\n",
              "nKxr164F7dgA3BkBA4BtLl26pPbt28vj8ejy5ctav379HX8mKSlJO3fu1LRp0/zvpDhx4oQiIiI0\n",
              "fvx4rV69Wr/99pv++uuvIFcPoCFMkQCwzaRJk7Rjxw7Fx8erQ4cOGjJkiE6ePHnHn+vTp4++/vpr\n",
              "jRkzRsuWLVNFRYX+85//+EdHVq5cqcjIyHtwBADqw7tIAACA5ZgiAQAAliNgAAAAyxEwAACA5QgY\n",
              "AADAcgQMAABgOQIGAACwHAEDAABYjoABAAAsR8AAAACWI2AAAADL/R+CgMn9SSDSZwAAAABJRU5E\n",
              "rkJggg==\n",
              "\">\n",
              "        \n",
              "      </div>\n",
              "      <script></script>\n",
              "      <script type=\"text/javascript\">\n",
              "        (() => {\n",
              "          const chartElement = document.getElementById(\"chart-8ac985b8-a143-44be-b538-05e78ee9b59a\");\n",
              "          async function getCodeForChartHandler(event) {\n",
              "            const chartCodeResponse =  await google.colab.kernel.invokeFunction(\n",
              "                'getCodeForChart', [\"chart-8ac985b8-a143-44be-b538-05e78ee9b59a\"], {});\n",
              "            const responseJson = chartCodeResponse.data['application/json'];\n",
              "            await google.colab.notebook.addCell(responseJson.code, 'code');\n",
              "          }\n",
              "          chartElement.onclick = getCodeForChartHandler;\n",
              "        })();\n",
              "      </script>\n",
              "      <style>\n",
              "        .colab-quickchart-chart-with-code  {\n",
              "            display: block;\n",
              "            float: left;\n",
              "            border: 1px solid transparent;\n",
              "        }\n",
              "\n",
              "        .colab-quickchart-chart-with-code:hover {\n",
              "            cursor: pointer;\n",
              "            border: 1px solid #aaa;\n",
              "        }\n",
              "      </style>"
            ]
          },
          "metadata": {}
        },
        {
          "output_type": "display_data",
          "data": {
            "text/plain": [
              "import numpy as np\n",
              "from google.colab import autoviz\n",
              "\n",
              "def violin_plot(df, value_colname, facet_colname, figscale=1, mpl_palette_name='Dark2', **kwargs):\n",
              "  from matplotlib import pyplot as plt\n",
              "  import seaborn as sns\n",
              "  figsize = (12 * figscale, 1.2 * figscale * len(df[facet_colname].unique()))\n",
              "  plt.figure(figsize=figsize)\n",
              "  sns.violinplot(df, x=value_colname, y=facet_colname, palette=mpl_palette_name, **kwargs)\n",
              "  sns.despine(top=True, right=True, bottom=True, left=True)\n",
              "  return autoviz.MplChart.from_current_mpl_state()\n",
              "\n",
              "chart = violin_plot(_df_11, *['marks', 'city'], **{'inner': 'stick'})\n",
              "chart"
            ],
            "text/html": [
              "      <div class=\"colab-quickchart-chart-with-code\" id=\"chart-c3dbcf41-e59f-4246-9258-86e20cd92975\">\n",
              "        <img src=\"data:image/png;base64,iVBORw0KGgoAAAANSUhEUgAAAiMAAACPCAYAAAAoa9sNAAAAOXRFWHRTb2Z0d2FyZQBNYXRwbG90\n",
              "bGliIHZlcnNpb24zLjcuMSwgaHR0cHM6Ly9tYXRwbG90bGliLm9yZy/bCgiHAAAACXBIWXMAAA9h\n",
              "AAAPYQGoP6dpAAARRklEQVR4nO3deVDU9R/H8dcKsasiSGheCVaCIsqiAYplRuOUHaNjg2dpoh2O\n",
              "Y4NZ5miO2kxK6niUHWbR5GRN0pR3ZR5o5pVMktZImqk15UkIKoLX5/eH0078EnST5bO4z8fMzsR3\n",
              "d7/72vfQfF9+vl92HcYYIwAAAEvq2A4AAAACG2UEAABYRRkBAABWUUYAAIBVlBEAAGAVZQQAAFhF\n",
              "GQEAAFZRRgAAgFWUEQAAYBVlBAAAWEUZAQAAVgXbDhBIjDEqKyuTJLlcLjkcDsuJAACwj5WRGlRW\n",
              "Vqa0tDSlpaV5SgkAAIGOMgIAAKyijAAAAKsoIwAAwCrKCAAAsIoyAgAArKKMAAAAqygjAADAKsoI\n",
              "AACwijICAACsoowAAACrKCMAAMAqyggAALCKMgIAAKyijAAAAKsoIwAAwCqflRGHw6GTJ0/6aveV\n",
              "2rBhgxITE694359//qlu3brVbCAAAFAlv10ZuXDhQrXvs3nz5tq0aVO17xcAAPx3Pi8jxhiNGzdO\n",
              "vXr1UmlpqWbPnq3k5GQlJiYqOTlZW7du9Ty2VatWGjdunFJSUvTEE0/oyJEjSktL05133qn4+HiN\n",
              "GjVKly5d8jx++vTp6tChg9xut7p06aLS0lJJl4vMyJEj5Xa7FR8fr7y8PEnSwYMH1bBhQ1+/ZQAA\n",
              "4IVgX+68vLxcAwcOVGRkpJYsWaKgoCANHjxYY8aMkSRt27ZNQ4cOVUFBgec5hYWF2r59uxwOh8rK\n",
              "yrRixQqFhobq4sWL6t27t3JycjRgwAAtXLhQn332mb799luFh4erqKhITqdTklRQUKDs7Gy99dZb\n",
              "mj9/vl566SWtXr36mvKWl5dX2OZ0Oj37BQAA1c+nKyMPP/yw4uPj9eabbyooKEiStHPnTnXv3l3t\n",
              "27fXiBEj9PPPP+vs2bOe5wwdOlQOh0OSdOnSJY0bN05ut1sdO3ZUXl6e8vPzJUkrV67UiBEjFB4e\n",
              "LkmKiIjwvEbr1q3VuXNnSVJqaqr2799/TXmzsrIUHh5e4ZaVlVUtswAAAFfm05WR++67T2vWrFFm\n",
              "ZqbCwsJ07tw5Pfroo8rNzVVycrJKSkoUHh6u8vJy1a1bV5IUGhrqef7s2bN17Ngxbd++XS6XS2PG\n",
              "jFFZWdlVX9flcnn+Oygo6JqvPxk/frxn1eZvrIoAAOBbPl0ZmTBhgh599FH16NFDhYWFKisr07lz\n",
              "5xQVFSVJmjdvXpXPLyoqUtOmTeVyuXTkyBF9+umnnvt69eql+fPnq7i4WJJ08uRJXbx48bryOp1O\n",
              "hYWFVbhRRgAA8C2froxI0ujRo1W/fn3dd999Wr16tV555RWlpKSoUaNGGjBgQJXPzczMVHp6uuLj\n",
              "49W8eXP16NHDc9/gwYP1559/qmvXrgoODlb9+vW1du1aX78dAABQzRzGGGM7RKA4e/as0tLSJEm5\n",
              "ubmeU1MAAAQyv/2cEQAAEBgoIwAAwCrKCAAAsIoyAgAArKKMAAAAqygjAADAKsoIAACwijICAACs\n",
              "oowAAACrKCMAAMAqr8vIwIEDtWXLFl9kAQAAAcjrMpKWlqaRI0eqU6dOys7OVllZmS9yAQCAAOF1\n",
              "GXn66aeVn5+v119/XevWrdNtt92mF198UYcOHfJFPgAAcIP7z9eMtGnTRnFxcQoODlZBQYHuvvtu\n",
              "TZ8+vTqzAQCAAOAwxhhvnrBt2zbNmzdPGzZs0NChQzVy5Ei1aNFCZ86cUVxcnH777TdfZa31jDGe\n",
              "01oul0sOh8NyIgAA7PO6jCQkJCgzM1OPPfaYXC5XhfveeecdPfPMM9UaEAAA3Ni8LiNffvmlHnzw\n",
              "wQrbvvrqK/Xs2bNagwEAgMDgdRnp1KmTvv/++6tuAwAAuBbB1/rAvXv3qqCgQMXFxVq+fLlne3Fx\n",
              "sUpLS30SDgAA3PiuuYxs3bpVH3zwgY4dO6Y5c+Z4toeFhWnWrFk+CQcAAG58Xp+myc7O1vDhw32V\n",
              "BwAA1CB/+EvPay4j+/btU0xMjHbt2nXF+xMSEqo1GAAA8L2zZ88qLS1NkpSbm6u6devWeIZrPk3z\n",
              "3HPPaeXKlerdu7ccDof+2WEcDod+/fVXnwQEAAA3tmsuIytXrpQkvfbaa+rWrZsiIiIkSUVFRdq8\n",
              "ebNv0gEAgBue1x8HP2nSJE8RkaSGDRtq0qRJ1RoKAAAEjv/83TR/czgcunjxYnVkAQAAAcjrMtKg\n",
              "QQNt2bLF8/PmzZvVoEGDag0FAAACxzVfM/K3GTNmqE+fPmrbtq2ky39ls2TJkmoPBgAAAoPXZSQ1\n",
              "NVV79uzR1q1bJUldu3ZVw4YNqzsXAAAIEF6XEUmKiIjQQw89VN1ZAABAALruC1gBAACuB2UEAABY\n",
              "RRkBAABWUUYAAIBVlBEAAGAVZQQAAFhFGQEAAFbVijLSqlUr5efnV9h27733aunSpV7tp1GjRjp4\n",
              "8GC15QIAANevVpQRAABw46rVZaS0tFRNmjRRaWmpZ9ugQYP09ttvS5KWL1+uuLg4JSQk6MUXX7QV\n",
              "EwAAVKHWlJH+/fsrMTHRc8vLy1O9evXUo0cPLVq0SJJ09OhRrV27VoMHD9axY8eUkZGhzz77TLt2\n",
              "7VLr1q1VWFhY5WuUl5erpKSkwq28vLwm3h4AAAGr1pSRxYsXKz8/33NLSkqSJGVmZurNN9+UJL37\n",
              "7rsaOHCgQkNDtW3bNiUkJKhdu3aSpOHDhyskJKTK18jKylJ4eHiFW1ZWlm/fGAAAAe4/fVGeP0lJ\n",
              "SVG9evWUm5urBQsWaO3atVd8nMPhuOq+xo8frzFjxlTY5nQ6qyUnAAC4slqzMlKVzMxMDRkyRHFx\n",
              "cYqNjZUkpaamateuXSooKJAkvf/++zp37lyV+3E6nQoLC6two4wAAOBbN0QZSU9P1+nTpzVq1CjP\n",
              "tsaNG+v9999Xnz595Ha7tW/fPkVGRlpMCQAArsRhjDG2Q1yvvLw8DRo0SAUFBapT54boVwAA1Iiz\n",
              "Z88qLS1NkpSbm6u6devWeIZaf83Ik08+qa+//lrvvfceRQQAgFqo1peR9957z3YEAABwHVhKAAAA\n",
              "VlFGAACAVZQRAABgFWUEAABYRRkBAABWUUYAAIBVlBEAAGAVZQQAAFhFGQEAAFZRRgAAgFWUEQAA\n",
              "YBVlBAAAWOUwxhjbIQAAgB3GGJWVlUmSXC6XHA5HjWegjAAAAKs4TQMAAKyijAAAAKsoI/AoLy/X\n",
              "lClTVF5ebjtKrcHMvMO8vMfMvMfMvGd7ZlwzAo+SkhKFh4eruLhYYWFhtuPUCszMO8zLe8zMe8zM\n",
              "e7ZnxsoIAACwijICAACsoowAAACrKCPwcDqdmjx5spxOp+0otQYz8w7z8h4z8x4z857tmXEBKwAA\n",
              "sIqVEQAAYBVlBAAAWEUZAQAAVlFGAlBhYaESExM9t9jYWAUHB+uvv/7Sd999py5duqhjx46Ki4vT\n",
              "jBkzbMf1G1988YU6deqkxMREtW/fXgsXLpQkHTt2TD179lRMTIzat2+vb775xnJS/1HZzDIyMhQb\n",
              "Gyu326277rpLO3bssJzUf1Q2s7+tX79eQUFBmjt3rp2AfqiymRljNGXKFMXGxqpDhw5KS0uznNR/\n",
              "VDYza8cAg4A3c+ZM88gjjxhjjHG73WbZsmXGGGMKCwtN48aNzU8//WQznl+4dOmSiYiIMD/88IMx\n",
              "xpgDBw4Yp9NpSkpKTEZGhpk8ebIxxpjvvvvOtGjRwpw7d85iWv9Q1cyWLVtmzp8/b4wxZsWKFSY6\n",
              "OtpiUv9R1cyMMebkyZMmOTnZPPLII2bOnDkWk/qPqmY2d+5c06dPH1NeXm6MMebw4cM2o/qNqmZm\n",
              "6xjAygiUnZ2t4cOHS5IcDodOnjwpSTpz5oxCQkJ08803W0znP/45m5KSEkVGRsrpdConJ0cjRoyQ\n",
              "JCUnJ6t58+bauHGjxaT+o7KZ9erVS8HBwZKkLl266I8//tCFCxcsJvUflc1MkkaNGqWJEycqMjLS\n",
              "YkL/U9nMZs6cqVdffVUhISGSpKZNm1pM6V8qm5m1Y4DP6w782ubNm02TJk08/0rduXOniYqKMi1b\n",
              "tjQul8ssXLjQckL/sWbNGhMZGWmioqJMgwYNzJo1a8yJEydMSEhIhcf17dvXZGdnW0rpX640s/83\n",
              "ceJE06tXLwvp/FNlM/v000/NkCFDjDHGPPHEE6yM/MOVZlZcXGyCg4PNjBkzTEpKiklJSTGffPKJ\n",
              "7ah+o7LfM1vHAMpIgBs2bJgZO3as5+f+/fubjz76yBhjzP79+82tt97KaRpjzPnz50337t3Nxo0b\n",
              "jTGXT8c0bdrUHDlyhDJSicpmdvz4cc9jPvzwQxMbG2uOHDliK6ZfqWxmv//+u3G73aaoqMgYQxn5\n",
              "p8pmdvToUSPJvPzyy8aYy6cimjVrZvLz823G9QtV/b9p6xhAGQlgp06dMqGhoWbPnj3GGGOOHz/+\n",
              "rwNrenq6WbBggY14fmXHjh0mJiamwrakpCTz9ddfm3r16lU4F52cnHzFFYBAU9XMjDHmk08+Ma1b\n",
              "tzaHDh2yEc8vVTazpUuXmltuucVER0eb6OhoU79+fRMREWEmTJhgKan/qOr3LDQ01Ozfv9+zPT09\n",
              "3bz77rs1HdHvVDaznJwca8cArhkJYIsXL5bb7Vbbtm0lSREREapfv77Wr18vSTpx4oS2b9+u9u3b\n",
              "24zpF1q2bKnDhw9rz549kqRffvlF+/fvV5s2bdS3b1/Nnz9fkrRjxw798ccf6t69u824fqGqmeXk\n",
              "5GjixIlau3atoqKiLCf1H5XNrGPHjjp69KgOHjyogwcPKj09XZMmTdLUqVMtJ7avqt+zgQMH6quv\n",
              "vpIkz18LJiQk2IzrFyqbWUpKirVjQLDPXwF+Kzs7W0899ZTn56CgIOXk5Gjs2LG6cOGCzp8/r9Gj\n",
              "Rys1NdViSv/QpEkTLViwQP369VOdOnV06dIlvfHGG4qKitL06dM1ePBgxcTEKCQkRIsWLdJNN91k\n",
              "O7J1Vc3sjjvuUNOmTdW7d2/P49etWxfwF2ZWNTNcWVUzy8rKUkZGht566y1J0rhx45SSkmI5sX2V\n",
              "zSw6OtraMYDvpgEAAFZxmgYAAFhFGQEAAFZRRgAAgFWUEQA3nKFDh/LdLUAtQhkBcEPhY+WB2ocy\n",
              "AsAah8OhqVOnqnPnzmrVqpWWLl2qrKwsJSUlKSYmRhs2bJB0uWA88MADSkpKUnx8vAYNGqQzZ85I\n",
              "kjZs2KD4+HgNHz5ciYmJWrJkSYXX2LRpk9q1a6e8vDwdP35c999/vzp06KCEhARlZGTU9FsGcAWU\n",
              "EQBWhYaGavv27crOztbjjz+uZs2aKS8vT9OmTdPYsWMlXf4MnI8//lh5eXn68ccfFR4ernnz5nn2\n",
              "sWfPHg0ZMkT5+fnq27evZ/vixYv17LPPatWqVUpKStKiRYt02223affu3dq1a5dmzZpV4+8XwL/x\n",
              "oWcArOrfv78kKSkpSWfOnNGAAQMkSSkpKdq3b58kyRijOXPmaNWqVbpw4YKKi4vVtWtXzz5uv/32\n",
              "f33q7YcffqigoCDl5uYqIiJC0uVvCJ4zZ46ef/553XPPPerZs2dNvEUAV8HKCACrXC6XpMurH///\n",
              "89/Xf3z88cdav369Nm7cqN27d+uFF15QWVmZZx+hoaH/2m9CQoL++usv7d6927MtNTVV+fn56ty5\n",
              "sz7//HMlJyfr4sWLPntvAK4NZQSA3ysqKlKjRo0UFhamU6dO6YMPPrjqc9xut1asWKFhw4Z5vp/k\n",
              "wIEDCg0NVb9+/TRv3jzt3btXp0+f9nF6AFfDaRoAfm/IkCFatmyZ2rRpo8aNG6tbt246dOjQVZ8X\n",
              "Fxen1atX66GHHtK0adNUUlKi2bNne1ZdZs6cqfDw8Bp4BwCqwnfTAAAAqzhNAwAArKKMAAAAqygj\n",
              "AADAKsoIAACwijICAACsoowAAACrKCMAAMAqyggAALCKMgIAAKyijAAAAKv+B2TQpy7axjRzAAAA\n",
              "AElFTkSuQmCC\n",
              "\">\n",
              "        \n",
              "      </div>\n",
              "      <script></script>\n",
              "      <script type=\"text/javascript\">\n",
              "        (() => {\n",
              "          const chartElement = document.getElementById(\"chart-c3dbcf41-e59f-4246-9258-86e20cd92975\");\n",
              "          async function getCodeForChartHandler(event) {\n",
              "            const chartCodeResponse =  await google.colab.kernel.invokeFunction(\n",
              "                'getCodeForChart', [\"chart-c3dbcf41-e59f-4246-9258-86e20cd92975\"], {});\n",
              "            const responseJson = chartCodeResponse.data['application/json'];\n",
              "            await google.colab.notebook.addCell(responseJson.code, 'code');\n",
              "          }\n",
              "          chartElement.onclick = getCodeForChartHandler;\n",
              "        })();\n",
              "      </script>\n",
              "      <style>\n",
              "        .colab-quickchart-chart-with-code  {\n",
              "            display: block;\n",
              "            float: left;\n",
              "            border: 1px solid transparent;\n",
              "        }\n",
              "\n",
              "        .colab-quickchart-chart-with-code:hover {\n",
              "            cursor: pointer;\n",
              "            border: 1px solid #aaa;\n",
              "        }\n",
              "      </style>"
            ]
          },
          "metadata": {}
        },
        {
          "output_type": "display_data",
          "data": {
            "text/plain": [
              "<google.colab._quickchart_helpers.SectionTitle at 0x7bcce58116c0>"
            ],
            "text/html": [
              "<h4 class=\"colab-quickchart-section-title\">Time series</h4>\n",
              "<style>\n",
              "  .colab-quickchart-section-title {\n",
              "      clear: both;\n",
              "  }\n",
              "</style>"
            ]
          },
          "metadata": {}
        },
        {
          "output_type": "display_data",
          "data": {
            "text/plain": [
              "import numpy as np\n",
              "from google.colab import autoviz\n",
              "\n",
              "def time_series_multiline(df, timelike_colname, value_colname, series_colname, figscale=1, mpl_palette_name='Dark2'):\n",
              "  from matplotlib import pyplot as plt\n",
              "  import seaborn as sns\n",
              "  figsize = (10 * figscale, 5.2 * figscale)\n",
              "  palette = list(sns.palettes.mpl_palette(mpl_palette_name))\n",
              "  def _plot_series(series, series_name, series_index=0):\n",
              "    if value_colname == 'count()':\n",
              "      counted = (series[timelike_colname]\n",
              "                 .value_counts()\n",
              "                 .reset_index(name='counts')\n",
              "                 .rename({'index': timelike_colname}, axis=1)\n",
              "                 .sort_values(timelike_colname, ascending=True))\n",
              "      xs = counted[timelike_colname]\n",
              "      ys = counted['counts']\n",
              "    else:\n",
              "      xs = series[timelike_colname]\n",
              "      ys = series[value_colname]\n",
              "    plt.plot(xs, ys, label=series_name, color=palette[series_index % len(palette)])\n",
              "\n",
              "  fig, ax = plt.subplots(figsize=figsize, layout='constrained')\n",
              "  df = df.sort_values(timelike_colname, ascending=True)\n",
              "  if series_colname:\n",
              "    for i, (series_name, series) in enumerate(df.groupby(series_colname)):\n",
              "      _plot_series(series, series_name, i)\n",
              "    fig.legend(title=series_colname, bbox_to_anchor=(1, 1), loc='upper left')\n",
              "  else:\n",
              "    _plot_series(df, '')\n",
              "  sns.despine(fig=fig, ax=ax)\n",
              "  plt.xlabel(timelike_colname)\n",
              "  plt.ylabel(value_colname)\n",
              "  return autoviz.MplChart.from_current_mpl_state()\n",
              "\n",
              "chart = time_series_multiline(_df_12, *['index', 'count()', 'name'], **{})\n",
              "chart"
            ],
            "text/html": [
              "      <div class=\"colab-quickchart-chart-with-code\" id=\"chart-1b4b961d-206e-403c-a022-cc71c1de2713\">\n",
              "        <img src=\"data:image/png;base64,iVBORw0KGgoAAAANSUhEUgAAAk8AAAEPCAYAAABbdyCfAAAAOXRFWHRTb2Z0d2FyZQBNYXRwbG90\n",
              "bGliIHZlcnNpb24zLjcuMSwgaHR0cHM6Ly9tYXRwbG90bGliLm9yZy/bCgiHAAAACXBIWXMAAA9h\n",
              "AAAPYQGoP6dpAAAhDUlEQVR4nO3deXAUZf7H8U9nQoKgCSgBoiEMIZwhECBEAeUQLYIreICAiGxW\n",
              "gbBKgUYE+SG74gGeCKIWwUrhooUXKJsCVktAWCC6CUJEQZRIhuEKh0KCHEkm078/LKccjjBNMpmJ\n",
              "eb+qukx3P9P97afU+dTTz3QbpmmaAgAAgE9CAl0AAABAbUJ4AgAAsIDwBAAAYAHhCQAAwALCEwAA\n",
              "gAWEJwAAAAsITwAAABYQngAAACz404en+fPnB7oEAADwJxIa6AL8be/evYEuAQCAoGOaplwulyoq\n",
              "KgJdStCoV6+ebDbbJdv96cMTAADwVlZWpkOHDun06dOBLiWoGIahmJgYXXnllZW2IzwBAFCHuN1u\n",
              "FRYWymaz6dprr1VYWJgMwwh0WQFnmqaOHj2q/fv3q02bNpWOQBGeAACoQ8rKyuR2u9WiRQs1aNAg\n",
              "0OUElaioKDkcDpWXl1canv70E8YBAMD5QkKIAOfydQSOngMAALCA8AQAAGAB4QkAAMACwhMAAKgy\n",
              "wzA0e/ZspaSkqFWrVlq8eLFn35QpU9SjRw8lJSWpT58++uGHH7w+99xzz+n666+X3W7XihUrNGfO\n",
              "HCUnJ6tNmzZav369p+1nn32mG2+8Ud27d1dKSoq++OKLmrxED8ITAACoFuHh4crNzdV//vMfTZo0\n",
              "SS6XS5I0bdo05eXlKT8/Xw899JAmT57s9bkrr7xS//vf/5SVlaXRo0crOjpaW7Zs0ezZs/X4449L\n",
              "kvbs2aOnnnpKq1ev1tdff62lS5dq1KhRKi0trfHr5FEFAACgWtx3332SpPbt2ys0NFRFRUWKiYnR\n",
              "559/rgULFujkyZNyu9365ZdfvD43YsQISVJycrJOnTqlkSNHSpJSUlK0e/duSdKnn36qgoIC9enT\n",
              "x/O5kJAQOZ1OtWnTpiYuz4PwBAAAqkX9+vU9f9tsNrlcLjmdTk2cOFF5eXlq3bq1tm/f7hWA/vi5\n",
              "35+t9Mf130evTNPUrbfeqqVLl9bEpVSK23YAAMBviouLVa9ePUVHR8s0Tb3++uuXdZyBAwdqzZo1\n",
              "2r59u2dbbm5udZVpCSNPAADAbxITEzVy5EglJCTommuu0Z133nlZx4mPj9fSpUuVnp6u06dPq6ys\n",
              "TF27dg3ISJRhmqZZ42etQRkZGZo7d26gywAAICicPXtWhYWFatWqlddtNvjeN9y2AwAAsIDwBAAA\n",
              "YAHhCQAAwALCEwAAgAWEJwAAAAsITwAAABYQngAAQEAlJSUpKSlJHTt2lM1m86yPGDFC69evV1JS\n",
              "kuVjbtmyxfPaF0nKzMxU+/btlZSUpJ9//rlK9fKQTAAAEFD5+fmSJIfDoaSkJM+6JK1fv/6yjpmc\n",
              "nKwPPvjAsz5v3jwtXrxYPXv2rEKlv2HkCQCAOsw0TZ0uL/PrUtXncbtcLj300EPq0qWLEhIStGXL\n",
              "Fs/2gQMHKjk5WQkJCRo1apROnTolSV4jVsOGDdNPP/2ktLQ0DRs2rEq1SIw8AQBQp51xlavtu//w\n",
              "6zl+HP20GtQLu+zP79q1S1lZWXrzzTe1cOFCzZgxQ5999plsNpuWLl2qa665RqZp6qGHHtKCBQv0\n",
              "xBNPeH1+2bJlstvt+uCDDy7rFuC5GHkCAABBLT4+Xtdff70kqWfPnvrpp58k/TZq9uqrr6pr167q\n",
              "3LmzVq1a5XXLz1/8OvI0adIkZWdna+/evdq2bdtF015WVpaef/55ud1u3XzzzXrzzTdVr149z37T\n",
              "NDVgwABt3bpVJ06c8GfJAADUKVeE1tOPo5/2+zmq4o/vmbPZbHK5XJKkpUuXat26ddqwYYMiIiL0\n",
              "2muvad26dVU6ly/8OvI0bNgwbdq0SS1btrxom8LCQs2cOVMbN25UQUGBDh8+rEWLFnm1efXVV9W6\n",
              "dWt/lgoAQJ1kGIYa1Avz62IYhl9qP378uJo0aaKIiAidPHlSb7/9tl/Ocy6/hqc+ffooJiam0jbL\n",
              "li3TkCFD1Lx5cxmGoQkTJui9997z7N+xY4dWrFhx3v3LCyktLVVJSYnXUlFRUeXrAAAAwWfMmDE6\n",
              "ffq02rVrp0GDBummm26qkfMGfMK40+n0Gpmy2+1yOp2SpPLyco0bN05ZWVmy2WyXPNacOXM0a9Ys\n",
              "r2033HBD9RYMAAD8wm63nzc9p1+/fl7zmDp16iSHwyFJioyM1Jo1ay54rHM/9/tnqkNQTxifNWuW\n",
              "7r77bnXo0MGn9tOnT1dxcbHXkpKS4ucqAQBAXRLwkafY2FjPrHnpt2QYGxsrSdqwYYOcTqdef/11\n",
              "uVwulZSUyG63Ky8vT1FRUecdKzw8XOHh4V7bfBmxAgAA8FXAR56GDh2q7OxsFRUVyTRNLVy4UCNH\n",
              "jpQkbdy4UXv37pXD4dCmTZsUEREhh8NxweAEAABQE/wantLT0xUTE6P9+/dr4MCBio+PlySNHTtW\n",
              "2dnZkqS4uDjNmjVLvXv3Vnx8vKKiopSenu7PsgAAAC6bYVb1melBLiMjQ3Pnzg10GQAABIWzZ8+q\n",
              "sLBQrVq18np+Enzvm4DftgMAAKhNCE8AAAAWEJ4AAEDAGYZx3jOe7HZ7jbyrzqqAP6oAAAAEjmma\n",
              "MstO+/UcRlgDv72ipSpcLpdCQ61HIcITAAB1mFl2WgXpEX49R3xmiYzwhlU6ht1u1+jRo7Vu3Trt\n",
              "27dPM2bMUHh4uBYtWqRDhw7p+eef9zzqKC8vT9OmTfO8pu3//u//dM8998jhcCgpKUnp6en6/PPP\n",
              "NWbMGD3yyCOWayE8AQCAWuHUqVPKyclRQUGBEhMTNWPGDH355ZfKy8vTbbfdppEjR+rEiRMaP368\n",
              "Vq9erejoaB07dkzdunVTr169JEnFxcVKSEjQCy+8cNl1EJ4AAKjDjLAGis8s8fs5Lvuzf7jdN2LE\n",
              "CElSfHy86tevr2HDhkmSkpOT9csvv+jEiRPKycnRnj17NGjQIK/j/PDDD4qLi1O9evU0evToy65H\n",
              "IjwBAFCnGYZR5Vtq1SEqKko///yzGjVq5Nl27NgxNW3a1LP+x2cv2Ww2z7phGDIMQy6XS6ZpKiEh\n",
              "QTk5Oeedw+FwqEGDBgoJqdrv5fi1HQAACLiBAwcqMzPTs75kyRLFxcUpOjra0nF69eqlwsJCrVmz\n",
              "xrMtPz9fZWVl1VYrI08AACDg5s2bp0ceeUSdO3dWSEiImjdvro8++sjycRo3bqxVq1ZpypQpeuyx\n",
              "x1ReXq7Y2FitWLGi2molPAEAgIC75ppr9M4771x0v8Ph8Fo/duyY17rL5fL83a1bN61bt+68Y9jt\n",
              "9vOeJXU5uG0HAABgAeEJAADAAsITAACABYQnAADqILfbHegSgo5pmj61Y8I4AAB1SFhYmEJCQnTw\n",
              "4EFFRUUpLCwsKN87V9NM09TRo0dlGIbq1atXaVvCEwAAdUhISIhatWqlQ4cO6eDBg4EuJ6gYhqGY\n",
              "mBjZbLZK2xGeAACoY8LCwhQbGyuXy6WKiopAlxM06tWrd8ngJBGeAACok36/PXWpW1Q4HxPGAQAA\n",
              "LCA8AQAAWEB4AgAAsIDwBAAAYAHhCQAAwALCEwAAgAWEJwAAAAsITwAAABYQngAAACwgPAEAAFhA\n",
              "eAIAALCA8AQAAGCBX8PTpEmTZLfbZRiG8vPzL9ouKytLbdq0UevWrTVu3DiVl5dLktatW6eUlBR1\n",
              "7NhRCQkJmjp1qtxutz9LBgAAqJRfw9OwYcO0adMmtWzZ8qJtCgsLNXPmTG3cuFEFBQU6fPiwFi1a\n",
              "JElq3Lix3n//fe3cuVNff/21cnJytGTJEn+WDAAAUCm/hqc+ffooJiam0jbLli3TkCFD1Lx5cxmG\n",
              "oQkTJui9996TJHXt2lVxcXGSpPr16yspKUkOh8OfJQMAAFQqNNAFOJ1Or5Epu90up9N5XruioiIt\n",
              "W7ZMK1euvOixSktLVVpa6rWtoqKi+ooFAAB1Xq2YMF5SUqLBgwdr6tSpSk5Ovmi7OXPmKDIy0mvJ\n",
              "zc2twUoBAMCfXcDDU2xsrPbu3etZdzgcio2N9ayfPHlSqampuuOOO5SRkVHpsaZPn67i4mKvJSUl\n",
              "xW+1AwCAuifg4Wno0KHKzs5WUVGRTNPUwoULNXLkSEnSr7/+qtTUVKWmpurJJ5+85LHCw8MVERHh\n",
              "tdhsNn9fAgAAqEP8Gp7S09MVExOj/fv3a+DAgYqPj5ckjR07VtnZ2ZKkuLg4zZo1S71791Z8fLyi\n",
              "oqKUnp4uSZo/f75yc3P18ccfKykpSUlJSXruuef8WTIAAEClDNM0zUAX4U8ZGRmaO3duoMsAAAB/\n",
              "EgG/bQcAAFCbEJ4AAAAsIDwBAABYQHgCAACwgPAEAABgAeEJAADAAsITAACABYQnAAAACwhPAAAA\n",
              "FhCeAAAALCA8AQAAWEB4AgAAsIDwBAAAYAHhCQAAwALCEwAAgAWEJwAAAAsITwAAABaEXs6Hdu7c\n",
              "qf379+uKK65QYmKiGjVqVM1lAQAABCefw9PJkyf18ssv66233lKDBg3UrFkznT17Vj/99JNSUlI0\n",
              "bdo0DRgwwJ+1AgAABJzP4al///4aM2aMtm3bpmbNmnm2u91ubdy4UQsXLlRBQYHS09P9UigAAEAw\n",
              "8Dk8bd68WeHh4edtDwkJUd++fdW3b1+VlpZWa3EAAADBxucJ4xcKTpfTBgAAoDbzOTzdfvvtysnJ\n",
              "ueC+EydO6JVXXlFmZma1FQYAABCMfL5tN3v2bE2fPl07d+5Ujx49PBPGd+3apQMHDujhhx/WAw88\n",
              "4M9aAQAAAs7n8NS5c2etWrVK+/bt04YNG7R//341aNBA9913n2688UaFhl7WUw8AAABqFcuJ5/jx\n",
              "4xo9erTXtu3bt6tz587VVhQAAECwsvyE8bS0NJ+2AQAA/Bn5PPJ05MgRFRUV6cyZM/r2229lmqYk\n",
              "qbi4WKdOnfJbgQAAAMHE5/D03nvvad68eTp48KCGDBni2R4ZGampU6f6pTgAAIBg43N4mjx5siZP\n",
              "nqxnnnlGM2fO9GdNAAAAQcvyhPGZM2fK7XarqKhILpfLsz02NrZaCwMAAAhGlieM/+tf/1KjRo2U\n",
              "mJio7t27q3v37kpOTr5g20mTJslut8swDOXn51/0mFlZWWrTpo1at26tcePGqby83Kd9AAAANc1y\n",
              "eHr66aeVl5enn3/+WUePHtXRo0d15MiRC7YdNmyYNm3apJYtW170eIWFhZo5c6Y2btyogoICHT58\n",
              "WIsWLbrkPgAAgECwHJ6aNGmidu3a+dS2T58+iomJqbTNsmXLNGTIEDVv3lyGYWjChAl67733LrkP\n",
              "AAAgECzPebrzzjs1b948jRo1SvXr1/dsj4iIuKwCnE6n18iU3W6X0+m85L4LKS0tVWlpqde2ioqK\n",
              "y6oLAADgQiyPPM2YMUMZGRlq3ry5GjdurEaNGqlx48b+qM2yOXPmKDIy0mvJzc0NdFkAAOBPxHJ4\n",
              "crvdnqWiosLzz8sVGxurvXv3etYdDofnl3uV7buQ6dOnq7i42GtJSUm57NoAAADOZTk8VbehQ4cq\n",
              "OztbRUVFMk1TCxcu1MiRIy+570LCw8MVERHhtdhstpq6FAAAUAdYDk8hISGy2WznLReSnp6umJgY\n",
              "7d+/XwMHDlR8fLwkaezYscrOzpYkxcXFadasWerdu7fi4+MVFRWl9PT0S+4DAAAIBMP8/SV1Pvrj\n",
              "e+zOnDmjJUuWqKKiQo8//ni1F1cdMjIyNHfu3ECXAQAA/iQsjzw1bNjQszRp0kQZGRlatmyZP2oD\n",
              "AAAIOlWe87Rr1y4dO3asOmoBAAAIepaf89S4cWMZhiFJnnfbLViwoHqrAgAACFKWw9Mf31EXGhqq\n",
              "5s2b84s2AABQZ1gOTy1bttTp06c9Iapx48Zq0KBBddcFAAAQlCyHp5ycHA0dOlTNmzeXJB0+fFjL\n",
              "ly9Xz549q704AACAYGM5PP3+67revXtL+i1MPfroo/rqq6+qvTgAAIBgY/nXdmfOnPEEJ0nq1auX\n",
              "zp49W61FAQAABCvL4enKK6/UmjVrPOtr165Vw4YNq7UoAACAYGX5tt1rr72mu+++2/MLO7fbrY8/\n",
              "/rjaCwMAAAhGlsPTwYMHtWXLFh0+fFiS1KxZM+Xm5lZ7YQAAAMHI8m27mTNnKioqSp06dVKnTp3U\n",
              "pEkTzZw50x+1AQAABJ0qv57FMAxVVFRURy0AAABBz3J4uuqqq5STk+NZ37x5s6666qpqLQoAACBY\n",
              "WZ7z9OKLL+quu+5S+/btJUm7d+/WJ598Uu2FAQAABCPL4alnz576/vvv9eWXX0r67TlPjRo1qu66\n",
              "AAAAgpLl8CT99j672267rbprAQAACHpVnjAOAABQlxCeAAAALCA8AQAAWEB4AgAAsIDwBAAAYAHh\n",
              "CQAAwALCEwAAgAWEJwAAAAsITwAAABYQngAAACwgPAEAAFhAeAIAALCA8AQAAGAB4QkAAMACv4an\n",
              "3bt3q1evXmrbtq169OihHTt2nNfG7XZrypQp6tSpk9q3b68HH3xQZWVlnv0vvPCCOnbsqKSkJN1w\n",
              "ww3Kzc31Z8kAAACV8mt4Sk9P1/jx4/Xjjz9q2rRpSktLO69NVlaWtm7dqq1bt+r7779XSEiI5s+f\n",
              "L0nKz8/Xm2++qdzcXOXn52vixImaOHGiP0sGAAColN/C05EjR7RlyxaNHj1akjR06FDt27dPBQUF\n",
              "Xu2++eYb3XLLLQoLC5NhGBo0aJDeeecdSZJhGCovL9epU6ckSSdOnFBMTIy/SgYAALikUH8deN++\n",
              "fYqOjlZo6G+nMAxDsbGxcjqdio+P97Tr3r27MjMzNXHiRF1xxRX68MMP5XA4JEldunTRo48+qlat\n",
              "Wunqq69WeHi4/vvf/170nKWlpSotLfXaVlFRUf0XBwAA6qyATxhPS0tTamqq+vbtq759+6pt27ae\n",
              "wFVYWKiPP/5YBQUF2r9/vx599FGNGDHioseaM2eOIiMjvRbmSAEAgOrkt/DUokULHTp0SC6XS5Jk\n",
              "mqacTqdiY2O92hmGoaeeekrbtm1TTk6OOnbsqISEBEnS8uXLlZiYqGuvvVaS9Le//U2bN2/2mlD+\n",
              "R9OnT1dxcbHXkpKS4q9LBAAAdZDfwlPTpk3VrVs3vfvuu5J+C0IxMTFet+wk6ezZszp+/Lgk6dix\n",
              "Y3r++ec1depUSVJcXJw2b96sX3/9VZK0cuVKtW3bVmFhYRc8Z3h4uCIiIrwWm83mr0sEAAB1kN/m\n",
              "PElSZmam0tLSNHv2bEVERGjx4sWSpLFjx2rIkCEaMmSIiouL1a9fP4WEhMjtdmvy5MkaPHiwJOmu\n",
              "u+5SXl6ekpOTFR4eroYNG2rp0qX+LBkAAKBShmmaZqCL8KeMjAzNnTs30GUAAIA/iYBPGAcAAKhN\n",
              "CE8AAAAWEJ4AAAAsIDwBAABYQHgCAACwgPAEAABgAeEJAADAAsITAACABYQnAAAACwhPAAAAFhCe\n",
              "AAAALCA8AQAAWEB4AgAAsIDwBAAAYAHhCQAAwALCEwAAgAWEJwAAAAsITwAAABYQngAAACwgPAEA\n",
              "AFhAeAIAALCA8AQAAGAB4QkAAMACwhMAAIAFhCcAAAALCE8AAAAWEJ4AAAAsIDwBAABYQHgCAACw\n",
              "gPAEAABgAeEJAADAAr+Gp927d6tXr15q27atevTooR07dpzXxu12a8qUKerUqZPat2+vBx98UGVl\n",
              "ZZ79TqdTgwcPVrt27dSxY0ctWLDAnyUDAABUyq/hKT09XePHj9ePP/6oadOmKS0t7bw2WVlZ2rp1\n",
              "q7Zu3arvv/9eISEhmj9/viTJNE3dddddGjNmjH744Qft3LlTw4cP92fJAAAAlfJbeDpy5Ii2bNmi\n",
              "0aNHS5KGDh2qffv2qaCgwKvdN998o1tuuUVhYWEyDEODBg3SO++8I0lau3atwsPDdc8993jaN2vW\n",
              "zF8lAwAAXJLfwtO+ffsUHR2t0NBQSZJhGIqNjZXT6fRq1717d2VnZ6ukpETl5eX68MMP5XA4JEk7\n",
              "d+5UVFSURo4cqa5du+quu+7Snj17LnrO0tJSlZSUeC0VFRX+ukQAAFAHBXzCeFpamlJTU9W3b1/1\n",
              "7dtXbdu29QQul8uldevWaebMmdq2bZsGDhxY6W27OXPmKDIy0mvJzc2tqUsBAAB1gN/CU4sWLXTo\n",
              "0CG5XC5Jv81fcjqdio2N9WpnGIaeeuopbdu2TTk5OerYsaMSEhIkSbGxseratatn/f7779fWrVtV\n",
              "Xl5+wXNOnz5dxcXFXktKSoq/LhEAANRBfgtPTZs2Vbdu3fTuu+9KkpYvX66YmBjFx8d7tTt79qyO\n",
              "Hz8uSTp27Jief/55TZ06VZI0aNAg7d+/XwcOHJAkrV69Wh06dFC9evUueM7w8HBFRER4LTabzV+X\n",
              "CAAA6qBQfx48MzNTaWlpmj17tiIiIrR48WJJ0tixYzVkyBANGTJExcXF6tevn0JCQuR2uzV58mQN\n",
              "HjxYktSwYUMtXLhQf/nLX2SapiIjI/X+++/7s2QAAIBKGaZpmoEuwp8yMjI0d+7cQJcBAAD+JAI+\n",
              "YRwAAKA2ITwBAABYQHgCAACwgPAEAABgAeEJAADAAsITAACABYQnAAAACwhPAAAAFhCeAAAALCA8\n",
              "AQAAWEB4AgAAsIDwBAAAYAHhCQAAwALCEwAAgAWEJwAAAAsITwAAABYQngAAACwgPAEAAFhAeAIA\n",
              "ALCA8AQAAGAB4QkAAMACwhMAAIAFhCcAAAALCE8AAAAWEJ4AAAAsMEzTNANdhD/dfffdstvt1XKs\n",
              "iooK5ebmKiUlRTabrVqOWdfQh1VHH1YdfVh19GHV+asPW7ZsqcmTJ1fb8XC+P314qk4lJSWKjIxU\n",
              "cXGxIiIiAl1OrUQfVh19WHX0YdXRh1VHH9Ze3LYDAACwgPAEAABgAeEJAADAAsKTBeHh4frnP/+p\n",
              "8PDwQJdSa9GHVUcfVh19WHX0YdXRh7UXE8YBAAAsYOQJAADAAsITAACABYQnAAAACwhPF7B79271\n",
              "6tVLbdu2VY8ePbRjx44LtsvKylKbNm3UunVrjRs3TuXl5TVcafDypQ/XrVunlJQUdezYUQkJCZo6\n",
              "darcbncAqg1Ovv57KEmmaermm29Wo0aNaq7AWsDXPvz222/Vr18/dejQQR06dNDHH39cw5UGL1/6\n",
              "0O12KyMjQx07dlTnzp3Vv39/FRQUBKDa4DRp0iTZ7XYZhqH8/PyLtuM7pRYxcZ7+/fubixcvNk3T\n",
              "ND/66CMzOTn5vDZ79uwxo6OjzUOHDplut9scPHiw+frrr9dwpcHLlz7cunWr+dNPP5mmaZpnzpwx\n",
              "e/fu7fkMfOvD373yyivm2LFjzcjIyJoprpbwpQ9PnTpltmrVyty4caNpmqbpcrnMI0eO1GSZQc2X\n",
              "Pvzkk0/MlJQUs6yszDRN03zmmWfMe+65pybLDGobNmww9+3bZ7Zs2dLctm3bBdvwnVK7EJ7Ocfjw\n",
              "YfOqq64yy8vLTdM0TbfbbTZr1szcvXu3V7sXX3zRTE9P96yvWrXK7N27d43WGqx87cNzPfzww+Y/\n",
              "//nPGqgw+Fnpw++++8686aabzIKCAsLTH/jah2+99ZZ57733BqLEoOdrH65YscLs0qWLWVJSYrrd\n",
              "bvPxxx83H3300UCUHNQqC098p9Qu3LY7x759+xQdHa3Q0FBJkmEYio2NldPp9GrndDrVsmVLz7rd\n",
              "bj+vTV3lax/+UVFRkZYtW6bbb7+9psoMar72YXl5ucaNG6fMzExeznoOX/tw586dCg8P1+23366k\n",
              "pCSNGTNGR48eDUTJQcfXPhw8eLD69eun5s2bKzo6WmvXrtXTTz8diJJrLb5TahfCEwKupKREgwcP\n",
              "1tSpU5WcnBzocmqVWbNm6e6771aHDh0CXUqt5XK5tGbNGmVmZmrbtm267rrr9Pe//z3QZdUqW7Zs\n",
              "0XfffacDBw7o4MGDGjBggCZMmBDosgC/ITydo0WLFjp06JBcLpek3ybiOp1OxcbGerWLjY3V3r17\n",
              "PesOh+O8NnWVr30oSSdPnlRqaqruuOMOZWRk1HSpQcvXPtywYYMWLFggu92uG2+8USUlJbLb7Yyc\n",
              "yNp/y/3799d1110nwzA0evRoffXVV4EoOej42odLlizx/GAhJCREf/3rX/XFF18EouRai++U2oXw\n",
              "dI6mTZuqW7duevfddyVJy5cvV0xMjOLj473aDR06VNnZ2SoqKpJpmlq4cKFGjhwZiJKDjq99+Ouv\n",
              "vyo1NVWpqal68sknA1Fq0PK1Dzdu3Ki9e/fK4XBo06ZNioiIkMPhUFRUVCDKDiq+9uHw4cOVl5en\n",
              "kpISSdLq1avVpUuXGq83GPnah3FxcVq3bp3KysokSStXrlSnTp1qvN7ajO+UWiaA862C1q5du8wb\n",
              "brjBbNOmjdm9e3dz+/btpmma5oMPPmj++9//9rRbtGiRGRcXZ8bFxZkPPPCA55cm8K0Pn332WTM0\n",
              "NNTs0qWLZ3n22WcDWXZQ8fXfw98VFhYyYfwcvvbhkiVLzISEBDMxMdFMTU01nU5noEoOOr704dmz\n",
              "Z82xY8ea7du3NxMTE81bb73V80tamOb48ePN6667zrTZbGbTpk3N1q1bm6bJd0ptxrvtAAAALOC2\n",
              "HQAAgAWEJwAAAAsITwAAABYQngBUKikpSSdPnrT8uWHDhuntt9+u/oIAIMBCA10AgOBW2YtMAaAu\n",
              "YuQJQKUMw9CJEyck/fbKiH/84x/q2bOnWrVqpWeffdbTbteuXerVq5cSEhJ05513ep6bJP32MNRx\n",
              "48YpJSVFnTt31vjx41VWVqYffvhBMTEx2rNnjyTp5ZdfVmpqqtxud41eIwBYQXgCYMmJEyf05Zdf\n",
              "Ki8vTy+99JIOHDggSbr//vv14IMPaseOHXrmmWe0YcMGz2cee+wx3XTTTcrNzdU333wjt9ut+fPn\n",
              "q127dnrppZc0fPhwrV+/Xm+88YbeeecdhYTwvyYAwYvbdgAsGTVqlCSpSZMmiouLU2Fhoa666irl\n",
              "5+crLS1NkpSYmKgbb7zR85kVK1boyy+/1Ny5cyVJZ86c8bzI+N5779UXX3yhgQMHau3atTwdHUDQ\n",
              "IzwBsKR+/fqev202m+e9Z+cyDMPzt2maWr58udq2bXteO5fLpe+++05XX321ZxQLAIIZY+MAqiwi\n",
              "IkJdu3bVkiVLJEk7duzQpk2bPPvvvPNOvfDCC56gdfz4cRUUFEiSnnjiCbVr104bN27UlClTPNsB\n",
              "IFgRngBUiyVLlmjRokXq1KmTnnzySfXp08ez79VXX9UVV1yhpKQkde7cWQMGDJDD4dDKlSv16aef\n",
              "6o033lB8fLzmzp2r4cOH6+zZswG8EgCoHO+2AwAAsICRJwAAAAsITwAAABYQngAAACwgPAEAAFhA\n",
              "eAIAALCA8AQAAGAB4QkAAMACwhMAAIAFhCcAAAALCE8AAAAW/D91Nq0dp0/DfwAAAABJRU5ErkJg\n",
              "gg==\n",
              "\">\n",
              "        \n",
              "      </div>\n",
              "      <script></script>\n",
              "      <script type=\"text/javascript\">\n",
              "        (() => {\n",
              "          const chartElement = document.getElementById(\"chart-1b4b961d-206e-403c-a022-cc71c1de2713\");\n",
              "          async function getCodeForChartHandler(event) {\n",
              "            const chartCodeResponse =  await google.colab.kernel.invokeFunction(\n",
              "                'getCodeForChart', [\"chart-1b4b961d-206e-403c-a022-cc71c1de2713\"], {});\n",
              "            const responseJson = chartCodeResponse.data['application/json'];\n",
              "            await google.colab.notebook.addCell(responseJson.code, 'code');\n",
              "          }\n",
              "          chartElement.onclick = getCodeForChartHandler;\n",
              "        })();\n",
              "      </script>\n",
              "      <style>\n",
              "        .colab-quickchart-chart-with-code  {\n",
              "            display: block;\n",
              "            float: left;\n",
              "            border: 1px solid transparent;\n",
              "        }\n",
              "\n",
              "        .colab-quickchart-chart-with-code:hover {\n",
              "            cursor: pointer;\n",
              "            border: 1px solid #aaa;\n",
              "        }\n",
              "      </style>"
            ]
          },
          "metadata": {}
        },
        {
          "output_type": "display_data",
          "data": {
            "text/plain": [
              "import numpy as np\n",
              "from google.colab import autoviz\n",
              "\n",
              "def time_series_multiline(df, timelike_colname, value_colname, series_colname, figscale=1, mpl_palette_name='Dark2'):\n",
              "  from matplotlib import pyplot as plt\n",
              "  import seaborn as sns\n",
              "  figsize = (10 * figscale, 5.2 * figscale)\n",
              "  palette = list(sns.palettes.mpl_palette(mpl_palette_name))\n",
              "  def _plot_series(series, series_name, series_index=0):\n",
              "    if value_colname == 'count()':\n",
              "      counted = (series[timelike_colname]\n",
              "                 .value_counts()\n",
              "                 .reset_index(name='counts')\n",
              "                 .rename({'index': timelike_colname}, axis=1)\n",
              "                 .sort_values(timelike_colname, ascending=True))\n",
              "      xs = counted[timelike_colname]\n",
              "      ys = counted['counts']\n",
              "    else:\n",
              "      xs = series[timelike_colname]\n",
              "      ys = series[value_colname]\n",
              "    plt.plot(xs, ys, label=series_name, color=palette[series_index % len(palette)])\n",
              "\n",
              "  fig, ax = plt.subplots(figsize=figsize, layout='constrained')\n",
              "  df = df.sort_values(timelike_colname, ascending=True)\n",
              "  if series_colname:\n",
              "    for i, (series_name, series) in enumerate(df.groupby(series_colname)):\n",
              "      _plot_series(series, series_name, i)\n",
              "    fig.legend(title=series_colname, bbox_to_anchor=(1, 1), loc='upper left')\n",
              "  else:\n",
              "    _plot_series(df, '')\n",
              "  sns.despine(fig=fig, ax=ax)\n",
              "  plt.xlabel(timelike_colname)\n",
              "  plt.ylabel(value_colname)\n",
              "  return autoviz.MplChart.from_current_mpl_state()\n",
              "\n",
              "chart = time_series_multiline(_df_13, *['index', 'count()', 'city'], **{})\n",
              "chart"
            ],
            "text/html": [
              "      <div class=\"colab-quickchart-chart-with-code\" id=\"chart-645f6a54-32ac-4aba-bf39-258966375ff1\">\n",
              "        <img src=\"data:image/png;base64,iVBORw0KGgoAAAANSUhEUgAAAloAAAEPCAYAAACa8GozAAAAOXRFWHRTb2Z0d2FyZQBNYXRwbG90\n",
              "bGliIHZlcnNpb24zLjcuMSwgaHR0cHM6Ly9tYXRwbG90bGliLm9yZy/bCgiHAAAACXBIWXMAAA9h\n",
              "AAAPYQGoP6dpAAAhlElEQVR4nO3deXAUdeL+8adzciagRA5jCCEECFcQyHKIgLBFVAinCC64UY6g\n",
              "UkSyCrKaVbzwREG0QjQeSC2ugmIWrbWWQzYBNLAkHhxKNCFcAWQh8SDn9O8Pfs7XyDUh88nkeL+q\n",
              "usxMf2b66U+p81R3z7Rl27YtAAAAuJ2XpwMAAADUVxQtAAAAQyhaAAAAhlC0AAAADKFoAQAAGELR\n",
              "AgAAMISiBQAAYAhFCwAAwJB6X7SWLl3q6QgAAKCB8vF0ANMOHDjg6QgAANQ6tm2rvLxcFRUVno5S\n",
              "5/j6+srb29ulsfW+aAEAgMpKS0t19OhR/fLLL56OUidZlqXg4GA1a9bskmMpWgAANCAOh0O5ubny\n",
              "9vZWu3bt5OfnJ8uyPB2rzrBtWydOnNChQ4fUqVOnSx7ZomgBANCAlJaWyuFw6JprrlGTJk08HadO\n",
              "CgoKUl5ensrKyi5ZtOr9xfAAAOBcXl5UgMtVlSOAzDIAAIAhFC0AAOBxN910k7755htJ0ptvvql9\n",
              "+/Z5OJF7cI0WAADwuI8//tj595tvvqkWLVqoS5cuHkzkHhzRAgAANWr79u267rrr1KtXL/Xs2VMf\n",
              "fvihQkNDlZ2drddee007d+7UvHnzFBUVpY8//lg9evTQtm3bnK9PSUnRrbfe6sE9cB1HtAAAQI35\n",
              "3//+p7Fjx2rNmjUaPHiwHA6HTp8+7Vw/Y8YMrVq1Svfee6/Gjh0rSTp8+LCWL1+ugQMHSpJefvll\n",
              "LV++3APpq44jWgAAoMZs375dnTt31uDBgyWd/fbjFVdccdHXTJ06VZs3b9axY8eUkZEhy7Kcr6/t\n",
              "OKIFAABqtcaNGysuLk4rVqzQ3r17dc8993g6kssoWgAAoMYMHDhQ+/fvV3p6+nlPHUpSQECACgsL\n",
              "Kz13zz33qH///iorK1NqamoNJq4eTh0CAIAa07JlS33wwQd64IEH1LNnT1177bXaunVrpTGzZs3S\n",
              "k08+6bwYXpKCg4PVu3dvTZ06tU79oj1HtAAAQI3q37//OeVq9OjRzr9HjRqlUaNGVVr/888/Kysr\n",
              "S8uWLauRjO7CES0AAFCrJScnq0uXLrr77rvVoUMHT8epEo5oAQCAWm327NmaPXu2p2NcFo5oAQAA\n",
              "GELRAgAAMISiBQAAYAhFCwAAwBCKFgAA8Lhfbyr9W0OHDtW6deuq9D6tWrVSXl6e23JVF0ULAADA\n",
              "EH7eAQCABsy2bZ0pLzO6jcY+vrIs67Je+8svv6h169bKzc11/iL8bbfdpsGDB+uuu+5SWlqaFixY\n",
              "IF9fX8XExLgztltQtAAAaMDOlJcpYtXfjG7j26mPqomv3yXH3XrrrWrcuLHzcU5Oju69916NGDFC\n",
              "q1at0qxZs3Ts2DFt2LBBKSkpOn78uO644w6lp6crMjJSKSkpOnnypMldqTJOHQIAgFrhH//4h7Kz\n",
              "s51L3759JUkJCQl6+eWXJUmvvvqqpkyZombNmumzzz5Tz549FRkZKUmaPn26/PwuXehqktEjWnPn\n",
              "zlVaWpoOHDigrKwsRUVFnXdcamqqnnrqKTkcDt1www165ZVX5Ovr61xv27aGDx+uXbt2nXOHbwAA\n",
              "cPka+/jq26mPGt9GdURHR6tJkybavHmzUlJStGHDhvOOu9zTkyYZPaI1ceJEZWRkqH379hcck5ub\n",
              "q6SkJKWnpysnJ0fHjh1TSkpKpTEvvPCCOnbsaDIqAAANkmVZauLrZ3RxRwFKSEjQ7bffrq5duyoi\n",
              "IkKSNGDAAH355Zfat2+fJOn1119XaWlptbflTkaL1vXXX6/g4OCLjlmzZo1iY2PVpk0bWZal2bNn\n",
              "a/Xq1c71u3fv1rp16/TAAw9ccnslJSUqKiqqtFRUVFR7PwAAgGdNnDhRP/30k+bMmeN8LigoSK+/\n",
              "/rrGjRunXr16af/+/bryyis9mPJcHr8YPj8/v9IRr9DQUOXn50uSysrKNHPmTKWmpsrb2/uS77V4\n",
              "8WItWrSo0nP9+/d3b2AAAOB25/vtq08//dT5d3Z2toKCgnTzzTdXGjNmzBiNGTPG+fjpp582FfGy\n",
              "1OqL4RctWqTx48era9euLo1fuHChCgsLKy3R0dGGUwIAAJNmzJih8ePHa/ny5fLyqtXV5RweP6IV\n",
              "EhKi7777zvk4Ly9PISEhkqQtW7YoPz9fy5cvV3l5uYqKihQaGqodO3YoKCjonPfy9/eXv79/pedc\n",
              "ORIGAABqr9dee83TES6bx2vhhAkTlJaWpoKCAtm2reTkZE2ePFmSlJ6ergMHDigvL08ZGRkKCAhQ\n",
              "Xl7eeUsWAABAbWO0aMXHxys4OFiHDh3SyJEjFR4eLunsIcC0tDRJUlhYmBYtWqRBgwYpPDxcQUFB\n",
              "io+PNxkLAACgRli2bdueDmFSYmKilixZ4ukYAADUCsXFxcrNzVWHDh3UqFEjT8epk6oyhx4/dQgA\n",
              "AFBfUbQAAAAMoWgBAACPsyzLI7fZ+/TTTy94i8AjR45o8ODB1Xp/j/+8AwAA8BzbtmWX/mJ0G5Zf\n",
              "E+P3ISwvL5ePj3trTbt27ZSenl6t96BoAQDQgNmlvygnPsDoNsJXFMnyb+paHtvWAw88oL179+qd\n",
              "d95RcnKyVq9erbKyMvn6+mrZsmUaMGCApLN3k7n11lu1efNmderUSc8//7ymTJmioqIiFRcXa9iw\n",
              "YVq2bJnzR06ffvpprVq1Sl5eXmrcuLE2bdok6WxJu/vuu7V161aVl5frrbfeUt++fZWXl6eoqKhq\n",
              "HWmjaAEAgFqhpKREU6ZM0ZVXXqkPPvhA3t7emjZtmhITEyVJn332meLi4pw3kZakkydP6vPPP5dl\n",
              "WSouLtY///lPNWvWTBUVFRozZozeffddTZ48WW+99ZbWrl2rjIwMBQYG6tSpU84fOd+3b59SU1P1\n",
              "yiuvKDk5WQ8++KA++eQTt+wTRQsAgAbM8mui8BVFxrfhiptvvlljxoxRUlKS87msrCw98cQTOnny\n",
              "pHx8fPTNN9/ozJkzaty4sSQpLi7OeVrS4XBowYIFysjIkG3bOn78uLp3767Jkydr/fr1mj17tgID\n",
              "AyVJLVu2dG4jPDxcf/jDHyRJAwYM0HPPPeeW/ZYoWgAANGiWZbl8Ws+0G264Qf/+97+VkJCggIAA\n",
              "lZaWavz48dq8ebP69eunoqIiBQYGqqSkxFm0mjVr5nz9kiVLdPz4cX3++edq1KiREhMTVVxcfMnt\n",
              "/va3sLy9vVVeXu62feJbhwAAoFb461//qvHjx2vEiBE6efKkiouLVVpa6rwH8ksvvXTR1586dUpt\n",
              "2rRRo0aNVFBQoPfee8+5LjY2VsnJySosLJQknT59WhUVFeZ25v/jiBYAAKg17r33XjVt2lQ33HCD\n",
              "PvnkEz3++OOKjo5Wq1atnPdCvpCEhARNnDhR3bp1U7t27TRixAjnumnTpunIkSMaOHCgfHx81LRp\n",
              "U23YsMH07nALHgAAGhJuwVN93IIHAACgFqBoAQAAGELRAgAAMISiBQBAA+RwODwdoc6qyuXtfOsQ\n",
              "AIAGxM/PT15eXjpy5IiCgoLk5+dn/D6E9Ylt2zpx4oQsy5Kvr+8lx1O0AABoQLy8vNShQwcdPXpU\n",
              "R44c8XScOsmyLAUHB8vb2/uSYylaAAA0MH5+fgoJCVF5eXmN/GhnfePr6+tSyZIoWgAANEi/nvpy\n",
              "5fQXLh8XwwMAABhC0QIAADCEogUAAGAIRQsAAMAQihYAAIAhFC0AAABDKFoAAACGULQAAAAMoWgB\n",
              "AAAYQtECAAAwhKIFAABgCEULAADAEKNFa+7cuQoNDZVlWcrOzr7guNTUVHXq1EkdO3bUzJkzVVZW\n",
              "JknatGmToqOjFRkZqW7dumn+/PlyOBwmIwMAALiN0aI1ceJEZWRkqH379hcck5ubq6SkJKWnpysn\n",
              "J0fHjh1TSkqKJKlly5Z65513tGfPHv33v//Vtm3btHLlSpORAQAA3MZo0br++usVHBx80TFr1qxR\n",
              "bGys2rRpI8uyNHv2bK1evVqS1Lt3b4WFhUmSGjVqpKioKOXl5ZmMDAAA4DY+ng6Qn59f6YhXaGio\n",
              "8vPzzxlXUFCgNWvWaP369Rd8r5KSEpWUlFR6rqKiwn1hAQAAqqBOXAxfVFSk0aNHa/78+erbt+8F\n",
              "xy1evFiBgYGVlszMzBpMCgAA8H88XrRCQkJ04MAB5+O8vDyFhIQ4H//444+KiYnRmDFjlJiYeNH3\n",
              "WrhwoQoLCyst0dHRxrIDAABcjMeL1oQJE5SWlqaCggLZtq3k5GRNnjxZkvTTTz8pJiZGMTExeuih\n",
              "hy75Xv7+/goICKi0eHt7m94FAACA8zJatOLj4xUcHKxDhw5p5MiRCg8PlyTNmDFDaWlpkqSwsDAt\n",
              "WrRIgwYNUnh4uIKCghQfHy9JWrp0qTIzM/X+++8rKipKUVFReuKJJ0xGBgAAcBvLtm3b0yFMSkxM\n",
              "1JIlSzwdAwAANEAeP3UIAABQX1G0AAAADKFoAQAAGELRAgAAMISiBQAAYAhFCwAAwBCKFgAAgCEU\n",
              "LQAAAEMoWgAAAIZQtAAAAAyhaAEAABhC0QIAADCEogUAAGAIRQsAAMAQihYAAIAhFC0AAABDKFoA\n",
              "AACG+FzOi/bs2aNDhw6pcePG6tGjh1q0aOHmWAAAAHWfy0Xrxx9/1HPPPadXX31VTZo0UevWrVVc\n",
              "XKzvvvtO0dHRWrBggYYPH24yKwAAQJ3ictEaNmyYbr/9dmVlZal169bO5x0Oh9LT05WcnKycnBzF\n",
              "x8cbCQoAAFDXuFy0tm7dKn9//3Oe9/Ly0pAhQzRkyBCVlJS4NRwAAEBd5vLF8OcrWZczBgAAoKFw\n",
              "uWiNGjVK27ZtO++606dP6/nnn9eKFSvcFgwAAKCuc/nU4ZNPPqmFCxdqz5496tevn/Ni+H379unw\n",
              "4cO65557dOedd5rMCgAAUKe4XLR69uypjz76SAcPHtSWLVt06NAhNWnSRH/605903XXXycfnsn4p\n",
              "AgAAoN6qcjs6deqUpk6dWum5L7/8Uj179nRbKAAAgPqgyr8MHxcX59JzAAAADZ3LR7SOHz+ugoIC\n",
              "nTlzRl999ZVs25YkFRYW6ueffzYWEAAAoK5yuWitXr1aL774oo4cOaLY2Fjn84GBgZo/f76RcAAA\n",
              "AHWZy0UrISFBCQkJeuyxx5SUlGQyEwAAQL1Q5Yvhk5KS5HA4VFBQoPLycufzISEhbg0GAABQ11X5\n",
              "Yvi33npLLVq0UI8ePdSnTx/16dNHffv2Pe/YuXPnKjQ0VJZlKTs7+4LvmZqaqk6dOqljx46aOXOm\n",
              "ysrKXFoHAABQm1W5aD366KPasWOHTp48qRMnTujEiRM6fvz4ecdOnDhRGRkZat++/QXfLzc3V0lJ\n",
              "SUpPT1dOTo6OHTumlJSUS64DAACo7apctFq1aqXOnTu7NPb6669XcHDwRcesWbNGsbGxatOmjSzL\n",
              "0uzZs7V69epLrgMAAKjtqnyN1tixY/Xiiy/qtttuU6NGjZzPBwQEXFaA/Pz8Ske8QkNDlZ+ff8l1\n",
              "51NSUqKSkpJKz1VUVFxWLgAAgOqq8hGtBx98UImJiWrTpo1atmypFi1aqGXLliayVdnixYsVGBhY\n",
              "acnMzPR0LAAA0EBVuWg5HA7nUlFR4fzn5QoJCdGBAwecj/Py8pzfYLzYuvNZuHChCgsLKy3R0dGX\n",
              "nQ0AAKA6qly03G3ChAlKS0tTQUGBbNtWcnKyJk+efMl15+Pv76+AgIBKi7e3d03tCgAAQCVVLlpe\n",
              "Xl7y9vY+Zzmf+Ph4BQcH69ChQxo5cqTCw8MlSTNmzFBaWpokKSwsTIsWLdKgQYMUHh6uoKAgxcfH\n",
              "X3IdAABAbWfZv9600EW/va/hmTNntHLlSlVUVOj+++93ezh3SExM1JIlSzwdAwAANEBVPqLVtGlT\n",
              "59KqVSslJiZqzZo1JrIBAADUadW+Rmvfvn364Ycf3JEFAACgXqny72i1bNlSlmVJkvNehy+99JJ7\n",
              "UwEAANQDVS5av71noY+Pj9q0acM3+wAAAM6jykWrffv2+uWXX5yFq2XLlmrSpIm7cwEAANR5VS5a\n",
              "27Zt04QJE9SmTRtJ0rFjx7R27VoNGDDA7eEAAADqsioXrV+/ZTho0CBJZ4vXvHnz9Nlnn7k9HAAA\n",
              "QF1W5W8dnjlzxlmyJGngwIEqLi52aygAAID6oMpFq1mzZtqwYYPz8caNG9W0aVO3hgIAAKgPqnzq\n",
              "cNmyZRo/frzzm4YOh0Pvv/++24MBAADUdVUuWkeOHNHOnTt17NgxSVLr1q2VmZnp9mAAAAB1XZVP\n",
              "HSYlJSkoKEjdu3dX9+7d1apVKyUlJZnIBgAAUKdV+xY8lmWpoqLCHVkAAADqlSoXrebNm2vbtm3O\n",
              "x1u3blXz5s3dGgoAAKA+qPI1Ws8884zGjRunLl26SJL279+vDz74wO3BAAAA6roqF60BAwZo7969\n",
              "2r59u6Szv6PVokULd+cCAACo86pctKSz9ze86aab3J0FAACgXqn2xfAAAAA4P4oWAACAIRQtAAAA\n",
              "QyhaAAAAhlC0AAAADKFoAQAAGELRAgAAMISiBQAAYAhFCwAAwBCKFgAAgCEULQAAAEMoWgAAAIZQ\n",
              "tAAAAAyhaAEAABhitGjt379fAwcOVEREhPr166fdu3efM8bhcOi+++5T9+7d1aVLF02fPl2lpaXO\n",
              "9U8//bQiIyMVFRWl/v37KzMz02RkAAAAtzFatOLj4zVr1ix9++23WrBggeLi4s4Zk5qaql27dmnX\n",
              "rl3au3evvLy8tHTpUklSdna2XnnlFWVmZio7O1tz5szRnDlzTEYGAABwG2NF6/jx49q5c6emTp0q\n",
              "SZowYYIOHjyonJycSuO++OILjRgxQn5+frIsSzfeeKPefvttSZJlWSorK9PPP/8sSTp9+rSCg4NN\n",
              "RQYAAHArH1NvfPDgQbVt21Y+Pmc3YVmWQkJClJ+fr/DwcOe4Pn36aMWKFZozZ44aN26sd999V3l5\n",
              "eZKkXr16ad68eerQoYOuuOIK+fv76z//+c8Ft1lSUqKSkpJKz1VUVLh/5wAAAFzg8Yvh4+LiFBMT\n",
              "oyFDhmjIkCGKiIhwlrPc3Fy9//77ysnJ0aFDhzRv3jzdeuutF3yvxYsXKzAwsNLCNV0AAMBTjBWt\n",
              "a665RkePHlV5ebkkybZt5efnKyQkpNI4y7L0yCOPKCsrS9u2bVNkZKS6desmSVq7dq169Oihdu3a\n",
              "SZLuuOMObd26tdLF8r+1cOFCFRYWVlqio6NN7SIAAMBFGStaV111la699lqtWrVK0tnSFBwcXOm0\n",
              "oSQVFxfr1KlTkqQffvhBTz31lObPny9JCgsL09atW/XTTz9JktavX6+IiAj5+fmdd5v+/v4KCAio\n",
              "tHh7e5vaRQAAgIsydo2WJK1YsUJxcXF68sknFRAQoDfeeEOSNGPGDMXGxio2NlaFhYUaOnSovLy8\n",
              "5HA4lJCQoNGjR0uSxo0bpx07dqhv377y9/dX06ZN9fe//91kZAAAALexbNu2PR3CpMTERC1ZssTT\n",
              "MQAAQAPk8YvhAQAA6iuKFgAAgCEULQAAAEMoWgAAAIZQtAAAAAyhaAEAABhC0QIAADCEogUAAGAI\n",
              "RQsAAMAQihYAAIAhFC0AAABDKFoAAACGULQAAAAMoWgBAAAYQtECAAAwhKIFAABgCEULAADAEIoW\n",
              "AACAIRQtAAAAQyhaAAAAhlC0AAAADKFoAQAAGELRAgAAMISiBQAAYAhFCwAAwBCKFgAAgCEULQAA\n",
              "AEMoWgAAAIZQtAAAAAyhaAEAABhC0QIAADDEaNHav3+/Bg4cqIiICPXr10+7d+8+Z4zD4dB9992n\n",
              "7t27q0uXLpo+fbpKS0ud6/Pz8zV69Gh17txZkZGReumll0xGBgAAcBujRSs+Pl6zZs3St99+qwUL\n",
              "FiguLu6cMampqdq1a5d27dqlvXv3ysvLS0uXLpUk2batcePG6fbbb9c333yjPXv2aNKkSSYjAwAA\n",
              "uI2xonX8+HHt3LlTU6dOlSRNmDBBBw8eVE5OTqVxX3zxhUaMGCE/Pz9ZlqUbb7xRb7/9tiRp48aN\n",
              "8vf31y233OIc37p1a1ORAQAA3MpY0Tp48KDatm0rHx8fSZJlWQoJCVF+fn6lcX369FFaWpqKiopU\n",
              "Vlamd999V3l5eZKkPXv2KCgoSJMnT1bv3r01btw4ff/99xfcZklJiYqKiiotFRUVpnYRAADgojx+\n",
              "MXxcXJxiYmI0ZMgQDRkyRBEREc5yVl5erk2bNikpKUlZWVkaOXLkRU8dLl68WIGBgZWWzMzMmtoV\n",
              "AACASowVrWuuuUZHjx5VeXm5pLPXW+Xn5yskJKTSOMuy9MgjjygrK0vbtm1TZGSkunXrJkkKCQlR\n",
              "7969nY+nTZumXbt2qays7LzbXLhwoQoLCyst0dHRpnYRAADgoowVrauuukrXXnutVq1aJUlau3at\n",
              "goODFR4eXmlccXGxTp06JUn64Ycf9NRTT2n+/PmSpBtvvFGHDh3S4cOHJUkff/yxunbtKl9f3/Nu\n",
              "09/fXwEBAZUWb29vU7sIAABwUT4m33zFihWKi4vTk08+qYCAAL3xxhuSpBkzZig2NlaxsbEqLCzU\n",
              "0KFD5eXlJYfDoYSEBI0ePVqS1LRpUyUnJ+vmm2+WbdsKDAzUO++8YzIyAACA21i2bdueDmFSYmKi\n",
              "lixZ4ukYAACgAfL4xfAAAAD1FUULAADAEIoWAACAIRQtAAAAQyhaAAAAhlC0AAAADKFoAQAAGELR\n",
              "AgAAMISiBQAAYAhFCwAAwBCKFgAAgCEULQAAAEMoWgAAAIZQtAAAAAyhaAEAABhC0QIAADCEogUA\n",
              "AGAIRQsAAMAQihYAAIAhFC0AAABDKFoAAACGULQAAAAMoWgBAAAYQtECAAAwhKIFAABgiGXbtu3p\n",
              "ECaNHz9eoaGhbnmviooKZWZmKjo6Wt7e3m55z4aGOaw+5rD6mMPqYw6rz9Qctm/fXgkJCW57P1RP\n",
              "vS9a7lRUVKTAwEAVFhYqICDA03HqJOaw+pjD6mMOq485rD7msGHg1CEAAIAhFC0AAABDKFoAAACG\n",
              "ULSqwN/fXw8//LD8/f09HaXOYg6rjzmsPuaw+pjD6mMOGwYuhgcAADCEI1oAAACGULQAAAAMoWgB\n",
              "AAAYQtE6j/3792vgwIGKiIhQv379tHv37vOOS01NVadOndSxY0fNnDlTZWVlNZy09nJlDjdt2qTo\n",
              "6GhFRkaqW7dumj9/vhwOhwfS1k6u/nsoSbZt64YbblCLFi1qLmAd4OocfvXVVxo6dKi6du2qrl27\n",
              "6v3336/hpLWXK3PocDiUmJioyMhI9ezZU8OGDVNOTo4H0tZOc+fOVWhoqCzLUnZ29gXH8ZlST9k4\n",
              "x7Bhw+w33njDtm3bfu+99+y+ffueM+b777+327Ztax89etR2OBz26NGj7eXLl9dw0trLlTnctWuX\n",
              "/d1339m2bdtnzpyxBw0a5HwNXJvDXz3//PP2jBkz7MDAwJoJV0e4Moc///yz3aFDBzs9Pd22bdsu\n",
              "Ly+3jx8/XpMxazVX5vCDDz6wo6Oj7dLSUtu2bfuxxx6zb7nllpqMWatt2bLFPnjwoN2+fXs7Kyvr\n",
              "vGP4TKm/KFq/c+zYMbt58+Z2WVmZbdu27XA47NatW9v79++vNO6ZZ56x4+PjnY8/+ugje9CgQTWa\n",
              "tbZydQ5/75577rEffvjhGkhY+1VlDr/++mt78ODBdk5ODkXrN1ydw1dffdWeMmWKJyLWeq7O4bp1\n",
              "6+xevXrZRUVFtsPhsO+//3573rx5nohcq12saPGZUn9x6vB3Dh48qLZt28rHx0eSZFmWQkJClJ+f\n",
              "X2lcfn6+2rdv73wcGhp6zpiGytU5/K2CggKtWbNGo0aNqqmYtZqrc1hWVqaZM2dqxYoV3Nj3d1yd\n",
              "wz179sjf31+jRo1SVFSUbr/9dp04ccITkWsdV+dw9OjRGjp0qNq0aaO2bdtq48aNevTRRz0Ruc7i\n",
              "M6X+omjB44qKijR69GjNnz9fffv29XScOmXRokUaP368unbt6ukodVZ5ebk2bNigFStWKCsrS1df\n",
              "fbXuuusuT8eqU3bu3Kmvv/5ahw8f1pEjRzR8+HDNnj3b07GAWoGi9TvXXHONjh49qvLycklnLzLO\n",
              "z89XSEhIpXEhISE6cOCA83FeXt45YxoqV+dQkn788UfFxMRozJgxSkxMrOmotZarc7hlyxa99NJL\n",
              "Cg0N1XXXXaeioiKFhoZyREZV+2952LBhuvrqq2VZlqZOnarPPvvME5FrHVfncOXKlc4vY3h5eenP\n",
              "f/6zNm/e7InIdRafKfUXRet3rrrqKl177bVatWqVJGnt2rUKDg5WeHh4pXETJkxQWlqaCgoKZNu2\n",
              "kpOTNXnyZE9ErnVcncOffvpJMTExiomJ0UMPPeSJqLWWq3OYnp6uAwcOKC8vTxkZGQoICFBeXp6C\n",
              "goI8EbtWcXUOJ02apB07dqioqEiS9PHHH6tXr141nrc2cnUOw8LCtGnTJpWWlkqS1q9fr+7du9d4\n",
              "3rqMz5R6zIPXh9Va+/bts/v372936tTJ7tOnj/3ll1/atm3b06dPtz/88EPnuJSUFDssLMwOCwuz\n",
              "77zzTuc3buDaHD7++OO2j4+P3atXL+fy+OOPezJ2reLqv4e/ys3N5WL433F1DleuXGl369bN7tGj\n",
              "hx0TE2Pn5+d7KnKt48ocFhcX2zNmzLC7dOli9+jRw/7jH//o/EYxbHvWrFn21VdfbXt7e9tXXXWV\n",
              "3bFjR9u2+UxpKLjXIQAAgCGcOgQAADCEogUAAGAIRQsAAMAQihaAi4qKitKPP/5Y5ddNnDhRb775\n",
              "pvsDAUAd4uPpAABqt4vdBBcAcHEc0QJwUZZl6fTp05LO3hbkb3/7mwYMGKAOHTro8ccfd47bt2+f\n",
              "Bg4cqG7dumns2LHO36WSzv4w7cyZMxUdHa2ePXtq1qxZKi0t1TfffKPg4GB9//33kqTnnntOMTEx\n",
              "cjgcNbqPAGAKRQtAlZw+fVrbt2/Xjh079Oyzz+rw4cOSpGnTpmn69OnavXu3HnvsMW3ZssX5mr/8\n",
              "5S8aPHiwMjMz9cUXX8jhcGjp0qXq3Lmznn32WU2aNEmffvqpXn75Zb399tvy8uJ/TQDqB04dAqiS\n",
              "2267TZLUqlUrhYWFKTc3V82bN1d2drbi4uIkST169NB1113nfM26deu0fft2LVmyRJJ05swZ502w\n",
              "p0yZos2bN2vkyJHauHEjv2oPoF6haAGokkaNGjn/9vb2dt4H7/csy3L+bdu21q5dq4iIiHPGlZeX\n",
              "6+uvv9YVV1zhPDoGAPUFx+cBVFtAQIB69+6tlStXSpJ2796tjIwM5/qxY8fq6aefdpayU6dOKScn\n",
              "R5L0wAMPqHPnzkpPT9d9993nfB4A6gOKFgC3WLlypVJSUtS9e3c99NBDuv76653rXnjhBTVu3FhR\n",
              "UVHq2bOnhg8frry8PK1fv17/+te/9PLLLys8PFxLlizRpEmTVFxc7ME9AQD34V6HAAAAhnBECwAA\n",
              "wBCKFgAAgCEULQAAAEMoWgAAAIZQtAAAAAyhaAEAABhC0QIAADCEogUAAGAIRQsAAMAQihYAAIAh\n",
              "/w8xOhFfme959wAAAABJRU5ErkJggg==\n",
              "\">\n",
              "        \n",
              "      </div>\n",
              "      <script></script>\n",
              "      <script type=\"text/javascript\">\n",
              "        (() => {\n",
              "          const chartElement = document.getElementById(\"chart-645f6a54-32ac-4aba-bf39-258966375ff1\");\n",
              "          async function getCodeForChartHandler(event) {\n",
              "            const chartCodeResponse =  await google.colab.kernel.invokeFunction(\n",
              "                'getCodeForChart', [\"chart-645f6a54-32ac-4aba-bf39-258966375ff1\"], {});\n",
              "            const responseJson = chartCodeResponse.data['application/json'];\n",
              "            await google.colab.notebook.addCell(responseJson.code, 'code');\n",
              "          }\n",
              "          chartElement.onclick = getCodeForChartHandler;\n",
              "        })();\n",
              "      </script>\n",
              "      <style>\n",
              "        .colab-quickchart-chart-with-code  {\n",
              "            display: block;\n",
              "            float: left;\n",
              "            border: 1px solid transparent;\n",
              "        }\n",
              "\n",
              "        .colab-quickchart-chart-with-code:hover {\n",
              "            cursor: pointer;\n",
              "            border: 1px solid #aaa;\n",
              "        }\n",
              "      </style>"
            ]
          },
          "metadata": {}
        },
        {
          "output_type": "display_data",
          "data": {
            "text/plain": [
              "import numpy as np\n",
              "from google.colab import autoviz\n",
              "\n",
              "def time_series_multiline(df, timelike_colname, value_colname, series_colname, figscale=1, mpl_palette_name='Dark2'):\n",
              "  from matplotlib import pyplot as plt\n",
              "  import seaborn as sns\n",
              "  figsize = (10 * figscale, 5.2 * figscale)\n",
              "  palette = list(sns.palettes.mpl_palette(mpl_palette_name))\n",
              "  def _plot_series(series, series_name, series_index=0):\n",
              "    if value_colname == 'count()':\n",
              "      counted = (series[timelike_colname]\n",
              "                 .value_counts()\n",
              "                 .reset_index(name='counts')\n",
              "                 .rename({'index': timelike_colname}, axis=1)\n",
              "                 .sort_values(timelike_colname, ascending=True))\n",
              "      xs = counted[timelike_colname]\n",
              "      ys = counted['counts']\n",
              "    else:\n",
              "      xs = series[timelike_colname]\n",
              "      ys = series[value_colname]\n",
              "    plt.plot(xs, ys, label=series_name, color=palette[series_index % len(palette)])\n",
              "\n",
              "  fig, ax = plt.subplots(figsize=figsize, layout='constrained')\n",
              "  df = df.sort_values(timelike_colname, ascending=True)\n",
              "  if series_colname:\n",
              "    for i, (series_name, series) in enumerate(df.groupby(series_colname)):\n",
              "      _plot_series(series, series_name, i)\n",
              "    fig.legend(title=series_colname, bbox_to_anchor=(1, 1), loc='upper left')\n",
              "  else:\n",
              "    _plot_series(df, '')\n",
              "  sns.despine(fig=fig, ax=ax)\n",
              "  plt.xlabel(timelike_colname)\n",
              "  plt.ylabel(value_colname)\n",
              "  return autoviz.MplChart.from_current_mpl_state()\n",
              "\n",
              "chart = time_series_multiline(_df_14, *['marks', 'count()', 'name'], **{})\n",
              "chart"
            ],
            "text/html": [
              "      <div class=\"colab-quickchart-chart-with-code\" id=\"chart-93ae20a8-0cf5-4371-838d-636e5995d2e6\">\n",
              "        <img src=\"data:image/png;base64,iVBORw0KGgoAAAANSUhEUgAAAk8AAAEPCAYAAABbdyCfAAAAOXRFWHRTb2Z0d2FyZQBNYXRwbG90\n",
              "bGliIHZlcnNpb24zLjcuMSwgaHR0cHM6Ly9tYXRwbG90bGliLm9yZy/bCgiHAAAACXBIWXMAAA9h\n",
              "AAAPYQGoP6dpAAAhoklEQVR4nO3df1BVdf7H8dflAtfUQFIUW7ygApr4AxXJH6W1tau2SZmYbpmL\n",
              "qdG0rhb542vlbu5OarWpZdOoDWOla2VWZtnWZqSptAEp6aaVGIia+CsF00QufL5/ON3ppiBHuR6Q\n",
              "52PmTJ5zPvec9/kM3XnN53zuOQ5jjBEAAABqJMDuAgAAAOoTwhMAAIAFhCcAAAALCE8AAAAWEJ4A\n",
              "AAAsIDwBAABYQHgCAACwgPAEAABgwWUfnp599lm7SwAAAJeRQLsL8Lfdu3fbXQIAAHWOMUYej0cV\n",
              "FRV2l1JnBAUFyel0nrfdZR+eAACAr9OnT2v//v06efKk3aXUKQ6HQ5GRkWratGm17QhPAAA0IJWV\n",
              "lSooKJDT6dTVV1+t4OBgORwOu8uynTFGhw4d0t69exUbG1vtCBThCQCABuT06dOqrKxUmzZt1Lhx\n",
              "Y7vLqVPCw8NVWFio8vLyasPTZT9hHAAAnC0ggAjwazUdgaPnAAAALCA8AQAAWEB4AgAAsIDwBAAA\n",
              "LprD4dCsWbOUlJSktm3basmSJd59kydPVq9evZSQkKD+/fvrm2++8fncE088oWuvvVbR0dFatWqV\n",
              "Zs+ercTERMXGxmrdunXeth9++KGuu+469ezZU0lJSfrkk08u5SV6EZ4AAECtcLlcys7O1r///W9N\n",
              "nDhRHo9HkjRt2jTl5OQoLy9PDzzwgCZNmuTzuaZNm+rzzz9XRkaGRo0apdatWys3N1ezZs3SlClT\n",
              "JEnfffedHn/8cb3//vv64osvtHz5ct11110qKyu75NfJowoAAECtuPvuuyVJHTt2VGBgoIqLixUZ\n",
              "GamPPvpICxYs0PHjx1VZWakffvjB53MjRoyQJCUmJurEiRMaOXKkJCkpKUk7d+6UJH3wwQfKz89X\n",
              "//79vZ8LCAhQUVGRYmNjL8XleRGeAABArWjUqJH3306nUx6PR0VFRZowYYJycnLUvn17bd261ScA\n",
              "/fJzPz9b6ZfrP49eGWP0u9/9TsuXL78Ul1ItbtsBAAC/KSkpUVBQkFq3bi1jjJ5//vkLOs7AgQO1\n",
              "du1abd261bstOzu7tsq0hJEnAADgN126dNHIkSMVHx+v5s2b6/bbb7+g48TExGj58uVKS0vTyZMn\n",
              "dfr0aXXv3t2WkSiHMcZc8rNeQunp6Zo7d67dZQAAUCecOnVKBQUFatu2rc9tNtS8b7htBwAAYAHh\n",
              "CQAAwALCEwAAgAWEJwAAAAsITwAAABYQngAAACwgPAEAAFslJCQoISFBnTp1ktPp9K6PGDFC69at\n",
              "U0JCguVj5ubmel/7IkmLFi1Sx44dlZCQoCNHjlxUvTwkEwAA2CovL0+SVFhYqISEBO+6JK1bt+6C\n",
              "jpmYmKjXX3/duz5//nwtWbJEffr0uYhKz2DkCQCABswYo5Plp/26XOzzuD0ejx544AF169ZN8fHx\n",
              "ys3N9W4fOHCgEhMTFR8fr7vuuksnTpyQJJ8Rq5SUFO3atUupqalKSUm5qFokRp4AAGjQfvKUK27Z\n",
              "X/16jm9H/V2Ng4Iv+PNff/21MjIy9MILL2jhwoV69NFH9eGHH8rpdGr58uVq3ry5jDF64IEHtGDB\n",
              "Av3f//2fz+dXrlyp6Ohovf766xd0C/DXGHkCAAB1WkxMjK699lpJUp8+fbRr1y5JZ0bN5s2bp+7d\n",
              "u6tr165as2aNzy0/f/HryNPEiRO1evVq7d69W1u2bKky7WVkZGjOnDmqrKzUb3/7W73wwgsKCgry\n",
              "7jfG6KabbtLmzZt17Ngxf5YMAECDckVgkL4d9Xe/n+Ni/PI9c06nUx6PR5K0fPlyZWZmav369QoJ\n",
              "CdFzzz2nzMzMizpXTfh15CklJUUbN25UVFRUlW0KCgo0Y8YMbdiwQfn5+Tpw4IAWL17s02bevHlq\n",
              "3769P0sFAKBBcjgcahwU7NfF4XD4pfajR4+qRYsWCgkJ0fHjx/XSSy/55Ty/5tfw1L9/f0VGRlbb\n",
              "ZuXKlUpOTlZERIQcDofuv/9+vfrqq979X331lVatWnXW/ctzKSsrU2lpqc9SUVFx0dcBAADqntGj\n",
              "R+vkyZPq0KGDBg8erOuvv/6SnNf2CeNFRUU+I1PR0dEqKiqSJJWXl2v8+PHKyMiQ0+k877Fmz56t\n",
              "mTNn+mzr3bt37RYMAAD8Ijo6+qzpOTfccIPPPKbOnTursLBQkhQaGqq1a9ee81i//tzPn6kNdXrC\n",
              "+MyZM3XHHXfommuuqVH76dOnq6SkxGdJSkryc5UAAKAhsX3kye12e2fNS2eSodvtliStX79eRUVF\n",
              "ev755+XxeFRaWqro6Gjl5OQoPDz8rGO5XC65XC6fbTUZsQIAAKgp20eehg0bptWrV6u4uFjGGC1c\n",
              "uFAjR46UJG3YsEG7d+9WYWGhNm7cqJCQEBUWFp4zOAEAAFwKfg1PaWlpioyM1N69ezVw4EDFxMRI\n",
              "ksaNG6fVq1dLktq1a6eZM2eqX79+iomJUXh4uNLS0vxZFgAAwAVzmIt9Znodl56errlz59pdBgAA\n",
              "dcKpU6dUUFCgtm3b+jw/CTXvG9tv2wEAANQnhCcAAAALCE8AAMB2DofjrGc8RUdHX5J31Vll+6MK\n",
              "AACAfYwxMqdP+vUcjuDGfntFy8XweDwKDLQehQhPAAA0YOb0SeWnhfj1HDGLSuVwNbmoY0RHR2vU\n",
              "qFHKzMzUnj179Oijj8rlcmnx4sXav3+/5syZ433UUU5OjqZNm+Z9Tdsjjzyi4cOHq7CwUAkJCUpL\n",
              "S9NHH32k0aNH68EHH7RcC+EJAADUCydOnFBWVpby8/PVpUsXPfroo/rss8+Uk5OjW265RSNHjtSx\n",
              "Y8d033336f3331fr1q11+PBh9ejRQ3379pUklZSUKD4+Xk8++eQF10F4AgCgAXMEN1bMolK/n+OC\n",
              "P/uL230jRoyQJMXExKhRo0ZKSUmRJCUmJuqHH37QsWPHlJWVpe+++06DBw/2Oc4333yjdu3aKSgo\n",
              "SKNGjbrgeiTCEwAADZrD4bjoW2q1ITw8XEeOHFGzZs282w4fPqyWLVt613/57CWn0+lddzgccjgc\n",
              "8ng8MsYoPj5eWVlZZ52jsLBQjRs3VkDAxf1ejl/bAQAA2w0cOFCLFi3yrr/yyitq166dWrdubek4\n",
              "ffv2VUFBgdauXevdlpeXp9OnT9darYw8AQAA282fP18PPvigunbtqoCAAEVEROiNN96wfJywsDCt\n",
              "WbNGkydP1sMPP6zy8nK53W6tWrWq1molPAEAANs1b95cS5curXJ/YWGhz/rhw4d91j0ej/ffPXr0\n",
              "UGZm5lnHiI6OPutZUheC23YAAAAWEJ4AAAAsIDwBAABYQHgCAKABqqystLuEOscYU6N2TBgHAKAB\n",
              "CQ4OVkBAgL7//nuFh4crODi4Tr537lIzxujQoUNyOBwKCgqqti3hCQCABiQgIEBt27bV/v379f33\n",
              "39tdTp3icDgUGRkpp9NZbTvCEwAADUxwcLDcbrc8Ho8qKirsLqfOCAoKOm9wkghPAAA0SD/fnjrf\n",
              "LSqcjQnjAAAAFhCeAAAALCA8AQAAWEB4AgAAsIDwBAAAYAHhCQAAwALCEwAAgAWEJwAAAAsITwAA\n",
              "ABYQngAAACwgPAEAAFhAeAIAALDAr+Fp4sSJio6OlsPhUF5eXpXtMjIyFBsbq/bt22v8+PEqLy+X\n",
              "JGVmZiopKUmdOnVSfHy8pk6dqsrKSn+WDAAAUC2/hqeUlBRt3LhRUVFRVbYpKCjQjBkztGHDBuXn\n",
              "5+vAgQNavHixJCksLEyvvfaatm/fri+++EJZWVl65ZVX/FkyAABAtfwanvr376/IyMhq26xcuVLJ\n",
              "ycmKiIiQw+HQ/fffr1dffVWS1L17d7Vr106S1KhRIyUkJKiwsNCfJQMAAFQr0O4CioqKfEamoqOj\n",
              "VVRUdFa74uJirVy5Uu+9916VxyorK1NZWZnPtoqKitorFgAANHj1YsJ4aWmphgwZoqlTpyoxMbHK\n",
              "drNnz1ZoaKjPkp2dfQkrBQAAlzvbw5Pb7dbu3bu964WFhXK73d7148ePa9CgQbrtttuUnp5e7bGm\n",
              "T5+ukpISnyUpKclvtQMAgIbH9vA0bNgwrV69WsXFxTLGaOHChRo5cqQk6ccff9SgQYM0aNAgPfbY\n",
              "Y+c9lsvlUkhIiM/idDr9fQkAAKAB8Wt4SktLU2RkpPbu3auBAwcqJiZGkjRu3DitXr1aktSuXTvN\n",
              "nDlT/fr1U0xMjMLDw5WWliZJevbZZ5Wdna233npLCQkJSkhI0BNPPOHPkgEAAKrlMMYYu4vwp/T0\n",
              "dM2dO9fuMgAAwGXC9tt2AAAA9QnhCQAAwALCEwAAgAWEJwAAAAsITwAAABYQngAAACwgPAEAAFhA\n",
              "eAIAALCA8AQAAGAB4QkAAMACwhMAAIAFhCcAAAALCE8AAAAWEJ4AAAAsIDwBAABYQHgCAACwgPAE\n",
              "AABgQeCFfGj79u3au3evrrjiCnXp0kXNmjWr5bIAAADqphqHp+PHj+uf//ynXnzxRTVu3FitWrXS\n",
              "qVOntGvXLiUlJWnatGm66aab/FkrAACA7Wocnm688UaNHj1aW7ZsUatWrbzbKysrtWHDBi1cuFD5\n",
              "+flKS0vzS6EAAAB1QY3D06ZNm+Ryuc7aHhAQoAEDBmjAgAEqKyur1eIAAADqmhpPGD9XcLqQNgAA\n",
              "APVZjcPTrbfeqqysrHPuO3bsmJ555hktWrSo1goDAACoi2p8227WrFmaPn26tm/frl69enknjH/9\n",
              "9dfat2+f/vznP+vee+/1Z60AAAC2q3F46tq1q9asWaM9e/Zo/fr12rt3rxo3bqy7775b1113nQID\n",
              "L+ipBwAAAPWK5cRz9OhRjRo1ymfb1q1b1bVr11orCgAAoK6y/ITx1NTUGm0DAAC4HNV45OngwYMq\n",
              "Li7WTz/9pG3btskYI0kqKSnRiRMn/FYgAABAXVLj8PTqq69q/vz5+v7775WcnOzdHhoaqqlTp/ql\n",
              "OAAAgLqmxuFp0qRJmjRpkv7xj39oxowZ/qwJAACgzrI8YXzGjBmqrKxUcXGxPB6Pd7vb7a7VwgAA\n",
              "AOoiyxPGX375ZTVr1kxdunRRz5491bNnTyUmJp6z7cSJExUdHS2Hw6G8vLwqj5mRkaHY2Fi1b99e\n",
              "48ePV3l5eY32AQAAXGqWw9Pf//535eTk6MiRIzp06JAOHTqkgwcPnrNtSkqKNm7cqKioqCqPV1BQ\n",
              "oBkzZmjDhg3Kz8/XgQMHtHjx4vPuAwAAsIPl8NSiRQt16NChRm379++vyMjIatusXLlSycnJioiI\n",
              "kMPh0P33369XX331vPsAAADsYHnO0+2336758+frrrvuUqNGjbzbQ0JCLqiAoqIin5Gp6OhoFRUV\n",
              "nXffuZSVlamsrMxnW0VFxQXVBQAAcC6WR54effRRpaenKyIiQmFhYWrWrJnCwsL8UZtls2fPVmho\n",
              "qM+SnZ1td1kAAOAyYjk8VVZWepeKigrvfy+U2+3W7t27veuFhYXeX+5Vt+9cpk+frpKSEp8lKSnp\n",
              "gmsDAAD4NcvhqbYNGzZMq1evVnFxsYwxWrhwoUaOHHnefeficrkUEhLiszidzkt1KQAAoAGwHJ4C\n",
              "AgLkdDrPWs4lLS1NkZGR2rt3rwYOHKiYmBhJ0rhx47R69WpJUrt27TRz5kz169dPMTExCg8PV1pa\n",
              "2nn3AQAA2MFhfn5JXQ398j12P/30k1555RVVVFRoypQptV5cbUhPT9fcuXPtLgMAAFwmLI88NWnS\n",
              "xLu0aNFC6enpWrlypT9qAwAAqHMues7T119/rcOHD9dGLQAAAHWe5ec8hYWFyeFwSJL33XYLFiyo\n",
              "3aoAAADqKMvh6ZfvqAsMDFRERAS/aAMAAA2G5fAUFRWlkydPekNUWFiYGjduXNt1AQAA1EmWw1NW\n",
              "VpaGDRumiIgISdKBAwf05ptvqk+fPrVeHAAAQF1jOTz9/Ou6fv36SToTph566CH997//rfXiAAAA\n",
              "6hrLv7b76aefvMFJkvr27atTp07ValEAAAB1leXw1LRpU61du9a7/vHHH6tJkya1WhQAAEBdZfm2\n",
              "3XPPPac77rjD+wu7yspKvfXWW7VeGAAAQF1kOTx9//33ys3N1YEDByRJrVq1UnZ2dq0XBgAAUBdZ\n",
              "vm03Y8YMhYeHq3PnzurcubNatGihGTNm+KM2AACAOueiX8/icDhUUVFRG7UAAADUeZbD05VXXqms\n",
              "rCzv+qZNm3TllVfWalEAAAB1leU5T0899ZSGDh2qjh07SpJ27typt99+u9YLAwAAqIssh6c+ffpo\n",
              "x44d+uyzzySdec5Ts2bNarsuAACAOslyeJLOvM/ulltuqe1aAAAA6ryLnjAOAADQkBCeAAAALCA8\n",
              "AQAAWEB4AgAAsIDwBAAAYAHhCQAAwALCEwAAgAWEJwAAAAsITwAAABYQngAAACwgPAEAAFhAeAIA\n",
              "ALCA8AQAAGAB4QkAAMACv4annTt3qm/fvoqLi1OvXr301VdfndWmsrJSkydPVufOndWxY0eNHTtW\n",
              "p0+f9u5/8skn1alTJyUkJKh3797Kzs72Z8kAAADV8mt4SktL03333advv/1W06ZNU2pq6lltMjIy\n",
              "tHnzZm3evFk7duxQQECAnn32WUlSXl6eXnjhBWVnZysvL08TJkzQhAkT/FkyAABAtfwWng4ePKjc\n",
              "3FyNGjVKkjRs2DDt2bNH+fn5Pu2+/PJL3XzzzQoODpbD4dDgwYO1dOlSSZLD4VB5eblOnDghSTp2\n",
              "7JgiIyP9VTIAAMB5BfrrwHv27FHr1q0VGHjmFA6HQ263W0VFRYqJifG269mzpxYtWqQJEyboiiuu\n",
              "0IoVK1RYWChJ6tatmx566CG1bdtWV111lVwulz799NMqz1lWVqaysjKfbRUVFbV/cQAAoMGyfcJ4\n",
              "amqqBg0apAEDBmjAgAGKi4vzBq6CggK99dZbys/P1969e/XQQw9pxIgRVR5r9uzZCg0N9VmYIwUA\n",
              "AGqT38JTmzZttH//fnk8HkmSMUZFRUVyu90+7RwOhx5//HFt2bJFWVlZ6tSpk+Lj4yVJb775prp0\n",
              "6aKrr75akjRmzBht2rTJZ0L5L02fPl0lJSU+S1JSkr8uEQAANEB+C08tW7ZUjx49tGzZMklnglBk\n",
              "ZKTPLTtJOnXqlI4ePSpJOnz4sObMmaOpU6dKktq1a6dNmzbpxx9/lCS99957iouLU3Bw8DnP6XK5\n",
              "FBIS4rM4nU5/XSIAAGiA/DbnSZIWLVqk1NRUzZo1SyEhIVqyZIkkady4cUpOTlZycrJKSkp0ww03\n",
              "KCAgQJWVlZo0aZKGDBkiSRo6dKhycnKUmJgol8ulJk2aaPny5f4sGQAAoFoOY4yxuwh/Sk9P19y5\n",
              "c+0uAwAAXCZsnzAOAABQnxCeAAAALCA8AQAAWEB4AgAAsIDwBAAAYAHhCQAAwALCEwAAgAWEJwAA\n",
              "AAsITwAAABYQngAAACwgPAEAAFhAeAIAALCA8AQAAGAB4QkAAMACwhMAAIAFhCcAAAALCE8AAAAW\n",
              "EJ4AAAAsIDwBAABYQHgCAACwgPAEAABgAeEJAADAAsITAACABYQnAAAACwhPAAAAFhCeAAAALCA8\n",
              "AQAAWEB4AgAAsIDwBAAAYAHhCQAAwALCEwAAgAV+DU87d+5U3759FRcXp169eumrr746q01lZaUm\n",
              "T56szp07q2PHjho7dqxOnz7t3V9UVKQhQ4aoQ4cO6tSpkxYsWODPkgEAAKrl1/CUlpam++67T99+\n",
              "+62mTZum1NTUs9pkZGRo8+bN2rx5s3bs2KGAgAA9++yzkiRjjIYOHarRo0frm2++0fbt23XnnXf6\n",
              "s2QAAIBq+S08HTx4ULm5uRo1apQkadiwYdqzZ4/y8/N92n355Ze6+eabFRwcLIfDocGDB2vp0qWS\n",
              "pI8//lgul0vDhw/3tm/VqpW/SgYAADgvv4WnPXv2qHXr1goMDJQkORwOud1uFRUV+bTr2bOnVq9e\n",
              "rdLSUpWXl2vFihUqLCyUJG3fvl3h4eEaOXKkunfvrqFDh+q7776r8pxlZWUqLS31WSoqKvx1iQAA\n",
              "oAGyfcJ4amqqBg0apAEDBmjAgAGKi4vzBi6Px6PMzEzNmDFDW7Zs0cCBA6u9bTd79myFhob6LNnZ\n",
              "2ZfqUgAAQAPgt/DUpk0b7d+/Xx6PR9KZ+UtFRUVyu90+7RwOhx5//HFt2bJFWVlZ6tSpk+Lj4yVJ\n",
              "brdb3bt3967fc8892rx5s8rLy895zunTp6ukpMRnSUpK8tclAgCABshv4ally5bq0aOHli1bJkl6\n",
              "8803FRkZqZiYGJ92p06d0tGjRyVJhw8f1pw5czR16lRJ0uDBg7V3717t27dPkvT+++/rmmuuUVBQ\n",
              "0DnP6XK5FBIS4rM4nU5/XSIAAGiAAv158EWLFik1NVWzZs1SSEiIlixZIkkaN26ckpOTlZycrJKS\n",
              "Et1www0KCAhQZWWlJk2apCFDhkiSmjRpooULF+oPf/iDjDEKDQ3Va6+95s+SAQAAquUwxhi7i/Cn\n",
              "9PR0zZ071+4yAADAZcL2CeMAAAD1CeEJAADAAsITAACABYQnAAAACwhPAAAAFhCeAAAALCA8AQAA\n",
              "WEB4AgAAsIDwBAAAYAHhCQAAwALCEwAAgAWEJwAAAAsITwAAABYQngAAACwgPAEAAFhAeAIAALCA\n",
              "8AQAAGAB4QkAAMACwhMAAIAFhCcAAAALCE8AAAAWEJ4AAAAsIDwBAABYQHgCAACwgPAEAABggcMY\n",
              "Y+wuwp/uuOMORUdH212G31RUVCg7O1tJSUlyOp12l1Nn0U/nRx/VDP1UM/TT+fmrj6KiojRp0qRa\n",
              "Ox7OdtmHp8tdaWmpQkNDVVJSopCQELvLqbPop/Ojj2qGfqoZ+un86KP6i9t2AAAAFhCeAAAALCA8\n",
              "AQAAWEB4qudcLpf+9re/yeVy2V1KnUY/nR99VDP0U83QT+dHH9VfTBgHAACwgJEnAAAACwhPAAAA\n",
              "FhCeAAAALCA81SNHjhxRQkKCd4mLi1NgYKB++OEHZWdnq3fv3urevbuuueYaPfXUU3aXa5v3339f\n",
              "PXr0UEJCgjp37qyXX35ZknTw4EENGjRIsbGx6ty5sz799FObK7VXVf00ZswYxcXFqVu3burXr59y\n",
              "cnJsrtReVfXTzzIzM+V0OjV//nx7CqwDquojY4wef/xxxcXFqUuXLrrxxhttrtReVfUT39/1kEG9\n",
              "9fTTT5tbb73VGGNMt27dzDvvvGOMMebIkSMmPDzcfPXVV3aWZ4vKykoTFhZmvvzyS2OMMQUFBcbl\n",
              "cpnS0lIzZswY87e//c0YY0x2drb5zW9+Y06fPm1jtfaprp/eeecdU15ebowx5t133zVRUVE2Vmqv\n",
              "6vrJGGOOHTtmevXqZW699VYzb948Gyu1T3V9NH/+fDN06FBTVlZmjDFm//79dpZqq+r6ie/v+oeR\n",
              "p3osIyNDY8eOlSQ5HA4dO3ZMknTixAkFBwfrqquusrE6+/yyL0pLS9W8eXO5XC6tWLFC999/vySp\n",
              "V69euvrqq7V+/XobK7VXVf2UnJyswMBASVLv3r21b98+eTweGyu1V1X9JEkTJkzQY489pubNm9tY\n",
              "of2q6qOnn35ac+bMUXBwsCQpIiLCxirtV1U/8f1dD9md3nBhNm3aZFq1auUdIdiyZYtxu92mTZs2\n",
              "plGjRubll1+2uUL7fPTRR6Z58+bG7XabK6+80nz00Ufm8OHDJjg42Kfd8OHDTUZGhk1V2u9c/fRr\n",
              "jz32mElOTrahurqjqn564403zOjRo40xxvzpT39qsCNPxpy7j0pKSkxgYKB56qmnTFJSkklKSjKv\n",
              "vfaa3aXaqqq/Jb6/6x/CUz117733milTpnjXR4wYYf71r38ZY4zZtWuXiYyMbJDDvuXl5WbAgAFm\n",
              "/fr1xpgzt+ciIiJMcXEx4ekXquqnQ4cOedssXbrUxMXFmeLiYrvKtF1V/bRnzx7TrVs3c/ToUWNM\n",
              "ww5PVfXRgQMHjCQzc+ZMY8yZ21StW7c2eXl5dpZrm+r+n+P7u/4hPNVDx48fN02bNjU7duwwxhhz\n",
              "6NChs4JBSkqKWbx4sR3l2SonJ8fExsb6bEtMTDT/+c9/TOPGjX3mXPTq1eucoy0NQXX9ZIwxr732\n",
              "momJiTG7d++2o7w6o6p+WrVqlWnZsqWJiooyUVFRpkmTJiYsLMw88sgjNlVqn+r+lpo2bWp27drl\n",
              "3Z6SkmJefPHFS11inVBVP61YsYLv73qIOU/10Ouvv65u3bqpY8eOkqSwsDA1adJEmZmZkqTDhw/r\n",
              "888/V+fOne0s0xZt2rTR/v37tWPHDklSfn6+du3apQ4dOmj48OFauHChJCknJ0f79u3TgAED7CzX\n",
              "NtX104oVK/TYY49p7dq1crvdNldqr6r6qXv37jpw4IAKCwtVWFiolJQU/fWvf9UTTzxhc8WXXnV/\n",
              "S3/84x/1wQcfSJL3V8Fdu3a1s1zbVNVPSUlJfH/XQ4F2FwDrMjIyNH78eO+60+nUihUrNGXKFHk8\n",
              "HpWXl+vBBx9Unz59bKzSHq1atdLixYt15513KiAgQJWVlXr++efldrv15JNP6p577lFsbKyCg4O1\n",
              "bNkyBQUF2V2yLarrp/bt2ysiIkK33Xabt/3HH3/cICdFV9dPOKO6Ppo9e7bGjBmjF154QZI0bdo0\n",
              "JSUl2VyxParqp6ioKL6/6yHebQcAAGABt+0AAAAsIDwBAABYQHgCAACwgPAE4JJKTU1t0O+BA1D/\n",
              "EZ4AXDIN+TUvAC4fhCcA5+RwOPTEE0/o2muvVXR0tFatWqXZs2crMTFRsbGxWrdunaQzgWjgwIFK\n",
              "TExUfHy87rrrLp04cUKStG7dOsXHx2vs2LFKSEjQ22+/7XOODRs2qFOnTsrNzdWhQ4f0+9//Xl26\n",
              "dFHXrl01ZsyYS33JAFAjhCcAVWratKk+//xzZWRkaNSoUWrdurVyc3M1a9YsTZkyRdKZ54wtX75c\n",
              "ubm5+t///qfQ0FAtWLDAe4wdO3Zo9OjRysvL0/Dhw73bX3/9df3lL3/RmjVrlJiYqGXLlqlt27ba\n",
              "tm2btm7dqmeeeeaSXy8A1AQPyQRQpREjRkiSEhMTdeLECY0cOVKSlJSUpJ07d0qSjDGaN2+e1qxZ\n",
              "I4/Ho5KSEvXt29d7jHbt2p31JPelS5fK6XTqk08+UVhYmCSpd+/emjdvnh5++GH1799fgwYNuhSX\n",
              "CACWMfIEoEqNGjWSdGZ06dfrP89fWr58uTIzM7V+/Xpt27ZNkydP1qlTp7zHaNq06VnH7dq1q374\n",
              "4Qdt27bNu61Pnz7Ky8vTtddeq7feeku9evVSRUWF364NAC4U4QnARTl69KhatGihkJAQHT9+XC+9\n",
              "9NJ5P9OtWze9++67uvfee73vPisoKFDTpk115513asGCBfr222/1448/+rl6ALCO23YALsro0aP1\n",
              "zjvvqEOHDgoPD9f111+v3bt3n/dz11xzjT788EPdcsstmjVrlkpLSzV37lzvqNbTTz+t0NDQS3AF\n",
              "AGAN77YDAACwgNt2AAAAFhCeAAAALCA8AQAAWEB4AgAAsIDwBAAAYAHhCQAAwALCEwAAgAWEJwAA\n",
              "AAsITwAAABYQngAAACz4f/0WjB4Eo2dmAAAAAElFTkSuQmCC\n",
              "\">\n",
              "        \n",
              "      </div>\n",
              "      <script></script>\n",
              "      <script type=\"text/javascript\">\n",
              "        (() => {\n",
              "          const chartElement = document.getElementById(\"chart-93ae20a8-0cf5-4371-838d-636e5995d2e6\");\n",
              "          async function getCodeForChartHandler(event) {\n",
              "            const chartCodeResponse =  await google.colab.kernel.invokeFunction(\n",
              "                'getCodeForChart', [\"chart-93ae20a8-0cf5-4371-838d-636e5995d2e6\"], {});\n",
              "            const responseJson = chartCodeResponse.data['application/json'];\n",
              "            await google.colab.notebook.addCell(responseJson.code, 'code');\n",
              "          }\n",
              "          chartElement.onclick = getCodeForChartHandler;\n",
              "        })();\n",
              "      </script>\n",
              "      <style>\n",
              "        .colab-quickchart-chart-with-code  {\n",
              "            display: block;\n",
              "            float: left;\n",
              "            border: 1px solid transparent;\n",
              "        }\n",
              "\n",
              "        .colab-quickchart-chart-with-code:hover {\n",
              "            cursor: pointer;\n",
              "            border: 1px solid #aaa;\n",
              "        }\n",
              "      </style>"
            ]
          },
          "metadata": {}
        },
        {
          "output_type": "display_data",
          "data": {
            "text/plain": [
              "import numpy as np\n",
              "from google.colab import autoviz\n",
              "\n",
              "def time_series_multiline(df, timelike_colname, value_colname, series_colname, figscale=1, mpl_palette_name='Dark2'):\n",
              "  from matplotlib import pyplot as plt\n",
              "  import seaborn as sns\n",
              "  figsize = (10 * figscale, 5.2 * figscale)\n",
              "  palette = list(sns.palettes.mpl_palette(mpl_palette_name))\n",
              "  def _plot_series(series, series_name, series_index=0):\n",
              "    if value_colname == 'count()':\n",
              "      counted = (series[timelike_colname]\n",
              "                 .value_counts()\n",
              "                 .reset_index(name='counts')\n",
              "                 .rename({'index': timelike_colname}, axis=1)\n",
              "                 .sort_values(timelike_colname, ascending=True))\n",
              "      xs = counted[timelike_colname]\n",
              "      ys = counted['counts']\n",
              "    else:\n",
              "      xs = series[timelike_colname]\n",
              "      ys = series[value_colname]\n",
              "    plt.plot(xs, ys, label=series_name, color=palette[series_index % len(palette)])\n",
              "\n",
              "  fig, ax = plt.subplots(figsize=figsize, layout='constrained')\n",
              "  df = df.sort_values(timelike_colname, ascending=True)\n",
              "  if series_colname:\n",
              "    for i, (series_name, series) in enumerate(df.groupby(series_colname)):\n",
              "      _plot_series(series, series_name, i)\n",
              "    fig.legend(title=series_colname, bbox_to_anchor=(1, 1), loc='upper left')\n",
              "  else:\n",
              "    _plot_series(df, '')\n",
              "  sns.despine(fig=fig, ax=ax)\n",
              "  plt.xlabel(timelike_colname)\n",
              "  plt.ylabel(value_colname)\n",
              "  return autoviz.MplChart.from_current_mpl_state()\n",
              "\n",
              "chart = time_series_multiline(_df_15, *['marks', 'count()', 'city'], **{})\n",
              "chart"
            ],
            "text/html": [
              "      <div class=\"colab-quickchart-chart-with-code\" id=\"chart-ec0f0e95-9925-45ea-94cc-8b3adfd3dacf\">\n",
              "        <img src=\"data:image/png;base64,iVBORw0KGgoAAAANSUhEUgAAAloAAAEPCAYAAACa8GozAAAAOXRFWHRTb2Z0d2FyZQBNYXRwbG90\n",
              "bGliIHZlcnNpb24zLjcuMSwgaHR0cHM6Ly9tYXRwbG90bGliLm9yZy/bCgiHAAAACXBIWXMAAA9h\n",
              "AAAPYQGoP6dpAAAiMUlEQVR4nO3deXQV5eH/8c/NCiQmRIhEviEJGMIOQUNkKaKWU1AhyKKgRRoE\n",
              "Da3UaKogrWmlreBScYF6QmxUKhWkuMXl1IogDaAGClEroIQmhC1hERJFst7n9wdf7898ISGB+zBZ\n",
              "3q9z5pQ797kzn3mOzfmcmbl3XMYYIwAAAHidj9MBAAAAWiqKFgAAgCUULQAAAEsoWgAAAJZQtAAA\n",
              "ACyhaAEAAFhC0QIAALCEogUAAGBJiy9aTz/9tNMRAABAK+XndADb9uzZ43QEAACaHGOMqqurVVNT\n",
              "43SUZsff31++vr4NGtviixYAAKitsrJSBw8e1Hfffed0lGbJ5XIpMjJSwcHBZx1L0QIAoBVxu90q\n",
              "KCiQr6+vOnfurICAALlcLqdjNRvGGB0+fFj79u1T9+7dz3pmi6IFAEArUllZKbfbrS5duqhdu3ZO\n",
              "x2mWwsPDVVhYqKqqqrMWrRZ/MzwAADidjw8V4Fw15gwgswwAAGAJRQsAADju+uuv15dffilJevHF\n",
              "F7Vz506HE3kH92gBAADHvfvuu55/v/jii2rfvr169uzpYCLv4IwWAAC4oD766CP96Ec/0oABA9S/\n",
              "f3+9+eabiomJUV5env7yl79oy5YtuvfeexUfH693331X/fr106ZNmzyfz8zM1OTJkx08gobjjBYA\n",
              "ALhgvv76a914441avXq1hg8fLrfbrePHj3venzlzppYvX6577rlHN954oyRp//79WrJkiYYOHSpJ\n",
              "+vOf/6wlS5Y4kL7xOKMFAAAumI8++kg9evTQ8OHDJZ369uPFF19c72emTp2qdevWqaSkRBs2bJDL\n",
              "5fJ8vqnjjBYAAGjS2rZtq+TkZC1dulQ7duzQXXfd5XSkBqNoAQCAC2bo0KHatWuXcnJyznjpUJJC\n",
              "QkJUWlpaa91dd92lwYMHq6qqSllZWRcw8fnh0iEAALhgwsLC9Prrr+uBBx5Q//79dfnll2vjxo21\n",
              "xtx5551asGCB52Z4SYqMjNTAgQM1derUZvWL9pzRAgAAF9TgwYNPK1djx471/HvMmDEaM2ZMrfdP\n",
              "nDihbdu26ZlnnrkgGb2FM1oAAKBJy8jIUM+ePfWLX/xCXbt2dTpOo3BGCwAANGmzZs3SrFmznI5x\n",
              "TjijBQAAYAlFCwAAwBKKFgAAgCUULQAAAEsoWgAAwHHfP1T6h66++mq98cYbjdpOx44dVVhY6LVc\n",
              "54uiBQAAYAk/7wAAQCtmjNHJ6iqr+2jr5y+Xy3VOn/3uu+/UqVMnFRQUeH4R/tZbb9Xw4cP185//\n",
              "XNnZ2Zo7d678/f01evRob8b2CooWAACt2MnqKsUt/63VfXw19fdq5x9w1nGTJ09W27ZtPa/z8/N1\n",
              "zz33aOTIkVq+fLnuvPNOlZSUaM2aNcrMzNShQ4c0ffp05eTkqHfv3srMzNTRo0dtHkqjcekQAAA0\n",
              "Ca+88ory8vI8S0JCgiQpNTVVf/7znyVJzz33nG655RYFBwfr448/Vv/+/dW7d29J0owZMxQQcPZC\n",
              "dyFZPaN19913Kzs7W3v27NG2bdsUHx9/xnFZWVl65JFH5Ha7de211+rZZ5+Vv7+/531jjH784x9r\n",
              "69atpz3hGwAAnLu2fv76aurvre/jfCQmJqpdu3Zat26dMjMztWbNmjOOO9fLkzZZPaM1adIkbdiw\n",
              "QdHR0XWOKSgoUHp6unJycpSfn6+SkhJlZmbWGvPkk0/qsssusxkVAIBWyeVyqZ1/gNXFGwUoNTVV\n",
              "06ZNU69evRQXFydJGjJkiD777DPt3LlTkvT888+rsrLyvPflTVaL1lVXXaXIyMh6x6xevVpJSUmK\n",
              "iIiQy+XSrFmztGLFCs/7X3zxhd544w098MADZ91fRUWFysrKai01NTXnfRwAAMBZkyZN0rfffqvZ\n",
              "s2d71oWHh+v555/X+PHjNWDAAO3atUsdOnRwMOXpHL8ZvqioqNYZr5iYGBUVFUmSqqqqdMcddygr\n",
              "K0u+vr5n3dbChQs1f/78WusGDx7s3cAAAMDrzvTbVx9++KHn33l5eQoPD9cNN9xQa8y4ceM0btw4\n",
              "z+tHH33UVsRz0qRvhp8/f74mTJigXr16NWj8vHnzVFpaWmtJTEy0nBIAANg0c+ZMTZgwQUuWLJGP\n",
              "T5OuLqdx/IxWVFSUdu/e7XldWFioqKgoSdL69etVVFSkJUuWqLq6WmVlZYqJidHmzZsVHh5+2rYC\n",
              "AwMVGBhYa11DzoQBAICm6y9/+YvTEc6Z47Vw4sSJys7OVnFxsYwxysjI0JQpUyRJOTk52rNnjwoL\n",
              "C7VhwwaFhISosLDwjCULAACgqbFatFJSUhQZGal9+/Zp1KhRio2NlXTqFGB2drYkqVu3bpo/f76G\n",
              "DRum2NhYhYeHKyUlxWYsAACAC8JljDFOh7ApLS1NixYtcjoGAABNQnl5uQoKCtS1a1e1adPG6TjN\n",
              "UmPm0PFLhwAAAC0VRQsAAMASihYAAHCcy+Vy5DF7H374YZ2PCDxw4ICGDx9+Xtt3/OcdAACAc4wx\n",
              "MpXfWd2HK6Cd9ecQVldXy8/Pu7Wmc+fOysnJOa9tULQAAGjFTOV3yk8JsbqP2KVlcgUGNSyPMXrg\n",
              "gQe0Y8cOrVy5UhkZGVqxYoWqqqrk7++vZ555RkOGDJF06mkykydP1rp169S9e3c98cQTuuWWW1RW\n",
              "Vqby8nJdc801euaZZzw/cvroo49q+fLl8vHxUdu2bbV27VpJp0raL37xC23cuFHV1dVatmyZEhIS\n",
              "VFhYqPj4+PM600bRAgAATUJFRYVuueUWdejQQa+//rp8fX112223KS0tTZL08ccfKzk52fMQaUk6\n",
              "evSoPvnkE7lcLpWXl+utt95ScHCwampqNG7cOK1atUpTpkzRsmXL9Oqrr2rDhg0KDQ3VsWPHPD9y\n",
              "vnPnTmVlZenZZ59VRkaGfvOb3+i9997zyjFRtAAAaMVcAe0Uu7TM+j4a4oYbbtC4ceOUnp7uWbdt\n",
              "2zY9/PDDOnr0qPz8/PTll1/q5MmTatu2rSQpOTnZc1nS7XZr7ty52rBhg4wxOnTokPr27aspU6bo\n",
              "7bff1qxZsxQaGipJCgsL8+wjNjZWV155pSRpyJAh+tOf/uSV45YoWgAAtGoul6vBl/Vsu/baa/X+\n",
              "++8rNTVVISEhqqys1IQJE7Ru3ToNGjRIZWVlCg0NVUVFhadoBQcHez6/aNEiHTp0SJ988onatGmj\n",
              "tLQ0lZeXn3W/P/wtLF9fX1VXV3vtmPjWIQAAaBJ+/etfa8KECRo5cqSOHj2q8vJyVVZWep6BvHjx\n",
              "4no/f+zYMUVERKhNmzYqLi7W3//+d897SUlJysjIUGlpqSTp+PHjqqmpsXcw/4szWgAAoMm45557\n",
              "FBQUpGuvvVbvvfee/vjHPyoxMVEdO3b0PAu5LqmpqZo0aZL69Omjzp07a+TIkZ73brvtNh04cEBD\n",
              "hw6Vn5+fgoKCtGbNGtuHwyN4AABoTXgEz/njETwAAABNAEULAADAEooWAACAJRQtAABaIbfb7XSE\n",
              "Zqsxt7fzrUMAAFqRgIAA+fj46MCBAwoPD1dAQID15xC2JMYYHT58WC6XS/7+/mcdT9ECAKAV8fHx\n",
              "UdeuXXXw4EEdOHDA6TjNksvlUmRkpHx9fc86lqIFAEArExAQoKioKFVXV1+QH+1safz9/RtUsiSK\n",
              "FgAArdL3l74acvkL546b4QEAACyhaAEAAFhC0QIAALCEogUAAGAJRQsAAMASihYAAIAlFC0AAABL\n",
              "KFoAAACWULQAAAAsoWgBAABYQtECAACwhKIFAABgidWidffddysmJkYul0t5eXl1jsvKylL37t11\n",
              "2WWX6Y477lBVVZUkae3atUpMTFTv3r3Vp08fzZkzR26322ZkAAAAr7FatCZNmqQNGzYoOjq6zjEF\n",
              "BQVKT09XTk6O8vPzVVJSoszMTElSWFiYVq5cqe3bt+vf//63Nm3apL/+9a82IwMAAHiN1aJ11VVX\n",
              "KTIyst4xq1evVlJSkiIiIuRyuTRr1iytWLFCkjRw4EB169ZNktSmTRvFx8ersLDQZmQAAACv8XM6\n",
              "QFFRUa0zXjExMSoqKjptXHFxsVavXq233367zm1VVFSooqKi1rqamhrvhQUAAGiEZnEzfFlZmcaO\n",
              "Has5c+YoISGhznELFy5UaGhorSU3N/cCJgUAAPj/HC9aUVFR2rNnj+d1YWGhoqKiPK+/+eYbjR49\n",
              "WuPGjVNaWlq925o3b55KS0trLYmJidayAwAA1MfxojVx4kRlZ2eruLhYxhhlZGRoypQpkqRvv/1W\n",
              "o0eP1ujRo/Xggw+edVuBgYEKCQmptfj6+to+BAAAgDOyWrRSUlIUGRmpffv2adSoUYqNjZUkzZw5\n",
              "U9nZ2ZKkbt26af78+Ro2bJhiY2MVHh6ulJQUSdLTTz+t3Nxcvfbaa4qPj1d8fLwefvhhm5EBAAC8\n",
              "xmWMMU6HsCktLU2LFi1yOgYAAGiFHL90CAAA0FJRtAAAACyhaAEAAFhC0QIAALCEogUAAGAJRQsA\n",
              "AMASihYAAIAlFC0AAABLKFoAAACWULQAAAAsoWgBAABYQtECAACwhKIFAABgCUULAADAEooWAACA\n",
              "JRQtAAAASyhaAAAAlvidy4e2b9+uffv2qW3bturXr5/at2/v5VgAAADNX4OL1jfffKM//elPeu65\n",
              "59SuXTt16tRJ5eXl2r17txITEzV37lz9+Mc/tpkVAACgWWlw0brmmms0bdo0bdu2TZ06dfKsd7vd\n",
              "ysnJUUZGhvLz85WSkmIlKAAAQHPT4KK1ceNGBQYGnrbex8dHI0aM0IgRI1RRUeHVcAAAAM1Zg2+G\n",
              "P1PJOpcxAAAArUWDi9aYMWO0adOmM753/PhxPfHEE1q6dKnXggEAADR3Db50uGDBAs2bN0/bt2/X\n",
              "oEGDPDfD79y5U/v379ddd92l22+/3WZWAACAZqXBRat///565513tHfvXq1fv1779u1Tu3bt9NOf\n",
              "/lQ/+tGP5Od3Tr8UAQAA0GI1uh0dO3ZMU6dOrbXus88+U//+/b0WCgAAoCVo9C/DJycnN2gdAABA\n",
              "a9fgM1qHDh1ScXGxTp48qc8//1zGGElSaWmpTpw4YS0gAABAc9XgorVixQo99dRTOnDggJKSkjzr\n",
              "Q0NDNWfOHCvhAAAAmrMGF63U1FSlpqbqD3/4g9LT021mAgAAaBEafTN8enq63G63iouLVV1d7Vkf\n",
              "FRXl1WAAAADNXaNvhl+2bJnat2+vfv366YorrtAVV1yhhISEM469++67FRMTI5fLpby8vDq3mZWV\n",
              "pe7du+uyyy7THXfcoaqqqga9BwAA0JQ1umj9/ve/1+bNm3X06FEdPnxYhw8f1qFDh844dtKkSdqw\n",
              "YYOio6Pr3F5BQYHS09OVk5Oj/Px8lZSUKDMz86zvAQAANHWNLlodO3ZUjx49GjT2qquuUmRkZL1j\n",
              "Vq9eraSkJEVERMjlcmnWrFlasWLFWd8DAABo6hp9j9aNN96op556SrfeeqvatGnjWR8SEnJOAYqK\n",
              "imqd8YqJiVFRUdFZ3zuTiooKVVRU1FpXU1NzTrkAAADOV6PPaP3mN79RWlqaIiIiFBYWpvbt2yss\n",
              "LMxGtkZbuHChQkNDay25ublOxwIAAK1Uo4uW2+32LDU1NZ7/PVdRUVHas2eP53VhYaHnG4z1vXcm\n",
              "8+bNU2lpaa0lMTHxnLMBAACcj0YXLW+bOHGisrOzVVxcLGOMMjIyNGXKlLO+dyaBgYEKCQmptfj6\n",
              "+l6oQwEAAKil0UXLx8dHvr6+py1nkpKSosjISO3bt0+jRo1SbGysJGnmzJnKzs6WJHXr1k3z58/X\n",
              "sGHDFBsbq/DwcKWkpJz1PQAAgKbOZb5/aGED/fC5hidPntRf//pX1dTU6P777/d6OG9IS0vTokWL\n",
              "nI4BAABaoUaf0QoKCvIsHTt2VFpamlavXm0jGwAAQLN23vdo7dy5U0eOHPFGFgAAgBal0b+jFRYW\n",
              "JpfLJUmeZx0uXrzYu6kAAABagEYXrR8+s9DPz08RERF8sw8AAOAMGl20oqOj9d1333kKV1hYmNq1\n",
              "a+ftXAAAAM1eo4vWpk2bNHHiREVEREiSSkpK9Oqrr2rIkCFeDwcAANCcNbpoff8tw2HDhkk6Vbzu\n",
              "vfdeffzxx14PBwAA0Jw1+luHJ0+e9JQsSRo6dKjKy8u9GgoAAKAlaHTRCg4O1po1azyvP/jgAwUF\n",
              "BXk1FAAAQEvQ6EuHzzzzjCZMmOD5pqHb7dZrr73m9WAAAADNXaOL1oEDB7RlyxaVlJRIkjp16qTc\n",
              "3FyvBwMAAGjuGn3pMD09XeHh4erbt6/69u2rjh07Kj093UY2AACAZu28H8HjcrlUU1PjjSwAAAAt\n",
              "SqOL1kUXXaRNmzZ5Xm/cuFEXXXSRV0MBAAC0BI2+R+uxxx7T+PHj1bNnT0nSrl279Prrr3s9GAAA\n",
              "QHPX6KI1ZMgQ7dixQx999JGkU7+j1b59e2/nAgAAaPYaXbSkU883vP76672dBQAAoEU575vhAQAA\n",
              "cGYULQAAAEsoWgAAAJZQtAAAACyhaAEAAFhC0QIAALCEogUAAGAJRQsAAMASihYAAIAlFC0AAABL\n",
              "KFoAAACWULQAAAAsoWgBAABYQtECAACwxGrR2rVrl4YOHaq4uDgNGjRIX3zxxWlj3G637rvvPvXt\n",
              "21c9e/bUjBkzVFlZ6Xn/0UcfVe/evRUfH6/BgwcrNzfXZmQAAACvsVq0UlJSdOedd+qrr77S3Llz\n",
              "lZycfNqYrKwsbd26VVu3btWOHTvk4+Ojp59+WpKUl5enZ599Vrm5ucrLy9Ps2bM1e/Zsm5EBAAC8\n",
              "xlrROnTokLZs2aKpU6dKkiZOnKi9e/cqPz+/1rhPP/1UI0eOVEBAgFwul6677jq99NJLkiSXy6Wq\n",
              "qiqdOHFCknT8+HFFRkbaigwAAOBVfrY2vHfvXl166aXy8zu1C5fLpaioKBUVFSk2NtYz7oorrtDS\n",
              "pUs1e/ZstW3bVqtWrVJhYaEkacCAAbr33nvVtWtXXXzxxQoMDNS//vWvOvdZUVGhioqKWutqamq8\n",
              "f3AAAAAN4PjN8MnJyRo9erRGjBihESNGKC4uzlPOCgoK9Nprryk/P1/79u3Tvffeq8mTJ9e5rYUL\n",
              "Fyo0NLTWwj1dAADAKdaKVpcuXXTw4EFVV1dLkowxKioqUlRUVK1xLpdLDz30kLZt26ZNmzapd+/e\n",
              "6tOnjyTp1VdfVb9+/dS5c2dJ0vTp07Vx48ZaN8v/0Lx581RaWlprSUxMtHWIAAAA9bJWtC655BJd\n",
              "fvnlWr58uaRTpSkyMrLWZUNJKi8v17FjxyRJR44c0SOPPKI5c+ZIkrp166aNGzfq22+/lSS9/fbb\n",
              "iouLU0BAwBn3GRgYqJCQkFqLr6+vrUMEAACol7V7tCRp6dKlSk5O1oIFCxQSEqIXXnhBkjRz5kwl\n",
              "JSUpKSlJpaWluvrqq+Xj4yO3263U1FSNHTtWkjR+/Hht3rxZCQkJCgwMVFBQkF5++WWbkQEAALzG\n",
              "ZYwxToewKS0tTYsWLXI6BgAAaIUcvxkeAACgpaJoAQAAWELRAgAAsISiBQAAYAlFCwAAwBKKFgAA\n",
              "gCUULQAAAEsoWgAAAJZQtAAAACyhaAEAAFhC0QIAALCEogUAAGAJRQsAAMASihYAAIAlFC0AAABL\n",
              "KFoAAACWULQAAAAsoWgBAABYQtECAACwhKIFAABgCUULAADAEooWAACAJRQtAAAASyhaAAAAllC0\n",
              "AAAALKFoAQAAWELRAgAAsISiBQAAYAlFCwAAwBKKFgAAgCUULQAAAEusFq1du3Zp6NChiouL06BB\n",
              "g/TFF1+cNsbtduu+++5T37591bNnT82YMUOVlZWe94uKijR27Fj16NFDvXv31uLFi21GBgAA8Bqr\n",
              "RSslJUV33nmnvvrqK82dO1fJycmnjcnKytLWrVu1detW7dixQz4+Pnr66aclScYYjR8/XtOmTdOX\n",
              "X36p7du36+abb7YZGQAAwGusFa1Dhw5py5Ytmjp1qiRp4sSJ2rt3r/Lz82uN+/TTTzVy5EgFBATI\n",
              "5XLpuuuu00svvSRJ+uCDDxQYGKibbrrJM75Tp062IgMAAHiVtaK1d+9eXXrppfLz85MkuVwuRUVF\n",
              "qaioqNa4K664QtnZ2SorK1NVVZVWrVqlwsJCSdL27dsVHh6uKVOmaODAgRo/frz++9//1rnPiooK\n",
              "lZWV1VpqampsHSIAAEC9HL8ZPjk5WaNHj9aIESM0YsQIxcXFecpZdXW11q5dq/T0dG3btk2jRo2q\n",
              "99LhwoULFRoaWmvJzc29UIcCAABQi7Wi1aVLFx08eFDV1dWSTt1vVVRUpKioqFrjXC6XHnroIW3b\n",
              "tk2bNm1S79691adPH0lSVFSUBg4c6Hl92223aevWraqqqjrjPufNm6fS0tJaS2Jioq1DBAAAqJe1\n",
              "onXJJZfo8ssv1/LlyyVJr776qiIjIxUbG1trXHl5uY4dOyZJOnLkiB555BHNmTNHknTddddp3759\n",
              "2r9/vyTp3XffVa9eveTv73/GfQYGBiokJKTW4uvra+sQAQAA6uVnc+NLly5VcnKyFixYoJCQEL3w\n",
              "wguSpJkzZyopKUlJSUkqLS3V1VdfLR8fH7ndbqWmpmrs2LGSpKCgIGVkZOiGG26QMUahoaFauXKl\n",
              "zcgAAABe4zLGGKdD2JSWlqZFixY5HQMAALRCjt8MDwAA0FJRtAAAACyhaAEAAFhC0QIAALCEogUA\n",
              "AGAJRQsAAMASihYAAIAlFC0AAABLKFoAAACWULQAAAAsoWgBAABYQtECAACwhKIFAABgCUULAADA\n",
              "EooWAACAJRQtAAAASyhaAAAAllC0AAAALKFoAQAAWELRAgAAsISiBQAAYAlFCwAAwBKKFgAAgCUU\n",
              "LQAAAEsoWgAAAJa4jDHG6RA2TZgwQTExMU7HsKampka5ublKTEyUr6+v03GaLObp7JijhmGeGoZ5\n",
              "OjtbcxQdHa3U1FSvbQ/np8UXrZaurKxMoaGhKi0tVUhIiNNxmizm6eyYo4ZhnhqGeTo75qh14NIh\n",
              "AACAJRQtAAAASyhaAAAAllC0mrnAwED97ne/U2BgoNNRmjTm6eyYo4ZhnhqGeTo75qh14GZ4AAAA\n",
              "SzijBQAAYAlFCwAAwBKKFgAAgCUUrWbk6NGjio+P9yxxcXHy8/PT119/rdzcXA0ePFgDBw5Ur169\n",
              "9Nhjjzkd1zHvvvuuLr/8csXHx6tv375atmyZJOnQoUMaPXq0unfvrr59++pf//qXw0mdVdc8TZ8+\n",
              "XXFxcRowYICGDRumzZs3O5zUWXXN0/fWrl0rX19fPfXUU84EbALqmiNjjB566CHFxcWpX79+uuaa\n",
              "axxO6qy65om/3y2cQbP1+OOPmzFjxhhjjBkwYIB58803jTHGHD161ISHh5svvvjCyXiOcLvdJiws\n",
              "zHz66afGGGMKCgpMYGCgKSsrM9OnTze/+93vjDHG5Obmmv/5n/8xlZWVDqZ1Tn3z9Oabb5qqqipj\n",
              "jDFvvfWWiY6OdjCps+qbJ2OMOX78uBk0aJAZM2aMefLJJx1M6pz65uipp54y48ePNxUVFcYYYw4e\n",
              "POhkVEfVN0/8/W7ZOKPVjGVlZWnGjBmSJJfLpePHj0uSTpw4oYCAAF188cUOpnPOD+eirKxMHTp0\n",
              "UGBgoFatWqVZs2ZJkgYNGqTOnTtr/fr1DiZ1Vl3zlJSUJD8/P0nS4MGDtX//flVXVzuY1Fl1zZMk\n",
              "zZ49Ww8++KA6dOjgYELn1TVHjz/+uB555BEFBARIkiIiIhxM6by65om/3y2c000P52bjxo2mU6dO\n",
              "njMP27ZtM1FRUaZLly6mTZs2ZtmyZQ4ndM77779vOnToYKKiosxFF11k3n//fXPkyBETEBBQa9xN\n",
              "N91ksrKyHErpvDPN0//14IMPmqSkJAfSNR11zdPf//53M23aNGOMMT/72c9a7RktY848R6WlpcbP\n",
              "z8889thjJjEx0SQmJpqVK1c6HdVRdf23xN/vlo2i1Uzdfvvt5v777/e8njx5svnb3/5mjDFm9+7d\n",
              "JjIyslWeeq6qqjIjRoww69evN8acukQYERFhiouLKVo/UNc8HT582DPmpZdeMnFxcaa4uNipmI6r\n",
              "a5727t1rBgwYYI4dO2aMad1Fq645KikpMZLM/PnzjTGnLpVdeumlJi8vz8m4jqnv/3P8/W7ZKFrN\n",
              "0DfffGOCg4PNjh07jDHGHD58+LQSMWnSJJOZmelEPEdt3rzZdO/evda6hIQE889//tO0a9eu1j0i\n",
              "gwYNOuNZnNagvnkyxpiVK1ea2NhYs2fPHifiNRl1zdMbb7xhLrnkEhMdHW2io6NNUFCQCQsLM7/+\n",
              "9a8dSuqc+v5bCg4ONrt37/asnzRpknnuuecudMQmoa55WrVqFX+/Wzju0WqGXnnlFQ0YMEA9e/aU\n",
              "JIWFhSkoKEhr166VJB05ckSffPKJ+vbt62RMR3Tp0kUHDx7Ujh07JEn5+fnavXu3evTooZtuukkZ\n",
              "GRmSpM2bN2v//v0aMWKEk3EdU988rVq1Sg8++KDWrFmjqKgoh5M6q655GjhwoEpKSlRYWKjCwkJN\n",
              "mjRJv/3tb/Xwww87nPjCq++/pVtuuUX/+Mc/JMnz7ej+/fs7Gdcxdc1TYmIif79bOD+nA6DxsrKy\n",
              "dMcdd3he+/r6atWqVbr//vtVXV2tqqoq3XPPPRoyZIiDKZ3RqVMnZWZm6uabb5aPj4/cbreWLFmi\n",
              "qKgoPfroo7rtttvUvXt3BQQEaPny5fL393c6siPqm6fLLrtMERERGjdunGf8Bx980Cpv+K5vnnBK\n",
              "fXO0cOFCTZ8+Xc8++6wkae7cuUpMTHQ4sTPqmqfo6Gj+frdwPOsQAADAEi4dAgAAWELRAgAAsISi\n",
              "BQAAYAlFC8AFlZyc3KqfCwigdaFoAbhgWvOjfAC0ThQtAGfkcrn08MMP68orr1RMTIzeeOMNLVy4\n",
              "UAkJCerevbs+/PBDSafK06hRo5SQkKA+ffro1ltv1YkTJyRJH374ofr06aMZM2YoPj5er7/+eq19\n",
              "5OTkqHfv3tqyZYsOHz6sn/zkJ+rXr5/69++v6dOnX+hDBgCvo2gBqFNwcLA++eQTZWVlaerUqbr0\n",
              "0ku1ZcsWLViwQPfff7+kU7/j9vLLL2vLli36z3/+o9DQUC1evNizjR07dmjatGnKy8vTTTfd5Fn/\n",
              "yiuv6Je//KXeeecdJSQkaPny5eratas+//xzffbZZ3riiScu+PECgLfxg6UA6jR58mRJUkJCgk6c\n",
              "OKEpU6ZIkhITE7Vr1y5JkjFGTz75pN555x1VV1ertLRUQ4cO9WyjW7dup/0C/0svvSRfX1+tW7dO\n",
              "YWFhkqTBgwfrySef1K9+9StdddVVGj169IU4RACwijNaAOrUpk0bSafOWv3f19/fb/Xyyy9r7dq1\n",
              "Wr9+vT7//HPdd999Ki8v92wjODj4tO32799fX3/9tT7//HPPuiFDhigvL09XXnmlXnvtNQ0aNEg1\n",
              "NTXWjg0ALgSKFoDzcuzYMXXs2FEhISH65ptv9OKLL571MwMGDNBbb72l22+/3fMsvIKCAgUHB+vm\n",
              "m2/W4sWL9dVXX+nbb7+1nB4A7OLSIYDzMm3aNL355pvq0aOHwsPDNXz4cO3Zs+esn+vVq5fee+89\n",
              "XX/99VqwYIHKysq0aNEiz9myxx9/XKGhoRfgCADAHp51CAAAYAmXDgEAACyhaAEAAFhC0QIAALCE\n",
              "ogUAAGAJRQsAAMASihYAAIAlFC0AAABLKFoAAACWULQAAAAsoWgBAABY8v8AOkIcNKpDKBEAAAAA\n",
              "SUVORK5CYII=\n",
              "\">\n",
              "        \n",
              "      </div>\n",
              "      <script></script>\n",
              "      <script type=\"text/javascript\">\n",
              "        (() => {\n",
              "          const chartElement = document.getElementById(\"chart-ec0f0e95-9925-45ea-94cc-8b3adfd3dacf\");\n",
              "          async function getCodeForChartHandler(event) {\n",
              "            const chartCodeResponse =  await google.colab.kernel.invokeFunction(\n",
              "                'getCodeForChart', [\"chart-ec0f0e95-9925-45ea-94cc-8b3adfd3dacf\"], {});\n",
              "            const responseJson = chartCodeResponse.data['application/json'];\n",
              "            await google.colab.notebook.addCell(responseJson.code, 'code');\n",
              "          }\n",
              "          chartElement.onclick = getCodeForChartHandler;\n",
              "        })();\n",
              "      </script>\n",
              "      <style>\n",
              "        .colab-quickchart-chart-with-code  {\n",
              "            display: block;\n",
              "            float: left;\n",
              "            border: 1px solid transparent;\n",
              "        }\n",
              "\n",
              "        .colab-quickchart-chart-with-code:hover {\n",
              "            cursor: pointer;\n",
              "            border: 1px solid #aaa;\n",
              "        }\n",
              "      </style>"
            ]
          },
          "metadata": {}
        }
      ]
    },
    {
      "cell_type": "code",
      "source": [
        "df.tail(2)"
      ],
      "metadata": {
        "colab": {
          "base_uri": "https://localhost:8080/",
          "height": 112
        },
        "id": "Lwsl8hv_AzmU",
        "outputId": "de784f8c-9e01-41ff-c247-072d8d265cf7"
      },
      "execution_count": 30,
      "outputs": [
        {
          "output_type": "execute_result",
          "data": {
            "text/plain": [
              "     name  marks        city\n",
              "2  Sarosh     89      Thatta\n",
              "3    Faiz     82  Tharparker"
            ],
            "text/html": [
              "\n",
              "  <div id=\"df-0c0935f5-7d51-4818-834f-0fd47a43a635\" class=\"colab-df-container\">\n",
              "    <div>\n",
              "<style scoped>\n",
              "    .dataframe tbody tr th:only-of-type {\n",
              "        vertical-align: middle;\n",
              "    }\n",
              "\n",
              "    .dataframe tbody tr th {\n",
              "        vertical-align: top;\n",
              "    }\n",
              "\n",
              "    .dataframe thead th {\n",
              "        text-align: right;\n",
              "    }\n",
              "</style>\n",
              "<table border=\"1\" class=\"dataframe\">\n",
              "  <thead>\n",
              "    <tr style=\"text-align: right;\">\n",
              "      <th></th>\n",
              "      <th>name</th>\n",
              "      <th>marks</th>\n",
              "      <th>city</th>\n",
              "    </tr>\n",
              "  </thead>\n",
              "  <tbody>\n",
              "    <tr>\n",
              "      <th>2</th>\n",
              "      <td>Sarosh</td>\n",
              "      <td>89</td>\n",
              "      <td>Thatta</td>\n",
              "    </tr>\n",
              "    <tr>\n",
              "      <th>3</th>\n",
              "      <td>Faiz</td>\n",
              "      <td>82</td>\n",
              "      <td>Tharparker</td>\n",
              "    </tr>\n",
              "  </tbody>\n",
              "</table>\n",
              "</div>\n",
              "    <div class=\"colab-df-buttons\">\n",
              "\n",
              "  <div class=\"colab-df-container\">\n",
              "    <button class=\"colab-df-convert\" onclick=\"convertToInteractive('df-0c0935f5-7d51-4818-834f-0fd47a43a635')\"\n",
              "            title=\"Convert this dataframe to an interactive table.\"\n",
              "            style=\"display:none;\">\n",
              "\n",
              "  <svg xmlns=\"http://www.w3.org/2000/svg\" height=\"24px\" viewBox=\"0 -960 960 960\">\n",
              "    <path d=\"M120-120v-720h720v720H120Zm60-500h600v-160H180v160Zm220 220h160v-160H400v160Zm0 220h160v-160H400v160ZM180-400h160v-160H180v160Zm440 0h160v-160H620v160ZM180-180h160v-160H180v160Zm440 0h160v-160H620v160Z\"/>\n",
              "  </svg>\n",
              "    </button>\n",
              "\n",
              "  <style>\n",
              "    .colab-df-container {\n",
              "      display:flex;\n",
              "      gap: 12px;\n",
              "    }\n",
              "\n",
              "    .colab-df-convert {\n",
              "      background-color: #E8F0FE;\n",
              "      border: none;\n",
              "      border-radius: 50%;\n",
              "      cursor: pointer;\n",
              "      display: none;\n",
              "      fill: #1967D2;\n",
              "      height: 32px;\n",
              "      padding: 0 0 0 0;\n",
              "      width: 32px;\n",
              "    }\n",
              "\n",
              "    .colab-df-convert:hover {\n",
              "      background-color: #E2EBFA;\n",
              "      box-shadow: 0px 1px 2px rgba(60, 64, 67, 0.3), 0px 1px 3px 1px rgba(60, 64, 67, 0.15);\n",
              "      fill: #174EA6;\n",
              "    }\n",
              "\n",
              "    .colab-df-buttons div {\n",
              "      margin-bottom: 4px;\n",
              "    }\n",
              "\n",
              "    [theme=dark] .colab-df-convert {\n",
              "      background-color: #3B4455;\n",
              "      fill: #D2E3FC;\n",
              "    }\n",
              "\n",
              "    [theme=dark] .colab-df-convert:hover {\n",
              "      background-color: #434B5C;\n",
              "      box-shadow: 0px 1px 3px 1px rgba(0, 0, 0, 0.15);\n",
              "      filter: drop-shadow(0px 1px 2px rgba(0, 0, 0, 0.3));\n",
              "      fill: #FFFFFF;\n",
              "    }\n",
              "  </style>\n",
              "\n",
              "    <script>\n",
              "      const buttonEl =\n",
              "        document.querySelector('#df-0c0935f5-7d51-4818-834f-0fd47a43a635 button.colab-df-convert');\n",
              "      buttonEl.style.display =\n",
              "        google.colab.kernel.accessAllowed ? 'block' : 'none';\n",
              "\n",
              "      async function convertToInteractive(key) {\n",
              "        const element = document.querySelector('#df-0c0935f5-7d51-4818-834f-0fd47a43a635');\n",
              "        const dataTable =\n",
              "          await google.colab.kernel.invokeFunction('convertToInteractive',\n",
              "                                                    [key], {});\n",
              "        if (!dataTable) return;\n",
              "\n",
              "        const docLinkHtml = 'Like what you see? Visit the ' +\n",
              "          '<a target=\"_blank\" href=https://colab.research.google.com/notebooks/data_table.ipynb>data table notebook</a>'\n",
              "          + ' to learn more about interactive tables.';\n",
              "        element.innerHTML = '';\n",
              "        dataTable['output_type'] = 'display_data';\n",
              "        await google.colab.output.renderOutput(dataTable, element);\n",
              "        const docLink = document.createElement('div');\n",
              "        docLink.innerHTML = docLinkHtml;\n",
              "        element.appendChild(docLink);\n",
              "      }\n",
              "    </script>\n",
              "  </div>\n",
              "\n",
              "    </div>\n",
              "  </div>\n"
            ]
          },
          "metadata": {},
          "execution_count": 30
        }
      ]
    },
    {
      "cell_type": "code",
      "source": [
        "df.describe()"
      ],
      "metadata": {
        "colab": {
          "base_uri": "https://localhost:8080/",
          "height": 300
        },
        "id": "e0La1rJsBGZE",
        "outputId": "726100c6-20bb-4cd3-d46a-81250cddb747"
      },
      "execution_count": 31,
      "outputs": [
        {
          "output_type": "execute_result",
          "data": {
            "text/plain": [
              "           marks\n",
              "count   4.000000\n",
              "mean   84.000000\n",
              "std     5.597619\n",
              "min    77.000000\n",
              "25%    80.750000\n",
              "50%    85.000000\n",
              "75%    88.250000\n",
              "max    89.000000"
            ],
            "text/html": [
              "\n",
              "  <div id=\"df-75c10a4b-eea0-4e04-adb1-6da2d401ce71\" class=\"colab-df-container\">\n",
              "    <div>\n",
              "<style scoped>\n",
              "    .dataframe tbody tr th:only-of-type {\n",
              "        vertical-align: middle;\n",
              "    }\n",
              "\n",
              "    .dataframe tbody tr th {\n",
              "        vertical-align: top;\n",
              "    }\n",
              "\n",
              "    .dataframe thead th {\n",
              "        text-align: right;\n",
              "    }\n",
              "</style>\n",
              "<table border=\"1\" class=\"dataframe\">\n",
              "  <thead>\n",
              "    <tr style=\"text-align: right;\">\n",
              "      <th></th>\n",
              "      <th>marks</th>\n",
              "    </tr>\n",
              "  </thead>\n",
              "  <tbody>\n",
              "    <tr>\n",
              "      <th>count</th>\n",
              "      <td>4.000000</td>\n",
              "    </tr>\n",
              "    <tr>\n",
              "      <th>mean</th>\n",
              "      <td>84.000000</td>\n",
              "    </tr>\n",
              "    <tr>\n",
              "      <th>std</th>\n",
              "      <td>5.597619</td>\n",
              "    </tr>\n",
              "    <tr>\n",
              "      <th>min</th>\n",
              "      <td>77.000000</td>\n",
              "    </tr>\n",
              "    <tr>\n",
              "      <th>25%</th>\n",
              "      <td>80.750000</td>\n",
              "    </tr>\n",
              "    <tr>\n",
              "      <th>50%</th>\n",
              "      <td>85.000000</td>\n",
              "    </tr>\n",
              "    <tr>\n",
              "      <th>75%</th>\n",
              "      <td>88.250000</td>\n",
              "    </tr>\n",
              "    <tr>\n",
              "      <th>max</th>\n",
              "      <td>89.000000</td>\n",
              "    </tr>\n",
              "  </tbody>\n",
              "</table>\n",
              "</div>\n",
              "    <div class=\"colab-df-buttons\">\n",
              "\n",
              "  <div class=\"colab-df-container\">\n",
              "    <button class=\"colab-df-convert\" onclick=\"convertToInteractive('df-75c10a4b-eea0-4e04-adb1-6da2d401ce71')\"\n",
              "            title=\"Convert this dataframe to an interactive table.\"\n",
              "            style=\"display:none;\">\n",
              "\n",
              "  <svg xmlns=\"http://www.w3.org/2000/svg\" height=\"24px\" viewBox=\"0 -960 960 960\">\n",
              "    <path d=\"M120-120v-720h720v720H120Zm60-500h600v-160H180v160Zm220 220h160v-160H400v160Zm0 220h160v-160H400v160ZM180-400h160v-160H180v160Zm440 0h160v-160H620v160ZM180-180h160v-160H180v160Zm440 0h160v-160H620v160Z\"/>\n",
              "  </svg>\n",
              "    </button>\n",
              "\n",
              "  <style>\n",
              "    .colab-df-container {\n",
              "      display:flex;\n",
              "      gap: 12px;\n",
              "    }\n",
              "\n",
              "    .colab-df-convert {\n",
              "      background-color: #E8F0FE;\n",
              "      border: none;\n",
              "      border-radius: 50%;\n",
              "      cursor: pointer;\n",
              "      display: none;\n",
              "      fill: #1967D2;\n",
              "      height: 32px;\n",
              "      padding: 0 0 0 0;\n",
              "      width: 32px;\n",
              "    }\n",
              "\n",
              "    .colab-df-convert:hover {\n",
              "      background-color: #E2EBFA;\n",
              "      box-shadow: 0px 1px 2px rgba(60, 64, 67, 0.3), 0px 1px 3px 1px rgba(60, 64, 67, 0.15);\n",
              "      fill: #174EA6;\n",
              "    }\n",
              "\n",
              "    .colab-df-buttons div {\n",
              "      margin-bottom: 4px;\n",
              "    }\n",
              "\n",
              "    [theme=dark] .colab-df-convert {\n",
              "      background-color: #3B4455;\n",
              "      fill: #D2E3FC;\n",
              "    }\n",
              "\n",
              "    [theme=dark] .colab-df-convert:hover {\n",
              "      background-color: #434B5C;\n",
              "      box-shadow: 0px 1px 3px 1px rgba(0, 0, 0, 0.15);\n",
              "      filter: drop-shadow(0px 1px 2px rgba(0, 0, 0, 0.3));\n",
              "      fill: #FFFFFF;\n",
              "    }\n",
              "  </style>\n",
              "\n",
              "    <script>\n",
              "      const buttonEl =\n",
              "        document.querySelector('#df-75c10a4b-eea0-4e04-adb1-6da2d401ce71 button.colab-df-convert');\n",
              "      buttonEl.style.display =\n",
              "        google.colab.kernel.accessAllowed ? 'block' : 'none';\n",
              "\n",
              "      async function convertToInteractive(key) {\n",
              "        const element = document.querySelector('#df-75c10a4b-eea0-4e04-adb1-6da2d401ce71');\n",
              "        const dataTable =\n",
              "          await google.colab.kernel.invokeFunction('convertToInteractive',\n",
              "                                                    [key], {});\n",
              "        if (!dataTable) return;\n",
              "\n",
              "        const docLinkHtml = 'Like what you see? Visit the ' +\n",
              "          '<a target=\"_blank\" href=https://colab.research.google.com/notebooks/data_table.ipynb>data table notebook</a>'\n",
              "          + ' to learn more about interactive tables.';\n",
              "        element.innerHTML = '';\n",
              "        dataTable['output_type'] = 'display_data';\n",
              "        await google.colab.output.renderOutput(dataTable, element);\n",
              "        const docLink = document.createElement('div');\n",
              "        docLink.innerHTML = docLinkHtml;\n",
              "        element.appendChild(docLink);\n",
              "      }\n",
              "    </script>\n",
              "  </div>\n",
              "\n",
              "\n",
              "<div id=\"df-85b988f8-0ddd-479f-b9cf-51ff9ec6e267\">\n",
              "  <button class=\"colab-df-quickchart\" onclick=\"quickchart('df-85b988f8-0ddd-479f-b9cf-51ff9ec6e267')\"\n",
              "            title=\"Suggest charts.\"\n",
              "            style=\"display:none;\">\n",
              "\n",
              "<svg xmlns=\"http://www.w3.org/2000/svg\" height=\"24px\"viewBox=\"0 0 24 24\"\n",
              "     width=\"24px\">\n",
              "    <g>\n",
              "        <path d=\"M19 3H5c-1.1 0-2 .9-2 2v14c0 1.1.9 2 2 2h14c1.1 0 2-.9 2-2V5c0-1.1-.9-2-2-2zM9 17H7v-7h2v7zm4 0h-2V7h2v10zm4 0h-2v-4h2v4z\"/>\n",
              "    </g>\n",
              "</svg>\n",
              "  </button>\n",
              "\n",
              "<style>\n",
              "  .colab-df-quickchart {\n",
              "    background-color: #E8F0FE;\n",
              "    border: none;\n",
              "    border-radius: 50%;\n",
              "    cursor: pointer;\n",
              "    display: none;\n",
              "    fill: #1967D2;\n",
              "    height: 32px;\n",
              "    padding: 0 0 0 0;\n",
              "    width: 32px;\n",
              "  }\n",
              "\n",
              "  .colab-df-quickchart:hover {\n",
              "    background-color: #E2EBFA;\n",
              "    box-shadow: 0px 1px 2px rgba(60, 64, 67, 0.3), 0px 1px 3px 1px rgba(60, 64, 67, 0.15);\n",
              "    fill: #174EA6;\n",
              "  }\n",
              "\n",
              "  [theme=dark] .colab-df-quickchart {\n",
              "    background-color: #3B4455;\n",
              "    fill: #D2E3FC;\n",
              "  }\n",
              "\n",
              "  [theme=dark] .colab-df-quickchart:hover {\n",
              "    background-color: #434B5C;\n",
              "    box-shadow: 0px 1px 3px 1px rgba(0, 0, 0, 0.15);\n",
              "    filter: drop-shadow(0px 1px 2px rgba(0, 0, 0, 0.3));\n",
              "    fill: #FFFFFF;\n",
              "  }\n",
              "</style>\n",
              "\n",
              "  <script>\n",
              "    async function quickchart(key) {\n",
              "      const charts = await google.colab.kernel.invokeFunction(\n",
              "          'suggestCharts', [key], {});\n",
              "    }\n",
              "    (() => {\n",
              "      let quickchartButtonEl =\n",
              "        document.querySelector('#df-85b988f8-0ddd-479f-b9cf-51ff9ec6e267 button');\n",
              "      quickchartButtonEl.style.display =\n",
              "        google.colab.kernel.accessAllowed ? 'block' : 'none';\n",
              "    })();\n",
              "  </script>\n",
              "</div>\n",
              "    </div>\n",
              "  </div>\n"
            ]
          },
          "metadata": {},
          "execution_count": 31
        }
      ]
    },
    {
      "cell_type": "code",
      "source": [
        "pd.read_csv(\"friends.csv\")"
      ],
      "metadata": {
        "colab": {
          "base_uri": "https://localhost:8080/",
          "height": 143
        },
        "id": "EzKe_GduEahs",
        "outputId": "cd3ebea6-e06c-4143-c1fc-ca48a28fafa1"
      },
      "execution_count": 35,
      "outputs": [
        {
          "output_type": "execute_result",
          "data": {
            "text/plain": [
              "   Unnamed: 0    name  marks     city\n",
              "0           0    Umer     77  karachi\n",
              "1           1   Thaif     88      Hyd\n",
              "2           2  Sarosh     89   Thatta"
            ],
            "text/html": [
              "\n",
              "  <div id=\"df-4c062be3-8c94-4e1a-a5d1-8eeaec92f4fa\" class=\"colab-df-container\">\n",
              "    <div>\n",
              "<style scoped>\n",
              "    .dataframe tbody tr th:only-of-type {\n",
              "        vertical-align: middle;\n",
              "    }\n",
              "\n",
              "    .dataframe tbody tr th {\n",
              "        vertical-align: top;\n",
              "    }\n",
              "\n",
              "    .dataframe thead th {\n",
              "        text-align: right;\n",
              "    }\n",
              "</style>\n",
              "<table border=\"1\" class=\"dataframe\">\n",
              "  <thead>\n",
              "    <tr style=\"text-align: right;\">\n",
              "      <th></th>\n",
              "      <th>Unnamed: 0</th>\n",
              "      <th>name</th>\n",
              "      <th>marks</th>\n",
              "      <th>city</th>\n",
              "    </tr>\n",
              "  </thead>\n",
              "  <tbody>\n",
              "    <tr>\n",
              "      <th>0</th>\n",
              "      <td>0</td>\n",
              "      <td>Umer</td>\n",
              "      <td>77</td>\n",
              "      <td>karachi</td>\n",
              "    </tr>\n",
              "    <tr>\n",
              "      <th>1</th>\n",
              "      <td>1</td>\n",
              "      <td>Thaif</td>\n",
              "      <td>88</td>\n",
              "      <td>Hyd</td>\n",
              "    </tr>\n",
              "    <tr>\n",
              "      <th>2</th>\n",
              "      <td>2</td>\n",
              "      <td>Sarosh</td>\n",
              "      <td>89</td>\n",
              "      <td>Thatta</td>\n",
              "    </tr>\n",
              "  </tbody>\n",
              "</table>\n",
              "</div>\n",
              "    <div class=\"colab-df-buttons\">\n",
              "\n",
              "  <div class=\"colab-df-container\">\n",
              "    <button class=\"colab-df-convert\" onclick=\"convertToInteractive('df-4c062be3-8c94-4e1a-a5d1-8eeaec92f4fa')\"\n",
              "            title=\"Convert this dataframe to an interactive table.\"\n",
              "            style=\"display:none;\">\n",
              "\n",
              "  <svg xmlns=\"http://www.w3.org/2000/svg\" height=\"24px\" viewBox=\"0 -960 960 960\">\n",
              "    <path d=\"M120-120v-720h720v720H120Zm60-500h600v-160H180v160Zm220 220h160v-160H400v160Zm0 220h160v-160H400v160ZM180-400h160v-160H180v160Zm440 0h160v-160H620v160ZM180-180h160v-160H180v160Zm440 0h160v-160H620v160Z\"/>\n",
              "  </svg>\n",
              "    </button>\n",
              "\n",
              "  <style>\n",
              "    .colab-df-container {\n",
              "      display:flex;\n",
              "      gap: 12px;\n",
              "    }\n",
              "\n",
              "    .colab-df-convert {\n",
              "      background-color: #E8F0FE;\n",
              "      border: none;\n",
              "      border-radius: 50%;\n",
              "      cursor: pointer;\n",
              "      display: none;\n",
              "      fill: #1967D2;\n",
              "      height: 32px;\n",
              "      padding: 0 0 0 0;\n",
              "      width: 32px;\n",
              "    }\n",
              "\n",
              "    .colab-df-convert:hover {\n",
              "      background-color: #E2EBFA;\n",
              "      box-shadow: 0px 1px 2px rgba(60, 64, 67, 0.3), 0px 1px 3px 1px rgba(60, 64, 67, 0.15);\n",
              "      fill: #174EA6;\n",
              "    }\n",
              "\n",
              "    .colab-df-buttons div {\n",
              "      margin-bottom: 4px;\n",
              "    }\n",
              "\n",
              "    [theme=dark] .colab-df-convert {\n",
              "      background-color: #3B4455;\n",
              "      fill: #D2E3FC;\n",
              "    }\n",
              "\n",
              "    [theme=dark] .colab-df-convert:hover {\n",
              "      background-color: #434B5C;\n",
              "      box-shadow: 0px 1px 3px 1px rgba(0, 0, 0, 0.15);\n",
              "      filter: drop-shadow(0px 1px 2px rgba(0, 0, 0, 0.3));\n",
              "      fill: #FFFFFF;\n",
              "    }\n",
              "  </style>\n",
              "\n",
              "    <script>\n",
              "      const buttonEl =\n",
              "        document.querySelector('#df-4c062be3-8c94-4e1a-a5d1-8eeaec92f4fa button.colab-df-convert');\n",
              "      buttonEl.style.display =\n",
              "        google.colab.kernel.accessAllowed ? 'block' : 'none';\n",
              "\n",
              "      async function convertToInteractive(key) {\n",
              "        const element = document.querySelector('#df-4c062be3-8c94-4e1a-a5d1-8eeaec92f4fa');\n",
              "        const dataTable =\n",
              "          await google.colab.kernel.invokeFunction('convertToInteractive',\n",
              "                                                    [key], {});\n",
              "        if (!dataTable) return;\n",
              "\n",
              "        const docLinkHtml = 'Like what you see? Visit the ' +\n",
              "          '<a target=\"_blank\" href=https://colab.research.google.com/notebooks/data_table.ipynb>data table notebook</a>'\n",
              "          + ' to learn more about interactive tables.';\n",
              "        element.innerHTML = '';\n",
              "        dataTable['output_type'] = 'display_data';\n",
              "        await google.colab.output.renderOutput(dataTable, element);\n",
              "        const docLink = document.createElement('div');\n",
              "        docLink.innerHTML = docLinkHtml;\n",
              "        element.appendChild(docLink);\n",
              "      }\n",
              "    </script>\n",
              "  </div>\n",
              "\n",
              "    </div>\n",
              "  </div>\n"
            ]
          },
          "metadata": {},
          "execution_count": 35
        }
      ]
    },
    {
      "cell_type": "code",
      "source": [
        "df['name']"
      ],
      "metadata": {
        "colab": {
          "base_uri": "https://localhost:8080/"
        },
        "id": "1o4zMsyKE2Pl",
        "outputId": "594882aa-bbd1-4b08-ab71-d039f3e927ac"
      },
      "execution_count": 37,
      "outputs": [
        {
          "output_type": "execute_result",
          "data": {
            "text/plain": [
              "0      Umer\n",
              "1     Thaif\n",
              "2    Sarosh\n",
              "3      Faiz\n",
              "Name: name, dtype: object"
            ]
          },
          "metadata": {},
          "execution_count": 37
        }
      ]
    },
    {
      "cell_type": "code",
      "source": [
        "df['name'][1]"
      ],
      "metadata": {
        "colab": {
          "base_uri": "https://localhost:8080/",
          "height": 35
        },
        "id": "vtnOMeZYE6AC",
        "outputId": "30cd08e2-3852-495a-c1ca-2fe84a2f1f81"
      },
      "execution_count": 38,
      "outputs": [
        {
          "output_type": "execute_result",
          "data": {
            "text/plain": [
              "'Thaif'"
            ],
            "application/vnd.google.colaboratory.intrinsic+json": {
              "type": "string"
            }
          },
          "metadata": {},
          "execution_count": 38
        }
      ]
    },
    {
      "cell_type": "code",
      "source": [
        "df['name'][1] = \"Saif\"\n",
        "df"
      ],
      "metadata": {
        "colab": {
          "base_uri": "https://localhost:8080/",
          "height": 264
        },
        "id": "sDnmJV6OFLAX",
        "outputId": "388f59d6-c1cf-4fce-851e-c16865245777"
      },
      "execution_count": 39,
      "outputs": [
        {
          "output_type": "stream",
          "name": "stderr",
          "text": [
            "<ipython-input-39-03c856ea1d6b>:1: SettingWithCopyWarning: \n",
            "A value is trying to be set on a copy of a slice from a DataFrame\n",
            "\n",
            "See the caveats in the documentation: https://pandas.pydata.org/pandas-docs/stable/user_guide/indexing.html#returning-a-view-versus-a-copy\n",
            "  df['name'][1] = \"Saif\"\n"
          ]
        },
        {
          "output_type": "execute_result",
          "data": {
            "text/plain": [
              "     name  marks        city\n",
              "0    Umer     77     karachi\n",
              "1    Saif     88         Hyd\n",
              "2  Sarosh     89      Thatta\n",
              "3    Faiz     82  Tharparker"
            ],
            "text/html": [
              "\n",
              "  <div id=\"df-0b3e83bb-979e-4153-bb1a-e1ec63751903\" class=\"colab-df-container\">\n",
              "    <div>\n",
              "<style scoped>\n",
              "    .dataframe tbody tr th:only-of-type {\n",
              "        vertical-align: middle;\n",
              "    }\n",
              "\n",
              "    .dataframe tbody tr th {\n",
              "        vertical-align: top;\n",
              "    }\n",
              "\n",
              "    .dataframe thead th {\n",
              "        text-align: right;\n",
              "    }\n",
              "</style>\n",
              "<table border=\"1\" class=\"dataframe\">\n",
              "  <thead>\n",
              "    <tr style=\"text-align: right;\">\n",
              "      <th></th>\n",
              "      <th>name</th>\n",
              "      <th>marks</th>\n",
              "      <th>city</th>\n",
              "    </tr>\n",
              "  </thead>\n",
              "  <tbody>\n",
              "    <tr>\n",
              "      <th>0</th>\n",
              "      <td>Umer</td>\n",
              "      <td>77</td>\n",
              "      <td>karachi</td>\n",
              "    </tr>\n",
              "    <tr>\n",
              "      <th>1</th>\n",
              "      <td>Saif</td>\n",
              "      <td>88</td>\n",
              "      <td>Hyd</td>\n",
              "    </tr>\n",
              "    <tr>\n",
              "      <th>2</th>\n",
              "      <td>Sarosh</td>\n",
              "      <td>89</td>\n",
              "      <td>Thatta</td>\n",
              "    </tr>\n",
              "    <tr>\n",
              "      <th>3</th>\n",
              "      <td>Faiz</td>\n",
              "      <td>82</td>\n",
              "      <td>Tharparker</td>\n",
              "    </tr>\n",
              "  </tbody>\n",
              "</table>\n",
              "</div>\n",
              "    <div class=\"colab-df-buttons\">\n",
              "\n",
              "  <div class=\"colab-df-container\">\n",
              "    <button class=\"colab-df-convert\" onclick=\"convertToInteractive('df-0b3e83bb-979e-4153-bb1a-e1ec63751903')\"\n",
              "            title=\"Convert this dataframe to an interactive table.\"\n",
              "            style=\"display:none;\">\n",
              "\n",
              "  <svg xmlns=\"http://www.w3.org/2000/svg\" height=\"24px\" viewBox=\"0 -960 960 960\">\n",
              "    <path d=\"M120-120v-720h720v720H120Zm60-500h600v-160H180v160Zm220 220h160v-160H400v160Zm0 220h160v-160H400v160ZM180-400h160v-160H180v160Zm440 0h160v-160H620v160ZM180-180h160v-160H180v160Zm440 0h160v-160H620v160Z\"/>\n",
              "  </svg>\n",
              "    </button>\n",
              "\n",
              "  <style>\n",
              "    .colab-df-container {\n",
              "      display:flex;\n",
              "      gap: 12px;\n",
              "    }\n",
              "\n",
              "    .colab-df-convert {\n",
              "      background-color: #E8F0FE;\n",
              "      border: none;\n",
              "      border-radius: 50%;\n",
              "      cursor: pointer;\n",
              "      display: none;\n",
              "      fill: #1967D2;\n",
              "      height: 32px;\n",
              "      padding: 0 0 0 0;\n",
              "      width: 32px;\n",
              "    }\n",
              "\n",
              "    .colab-df-convert:hover {\n",
              "      background-color: #E2EBFA;\n",
              "      box-shadow: 0px 1px 2px rgba(60, 64, 67, 0.3), 0px 1px 3px 1px rgba(60, 64, 67, 0.15);\n",
              "      fill: #174EA6;\n",
              "    }\n",
              "\n",
              "    .colab-df-buttons div {\n",
              "      margin-bottom: 4px;\n",
              "    }\n",
              "\n",
              "    [theme=dark] .colab-df-convert {\n",
              "      background-color: #3B4455;\n",
              "      fill: #D2E3FC;\n",
              "    }\n",
              "\n",
              "    [theme=dark] .colab-df-convert:hover {\n",
              "      background-color: #434B5C;\n",
              "      box-shadow: 0px 1px 3px 1px rgba(0, 0, 0, 0.15);\n",
              "      filter: drop-shadow(0px 1px 2px rgba(0, 0, 0, 0.3));\n",
              "      fill: #FFFFFF;\n",
              "    }\n",
              "  </style>\n",
              "\n",
              "    <script>\n",
              "      const buttonEl =\n",
              "        document.querySelector('#df-0b3e83bb-979e-4153-bb1a-e1ec63751903 button.colab-df-convert');\n",
              "      buttonEl.style.display =\n",
              "        google.colab.kernel.accessAllowed ? 'block' : 'none';\n",
              "\n",
              "      async function convertToInteractive(key) {\n",
              "        const element = document.querySelector('#df-0b3e83bb-979e-4153-bb1a-e1ec63751903');\n",
              "        const dataTable =\n",
              "          await google.colab.kernel.invokeFunction('convertToInteractive',\n",
              "                                                    [key], {});\n",
              "        if (!dataTable) return;\n",
              "\n",
              "        const docLinkHtml = 'Like what you see? Visit the ' +\n",
              "          '<a target=\"_blank\" href=https://colab.research.google.com/notebooks/data_table.ipynb>data table notebook</a>'\n",
              "          + ' to learn more about interactive tables.';\n",
              "        element.innerHTML = '';\n",
              "        dataTable['output_type'] = 'display_data';\n",
              "        await google.colab.output.renderOutput(dataTable, element);\n",
              "        const docLink = document.createElement('div');\n",
              "        docLink.innerHTML = docLinkHtml;\n",
              "        element.appendChild(docLink);\n",
              "      }\n",
              "    </script>\n",
              "  </div>\n",
              "\n",
              "    </div>\n",
              "  </div>\n"
            ]
          },
          "metadata": {},
          "execution_count": 39
        }
      ]
    }
  ]
}