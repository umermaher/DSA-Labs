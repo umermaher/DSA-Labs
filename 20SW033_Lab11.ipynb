{
  "nbformat": 4,
  "nbformat_minor": 0,
  "metadata": {
    "colab": {
      "provenance": [],
      "authorship_tag": "ABX9TyOR/gOI12R281OVCTuId2O9",
      "include_colab_link": true
    },
    "kernelspec": {
      "name": "python3",
      "display_name": "Python 3"
    },
    "language_info": {
      "name": "python"
    }
  },
  "cells": [
    {
      "cell_type": "markdown",
      "metadata": {
        "id": "view-in-github",
        "colab_type": "text"
      },
      "source": [
        "<a href=\"https://colab.research.google.com/github/umermaher/DSA-Labs/blob/main/20SW033_Lab11.ipynb\" target=\"_parent\"><img src=\"https://colab.research.google.com/assets/colab-badge.svg\" alt=\"Open In Colab\"/></a>"
      ]
    },
    {
      "cell_type": "code",
      "execution_count": null,
      "metadata": {
        "id": "9DnGTIYTW9gv"
      },
      "outputs": [],
      "source": [
        "import pandas as pd\n",
        "from sklearn.feature_extraction.text import TfidfVectorizer\n",
        "from sklearn.cluster import KMeans\n",
        "import helper"
      ]
    },
    {
      "cell_type": "code",
      "source": [
        "# Import the Movies dataset\n",
        "data = pd.read_csv('movies.csv')\n",
        "data.head()"
      ],
      "metadata": {
        "id": "BSF_yYIDXQsw"
      },
      "execution_count": null,
      "outputs": []
    },
    {
      "cell_type": "code",
      "source": [
        "# Filter movies with Comedy and Fantasy genres\n",
        "comedy_fantasy_movies = data[data['genres'].str.contains('Comedy') & data['genres'].str.contains('Fantasy')]"
      ],
      "metadata": {
        "id": "ZRfaL-dBXSsF"
      },
      "execution_count": null,
      "outputs": []
    },
    {
      "cell_type": "code",
      "source": [
        "# Extract the movie titles\n",
        "movie_titles = comedy_fantasy_movies['title'].tolist()"
      ],
      "metadata": {
        "id": "91Nthf6mXVLW"
      },
      "execution_count": null,
      "outputs": []
    },
    {
      "cell_type": "code",
      "source": [
        "# TF-IDF vectorization\n",
        "tfidf_vectorizer = TfidfVectorizer(max_features=1000, stop_words='english')\n",
        "tfidf_matrix = tfidf_vectorizer.fit_transform(movie_titles)"
      ],
      "metadata": {
        "id": "2B3isWV5XX9f"
      },
      "execution_count": null,
      "outputs": []
    },
    {
      "cell_type": "code",
      "source": [
        "# Perform K-means clustering\n",
        "k = 3  # You can change the number of clusters as needed\n",
        "kmeans = KMeans(n_clusters=k)\n",
        "kmeans.fit(tfidf_matrix)"
      ],
      "metadata": {
        "id": "jbVkJMncXYK2"
      },
      "execution_count": null,
      "outputs": []
    },
    {
      "cell_type": "code",
      "source": [
        "# Add cluster labels to the dataset\n",
        "comedy_fantasy_movies['cluster'] = kmeans.labels_m"
      ],
      "metadata": {
        "id": "OhlqGj7jXd_K"
      },
      "execution_count": null,
      "outputs": []
    },
    {
      "cell_type": "code",
      "source": [
        "# Print movies in each cluster\n",
        "for cluster_num in range(k):\n",
        "    cluster_movies = comedy_fantasy_movies[comedy_fantasy_movies['cluster'] == cluster_num]\n",
        "    print(f\"Cluster {cluster_num + 1}:\")\n",
        "    print(cluster_movies['title'].tolist())"
      ],
      "metadata": {
        "id": "itrboIBrXi72"
      },
      "execution_count": null,
      "outputs": []
    }
  ]
}