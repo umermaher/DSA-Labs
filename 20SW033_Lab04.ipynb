{
  "nbformat": 4,
  "nbformat_minor": 0,
  "metadata": {
    "colab": {
      "provenance": [],
      "authorship_tag": "ABX9TyOXuuZr5zZ5uGu00/k0fPDD",
      "include_colab_link": true
    },
    "kernelspec": {
      "name": "python3",
      "display_name": "Python 3"
    },
    "language_info": {
      "name": "python"
    }
  },
  "cells": [
    {
      "cell_type": "markdown",
      "metadata": {
        "id": "view-in-github",
        "colab_type": "text"
      },
      "source": [
        "<a href=\"https://colab.research.google.com/github/umermaher/DSA-Labs/blob/main/20SW033_Lab04.ipynb\" target=\"_parent\"><img src=\"https://colab.research.google.com/assets/colab-badge.svg\" alt=\"Open In Colab\"/></a>"
      ]
    },
    {
      "cell_type": "code",
      "execution_count": null,
      "metadata": {
        "colab": {
          "base_uri": "https://localhost:8080/"
        },
        "id": "Yx4Gpcdvqfkv",
        "outputId": "f698d271-76bb-4ada-9bf6-939c3d802e14"
      },
      "outputs": [
        {
          "output_type": "stream",
          "name": "stdout",
          "text": [
            "Enter population: 864816\n",
            "Enter Land area: 121.4\n",
            "7123.690280065897\n"
          ]
        }
      ],
      "source": [
        "#TASK 1\n",
        "population_density = lambda population, land_area : population/land_area\n",
        "\n",
        "population = int(input(\"Enter population: \"))\n",
        "landArea = float(input(\"Enter Land area: \"))\n",
        "print(str(population_density(population, landArea)))"
      ]
    },
    {
      "cell_type": "code",
      "source": [
        "#TASK 2\n",
        "def readable_timedelta(days):\n",
        "  weeks = int(days/7)\n",
        "  weekDays = days % 7\n",
        "  print(\"{} week(s) and {} day(s)\".format(weeks, weekDays))\n",
        "\n",
        "readable_timedelta(30)"
      ],
      "metadata": {
        "colab": {
          "base_uri": "https://localhost:8080/"
        },
        "id": "T0DtK2aXtGnS",
        "outputId": "0e80d76b-4ed1-4ddf-f1d0-33d3979ccd0f"
      },
      "execution_count": null,
      "outputs": [
        {
          "output_type": "stream",
          "name": "stdout",
          "text": [
            "4 week(s) and 2 day(s)\n"
          ]
        }
      ]
    },
    {
      "cell_type": "code",
      "source": [
        "#TASK 3\n",
        "numbers = [[34, 63, 88, 71, 29],[90, 78, 51, 27, 45],[63, 37, 85, 46, 22],[51, 22, 34, 11, 18]]\n",
        "\n",
        "mean = lambda num_list: sum(num_list) / len(num_list)\n",
        "averages = list(map(mean, numbers))\n",
        "print(averages)"
      ],
      "metadata": {
        "colab": {
          "base_uri": "https://localhost:8080/"
        },
        "id": "xpcJ-bpGtzUa",
        "outputId": "1dfbe5fe-4455-46c0-fa4f-0a3183416f81"
      },
      "execution_count": null,
      "outputs": [
        {
          "output_type": "stream",
          "name": "stdout",
          "text": [
            "[57.0, 58.2, 50.6, 27.2]\n"
          ]
        }
      ]
    },
    {
      "cell_type": "code",
      "source": [
        "#Task 4\n",
        "cities = [\"New York City\", \"Los Angeles\", \"Chicago\", \"Mountain View\", \"Denver\", \"Boston\"]\n",
        "is_short = lambda shortName: len(shortName) > 10\n",
        "\n",
        "short_cities = list(filter(is_short, cities))\n",
        "print(short_cities)"
      ],
      "metadata": {
        "colab": {
          "base_uri": "https://localhost:8080/"
        },
        "id": "U9LwR1s7z5vF",
        "outputId": "f2f3dce9-5167-422b-be48-42fff156cebc"
      },
      "execution_count": null,
      "outputs": [
        {
          "output_type": "stream",
          "name": "stdout",
          "text": [
            "['New York City', 'Los Angeles', 'Mountain View']\n"
          ]
        }
      ]
    },
    {
      "cell_type": "code",
      "source": [
        "length = 3\n",
        "message = \"Hi {},\\n\\nThis is a reminder that you have {} assignments left to submit before you can graduate. You're current grade is {} and can increase to {} if you submit all assignments before the due date.\\0n\\n\"\n",
        "names = []\n",
        "assignments = [] # Assignments\n",
        "grades = []\n",
        "for index in range(3):\n",
        "  names.append(input(\"Name {}: \".format(str(index + 1))))\n",
        "  grades.append(float(input(\"Grade {}: \".format(names[index]))))\n",
        "  assignments.append(int(input(\"{} Missing Assignment: \".format(names[index]))))\n",
        "\n",
        "for name, assignment, grade in zip(names, assignments, grades):\n",
        "  potential_grade = grade + 2*assignment\n",
        "  print(message.format(name, assignment, grade,potential_grade ))\n",
        "\n"
      ],
      "metadata": {
        "colab": {
          "base_uri": "https://localhost:8080/"
        },
        "id": "4Bmpg4tI01rP",
        "outputId": "0f4566c9-6122-43ec-c777-05dd827f6007"
      },
      "execution_count": 3,
      "outputs": [
        {
          "output_type": "stream",
          "name": "stdout",
          "text": [
            "Name 1: Umer\n",
            "Grade Umer: 3.2\n",
            "Umer Missing Assignment: 2\n",
            "Name 2: Niaz\n",
            "Grade Niaz: 3.5\n",
            "Niaz Missing Assignment: 3\n",
            "Name 3: Ahmed\n",
            "Grade Ahmed: 3.3\n",
            "Ahmed Missing Assignment: 3\n",
            "Hi Umer,\n",
            "\n",
            "This is a reminder that you have 2 assignments left to submit before you can graduate. You're current grade is 3.2 and can increase to 7.2 if you submit all assignments before the due date.\u0000n\n",
            "\n",
            "Hi Niaz,\n",
            "\n",
            "This is a reminder that you have 3 assignments left to submit before you can graduate. You're current grade is 3.5 and can increase to 9.5 if you submit all assignments before the due date.\u0000n\n",
            "\n",
            "Hi Ahmed,\n",
            "\n",
            "This is a reminder that you have 3 assignments left to submit before you can graduate. You're current grade is 3.3 and can increase to 9.3 if you submit all assignments before the due date.\u0000n\n",
            "\n"
          ]
        }
      ]
    }
  ]
}